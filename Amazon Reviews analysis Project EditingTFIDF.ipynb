{
 "cells": [
  {
   "cell_type": "code",
   "execution_count": 55,
   "metadata": {},
   "outputs": [
    {
     "data": {
      "text/html": [
       "<div>\n",
       "<style scoped>\n",
       "    .dataframe tbody tr th:only-of-type {\n",
       "        vertical-align: middle;\n",
       "    }\n",
       "\n",
       "    .dataframe tbody tr th {\n",
       "        vertical-align: top;\n",
       "    }\n",
       "\n",
       "    .dataframe thead th {\n",
       "        text-align: right;\n",
       "    }\n",
       "</style>\n",
       "<table border=\"1\" class=\"dataframe\">\n",
       "  <thead>\n",
       "    <tr style=\"text-align: right;\">\n",
       "      <th></th>\n",
       "      <th>asin</th>\n",
       "      <th>name</th>\n",
       "      <th>date</th>\n",
       "      <th>rating</th>\n",
       "      <th>review</th>\n",
       "    </tr>\n",
       "  </thead>\n",
       "  <tbody>\n",
       "    <tr>\n",
       "      <th>0</th>\n",
       "      <td>B07W7CTLD1</td>\n",
       "      <td>Mamaearth-Onion-Growth-Control-Redensyl</td>\n",
       "      <td>2019-09-06</td>\n",
       "      <td>1</td>\n",
       "      <td>I bought this hair oil after viewing so many g...</td>\n",
       "    </tr>\n",
       "    <tr>\n",
       "      <th>1</th>\n",
       "      <td>B07W7CTLD1</td>\n",
       "      <td>Mamaearth-Onion-Growth-Control-Redensyl</td>\n",
       "      <td>2019-08-14</td>\n",
       "      <td>5</td>\n",
       "      <td>Used This Mama Earth Newly Launched Onion Oil ...</td>\n",
       "    </tr>\n",
       "    <tr>\n",
       "      <th>2</th>\n",
       "      <td>B07W7CTLD1</td>\n",
       "      <td>Mamaearth-Onion-Growth-Control-Redensyl</td>\n",
       "      <td>2019-10-19</td>\n",
       "      <td>1</td>\n",
       "      <td>So bad product...My hair falling increase too ...</td>\n",
       "    </tr>\n",
       "    <tr>\n",
       "      <th>3</th>\n",
       "      <td>B07W7CTLD1</td>\n",
       "      <td>Mamaearth-Onion-Growth-Control-Redensyl</td>\n",
       "      <td>2019-09-16</td>\n",
       "      <td>1</td>\n",
       "      <td>Product just smells similar to navarathna hair...</td>\n",
       "    </tr>\n",
       "    <tr>\n",
       "      <th>4</th>\n",
       "      <td>B07W7CTLD1</td>\n",
       "      <td>Mamaearth-Onion-Growth-Control-Redensyl</td>\n",
       "      <td>2019-08-18</td>\n",
       "      <td>5</td>\n",
       "      <td>I have been trying different onion oil for my ...</td>\n",
       "    </tr>\n",
       "  </tbody>\n",
       "</table>\n",
       "</div>"
      ],
      "text/plain": [
       "         asin                                     name        date  rating  \\\n",
       "0  B07W7CTLD1  Mamaearth-Onion-Growth-Control-Redensyl  2019-09-06       1   \n",
       "1  B07W7CTLD1  Mamaearth-Onion-Growth-Control-Redensyl  2019-08-14       5   \n",
       "2  B07W7CTLD1  Mamaearth-Onion-Growth-Control-Redensyl  2019-10-19       1   \n",
       "3  B07W7CTLD1  Mamaearth-Onion-Growth-Control-Redensyl  2019-09-16       1   \n",
       "4  B07W7CTLD1  Mamaearth-Onion-Growth-Control-Redensyl  2019-08-18       5   \n",
       "\n",
       "                                              review  \n",
       "0  I bought this hair oil after viewing so many g...  \n",
       "1  Used This Mama Earth Newly Launched Onion Oil ...  \n",
       "2  So bad product...My hair falling increase too ...  \n",
       "3  Product just smells similar to navarathna hair...  \n",
       "4  I have been trying different onion oil for my ...  "
      ]
     },
     "execution_count": 55,
     "metadata": {},
     "output_type": "execute_result"
    }
   ],
   "source": [
    "import pandas as pd\n",
    "import numpy as np\n",
    "from matplotlib import pyplot as plt\n",
    "# Reading data in the system\n",
    "reviews_df = pd.read_csv('amazon_vfl_reviews.csv')\n",
    "reviews_df.head()"
   ]
  },
  {
   "cell_type": "code",
   "execution_count": 56,
   "metadata": {},
   "outputs": [
    {
     "data": {
      "text/plain": [
       "asin      0\n",
       "name      0\n",
       "date      0\n",
       "rating    0\n",
       "review    4\n",
       "dtype: int64"
      ]
     },
     "execution_count": 56,
     "metadata": {},
     "output_type": "execute_result"
    }
   ],
   "source": [
    "# any null columns\n",
    "reviews_df.isnull().sum()"
   ]
  },
  {
   "cell_type": "code",
   "execution_count": 57,
   "metadata": {},
   "outputs": [
    {
     "data": {
      "text/plain": [
       "asin      0\n",
       "name      0\n",
       "date      0\n",
       "rating    0\n",
       "review    0\n",
       "dtype: int64"
      ]
     },
     "execution_count": 57,
     "metadata": {},
     "output_type": "execute_result"
    }
   ],
   "source": [
    "# the review column, four rows without review text, we drop the rows with the null columns\n",
    "reviews_df = reviews_df.dropna()\n",
    "#resetting the index\n",
    "reviews_df = reviews_df.reset_index(drop=True)\n",
    "# any null columns\n",
    "reviews_df.isnull().sum()"
   ]
  },
  {
   "cell_type": "code",
   "execution_count": 58,
   "metadata": {},
   "outputs": [
    {
     "data": {
      "text/plain": [
       "'I am writing this review after using it around 20 days It seems very natural and chemical free and is very gentle on skin But it does its job of cleaning the skin properly It contains tea tree which is one of my favourite ingredients for skin care Give it a try its definitely better than all other chemicals containing face washes And its even affordable as compared to other natural brands available in market '"
      ]
     },
     "execution_count": 58,
     "metadata": {},
     "output_type": "execute_result"
    }
   ],
   "source": [
    "import re\n",
    "# remove all characters not number or characters\n",
    "def cleanText(input_string):\n",
    "    modified_string = re.sub('[^A-Za-z0-9]+', ' ', input_string)\n",
    "    return(modified_string)\n",
    "reviews_df['review'] = reviews_df.review.apply(cleanText)\n",
    "reviews_df['review'][150]"
   ]
  },
  {
   "cell_type": "code",
   "execution_count": 59,
   "metadata": {},
   "outputs": [
    {
     "data": {
      "text/html": [
       "<div>\n",
       "<style scoped>\n",
       "    .dataframe tbody tr th:only-of-type {\n",
       "        vertical-align: middle;\n",
       "    }\n",
       "\n",
       "    .dataframe tbody tr th {\n",
       "        vertical-align: top;\n",
       "    }\n",
       "\n",
       "    .dataframe thead th {\n",
       "        text-align: right;\n",
       "    }\n",
       "</style>\n",
       "<table border=\"1\" class=\"dataframe\">\n",
       "  <thead>\n",
       "    <tr style=\"text-align: right;\">\n",
       "      <th></th>\n",
       "      <th>asin</th>\n",
       "      <th>name</th>\n",
       "      <th>date</th>\n",
       "      <th>rating</th>\n",
       "      <th>review</th>\n",
       "      <th>brandName</th>\n",
       "    </tr>\n",
       "  </thead>\n",
       "  <tbody>\n",
       "    <tr>\n",
       "      <th>0</th>\n",
       "      <td>B07W7CTLD1</td>\n",
       "      <td>Mamaearth-Onion-Growth-Control-Redensyl</td>\n",
       "      <td>2019-09-06</td>\n",
       "      <td>1</td>\n",
       "      <td>I bought this hair oil after viewing so many g...</td>\n",
       "      <td>Mamaearth</td>\n",
       "    </tr>\n",
       "    <tr>\n",
       "      <th>1</th>\n",
       "      <td>B07W7CTLD1</td>\n",
       "      <td>Mamaearth-Onion-Growth-Control-Redensyl</td>\n",
       "      <td>2019-08-14</td>\n",
       "      <td>5</td>\n",
       "      <td>Used This Mama Earth Newly Launched Onion Oil ...</td>\n",
       "      <td>Mamaearth</td>\n",
       "    </tr>\n",
       "    <tr>\n",
       "      <th>2</th>\n",
       "      <td>B07W7CTLD1</td>\n",
       "      <td>Mamaearth-Onion-Growth-Control-Redensyl</td>\n",
       "      <td>2019-10-19</td>\n",
       "      <td>1</td>\n",
       "      <td>So bad product My hair falling increase too mu...</td>\n",
       "      <td>Mamaearth</td>\n",
       "    </tr>\n",
       "    <tr>\n",
       "      <th>3</th>\n",
       "      <td>B07W7CTLD1</td>\n",
       "      <td>Mamaearth-Onion-Growth-Control-Redensyl</td>\n",
       "      <td>2019-09-16</td>\n",
       "      <td>1</td>\n",
       "      <td>Product just smells similar to navarathna hair...</td>\n",
       "      <td>Mamaearth</td>\n",
       "    </tr>\n",
       "    <tr>\n",
       "      <th>4</th>\n",
       "      <td>B07W7CTLD1</td>\n",
       "      <td>Mamaearth-Onion-Growth-Control-Redensyl</td>\n",
       "      <td>2019-08-18</td>\n",
       "      <td>5</td>\n",
       "      <td>I have been trying different onion oil for my ...</td>\n",
       "      <td>Mamaearth</td>\n",
       "    </tr>\n",
       "  </tbody>\n",
       "</table>\n",
       "</div>"
      ],
      "text/plain": [
       "         asin                                     name        date  rating  \\\n",
       "0  B07W7CTLD1  Mamaearth-Onion-Growth-Control-Redensyl  2019-09-06       1   \n",
       "1  B07W7CTLD1  Mamaearth-Onion-Growth-Control-Redensyl  2019-08-14       5   \n",
       "2  B07W7CTLD1  Mamaearth-Onion-Growth-Control-Redensyl  2019-10-19       1   \n",
       "3  B07W7CTLD1  Mamaearth-Onion-Growth-Control-Redensyl  2019-09-16       1   \n",
       "4  B07W7CTLD1  Mamaearth-Onion-Growth-Control-Redensyl  2019-08-18       5   \n",
       "\n",
       "                                              review  brandName  \n",
       "0  I bought this hair oil after viewing so many g...  Mamaearth  \n",
       "1  Used This Mama Earth Newly Launched Onion Oil ...  Mamaearth  \n",
       "2  So bad product My hair falling increase too mu...  Mamaearth  \n",
       "3  Product just smells similar to navarathna hair...  Mamaearth  \n",
       "4  I have been trying different onion oil for my ...  Mamaearth  "
      ]
     },
     "execution_count": 59,
     "metadata": {},
     "output_type": "execute_result"
    }
   ],
   "source": [
    "# From the name we extract the brand\n",
    "reviews_df['brandName'] = reviews_df['name'].str.split('-').str[0]\n",
    "reviews_df.head()"
   ]
  },
  {
   "cell_type": "code",
   "execution_count": 60,
   "metadata": {},
   "outputs": [
    {
     "data": {
      "text/plain": [
       "array(['Mamaearth', 'Godrej', 'Titan', 'Maaza', 'Paper', 'Indiana',\n",
       "       'Coca', 'Natural', 'Maggi', 'Glucon', 'Amul', 'Patanjali',\n",
       "       'Dettol', 'Savlon', 'Cinthol', 'Britannia', 'Nutrichoice',\n",
       "       'Streax', 'Himalaya', 'Society', 'Tata', 'Fastrack', 'Reflex',\n",
       "       'Mysore'], dtype=object)"
      ]
     },
     "execution_count": 60,
     "metadata": {},
     "output_type": "execute_result"
    }
   ],
   "source": [
    "reviews_df['brandName'] = reviews_df['brandName'].str.title()\n",
    "reviews_df.brandName.unique()"
   ]
  },
  {
   "cell_type": "code",
   "execution_count": 61,
   "metadata": {},
   "outputs": [
    {
     "data": {
      "text/plain": [
       "array(['Onion-Growth-Control-Redensyl',\n",
       "       'Percent-Natural-Berry-Toothpaste',\n",
       "       'Natural-Turmeric-Saffron-brightning',\n",
       "       'Illuminate-Vitamin-Radiant-Turmeric',\n",
       "       'Blemishes-Pigmentation-Blemish-Mulberry', 'Face-Wash-100-ml',\n",
       "       'Moisturizing-Baby-Bathing-Oatmeal',\n",
       "       'Protekt-Master-Blaster-Handwash', 'No-1-Bathing-Soap-Lime',\n",
       "       'No-1-Bathing-Soap-Turmeric', 'Direct-Cool-Refrigerator-1905-PTDI',\n",
       "       'aer-Pocket-Bathroom-Fragrance',\n",
       "       'Security-Solutions-SEEC9060-Electronic',\n",
       "       'Matic-Spray-Violet-Valley',\n",
       "       'Security-Solutions-Goldilocks-Personal',\n",
       "       'ViroShield-Disinfecting-VIROSHIELD-30UV',\n",
       "       'Analog-Black-Dial-Watch-1805NM01',\n",
       "       'Analog-White-Dial-Watch-NK1639SL03',\n",
       "       'Karishma-Analog-Blue-Watch-1774SM01',\n",
       "       'Karishma-Analog-Black-Watch-NK1639SM02',\n",
       "       'Octane-Analog-Silver-Watch-NK1650BM03',\n",
       "       'Analog-Black-Dial-Watch-NK1730SL02',\n",
       "       'Karishma-Analog-Champagne-Watch-NK1580YL05',\n",
       "       'Analog-Gold-Dial-Watch-NK1650YM04',\n",
       "       'Karishma-Analog-Black-NK1578SM04', '1-2L',\n",
       "       'Boat-Aamras-Juice-250ml', 'Frutti-Cherries-Frooti-Multicolor',\n",
       "       'Cola-300ml-Pack-6', 'Mango-Juice-1L-Pack', 'Boat-Mixed-Fruit',\n",
       "       'Masala-Noodles-Singles-840g', 'D-Glucose-Based-Beverage-Orange',\n",
       "       'Festive-Delight-Assorted-Jelimals',\n",
       "       'Butter-Pasteurised-100g-Pack', 'Cow-Ghee-500ml',\n",
       "       'Fresh-Paneer-200g', 'Cacao-Chocolate-125g-Pack',\n",
       "       'Cheese-Slices-200g-Pack', 'Fresh-Cream-250ml',\n",
       "       'Pure-Ghee-Pouch-1L', 'Pro-500g-Pouch-Pack',\n",
       "       'Gold-Milk-Homogenised-Standardised', 'Cows-Ghee-1L',\n",
       "       'Aloe-Pimples-Moisturizing-150ml',\n",
       "       'Shatavar-Mushli-Ashwagandha-Churna',\n",
       "       'Kanti-Natural-Cleanser-Shampoo', 'Ayurved-Ltd-CORO-NIL-Tablet',\n",
       "       'UHT-Milk-1000-ml', 'Cows-Ghee-500ml', 'Saundarya-Aloe-Vera-150ml',\n",
       "       'Disinfectant-Multi-Use-Hygiene-Liquid',\n",
       "       'Disinfectant-Cleaner-Home-Fresh', 'Liquid-Refill-Original-1500',\n",
       "       'Multi-Purpose-Disinfectant-Surfaces-Original',\n",
       "       'After-Shave-Lotion-1000', 'Original-Protection-Bathing-125gm',\n",
       "       'Detergent-Liquid-Laundry-Sanitizer-Spring-Blossom',\n",
       "       'Disinfectant-Liquid-Menthol-Cool', 'Lime-Soap-100-Pack',\n",
       "       'Original-Soap-100-Pack', 'Lime-Soap-100g-Pack',\n",
       "       'Original-Soap-100g-Pack', 'Soap-125g-Pack-Free',\n",
       "       'Cool-Soap-100-Pack', 'Confidence-Soap-100g-Pack',\n",
       "       'Cool-Soap-100g-Free', 'NutriChoice-Digestive-100g',\n",
       "       'Good-Day-Cashew-200g', 'Marie-Gold-200g',\n",
       "       'Digestives-grain-Pack-200g', 'Vita-Marie-Gold-150g',\n",
       "       '50-50-Biscuits-Pouch-80g', 'Nice-Time-150g',\n",
       "       'Hair-Serum-Gloss-100ml', 'Shampoo-Enriched-Extracts-Long-Lasting',\n",
       "       'Vitalized-Hair-Serum-300',\n",
       "       'Ultralights-Highlighting-Kit-Collection',\n",
       "       'Shampoo-Colour-Natural-Black-25-ml-Pack',\n",
       "       'Professional-Hold-Funkey-Colour',\n",
       "       'Soft-Hair-Colour-Natural-Black-170', 'Perfumed-Body-Peach-100ml',\n",
       "       '4004G-Baby-Powder-400g', 'Moisturizing-Aloe-Vera-200ml',\n",
       "       'Baby-Shampoo-400-ml', '4003F-Baby-Lotion-400ml', 'Gift-Pack',\n",
       "       'Herbals-Baby-Lotion-400ml', 'Herbals-Anti-Wrinkle-Cream',\n",
       "       'Tea-Regular-250g-Pouch', 'Tea-Regular-Pouch-1kg',\n",
       "       'Tea-Masala-Jar-250g', 'Tea-Minute-Masala-500g',\n",
       "       'Daily-Elachi-Premix-Pouch', 'Tea-Premium-Packet-1000g',\n",
       "       'Tea-Daily-Masala-Premix', 'Tea-Minute-Ginger-Lemongrass',\n",
       "       'Minute-Tea-Masala-500g', 'Tea-Gold-500g', 'Tea-Premium-North-1kg',\n",
       "       'Tea-Gold-1kg', 'Tea-Gold-Leaf-Pouch', 'Tea-Premium-1-5kg',\n",
       "       'Premium-Leaf-South-500g', 'Agni-Leaf-Tea-1kg',\n",
       "       'Casual-Analog-White-Watch-NK3121SM01',\n",
       "       'Analog-Womens-6150SM04-NK6150SM04',\n",
       "       'Casual-Analog-Blue-Watch-NK3124SL02',\n",
       "       'Activity-Tracker-Monitor-SWD90066PP01',\n",
       "       'Economy-2013-Analog-Watch-NK3099SP05',\n",
       "       'Casual-Analog-Grey-Watch-NK3121SL02',\n",
       "       'Casual-Analog-White-Watch-NK3120SL01',\n",
       "       'Analog-Silver-Dial-Watch-NK9332PP06',\n",
       "       'Activity-Tracker-Monitor-SWD90066PP02',\n",
       "       'SANDAL-Mysore-Sandal-Talcum', 'Sandal-Bathing-Soap-125g',\n",
       "       'Sandal-Gold-Soap-Pack', 'Whitening-Rejuvenating-Face-Pack',\n",
       "       'Sandal-Jasmine-Rose-Soap', 'Sandal-Millennium-Soap-150g',\n",
       "       'Sandal-Agarbathies-Pack-Box', 'Sandal-Soaps-Pack-Bars'],\n",
       "      dtype=object)"
      ]
     },
     "execution_count": 61,
     "metadata": {},
     "output_type": "execute_result"
    }
   ],
   "source": [
    "# Extracting the product from the name column\n",
    "products = []\n",
    "for value in reviews_df['name']:\n",
    "    indx = len(value.split('-')[0])+1\n",
    "    products.append(value[indx:])\n",
    "reviews_df['product'] = products\n",
    "reviews_df['product'].unique()"
   ]
  },
  {
   "cell_type": "code",
   "execution_count": 62,
   "metadata": {},
   "outputs": [],
   "source": [
    "import string\n",
    "import nltk\n",
    "from nltk.corpus import stopwords\n",
    "#converting to lower case\n",
    "reviews_df['clean_review_text']=reviews_df['review'].str.lower()\n",
    "#removing punctuations\n",
    "reviews_df['clean_review_text']=reviews_df['clean_review_text'].str.translate(str.maketrans('', '',string.punctuation))\n",
    "stopWords=stopwords.words('english')+['the', 'a','an', 'i', 'he', 'she', 'they', 'to', 'of', 'it', 'from']\n",
    "def removeStopWords(stopWords, rvw_txt):\n",
    "    newtxt = ' '.join([word for word in rvw_txt.split() if word not in stopWords])\n",
    "    return newtxt\n",
    "reviews_df['clean_review_text'] = [removeStopWords(stopWords,x) for x in reviews_df['clean_review_text']]"
   ]
  },
  {
   "cell_type": "code",
   "execution_count": 63,
   "metadata": {},
   "outputs": [
    {
     "data": {
      "text/html": [
       "<div>\n",
       "<style scoped>\n",
       "    .dataframe tbody tr th:only-of-type {\n",
       "        vertical-align: middle;\n",
       "    }\n",
       "\n",
       "    .dataframe tbody tr th {\n",
       "        vertical-align: top;\n",
       "    }\n",
       "\n",
       "    .dataframe thead th {\n",
       "        text-align: right;\n",
       "    }\n",
       "</style>\n",
       "<table border=\"1\" class=\"dataframe\">\n",
       "  <thead>\n",
       "    <tr style=\"text-align: right;\">\n",
       "      <th></th>\n",
       "      <th>asin</th>\n",
       "      <th>name</th>\n",
       "      <th>date</th>\n",
       "      <th>rating</th>\n",
       "      <th>review</th>\n",
       "      <th>brandName</th>\n",
       "      <th>product</th>\n",
       "      <th>clean_review_text</th>\n",
       "      <th>review_tokens</th>\n",
       "    </tr>\n",
       "  </thead>\n",
       "  <tbody>\n",
       "    <tr>\n",
       "      <th>0</th>\n",
       "      <td>B07W7CTLD1</td>\n",
       "      <td>Mamaearth-Onion-Growth-Control-Redensyl</td>\n",
       "      <td>2019-09-06</td>\n",
       "      <td>1</td>\n",
       "      <td>I bought this hair oil after viewing so many g...</td>\n",
       "      <td>Mamaearth</td>\n",
       "      <td>Onion-Growth-Control-Redensyl</td>\n",
       "      <td>bought hair oil viewing many good comments pro...</td>\n",
       "      <td>[bought, hair, oil, viewing, many, good, comme...</td>\n",
       "    </tr>\n",
       "    <tr>\n",
       "      <th>1</th>\n",
       "      <td>B07W7CTLD1</td>\n",
       "      <td>Mamaearth-Onion-Growth-Control-Redensyl</td>\n",
       "      <td>2019-08-14</td>\n",
       "      <td>5</td>\n",
       "      <td>Used This Mama Earth Newly Launched Onion Oil ...</td>\n",
       "      <td>Mamaearth</td>\n",
       "      <td>Onion-Growth-Control-Redensyl</td>\n",
       "      <td>used mama earth newly launched onion oil twice...</td>\n",
       "      <td>[used, mama, earth, newly, launched, onion, oi...</td>\n",
       "    </tr>\n",
       "    <tr>\n",
       "      <th>2</th>\n",
       "      <td>B07W7CTLD1</td>\n",
       "      <td>Mamaearth-Onion-Growth-Control-Redensyl</td>\n",
       "      <td>2019-10-19</td>\n",
       "      <td>1</td>\n",
       "      <td>So bad product My hair falling increase too mu...</td>\n",
       "      <td>Mamaearth</td>\n",
       "      <td>Onion-Growth-Control-Redensyl</td>\n",
       "      <td>bad product hair falling increase much order s...</td>\n",
       "      <td>[bad, product, hair, falling, increase, much, ...</td>\n",
       "    </tr>\n",
       "    <tr>\n",
       "      <th>3</th>\n",
       "      <td>B07W7CTLD1</td>\n",
       "      <td>Mamaearth-Onion-Growth-Control-Redensyl</td>\n",
       "      <td>2019-09-16</td>\n",
       "      <td>1</td>\n",
       "      <td>Product just smells similar to navarathna hair...</td>\n",
       "      <td>Mamaearth</td>\n",
       "      <td>Onion-Growth-Control-Redensyl</td>\n",
       "      <td>product smells similar navarathna hair oil str...</td>\n",
       "      <td>[product, smells, similar, navarathna, hair, o...</td>\n",
       "    </tr>\n",
       "    <tr>\n",
       "      <th>4</th>\n",
       "      <td>B07W7CTLD1</td>\n",
       "      <td>Mamaearth-Onion-Growth-Control-Redensyl</td>\n",
       "      <td>2019-08-18</td>\n",
       "      <td>5</td>\n",
       "      <td>I have been trying different onion oil for my ...</td>\n",
       "      <td>Mamaearth</td>\n",
       "      <td>Onion-Growth-Control-Redensyl</td>\n",
       "      <td>trying different onion oil hair hair healthy p...</td>\n",
       "      <td>[trying, different, onion, oil, hair, hair, he...</td>\n",
       "    </tr>\n",
       "  </tbody>\n",
       "</table>\n",
       "</div>"
      ],
      "text/plain": [
       "         asin                                     name        date  rating  \\\n",
       "0  B07W7CTLD1  Mamaearth-Onion-Growth-Control-Redensyl  2019-09-06       1   \n",
       "1  B07W7CTLD1  Mamaearth-Onion-Growth-Control-Redensyl  2019-08-14       5   \n",
       "2  B07W7CTLD1  Mamaearth-Onion-Growth-Control-Redensyl  2019-10-19       1   \n",
       "3  B07W7CTLD1  Mamaearth-Onion-Growth-Control-Redensyl  2019-09-16       1   \n",
       "4  B07W7CTLD1  Mamaearth-Onion-Growth-Control-Redensyl  2019-08-18       5   \n",
       "\n",
       "                                              review  brandName  \\\n",
       "0  I bought this hair oil after viewing so many g...  Mamaearth   \n",
       "1  Used This Mama Earth Newly Launched Onion Oil ...  Mamaearth   \n",
       "2  So bad product My hair falling increase too mu...  Mamaearth   \n",
       "3  Product just smells similar to navarathna hair...  Mamaearth   \n",
       "4  I have been trying different onion oil for my ...  Mamaearth   \n",
       "\n",
       "                         product  \\\n",
       "0  Onion-Growth-Control-Redensyl   \n",
       "1  Onion-Growth-Control-Redensyl   \n",
       "2  Onion-Growth-Control-Redensyl   \n",
       "3  Onion-Growth-Control-Redensyl   \n",
       "4  Onion-Growth-Control-Redensyl   \n",
       "\n",
       "                                   clean_review_text  \\\n",
       "0  bought hair oil viewing many good comments pro...   \n",
       "1  used mama earth newly launched onion oil twice...   \n",
       "2  bad product hair falling increase much order s...   \n",
       "3  product smells similar navarathna hair oil str...   \n",
       "4  trying different onion oil hair hair healthy p...   \n",
       "\n",
       "                                       review_tokens  \n",
       "0  [bought, hair, oil, viewing, many, good, comme...  \n",
       "1  [used, mama, earth, newly, launched, onion, oi...  \n",
       "2  [bad, product, hair, falling, increase, much, ...  \n",
       "3  [product, smells, similar, navarathna, hair, o...  \n",
       "4  [trying, different, onion, oil, hair, hair, he...  "
      ]
     },
     "execution_count": 63,
     "metadata": {},
     "output_type": "execute_result"
    }
   ],
   "source": [
    "from nltk.tokenize import word_tokenize\n",
    "#splitting text into words\n",
    "tokenList=[]\n",
    "for indx in range(len(reviews_df)):\n",
    "       token=word_tokenize(reviews_df['clean_review_text'][indx])\n",
    "       tokenList.append(token)\n",
    "reviews_df['review_tokens'] = tokenList\n",
    "reviews_df.head()"
   ]
  },
  {
   "cell_type": "code",
   "execution_count": 64,
   "metadata": {},
   "outputs": [
    {
     "name": "stderr",
     "output_type": "stream",
     "text": [
      "[nltk_data] Downloading package vader_lexicon to\n",
      "[nltk_data]     C:\\Users\\Laukit\\AppData\\Roaming\\nltk_data...\n",
      "[nltk_data]   Package vader_lexicon is already up-to-date!\n"
     ]
    }
   ],
   "source": [
    "from vaderSentiment.vaderSentiment import SentimentIntensityAnalyzer\n",
    "nltk.download('vader_lexicon')\n",
    "sentiment_model = SentimentIntensityAnalyzer()\n",
    "sentiment_scores=[]\n",
    "sentiment_score_flag = []\n",
    "for text in reviews_df['clean_review_text']:\n",
    "        sentimentResults = sentiment_model.polarity_scores(text)\n",
    "        sentiment_score = sentimentResults[\"compound\"]\n",
    "        #print(sentimentResults)\n",
    "        #The compound value reflects the overall sentiment ranging from -1 being very negative and +1 being very positive.\n",
    "        sentiment_scores.append(sentiment_score)\n",
    "        # marking the sentiments as positive, negative and neutral \n",
    "        if sentimentResults['compound'] >= 0.05 : \n",
    "            sentiment_score_flag.append('positive')\n",
    "  \n",
    "        elif sentimentResults['compound'] <= - 0.05 : \n",
    "            sentiment_score_flag.append('negative')\n",
    "  \n",
    "        else : \n",
    "            sentiment_score_flag.append('neutral')\n",
    "            \n",
    "reviews_df['scores']=sentiment_scores\n",
    "reviews_df['scoreStatus'] = sentiment_score_flag"
   ]
  },
  {
   "cell_type": "code",
   "execution_count": 65,
   "metadata": {},
   "outputs": [],
   "source": [
    "positiveReviews_df =reviews_df.loc[reviews_df['scoreStatus'] == \"positive\"]\n",
    "negativeReviews_df =reviews_df.loc[reviews_df['scoreStatus'] == \"negative\"]"
   ]
  },
  {
   "cell_type": "code",
   "execution_count": 66,
   "metadata": {},
   "outputs": [
    {
     "name": "stdout",
     "output_type": "stream",
     "text": [
      "{'bought': 615, 'hair': 1916, 'oil': 2879, 'viewing': 4476, 'many': 2541, 'good': 1842, 'comments': 917, 'product': 3235, 'enough': 1454, 'first': 1645, 'expensive': 1521, 'second': 3650, 'thing': 4207, 'amount': 322, 'low': 2479, 'half': 1925, 'bottle': 611, 'yes': 4671, 'completely': 946, 'filled': 1628, 'cheating': 805, 'customers': 1097, 'mamaearth': 2526, 'trust': 4335, 'fool': 1690, 'people': 3044, 'know': 2302, 'brand': 626, 'going': 1837, 'buy': 698, 'thumbs': 4235, 'onion': 2898, 'used': 4421, 'mama': 2525, 'earth': 1391, 'newly': 2783, 'launched': 2338, 'twice': 4352, 'must': 2747, 'say': 3612, 'im': 2100, 'already': 301, 'impressed': 2111, 'results': 3513, 'prevents': 3202, 'loss': 2461, 'helps': 1991, 'control': 1009, 'premature': 3181, 'greying': 1883, 'dryness': 1368, 'dandruff': 1122, 'scalp': 3616, 'eruptions': 1472, 'problems': 3227, 'regular': 3432, 'use': 4420, 'avoid': 440, 'dry': 1366, 'frizzy': 1749, 'make': 2514, 'sure': 4074, 'hairs': 1922, 'week': 4559, 'oiling': 2881, 'provides': 3279, 'essential': 1478, 'nutrients': 2841, 'also': 302, 'strengthens': 3994, 'roots': 3551, 'works': 4631, 'best': 536, 'seasons': 3647, 'bad': 467, 'falling': 1576, 'increase': 2127, 'much': 2736, 'order': 2924, 'shampoo': 3716, 'mask': 2556, 'nothing': 2815, 'stop': 3975, 'hairfallafter': 1920, 'wash': 4528, 'badly': 468, 'smells': 3825, 'similar': 3777, 'navarathna': 2763, 'strong': 3999, 'sticky': 3967, 'applying': 371, 'three': 4223, 'drops': 1365, 'review': 3524, 'usage': 4418, 'months1': 2709, 'worst': 4637, 'product2': 3236, 'fall': 1575, 'increased': 2128, 'lot3': 2464, 'brought': 660, 'watching': 4541, 'youtube': 4679, 'influencer': 2155, 'mumbaiker': 2745, 'nikhil4': 2792, 'totally': 4294, 'misguided': 2660, 'never': 2780, 'take': 4113, 'suggestions': 4037, 'influencers': 2156, 'using': 4427, 'since': 3781, 'months': 2708, 'result': 3510, 'losing': 2460, 'hair6': 1917, 'wasted': 4536, 'money': 2699, 'well': 4565, 'damaged': 1115, 'hair7': 1918, 'better': 540, 'provide': 3276, 'solution': 3857, 'return': 3518, 'trying': 4341, 'different': 1254, 'healthy': 1971, 'literally': 2424, 'changed': 787, 'texture': 4181, 'really': 3378, 'happy': 1944, 'comes': 911, 'nice': 2787, 'colorful': 902, 'packaging': 2960, 'definitely': 1172, 'recommend': 3396, 'one': 2895, 'everyone': 1492, 'looking': 2450, 'reviews': 3527, 'follow': 1685, 'instagram': 2181, 'insi': 2177, 'lovemyself': 2473, 'time': 4247, 'roommate': 3550, 'planning': 3107, 'forget': 1699, 'finally': 1632, 'last': 2325, 'experience': 1522, 'every': 1489, 'night': 2790, 'get': 1790, 'shower': 3754, 'morning': 2714, 'pros': 3267, 'non': 2803, 'greasy': 1875, 'pretty': 3199, 'light': 2385, 'smell': 3822, 'pungent': 3294, 'awkward': 449, 'fragrance3': 1721, 'lump': 2487, 'together': 4268, 'products': 3246, 'gives': 1813, 'shine': 3730, 'dark': 1126, 'color5': 900, 'helpful': 1989, 'hairfall': 1919, 'hairloss': 1921, 'dense': 1197, 'presence': 3189, 'visible': 4485, 'looks': 2451, 'cons': 979, 'find': 1633, 'anything': 351, 'alli': 287, 'issues': 2222, 'purchased': 3296, 'fake': 1574, 'customer': 1096, 'day': 1135, 'full': 1757, 'strength': 3993, 'perfect': 3048, 'rich': 3530, 'sulphur': 4046, 'thats': 4193, 'add': 225, 'holds': 2030, 'preventing': 3201, 'suitable': 4040, 'type': 4355, 'go': 1831, 'showing': 3756, 'benefits': 531, 'ad': 224, 'ate': 412, 'giving': 1815, 'redensyl': 3404, 'content': 1004, 'percentage': 3047, 'bein': 524, 'added': 226, 'secondly': 3651, 'extracts': 1537, 'effective': 1411, 'switchin': 4098, 'back': 463, 'conventional': 1017, 'method': 2622, 'makin': 2517, 'juice': 2258, 'applyin': 370, 'mention': 2607, 'amazing': 308, 'effect': 1410, 'made': 2496, 'extremely': 1540, 'soft': 3843, 'shiny': 3732, 'properly': 3262, 'bothering': 610, 'think': 4210, 'till': 4246, 'date': 1131, 'search': 3644, 'ends': 1443, 'suppose': 4071, 'waiting': 4505, 'see': 3657, 'impact': 2105, 'arresting': 390, 'yr': 4680, 'old': 2888, 'son': 3867, 'likes': 2399, 'brush': 664, 'flavour': 1663, 'strawberry': 3991, 'previously': 3204, 'chicco': 817, 'switched': 4097, 'due': 1370, 'lower': 2480, 'price': 3205, 'mee': 2592, 'ingredients': 2165, 'child': 818, 'health': 1968, 'year': 4666, 'cavity': 766, 'started': 3943, 'developing': 1238, 'breaths': 640, 'toothpaste': 4287, 'couple': 1046, 'weeks': 4560, 'brushing': 666, 'sessions': 3702, 'feel': 1610, 'might': 2632, 'actually': 223, 'cause': 760, 'rather': 3357, 'keep': 2270, 'away': 444, 'immediately': 2104, 'shifted': 3729, 'pigeon': 3084, 'breath': 638, 'stopped': 3976, 'next': 2784, 'onward': 2901, 'natural': 2760, 'properties': 3264, 'team': 4146, 'needs': 2774, 'research': 3490, 'decent': 1151, 'though': 4219, 'berry': 534, 'flavoured': 1664, 'blast': 568, 'kids': 2285, 'love': 2470, 'part': 2999, 'perfectly': 3049, 'fine': 1635, 'swallow': 4087, '100': 9, 'safe': 3577, 'introduce': 2203, 'toxin': 4301, 'free': 1730, 'taste': 4132, 'flouride': 1673, 'tooth': 4284, 'pastes': 3010, 'available': 434, 'buying': 702, 'right': 3535, '12': 23, 'month': 2705, 'almost': 295, 'teeth': 4158, 'brushes': 665, 'start': 3942, 'eating': 1401, 'tasting': 4137, 'baby': 460, 'way': 4550, 'applied': 368, 'bit': 560, 'thn': 4215, 'forgot': 1700, 'kept': 2273, 'satisfaction': 3598, 'small': 3816, 'understands': 4375, 'spit': 3906, 'eat': 1398, 'sls': 3815, 'fluoride': 1678, 'vegan': 4455, 'claims': 852, 'plastic': 3109, 'responsible': 3506, 'none': 2805, 'found': 1713, 'verdict': 4463, 'recommended': 3398, 'quite': 3335, 'noticeable': 2818, 'kid': 2284, 'wish': 4613, 'single': 3782, 'pack': 2957, 'instead': 2186, 'minimum': 2649, 'qty': 3315, 'takes': 4116, 'lot': 2463, 'finish': 1639, 'tube': 4343, 'taking': 4117, 'peanut': 3035, 'size': 3794, 'less': 2368, 'portion': 3142, 'brushingif': 667, 'click': 870, 'link': 2410, 'reliable': 3443, 'quality': 3317, '4yo': 140, 'loves': 2477, 'earlier': 1388, 'loving': 2478, 'par': 2990, 'yet': 4673, 'economical': 1403, 'years': 4667, 'mentioned': 2608, 'even': 1484, 'gulps': 1904, 'harmful': 1949, 'although': 305, 'teach': 4144, 'little': 2427, 'important': 2108, 'aspect': 402, 'considered': 982, 'placing': 3104, 'swallowed': 4088, 'paste': 3009, 'like': 2395, 'mild': 2633, 'bubble': 670, 'gum': 1905, 'plus': 3122, 'without': 4615, 'chemical': 810, 'foaming': 1682, 'quantity': 3321, 'dento': 1199, 'lott': 2467, 'super': 4055, 'list': 2417, 'says': 3614, 'skin': 3798, 'lighting': 2390, 'face': 1549, 'felt': 1616, 'disappointed': 1280, 'realised': 3375, 'makes': 2515, 'lighter': 2389, 'removing': 3462, 'tan': 4126, 'effects': 1414, 'leaves': 2360, 'squeaky': 3924, 'clean': 857, 'brighter': 647, 'fragrance': 1720, 'thick': 4201, 'beads': 504, 'want': 4513, 'scrub': 3638, 'everyday': 1491, 'foam': 1681, 'facewash': 1552, 'pulpy': 3291, 'orange': 2920, 'turmeric': 4348, 'washing': 4531, 'looked': 2449, 'bright': 644, 'previous': 3203, 'facewashes': 1553, 'annoying': 334, 'worse': 4636, 'worth': 4638, 'got': 1852, '175rs': 55, 'sale': 3583, 'still': 3968, 'worked': 4628, 'dont': 1339, 'changes': 788, 'disappointing': 1281, 'parabens': 2992, 'sulfate': 4044, 'hence': 1992, 'talking': 4122, 'liquorice': 2415, 'extract': 1535, 'attracted': 422, 'consistency': 984, 'making': 2518, 'unusual': 4399, 'others': 2939, 'loved': 2471, 'radiant': 3340, 'wants': 4515, 'rid': 3533, 'tanning': 4130, 'discoloration': 1288, 'pigmentation': 3085, 'pleasant': 3112, 'need': 2771, 'apply': 369, 'large': 2321, 'walnut': 4512, 'intense': 2195, 'scrubber': 3639, 'daily': 1111, 'moisturizer': 2691, 'liquidy': 2413, 'image': 2101, 'key': 2276, 'stearic': 3956, 'acid': 212, 'cleansing': 865, 'remove': 3460, 'dirt': 1273, 'sweat': 4089, 'excess': 1503, 'sebum': 3648, 'sodium': 3842, 'cocoyl': 890, 'glycinate': 1828, 'produces': 3234, 'creamy': 1069, 'feeling': 1611, 'lather': 2334, 'softening': 3845, 'glycerin': 1827, 'treat': 4318, 'prevent': 3200, 'rough': 3554, 'scaly': 3618, 'itchy': 2228, 'minor': 2650, 'irritations': 2220, 'palmitic': 2975, 'soothing': 3874, 'common': 918, 'saturated': 3603, 'fatty': 1597, 'animals': 331, 'plants': 3108, 'microorganism': 2628, 'niacinamide': 2786, 'form': 1701, 'vitamin': 4492, 'b3': 457, 'manage': 2528, 'acne': 214, 'rosacea': 3552, 'wrinkles': 4650, 'lightening': 2387, 'compound': 952, 'carrot': 748, 'seed': 3658, 'beta': 538, 'carotene': 746, 'vitamins': 4493, 'pro': 3224, 'heal': 1964, 'chapped': 792, 'cracked': 1061, 'balances': 477, 'moisture': 2686, 'may': 2574, 'help': 1987, 'reduce': 3405, 'tocopheryl': 4264, 'tocopherol': 4263, 'acetate': 211, 'known': 2303, 'antioxidant': 343, 'powder': 3157, 'haldi': 1924, 'contains': 1002, 'antioxidants': 344, 'anti': 340, 'inflammatory': 2154, 'components': 950, 'yashtimadhu': 4663, 'commonly': 919, 'ayurvedic': 455, 'herbs': 1997, 'extracted': 1536, 'licorice': 2375, 'powerful': 3163, 'sun': 4050, 'protection': 3271, 'regulate': 3435, 'production': 3244, 'reduces': 3407, 'spots': 3913, 'blemishes': 574, 'controls': 1012, 'formed': 1704, 'antiseptic': 345, 'healing': 1966, 'boosts': 604, 'circulation': 847, 'ylang': 4674, 'cananga': 718, 'tree': 4321, 'tropical': 4329, 'native': 2759, 'india': 2135, 'promote': 3256, 'relaxation': 3440, 'kill': 2287, 'bacteria': 466, 'blood': 587, 'pressure': 3198, 'sexual': 3709, 'desire': 1221, 'patchouli': 3018, 'deodorize': 1203, 'body': 594, 'odours': 2867, 'soothe': 3872, 'inflammation': 2153, 'fight': 1622, 'water': 4544, 'retention': 3517, 'break': 632, 'cellulite': 771, 'facilitate': 1554, 'faster': 1590, 'wounds': 4643, 'stimulating': 3969, 'growth': 1894, 'new': 2781, 'moisturize': 2689, 'appearance': 362, 'cuts': 1101, 'bruises': 663, 'scars': 3623, 'hope': 2041, 'images': 2102, 'tried': 4327, 'majorly': 2513, 'name': 2752, 'company': 922, 'able': 192, 'based': 484, 'ancient': 327, 'secret': 3653, 'recipes': 3392, 'dadi': 1109, 'nani': 2756, 'person': 3061, 'hydrates': 2077, 'thoroughly': 4218, 'instant': 2184, 'freshness': 1742, 'ubtan': 4359, 'sensitive': 3681, 'kudos': 2307, 'thought': 4220, 'behind': 523, 'reading': 3372, 'great': 1876, 'eagerly': 1386, 'opened': 2905, 'empty': 1438, 'packed': 2962, 'liqurice': 2416, 'excited': 1507, 'heard': 1973, 'dead': 1140, 'cells': 770, 'glow': 1824, 'repair': 3466, 'damage': 1114, 'protect': 3269, 'horrible': 2048, 'normal': 2809, 'tends': 4167, 'winters': 4606, 'ordered': 2926, 'march': 2542, 'enjoy': 1451, 'healthier': 1969, 'herbal': 1995, 'decided': 1153, 'regret': 3429, 'rashes': 3352, 'happens': 1943, '3daz': 127, 'could': 1039, 'infer': 2151, 'becoz': 517, 'skincare': 3800, 'plz': 3124, 'waste': 4535, 'ur': 4411, 'trapped': 4312, 'marketing': 2549, 'gimmick': 1804, 'earthand': 1392, 'suits': 4042, 'types': 4357, 'signs': 3771, 'caused': 761, 'exposure': 1530, 'harsh': 1950, 'rays': 3363, 'tone': 4275, 'improves': 2117, 'complection': 943, 'frankly': 1726, 'seeing': 3660, 'honest': 2036, '15': 38, 'days': 1137, 'mositurized': 2717, 'marks': 2553, 'uneven': 4380, 'toneso': 4277, 'purpose': 3303, 'fading': 1564, 'glowing': 1825, 'entertained': 1462, 'far': 1587, 'wait': 4504, 'mositurising': 2716, 'serum': 3694, 'upcoming': 4401, 'summers': 4049, 'hopes': 2044, 'problem': 3226, 'superb': 4056, 'resolved': 3501, 'qulaity': 3336, 'improved': 2115, 'come': 910, 'across': 217, 'switch': 4096, 'another': 335, 'fast': 1589, 'absorbing': 198, 'supporting': 4068, 'reducing': 3408, 'working': 4629, 'actual': 222, 'soon': 3869, 'least': 2356, '20': 75, 'check': 806, 'brightens': 646, 'lines': 2405, 'reduction': 3409, 'recommendation': 3397, 'dear': 1146, 'friend': 1745, 'pump': 3292, 'tell': 4160, 'procuct': 3231, 'keeps': 2272, 'hydrated': 2076, 'blooming': 588, 'radiance': 3339, 'thus': 4237, 'compatible': 931, 'doesnt': 1334, 'fairer': 1571, 'try': 4340, 'um': 4364, 'read': 3371, 'amazon': 311, 'brands': 628, 'give': 1811, 'affordable': 256, 'within': 4614, 'breaking': 634, 'big': 549, 'zits': 4685, 'kind': 2291, 'change': 786, 'entire': 1463, 'care': 740, 'routine': 3557, 'tested': 4175, 'organic': 2931, 'suit': 4039, 'high': 2006, 'expectations': 1517, 'prone': 3260, 'smooth': 3827, 'sake': 3582, 'extra': 1534, 'turned': 4350, 'opposite': 2915, 'white': 4587, 'forehead': 1695, 'nose': 2811, 'picture': 3080, 'worried': 4634, 'patch': 3016, 'eyes': 1544, '3rd': 128, 'horrified': 2050, '500': 142, 'bucks': 673, 'hoping': 2045, 'mcaffeine': 2577, '1whole': 73, 'reduced': 3406, 'dries': 1359, 'breakouts': 636, 'skintone': 3801, 'around': 387, 'noticed': 2820, 'getting': 1793, 'easily': 1396, 'observe': 2850, 'minute': 2654, 'downside': 1350, 'discomforting': 1290, 'mom': 2695, 'related': 3436, 'hyperpigmentation': 2084, '50s': 146, 'managed': 2529, 'diet': 1250, 'plan': 3106, 'package': 2958, 'delivered': 1186, 'look': 2447, 'wise': 4611, 'develop': 1234, 'accompanied': 204, 'itchiness': 2226, 'heals': 1967, 'took': 4280, 'two': 4354, 'personally': 3063, 'would': 4641, 'ladies': 2314, 'ofcourse': 2868, 'refund': 3423, 'payback': 3026, 'surely': 4075, 'dissatisfied': 1321, 'annoyed': 333, 'oily': 2883, 'dried': 1357, 'significant': 3770, 'improvement': 2116, 'brilliant': 648, 'continue': 1006, 'helped': 1988, 'tip': 4258, 'pillow': 3086, 'sheets': 3725, '1yr': 74, 'received': 3385, 'diffrent': 1258, 'doubt': 1346, 'original': 2932, '30ml': 117, 'usual': 4429, '50ml': 145, 'fav': 1600, 'cream': 1066, 'helping': 1990, 'difference': 1252, 'quickly': 3331, 'sometime': 3863, 'realized': 3377, 'huge': 2064, 'stopping': 3977, 'bee': 520, 'extent': 1533, 'update': 4402, 'please': 3113, 'pimples': 3088, 'contain': 999, 'mulberry': 2739, 'repairs': 3468, 'mineral': 2645, 'paraben': 2991, 'melanin': 2597, 'dispenser': 1315, 'travelling': 4316, 'moisturiser': 2687, 'hello': 1985, 'job': 2251, 'iam': 2086, 'writing': 4657, 'website': 4557, 'figured': 1626, 'purchasing': 3298, '50': 141, 'ml': 2674, 'compare': 924, 'chemicals': 812, 'consists': 986, 'oils': 2882, 'scent': 3625, 'coz': 1060, 'hardly': 1947, 'exactly': 1496, 'went': 4567, 'site': 3788, 'present': 3190, 'fan': 1583, 'generally': 1778, 'places': 3103, 'nykaa': 2846, 'highly': 2014, 'seems': 3665, 'copied': 1024, 'broke': 654, 'expect': 1515, 'pricier': 3210, 'side': 3766, 'guys': 1909, 'cant': 724, 'believe': 525, 'work': 4626, 'magic': 2499, 'memaearth': 2602, 'bye': 705, 'be4': 503, 'pic': 3077, '27': 104, 'feb': 1607, '2020': 86, '23march': 97, 'lighten': 2386, 'became': 513, 'fair': 1570, 'value': 4439, 'gentle': 1783, 'cleaning': 859, 'tea': 4143, 'favourite': 1603, 'containing': 1001, 'washes': 4530, 'compared': 925, 'market': 2547, 'pricey': 3209, 'option': 2916, 'cleanses': 864, 'required': 3488, 'breaks': 637, 'gone': 1841, 'jocking': 2252, 'wonders': 4620, 'times': 4251, 'waking': 4506, 'bed': 518, 'pimple': 3087, 'past': 3008, 'beauties': 509, 'combination': 908, 'monsoons': 2704, 'becomes': 515, 'oilier': 2880, 'humidity': 2069, 'dehydrated': 1177, 'faced': 1551, 'breakout': 635, 'vlcc': 4496, 'atleast': 413, 'hell': 1984, 'services': 3700, 'delivery': 1190, 'policy': 3131, 'packing': 2965, 'service': 3699, 'towards': 4299, 'applicable': 365, 'star': 3937, 'average': 437, 'odour': 2866, 'material': 2567, 'medicated': 2587, 'whether': 4581, 'fights': 1624, 'concern': 962, 'picked': 3078, 'aroma': 385, 'several': 3708, 'suddenly': 4025, 'attack': 417, 'fail': 1566, 'cure': 1090, 'acnei': 215, 'occur': 2859, 'omg': 2893, 'consulted': 990, 'doctor': 1331, 'recommandation': 3395, 'fit': 1647, 'tuber': 4344, 'replacing': 3476, 'suffering': 4027, 'everybody': 1490, 'causes': 762, 'occuring': 2860, 'acnes': 216, 'reviewing': 3526, '1month': 70, 'six': 3792, 'stumbled': 4010, 'range': 3349, 'easy': 1397, 'squeezy': 3927, 'clear': 866, 'gel': 1772, 'fighting': 1623, 'uses': 4426, 'mother': 2719, 'anyone': 350, 'editing': 1408, '11': 20, 'soap': 3835, 'scam': 3619, 'youtubber': 4678, 'channel': 790, 'home': 2035, 'remedies': 3453, 'active': 220, 'shows': 3759, 'rip': 3543, 'deeply': 1162, 'cleansed': 862, 'complete': 944, 'always': 306, 'awesome': 446, 'babies': 459, 'delicate': 1180, 'newborns': 2782, 'birth': 555, 'goat': 1832, 'milk': 2638, 'gets': 1792, 'absorbed': 197, 'moisturized': 2690, 'long': 2442, 'eczema': 1405, 'purchase': 3295, 'gifting': 1801, 'ones': 2897, 'bathing': 494, 'developed': 1235, 'hives': 2023, 'hits': 2021, 'bar': 481, 'ok': 2884, 'cleanse': 861, 'moisturising': 2688, 'fresh': 1735, 'washed': 4529, 'starts': 3946, 'melting': 2600, 'wet': 4571, 'bathroom': 495, 'save': 3604, 'possible': 3147, 'costlier': 1035, 'regimen': 3426, 'adult': 238, 'irritation': 2219, 'leave': 2359, 'residue': 3495, 'surprised': 4081, 'thin': 4206, 'film': 1629, 'slippery': 3811, 'naked': 2751, 'stripped': 3997, 'excellent': 1499, 'zero': 4683, 'turn': 4349, 'pasty': 3011, 'mass': 2558, 'onwards': 2902, 'scoop': 3630, 'hand': 1927, 'manufacturing': 2539, 'process': 3228, 'liquid': 2411, 'moreover': 2713, 'soapy': 3840, 'rinse': 3540, 'teddy': 4155, 'outcome': 2941, 'dermadew': 1207, 'trials': 4324, 'avoided': 441, 'negative': 2776, 'item': 2229, 'trusted': 4337, 'sharing': 3720, '1st': 71, 'ignored': 2096, 'later': 2332, 'whole': 4590, 'boils': 598, 'spotty': 3915, 'drying': 1367, 'burns': 689, 'continued': 1007, 'cetaphil': 776, 'lotion': 2465, 'threw': 4224, 'soaps': 3839, 'appreciating': 376, 'enriched': 1455, 'goodness': 1846, 'oatmeal': 2847, 'shea': 3723, 'butter': 693, 'coconut': 889, 'cleanser': 863, 'toddler': 4266, 'feels': 1612, 'bath': 491, 'shape': 3718, 'hold': 2027, 'tears': 4150, 'formula': 1706, 'moisturizing': 2693, 'mommies': 2697, 'daddies': 1108, 'specially': 3893, 'toddlers': 4267, 'phase': 3070, 'independent': 2134, 'everytime': 1494, 'lets': 2373, 'daughter': 1134, 'ended': 1441, 'lingering': 2407, 'fabulous': 1548, 'stellar': 3959, 'gift': 1799, 'hamper': 1926, 'appreciate': 374, 'however': 2058, 'bowl': 618, 'something': 3862, 'compromising': 956, 'foamy': 1683, 'means': 2581, 'babys': 462, 'five': 1651, 'productbut': 3239, 'ask': 398, 'global': 1818, 'chain': 780, 'cheap': 800, 'focus': 1684, 'bio': 554, 'degradable': 1174, 'mail': 2508, 'thank': 4186, 'godrej': 1834, 'delivering': 1188, 'top': 4289, 'notch': 2812, 'lifebuoy': 2380, 'dettol': 1232, 'santoor': 3595, 'patanjali': 3014, 'hands': 1935, 'master': 2562, 'blaster': 569, 'masterchef': 2563, 'variant': 4446, 'purechased': 3300, 'dealers': 1144, 'impression': 2112, 'inferior': 2152, 'genuine': 1785, 'came': 717, 'cloudtrail': 882, 'wrong': 4659, 'supply': 4066, 'left': 2363, 'green': 1878, 'color': 899, 'heaven': 1978, 'run': 3567, 'stay': 3950, 'particular': 3000, 'blue': 590, 'handwash': 1936, 'hospital': 2051, 'firstly': 1646, 'thanks': 4189, 'items': 2231, 'lockdown': 2435, 'red': 3402, 'zones': 4686, 'impossible': 2109, 'online': 2899, 'deliveries': 1187, 'current': 1094, 'situation': 3791, 'pocket': 3126, 'spreads': 3923, 'lathers': 2335, 'efficiently': 1418, 'mrp': 2734, 'gain': 1768, 'lists': 2421, 'pink': 3093, 'soften': 3844, 'development': 1239, 'packs': 2967, '750ml': 171, '650': 161, 'capacity': 727, 'noted': 2814, 'pantene': 2985, 'standard': 3933, 'volume': 4500, 'waah': 4501, 'intact': 2191, 'seal': 3641, 'bt': 668, 'protekt': 3273, 'country': 1044, 'fully': 1758, 'satisfied': 3600, 'balance': 475, 'tick': 4240, 'points': 3130, 'viz': 4495, 'delhi': 1178, 'leads': 2345, 'lime': 2402, 'individual': 2146, 'preference': 3178, 'irrespective': 2215, 'disappoint': 1279, 'useful': 4422, 'press': 3195, 'button': 696, 'things': 4208, 'lemon': 2365, 'loofah': 2446, 'well4': 4566, 'aloe': 296, 'vera': 4462, 'nourishing': 2827, 'bath5': 492, 'offer': 2870, '96': 181, 'good8': 1843, 'allergic': 284, 'reaction': 3368, 'mentions': 2609, 'overall': 2948, 'no1': 2796, 'refreshing': 3419, 'deal': 1142, '173': 54, '09': 7, '19': 64, '24': 98, 'pkd': 3098, 'simply': 3780, 'thinking': 4211, '5soap': 156, '5fragrance': 153, '5delivery': 152, '5overall': 155, 'reason': 3380, 'foreign': 1696, 'except': 1500, 'cheaper': 801, 'fragnance': 1719, 'enter': 1460, 'grade': 1859, 'raw': 3362, 'materials': 2568, 'cinthol': 845, 'keeping': 2271, 'mind': 2643, 'budget': 674, 'lovely': 2472, 'citrus': 848, 'summer': 4048, '150gms': 42, 'sold': 3854, 'bundle': 685, 'dissolves': 1323, 'ensures': 1459, 'hot': 2052, 'eight': 1420, 'rs': 3560, '89': 177, '00': 0, 'fregrance': 1732, 'lasting': 2327, 'hours': 2055, 'depends': 1206, 'sandal': 3590, 'dissolve': 1322, 'resulting': 3512, 'greater': 1877, 'longevity': 2445, 'subtle': 4022, 'includes': 2122, '150gm': 41, 'pantry': 2986, 'timely': 4248, 'sufficient': 4028, 'cleans': 860, 'stars': 3939, 'lightly': 2391, 'lasts': 2329, 'longer': 2443, 'sandalwood': 3591, 'rinses': 3541, 'afterwards': 258, 'done': 1336, 'bars': 482, 'bonus': 602, '76': 173, 'itz': 2236, 'lyk': 2491, 'mysore': 2749, '10': 8, '13': 31, 'havn': 1959, 'expected': 1518, 'vanishes': 4443, 'appears': 363, 'hard': 1945, 'mislead': 2661, 'favorite': 1601, 'wife': 4599, 'choose': 837, 'model': 2681, 'recently': 3388, 'boy': 621, 'professional': 3249, 'verify': 4464, 'local': 2432, 'shop': 3743, '21600': 91, 'rupee': 3570, '16k': 51, 'suggestion': 4036, 'shops': 3747, 'pay': 3024, 'toli': 4274, 'vara': 4445, 'charges': 797, 'ice': 2087, 'tray': 4317, 'providepros': 3278, 'beautyfull': 512, 'colorfull': 903, 'direct': 1270, 'cool': 1022, 'vegetables': 4457, 'rack': 3338, 'absolute': 195, 'noise': 2799, 'backside': 465, 'open': 2903, 'store': 3981, 'lover': 2474, 'sad': 3576, 'post': 3149, 'tune': 4347, 'searching': 3645, 'sales': 3584, 'pathetic': 3020, 'defective': 1168, 'wont': 4621, 'refrigerator': 3421, 'noisedoor': 2800, 'shut': 3762, 'properlyback': 3263, 'panel': 2982, 'coils': 893, 'danger': 1123, 'childrenamazon': 821, 'selling': 3674, 'asked': 399, 'denied': 1196, 'technician': 4154, 'wil': 4600, 'repairing': 3467, 'note': 2813, 'prime': 3215, 'members': 2604, 'resolution': 3500, 'hopeless': 2043, 'escalate': 1473, 'corp': 1029, 'email': 1433, 'tatacliq': 4141, 'refrigerators': 3422, 'indian': 2136, 'promised': 3255, 'checked': 807, 'detailed': 1224, 'seller': 3673, 'details': 1225, 'guarantee': 1896, 'warranty': 4523, 'card': 732, 'copy': 1025, 'dealer': 1143, 'address': 232, 'phone': 3072, 'number': 2835, 'etc': 1482, 'absence': 194, 'difficult': 1257, 'period': 3056, 'case': 752, 'notice': 2817, 'manufacturer': 2537, 'showed': 3753, '21': 88, 'deliver': 1185, 'condition': 965, 'replace': 3471, 'short': 3748, 'itemnot': 2230, 'supportive': 4069, 'actions': 219, 'taken': 4115, 'spacious': 3886, 'ultimately': 4362, 'power': 3162, 'consumption': 996, 'rated': 3355, 'energy': 1445, 'saving': 3607, 'electicity': 1425, 'bill': 551, 'orderd': 2925, 'base': 483, 'drawer': 1353, '1000': 10, 'spend': 3897, 'poor': 3137, 'upon': 4407, 'deliverycooling': 1192, 'goodnot': 1847, 'noisyample': 2801, 'space': 3884, 'family': 1581, '4good': 139, 'lookdry': 2448, 'storage': 3979, 'door': 1340, 'close': 873, 'push': 3306, 'itglasswares': 2232, 'factor': 1559, 'removal': 3459, 'cabinet': 706, 'wierdly': 4598, 'placedonly': 3102, 'cube': 1084, 'provided': 3277, 'fuel': 1756, 'efficiency': 1416, 'observed': 2851, 'functioning': 1763, 'minimal': 2648, 'sound': 3878, 'exchange': 1506, 'everything': 1493, 'fact': 1558, 'aer': 251, 'understand': 4373, 'rest': 3508, 'hint': 2019, 'eventually': 1487, 'crystallizes': 1081, 'juggad': 2257, 'basically': 487, 'cover': 1051, 'hole': 2031, 'hang': 1939, 'displays': 1318, 'cut': 1098, 'scissors': 3629, 'carefully': 742, 'slender': 3804, 'violet': 4479, 'purple': 3302, '25': 100, 'champs': 784, 'considering': 983, 'odonil': 2864, 'fresheners': 1737, 'ages': 264, 'basic': 486, 'law': 2341, 'diminishing': 1268, 'returns': 3522, 'encourage': 1439, 'apt': 381, 'room': 3549, 'apartment': 356, 'kick': 2283, 'concept': 961, 'hanging': 1940, 'usually': 4430, 'ceiling': 767, 'washrooms': 4533, 'word': 4623, 'caution': 764, 'mine': 2644, 'maximum': 2573, '22': 92, 'grab': 1857, 'liking': 2400, 'closed': 874, 'spaces': 3885, 'including': 2123, 'car': 730, 'toilet': 4269, 'offices': 2875, 'install': 2182, 'zanzat': 4682, 'roughly': 3555, 'fifteen': 1621, 'guests': 1901, 'duplicate': 1373, 'faded': 1562, 'authorities': 428, 'supplier': 4065, 'cannot': 722, 'hv': 2073, 'packet': 2963, 'buyer': 699, 'filed': 1627, 'consumer': 993, 'forum': 1709, 'buyers': 700, 'sunil': 4053, 'box': 619, '160': 47, 'become': 514, 'rs480': 3561, 'rs495': 3562, 'boxes': 620, 'kindly': 2293, 'action': 218, 'maintain': 2510, 'area': 383, 'quantities': 3320, 'frank': 1725, 'opinion': 2913, 'complaints': 942, 'freshens': 1739, 'mood': 2711, 'counterparts': 1043, 'evenly': 1486, 'leaked': 2351, '30': 113, 'fades': 1563, 'misty': 2669, 'unless': 4389, 'sort': 3876, 'tangy': 4129, 'initial': 2167, '14': 34, 'latter': 2336, 'shell': 3727, 'arrived': 392, 'battery': 499, 'message': 2615, 'meaning': 2580, 'else': 1432, 'batteries': 498, 'serves': 3698, 'manual': 2533, 'obsolete': 2852, 'instructions': 2189, 'match': 2564, 'solutions': 3858, 'posted': 3150, 'either': 1421, 'program': 3252, 'figure': 1625, 'personnel': 3064, 'force': 1692, 'house': 2056, 'cost': 1033, 'device': 1240, 'defeats': 1165, 'shopping': 3746, 'ridiculous': 3534, 'code': 891, 'indicate': 2137, '68': 163, 'lock': 2434, 'pressing': 3197, 'clear2': 867, 'pressed': 3196, 'error': 1471, 'steps': 3962, 'listed': 2418, 'personal': 3062, 'mode': 2680, 'access': 202, 'programming': 3253, 'pg': 3067, '751019': 172, 'features': 1606, 'numbers': 2836, 'digit': 1260, 'written': 4658, 'book': 603, 'changing': 789, 'set': 3703, 'password': 3007, 'originally': 2934, 'luck': 2485, 'scratched': 3633, 'multiple': 2742, 'parts': 3001, 'loose': 2454, 'iron': 2213, 'painted': 2972, 'tag': 4108, 'sent': 3685, 'us': 4416, 'starting': 3945, 'unwrap': 4400, 'damages': 1116, 'keys': 2278, 'attached': 415, 'sachet': 3574, 'locker': 2437, 'near': 2766, 'insert': 2174, 'inside': 2178, 'wall': 4508, 'mounting': 2724, 'knots': 2301, 'keypad': 2277, 'aa': 187, 'led': 2362, 'inserting': 2176, 'positive': 3144, 'marked': 2546, 'according': 206, 'charge': 795, 'respectively': 3502, 'lid': 2376, 'automatically': 431, 'screw': 3636, 'fixed': 1652, 'packets': 2964, 'aftermarket': 257, 'screws': 3637, 'maybe': 2575, 'mechanism': 2586, 'unlocked': 4392, 'opener': 2906, 'given': 1812, 'ready': 3373, 'unlock': 4391, 'default': 1164, '1234': 26, 'donot': 1338, 'firm': 1643, 'bolts': 600, 'let': 2371, 'motor': 2722, 'consult': 989, 'user': 4425, 'calm': 714, 'operate': 2909, 'installation': 2183, 'head': 1962, 'repeated': 3469, 'calls': 713, 'charged': 796, '750': 170, 'rupees': 3571, 'stuff': 4008, 'weight': 4561, 'mounted': 2723, 'cupboard': 1086, 'otherwise': 2940, 'carried': 747, '4200': 132, 'idot': 2093, 'double': 1345, '171310': 53, 'setit': 3704, 'china': 824, 'expecting': 1519, 'dent': 1198, 'chipped': 826, 'paint': 2971, 'instruction': 2188, 'indicating': 2139, 'pad': 2968, 'align': 281, 'declined': 1155, 'thief': 4204, 'sweet': 4090, 'therefore': 4199, 'security': 3655, 'pwd': 3311, 'executive': 1509, 'demo': 1195, 'appointment': 373, 'calling': 712, '300': 114, 'digital': 1261, 'put': 3309, 'bulky': 683, 'heavy': 1980, 'almera': 293, 'safer': 3579, 'cash': 754, 'passport': 3006, 'valuable': 4437, 'lookwise': 2453, 'classy': 855, 'touch': 4297, 'proper': 3261, 'colored': 901, 'display': 1316, 'passcode': 3004, 'digits': 1262, 'beep': 521, 'whenever': 4577, 'addition': 229, 'emergency': 1435, 'ever': 1488, 'course': 1048, 'peace': 3032, 'truly': 4334, 'greets': 1880, 'override': 2952, 'visit': 4486, 'perfume': 3052, 'specified': 3895, 'returnable': 3519, 'accepted': 201, 'spraying': 3920, 'mins': 2651, 'blinking': 579, 'spray': 3916, 'hrs': 2059, 'designed': 1218, 'emptied': 1437, 'said': 3581, '20000': 77, 'sprays': 3921, 'arrmatic': 393, 'airwick': 275, 'aermatic': 252, 'sprayers': 3919, 'refills': 3413, 'sprayed': 3917, 'dispose': 1319, 'air': 274, 'wick': 4594, 'clearing': 868, 'defect': 1166, 'stock': 3973, 'liked': 2396, 'lavender': 2340, 'refill': 3411, 'duracell': 1376, 'continuously': 1008, 'seconds': 3652, 'setting': 3706, 'timer': 4250, '40min': 131, 'intervals': 2200, 'window': 4602, 'machinery': 2495, 'bot': 608, 'failed': 1567, 'lasted': 2326, 'gas': 1770, 'coming': 915, 'wrote': 4661, 'complaint': 941, 'regarding': 3425, 'issue': 2221, 'meets': 2594, 'reputation': 3482, '10days': 17, 'ordering': 2927, 'cloudtail': 880, 'crap': 1063, 'point': 3127, 'unnecessarily': 4393, 'auto': 429, 'machine': 2494, 'fault': 1598, 'piece': 3082, 'cos': 1031, 'cartoon': 751, 'recieved': 3390, 'replacement': 3475, 'responsibility': 3505, 'craplooklike': 1064, 'putting': 3310, 'rules': 3566, 'advantage': 243, 'front': 1750, 'sitting': 3790, 'receiving': 3386, 'opening': 2907, 'reported': 3478, 'arranged': 388, 'informed': 2161, 'confirm': 970, 'resent': 3493, 'caveat': 765, 'careful': 741, 'alarm': 277, 'switching': 4099, 'alarming': 278, 'higher': 2007, 'muffle': 2737, 'blanket': 567, 'fabric': 1547, 'getaway': 1791, 'sleek': 3802, 'gadget': 1767, 'paying': 3027, 'guess': 1899, 'speak': 3889, 'handy': 1938, 'wardrobe': 4516, 'wallet': 4509, 'currency': 1093, 'office': 2874, 'carelessly': 744, 'placed': 3101, 'risking': 3545, 'stealing': 3954, 'maid': 2505, 'compartment': 930, 'flawlessly': 1667, 'wardrobes': 4517, 'somewhere': 3866, 'carry': 749, 'november': 2828, '2016': 82, 'elegant': 1428, 'sits': 3789, 'nicely': 2789, 'certain': 774, 'sized': 3795, 'valuables': 4438, 'jewelry': 2248, 'documents': 1333, 'watches': 4540, 'responsive': 3507, 'velvet': 4460, 'lining': 2409, 'portable': 3140, 'con': 958, 'buzzez': 704, 'duty': 1382, 'secure': 3654, 'goldilock': 1840, 'diwali': 1329, 'scratches': 3634, 'wanted': 4514, 'disable': 1276, 'theft': 4195, 'loud': 2469, 'move': 2727, 'slightly': 3809, 'feature': 1605, 'disabled': 1277, 'told': 4272, 'pcb': 3029, 'replaced': 3474, 'additional': 230, 'sometimes': 3864, 'locked': 2436, 'attempts': 420, 'confused': 972, 'level': 2374, 'screen': 3635, 'absolutely': 196, 'mini': 2647, 'primitive': 3217, 'volt': 4499, 'developers': 1237, 'designers': 1219, 'creating': 1071, 'stylish': 4014, 'place': 3100, 'mobile': 2678, 'wristwatch': 4654, 'inner': 2170, 'layer': 2342, 'grossest': 1888, 'scratch': 3632, 'iphone': 2210, 'wiring': 4610, 'gp': 1855, 'alkaline': 282, 'messyso': 2619, 'sum': 4047, 'occasional': 2855, 'thrifty': 4226, 'gifted': 1800, 'parents': 2995, 'anniversary': 332, 'stationary': 3949, 'sets': 3705, 'transportation': 4310, 'support': 4067, 'quick': 3330, 'answering': 338, 'queries': 3327, 'ensure': 1456, 'terrible': 4170, 'shocked': 3739, 'thrown': 4231, 'warehouse': 4518, 'luckily': 2486, 'mint': 2652, 'domestic': 1335, 'shall': 3714, 'stress': 3995, 'backlit': 464, 'illuminated': 2099, 'future': 1766, 'maids': 2507, 'wallets': 4510, 'jewellery': 2247, 'household': 2057, 'chores': 839, 'physical': 3076, 'fear': 1604, 'misplacing': 2664, 'inconvenient': 2125, 'sit': 3787, 'study': 4007, 'table': 4106, 'men': 2605, 'knickknacks': 2300, 'ear': 1387, 'rings': 3538, 'chains': 781, 'cards': 739, 'sturdy': 4012, 'dissuade': 1325, 'servants': 3696, 'tampering': 4125, 'intended': 2194, 'reset': 3494, 'locking': 2438, 'closing': 875, 'troubleshooting': 4331, 'shoots': 3742, 'faulty': 1599, 'returning': 3521, 'fruit': 1752, 'black': 564, 'uv': 4434, 'treatments': 4320, 'tubes': 4345, 'idea': 2090, 'sanitization': 3593, 'minutes': 2655, 'discription': 1299, 'indicator': 2142, 'four': 1714, 'lights': 2393, 'lamps': 2317, 'mirrors': 2659, 'sides': 3767, 'unlike': 4390, 'competitors': 937, 'grouse': 1892, 'useless': 4424, 'expose': 1529, 'object': 2849, 'whose': 4592, 'disinfect': 1306, 'edit': 1406, 'segment': 3667, 'specifications': 3894, 'buzzer': 703, 'estimate': 1481, 'disinfection': 1311, 'cycle': 1102, 'claimed': 851, '18': 56, 'indications': 2141, 'claim': 850, 'false': 1578, 'count': 1041, 'response': 3504, 'manufacturers': 2538, 'axecutive': 453, 'produce': 3233, 'heat': 1976, 'fits': 1649, 'laptop': 2320, 'upto': 4410, 'helmet': 1986, 'smaller': 3817, 'fruits': 1753, 'vegetable': 4456, 'polluted': 3133, 'effectively': 1412, 'stack': 3929, 'cycles': 1103, 'ensure4': 1457, 'operation': 2912, 'plug': 3121, 'play': 3111, 'followed': 1686, 'manually': 2534, 'curious': 1091, 'lapsed': 2319, 'wire': 4609, 'pin': 3090, 'earthing': 1393, 'critical': 1074, 'shocks': 3741, 'accounts': 208, 'flat': 1657, 'rings2': 3539, 'moment': 2696, 'fraction': 1716, 'hazard': 1960, 'classic': 854, 'practicality': 3165, 'safety': 3580, 'pshycosis': 3283, 'utterly': 4433, 'defected': 1167, 'peel': 3038, 'dial': 1243, 'spot': 3912, 'unexpected': 4381, 'requested': 3485, 'hour': 2054, 'sync': 4102, 'beauty': 511, 'watch': 4539, 'titan': 4260, 'wrist': 4651, 'gud': 1898, 'formal': 1702, 'occasions': 2857, 'belt': 527, 'strap': 3989, 'a1': 186, 'tata': 4140, 'okbut': 2886, '2months': 108, 'design': 1217, 'father': 1595, 'photos': 3075, 'rating': 3358, 'handled': 1931, 'disappointment': 1282, 'covers': 1055, 'glass': 1817, 'crumpled': 1078, 'corner': 1027, 'scared': 3621, 'god': 1833, 'wasnt': 4534, 'stamp': 3932, 'brick': 643, 'mortar': 2715, 'names': 2753, 'sunday': 4051, 'sab': 3573, 'mri': 2732, 'wrongly': 4660, 'represented': 3481, 'cardboard': 736, 'outside': 2947, 'thankfully': 4188, 'cell': 769, 'straps': 3990, 'rate': 3354, 'starsthe': 3941, 'starspackaging': 3940, 'photo': 3073, 'upload': 4406, 'shown': 3757, 'ticking': 4241, 'shot': 3749, 'spanish': 3888, 'english': 1447, 'accurate': 209, 'nyc': 2845, 'bcz': 502, 'gft': 1795, 'bf': 546, 'birthday': 556, 'thnx': 4216, 'dada': 1107, 'metal': 2620, 'strip': 3996, 'groom': 1886, 'wedding': 4558, 'beautiful': 510, 'timepiece': 4249, 'silver': 3776, 'marking': 2552, 'stunning': 4011, 'royal': 3559, 'balanced': 476, 'bracelet': 624, 'goes': 1835, 'dimension': 1267, 'mismatch': 2663, 'guessing': 1900, 'companies': 920, 'loyal': 2483, 'life': 2378, 'simple': 3779, 'hopefully': 2042, 'diameter': 1244, 'yesterday': 4672, 'odd': 2863, 'thorough': 4217, 'browsing': 662, 'chose': 840, 'wrists': 4653, 'thee': 4194, 'system': 4104, 'shld': 3736, 'puja': 3287, 'festive': 1619, '1256': 28, 'season': 3646, 'special': 3892, 'wear': 4554, 'formals': 1703, 'surprise': 4080, 'husband': 2072, 'pls': 3120, 'wowww': 4645, 'hmt': 2024, 'choice': 832, 'young': 4676, 'generations': 1780, 'reviewed': 3525, 'watchreally': 4542, 'proud': 3274, 'casual': 755, 'premium': 3182, 'real': 3374, 'incredible': 2130, 'sister': 3786, 'professor': 3250, 'college': 898, 'university': 4388, 'students': 4006, 'matter': 2570, 'golden': 1839, 'colour': 905, 'dad': 1106, 'benefit': 530, 'radium': 3341, 'built': 681, 'leather': 2357, 'reasonable': 3381, 'pricing': 3211, 'feedback': 1608, 'per': 3045, 'along': 298, 'chaps': 793, 'functionality': 1762, 'attractive': 423, 'bezel': 545, 'steals': 3955, 'decide': 1152, 'urself': 4415, 'pictures': 3081, 'justify': 2263, 'magnificent': 2501, 'dusty': 1381, 'prefer': 3177, '2k': 107, 'analog': 325, '2500rs': 102, 'impressive': 2113, 'build': 679, 'function': 1760, 'cheers': 808, '2395': 96, 'amd': 314, 'urban': 4412, 'round': 3556, 'band': 478, 'brown': 661, 'leather8': 2358, 'movement': 2729, 'quartz': 3323, 'analog9': 326, 'warranty10': 4524, 'crown': 1076, 'wore': 4625, 'wiyh': 4616, 'shirt': 3735, '3000': 115, 'fab': 1546, 'western': 4570, 'outfits': 2944, 'uncle': 4369, 'wearing': 4555, 'enhance': 1448, 'style': 4013, 'elegabt': 1427, 'lookscons': 2452, 'notifier': 2824, 'thanx': 4192, 'itbecause': 2224, 'tab': 4105, 'ee': 1409, 'adjust': 235, 'loosed': 2455, 'stops': 3978, 'glossy': 1821, 'gold': 1838, 'finishing': 1641, 'tooo': 4281, 'goood': 1851, 'eye': 1541, 'catching': 757, 'elder': 1423, 'brother': 659, 'core': 1026, 'elders': 1424, 'incorrect': 2126, '31': 118, 'sogood': 3850, 'itch': 2225, 'whr': 4593, 'pointers': 3129, 'container': 1000, 'speaks': 3891, 'titen': 4261, 'ladher': 2313, 'length': 2366, 'cracking': 1062, 'gem': 1775, 'seen': 3666, 'moderate': 2682, 'lashes': 2324, 'survivor': 4084, 'excessive': 1504, 'awssm': 452, 'hubby': 2062, 'satisfying': 3602, 'bigger': 550, '1500': 39, 'probably': 3225, 'steal': 3953, 'factory': 1560, 'superior': 4060, 'running': 3568, 'percent': 3046, 'satisfie': 3599, 'gupta': 1906, 'ji': 2250, 'described': 1210, 'selected': 3669, 'fat': 1594, 'needles': 2773, 'missing': 2666, 'anyway': 352, 'registered': 3428, 'workshop': 4632, 'automatic': 430, 'billion': 552, '1300': 33, '1995': 68, 'durable': 1375, 'maintenance': 2511, 'hasnt': 1952, 'died': 1249, 'steel': 3958, 'nicelight': 2788, 'weightbut': 4562, 'ohk': 2878, 'slower': 3814, 'mango': 2530, 'drink': 1360, 'offline': 2876, 'stores': 3983, 'arrive': 391, 'dirty': 1274, 'expiry': 1526, 'smudged': 3831, 'teast': 4152, 'expire': 1524, 'shipping': 3734, 'mfg': 2625, '01': 1, '18best': 60, '23': 94, '07': 5, '18i': 62, 'manufactured': 2536, 'facing': 1556, 'cloudtailprinted': 881, '250': 101, 'packpurchased': 2966, '153': 44, '02': 2, '18exp': 61, '18made': 63, 'haryana': 1951, 'karnataka': 2268, 'inthe': 2202, 'alphonso': 300, 'aam': 188, 'variety': 4451, 'unavailable': 4366, 'heck': 1981, 'resembles': 3492, '45': 134, 'pulp': 3289, 'tastes': 4136, 'shake': 3712, 'preferred': 3180, 'frooti': 1751, 'preservatives': 3193, 'sugar': 4030, 'aamras': 189, 'paperboat': 2989, 'researched': 3491, 'delivers': 1189, 'producti': 3243, 'concerned': 963, 'compelled': 932, 'paper': 2988, 'boat': 593, 'flavored': 1660, 'cherry': 813, 'papaya': 2987, 'pulps': 3290, 'juices': 2260, 'availability': 433, 'ltr': 2484, '120rs': 25, 'pure': 3299, 'sweetness': 4092, 'candy': 721, '90': 178, 'remember': 3455, 'limited': 2403, 'maaza': 2493, 'pour': 3156, 'delicious': 1182, 'consume': 991, 'directly': 1272, 'decorate': 1157, 'cake': 708, 'candies': 720, 'vegetarian': 4458, 'consumed': 992, 'tasty': 4138, 'tooti': 4288, 'coco': 887, 'cola': 895, 'ordinary': 2930, 'terms': 4169, 'affordability': 255, 'accessibility': 203, 'nt': 2833, 'dedication': 1160, 'coke': 894, 'cans': 723, 'puffed': 3286, 'sealed': 3642, 'videos': 4474, 'recieve': 3389, 'transit': 4307, 'corona': 1028, 'beat': 506, 'serve': 3697, 'chilled': 822, 'beverage': 542, 'wrapper': 4646, 'happened': 1941, 'viraj': 4480, 'mohan': 2685, 'warmth': 4520, 'supposed': 4072, 'cold': 896, 'scope': 3631, 'intelligence': 2193, 'grocery': 1885, 'pet': 3065, 'bottles': 613, 'seemed': 3664, 'lesser': 2369, 'leakage': 2350, 'photographs': 3074, 'displayed': 1317, 'indication': 2140, 'emphasize': 1436, 'edited': 1407, 'swellings': 4095, 'buildup': 680, '199': 67, '210': 89, 'label': 2311, 'mixture': 2673, 'flavorings': 1661, 'artificial': 395, 'flavors': 1662, 'liter': 2423, 'carton': 750, 'soaked': 3834, 'rat': 3353, 'urine': 4414, 'stinking': 3971, 'juiceboxes': 2259, 'stench': 3960, 'leptospirotic': 2367, 'unbearable': 4368, 'packaged': 2959, 'foods': 1689, 'bag': 469, 'returned': 3520, 'unfortunately': 4382, 'stuck': 4002, 'discard': 1284, 'didnt': 1246, 'mainly': 2509, 'guava': 1897, 'diluted': 1266, 'tags': 4109, 'processing': 3230, 'costumer': 1038, 'understood': 4376, 'slice': 3805, 'supplied': 4064, 'litchi': 2422, '2nd': 109, 'unethical': 4379, 'precautionary': 3174, 'measures': 2584, 'mistakes': 2668, '168': 50, 'practice': 3167, 'acidic': 213, 'ensured': 1458, 'sooo': 3871, 'leaks': 2353, 'outer': 2943, 'orders': 2929, 'comparison': 929, 'wonder': 4618, 'tampered': 4124, 'dated': 1132, 'drinks': 1363, 'fun': 1759, 'supposedly': 4073, 'ant': 339, 'dammit': 1119, 'live': 2428, 'ants': 346, 'serious': 3692, 'throwed': 4229, 'expired': 1525, 'maggie': 2498, 'stomach': 3974, 'app': 359, 'states': 3948, 'qualify': 3316, 'tasted': 4133, 'mouse': 2725, 'suji': 4043, 'nobody': 2797, 'listening': 2419, 'promoting': 3257, 'friends': 1747, 'maggi': 2497, 'called': 711, 'national': 2758, 'food': 1688, 'lol': 2441, 'prepared': 3187, 'hungry': 2070, 'prompt': 3259, 'noodles': 2808, 'age': 262, 'group': 1891, 'snack': 3832, 'iconic': 2089, 'born': 606, '80s': 176, '90s': 180, 'open2': 2904, 'disadvantage': 1278, 'tenconclusion': 4166, 'ten': 4165, 'saves': 3606, 'pollution': 3134, 'thousands': 4221, 'spread': 3922, 'kitchen': 2295, 'noodle': 2807, 'broken': 655, 'pieces': 3083, 'anyways': 353, 'cook': 1018, 'them2': 4196, 'nestle': 2779, 'decades': 1149, 'childhood': 819, 'consistent': 985, 'braved': 629, 'recent': 3387, 'questions': 3329, 'raised': 3343, 'masala': 2555, 'tasty5': 4139, 'cooks': 1021, '5mins': 154, 'atta': 414, 'quiet': 3332, 'oats': 2848, 'torn': 4291, 'eaten': 1400, '109': 15, 'festival': 1618, 'tiffin': 4242, 'provised': 3281, 'ine': 2147, 'torm': 4290, 'energizer': 1444, 'whit': 4586, 'prdodct': 3171, 'glocondi': 1819, 'favour': 1602, 'bnatural': 591, '120': 24, 'jelimals': 2245, '140': 35, 'cheated': 804, '110': 21, 'presentable': 3191, '119': 22, 'grear': 1874, 'june': 2262, 'oct': 2861, 'monopoly': 2703, 'competitor': 936, 'charging': 798, 'adds': 233, 'boaring': 592, 'ease': 1394, 'establishment': 1480, 'amul': 323, 'pampering': 2977, 'buds': 675, 'competition': 934, 'dairy': 1112, 'breakfast': 633, 'sandwich': 3592, 'cooked': 1019, 'baked': 471, 'dish': 1303, 'butterlicious': 694, 'carmelita': 745, 'fernandesfood': 1617, 'travel': 4314, 'writer': 4656, 'famous': 1582, 'slogan': 3812, 'butterly': 695, 'remained': 3449, 'throughout': 4227, 'supports': 4070, 'channels': 791, 'discontinuing': 1293, 'apart': 355, 'call': 710, 'offers': 2873, 'ghee': 1797, 'granular': 1868, 'bottom': 614, 'neither': 2778, 'shush': 3761, 'cow': 1058, 'cholesterol': 834, 'buffalo': 676, 'words': 4624, 'reporting': 3479, '70': 165, 'updated': 4403, 'paneer': 2981, 'apprehensively': 377, 'surprisingly': 4083, 'quarantine': 3322, 'affair': 253, 'prices': 3207, 'exorbitant': 1512, 'gravy': 1872, 'hygienically': 2081, 'vacuum': 4435, '45day': 136, 'validity': 4436, 'processed': 3229, 'standards': 3934, 'chewy': 815, 'smelly': 3826, '73': 167, '80': 175, 'indefinite': 2133, 'saviour': 3609, 'tandoori': 4127, 'chinese': 825, 'block': 581, 'reordering': 3464, 'today': 4265, 'early': 1389, 'needed': 2772, 'pizza': 3097, 'amazingly': 310, 'yummy': 4681, 'priority': 3223, 'delicacies': 1179, 'beats': 508, 'trustworthy': 4338, 'reaching': 3367, 'panner': 2984, 'nandini': 2755, 'kmf': 2298, 'goid': 1836, 'bitterresssssssstttt': 563, 'bitter': 562, 'sugarhaving': 4031, 'medicine': 2590, 'chocolate': 830, 'loverslots': 2476, 'minerals': 2646, 'source': 3879, 'lowers': 2481, 'cholesterols': 835, 'numerous': 2837, 'google': 1850, 'heart': 1974, 'bp': 622, 'diebetic': 1248, 'patients': 3022, '60': 157, 'antidepressant': 342, 'sweetner': 4091, 'nutrient': 2840, 'wealth': 4553, 'movementdo': 2730, 'discontinue': 1291, 'cocoa': 888, 'retain': 3516, 'permanent': 3057, 'micronutrients': 2627, 'information': 2160, 'lovers': 2475, 'chocolates': 831, 'die': 1247, 'finest': 1638, 'state': 3947, 'melt': 2598, 'bhubaneswar': 548, 'bengaluru': 533, 'comfortably': 914, 'ultimate': 4361, '99': 183, 'hershey': 1998, 'chop': 838, 'stir': 3972, 'silple': 3775, 'describe': 1209, 'beyond': 544, 'cocao': 886, 'degree': 1176, 'torture': 4292, 'general': 1777, 'public': 3284, 'military': 2637, 'terrorists': 4173, 'terrorist': 4172, 'jokes': 2255, 'cheapest': 802, 'suger': 4032, 'league': 2349, 'stick': 3963, 'pricy': 3213, 'true': 4332, 'nb': 2764, 'finished': 1640, 'mouth': 2726, 'heavenly': 1979, 'sugery': 4033, 'cacao': 707, 'connoisseur': 978, 'consider': 980, 'mildly': 2635, 'flavor': 1659, 'indeed': 2132, 'among': 320, 'lindt': 2404, 'graduated': 1861, 'darkness': 1128, 'progression': 3254, '55': 148, '75': 169, 'occasion': 2854, 'strangely': 3988, 'sourish': 3881, 'hesitant': 2000, 'superbly': 4057, 'bags': 470, 'temperature': 4163, 'dose': 1343, 'meal': 2578, 'enjoyable': 1452, 'guilt': 1903, 'regretted': 3431, 'nowhere': 2830, 'slightest': 3808, 'gross': 1887, 'richness': 3532, 'decadent': 1148, 'innovation': 2172, 'endorsing': 1442, 'opinions': 2914, 'proven': 3275, 'healthiest': 1970, 'superfoods': 4059, 'flavonoids': 1658, 'lifespan': 2382, 'highest': 2008, 'sources': 3880, 'nitric': 2794, 'oxide': 2956, 'dilates': 1263, 'widens': 4596, 'relaxes': 3441, 'vessels': 4468, 'blockages': 582, 'thereby': 4198, 'brain': 625, 'carcinogenic': 731, 'cancer': 719, 'risk': 3544, 'thinner': 4212, 'clots': 878, 'enormous': 1453, 'thankful': 4187, 'ignore': 2095, 'ignorant': 2094, 'lack': 2312, 'awareness': 443, 'requesting': 3486, 'defame': 1163, 'ratings': 3359, 'pity': 3096, 'innocent': 2171, 'toothed': 4286, 'tongue': 4278, 'representative': 3480, 'views': 4477, 'onset': 2900, 'lifestyle': 2383, 'genetic': 1782, 'diseases': 1301, 'diabetes': 1242, 'hypertension': 2085, 'stroke': 3998, 'attacks': 418, 'cardiac': 737, 'arrest': 389, 'infact': 2149, 'bliss': 580, 'irresistible': 2214, 'delightful': 1184, 'ambrosial': 313, 'authentic': 427, 'lastly': 2328, 'providing': 3280, 'superfood': 4058, 'doorstep': 1342, 'fell': 1613, 'seeds': 3659, 'bravo': 630, 'britannia': 650, 'cheese': 809, 'milky': 2639, 'mist': 2667, 'rates': 3356, 'melts': 2601, 'slices': 3806, 'okay': 2885, 'bread': 631, 'creme': 1073, 'regretful': 3430, 'cooking': 1020, 'mire': 2658, 'fridge': 1744, 'cooling': 1023, 'vent': 4461, 'freezing': 1731, 'dates': 1133, 'dishes': 1304, 'whipped': 4584, 'icing': 2088, 'nondairy': 2804, 'thickness': 4203, 'wattery': 4548, 'whipping': 4585, 'decoration': 1158, 'creaminess': 1067, 'whilst': 4583, 'initially': 2168, 'subsequently': 4019, 'thinning': 4213, 'tins': 4255, 'oversea': 2953, 'thant': 4191, 'typically': 4358, 'depending': 1205, 'kg': 2279, 'mumbai': 2744, 'spoiled': 3907, '15th': 45, 'ill': 2098, 'write': 4655, 'warn': 4521, 'alllllll': 288, 'burner': 687, 'solidified': 3855, 'gr8': 1856, 'bulletproof': 684, 'coffee': 892, 'bpc': 623, 'batch': 489, 'solidify': 3856, 'indirectly': 2144, 'potential': 3153, 'adulteration': 240, 'dynamic': 1385, 'lost': 2462, 'perpose': 3060, 'tin': 4252, 'adulterated': 239, 'moneyworst': 2701, 'refinedpruduct': 3415, 'sild': 3772, 'fantastic': 1586, 'fond': 1687, 'nutramul': 2838, 'hersheys': 1999, 'syrup': 4103, 'bournvita': 617, 'horlicks': 2047, 'test': 4174, 'nutrition': 2842, 'dha': 1241, 'effectiveness': 1413, 'malt': 2524, 'win': 4601, 'children': 820, 'appear': 361, 'hyped': 2083, 'advertisement': 247, 'boiled': 596, 'mark': 2545, 'curd': 1088, 'boil': 595, 'warm': 4519, 'boiling': 597, 'drawback': 1352, 'convenient': 1015, 'assured': 410, '10ltrs': 18, 'pouch': 3154, 'thicker': 4202, 'seem': 3663, 'tetra': 4177, 'recycled': 3401, 'environment': 1465, 'friendly': 1746, 'pouches': 3155, 'coloured': 906, 'likely': 2397, 'soya': 3882, 'tells': 4162, 'sticks': 3966, 'walls': 4511, 'sign': 3768, 'powdered': 3159, 'occasionally': 2856, 'sheer': 3724, 'curdled': 1089, 'adequate': 234, 'precaution': 3173, 'spoils': 3908, 'refrigeration': 3420, 'stored': 3982, 'careless': 743, 'vehicle': 4459, 'weather': 4556, 'bound': 616, 'adverse': 244, 'spoilt': 3909, 'perhaps': 3055, 'transported': 4311, 'sunlight': 4054, 'straight': 3984, '50value': 147, 'vanaspati': 4441, 'heating': 1977, 'patangali': 3013, 'leter': 2372, 'correct': 1030, 'waight': 4503, 'iight': 2097, 'deshi': 1216, 'availed': 435, 'fmcg': 1680, 'qr': 3314, 'varifies': 4452, 'prodct': 3232, '08': 6, 'nutritional': 2843, 'trans': 4306, 'description': 1212, 'indicates': 2138, 'shamefully': 3715, 'deceiving': 1150, 'require': 3487, 'hi': 2003, 'amazed': 307, 'assume': 405, 'indigenously': 2143, 'habitual': 1912, 'costly': 1036, 'hike': 2015, 'assure': 409, 'pale': 2974, 'shelf': 3726, 'litre': 2426, 'span': 3887, 'dec': 1147, '2017': 83, 'passed': 3005, 'parcel': 2993, 'mixed': 2671, 'hate': 1955, 'earning': 1390, 'positively': 3145, 'dosent': 1344, 'vanaspathi': 4440, 'frusturated': 1754, 'faceburn': 1550, 'bcoz': 500, 'dressing': 1356, 'juz': 2264, 'ppl': 3164, 'vlogs': 4497, 'softens': 3846, 'remedy': 3454, 'treatment': 4319, 'prdct': 3170, 'connecting': 976, 'facilitated': 1555, 'dispatch': 1314, 'bestpatanjali': 537, 'baba': 458, 'ram': 3345, 'dev': 1233, 'consuming': 995, 'rice': 3529, 'hulls': 2066, 'seriously': 3693, 'ashwagandha': 396, 'fastest': 1591, 'amla': 315, 'hibiscus': 2004, 'ineffective': 2148, 'controlling': 1011, 'excessively': 1505, 'tons': 4279, 'sunflower': 4052, 'embedded': 1434, 'damaging': 1117, 'compulsary': 957, 'conditioner': 966, 'bharat': 547, 'wonderful': 4619, 'perfumed': 3053, 'wat': 4538, 'clearly': 869, 'confusing': 973, 'undoubtedly': 4378, 'cows': 1059, 'tetrapak': 4178, 'molk': 2694, 'comparable': 923, 'toned': 4276, 'fats': 1596, 'surpirsingly': 4079, 'patanajali': 3012, 'dalda': 1113, 'refined': 3414, 'jharana': 2249, 'conclusion': 964, 'patanjalii': 3015, 'gravity': 1871, 'crazy': 1065, 'yellow': 4669, 'additives': 231, 'preparing': 3188, 'purity': 3301, 'nightmare': 2791, 'increasing': 2129, 'discontinued': 1292, 'unable': 4365, 'queen': 3326, 'overnight': 2949, 'moisturizes': 2692, 'intrusive': 2205, 'naturally': 2761, 'replenishment': 3477, 'especially': 1475, 'improve': 2114, 'cap': 725, 'sharp': 3721, 'hurt': 2071, 'operated': 2910, 'habitually': 1913, 'inverted': 2207, 'conjunction': 974, 'opens': 2908, 'jerk': 2246, 'throwing': 4230, 'wasting': 4537, 'messing': 2617, 'invert': 2206, 'learnt': 2355, 'messes': 2616, 'suffer': 4026, 'infections': 2150, 'gelit': 1773, 'pimplesgood': 3089, 'skincan': 3799, 'primer': 3216, 'winter': 4605, 'miracle': 2656, 'peeps': 3040, 'ph': 3068, 'mrng': 2733, 'supple': 4063, '140rs': 36, 'donno': 1337, 'alot': 299, 'discount': 1294, 'various': 4453, 'creams': 1068, 'gels': 1774, 'pine': 3092, 'matters': 2571, 'blindly': 578, 'bugs': 678, 'spiders': 3901, 'vinegar': 4478, 'clothes': 877, 'dilute': 1265, 'disinfecting': 1310, 'handles': 1932, 'smartphone': 3820, 'damp': 1121, 'cloth': 876, 'stronger': 4000, 'applications': 367, 'disinfectant': 1307, 'divide': 1327, 'liters': 2425, 'holder': 2028, 'thru': 4232, 'goods': 1849, 'doors': 1341, 'mobbing': 2677, 'floors': 1671, 'shaving': 3722, 'purposes': 3304, 'foul': 1712, 'certainly': 775, 'killing': 2289, 'germs': 1789, 'discounted': 1295, 'variants': 4447, 'civilisation': 849, 'end': 1440, 'remaining': 3450, 'survivors': 4085, 'fought': 1711, 'famed': 1580, 'manners': 2532, 'covered': 1052, 'world': 4633, 'handful': 1929, 'satiate': 3597, 'man': 2527, 'self': 3671, 'truely': 4333, 'healers': 1965, 'sick': 3765, 'seek': 3661, 'ire': 2212, 'hoarders': 2026, 'answer': 337, 'grew': 1881, 'sydney': 4100, 'alleged': 283, 'disinfectants': 1308, 'markets': 2551, 'expanded': 1514, 'floor': 1670, 'tiny': 4257, 'mix': 2670, 'lizzol': 2430, 'cleaner': 858, 'liquids': 2412, 'tiles': 4245, 'laundry': 2339, 'covid': 1056, 'pandemic': 2980, 'bell': 526, 'surfaces': 4077, 'multi': 2740, 'virus': 4481, 'scentless': 3627, 'sanitizer': 3594, 'human': 2067, 'contact': 997, 'vanished': 4442, 'moved': 2728, 'lots': 2466, 'attempt': 419, 'equally': 1467, 'felling': 1614, 'pleased': 3114, 'advertised': 246, 'substances': 4020, 'honestly': 2037, 'saw': 3611, 'invisible': 2208, 'dissapointed': 1320, '10thickness': 19, 'plenty': 3117, 'question': 3328, 'rinsing': 3542, 'mopping': 2712, 'aid': 270, 'thik': 4205, 'pandamic': 2979, '315': 120, 'printing': 3221, '347': 123, 'slow': 3813, 'hats': 1957, '151': 43, 'member': 2603, 'sooner': 3870, 'stuffedit': 4009, 'rubbish': 3564, 'smelled': 3823, 'phenylrealised': 3071, 'malpractice': 2523, 'adultery': 241, 'dilutated': 1264, 'watery': 4547, 'ke': 2269, 'viscous': 4484, 'student': 4005, 'kinda': 2292, 'deak': 1141, 'looting': 2457, 'defining': 1171, 'brokenand': 656, 'refilled': 3412, 'noticeably': 2819, 'faint': 1569, 'picky': 3079, 'peeling': 3039, 'givin': 1814, 'someone': 3861, 'awful': 448, 'dustbin': 1379, '1500ml': 40, 'upset': 4409, 'saying': 3613, '188rs': 59, 'freshener': 1736, 'disinfected': 1309, 'scented': 3626, 'washroom': 4532, 'kills': 2290, 'freshners': 1741, 'irritating': 2218, 'flu': 1677, 'tough': 4298, 'caught': 759, 'evaporates': 1483, 'toilets': 4271, 'alcohol': 280, '57': 149, 'whereas': 4579, '72': 166, 'listing': 2420, 'viruses': 4482, 'ideally': 2092, 'os': 2938, 'unsealed': 4397, 'nozzle': 2832, 'raises': 3344, 'sell': 3672, 'sprayer': 3918, 'purchases': 3297, 'hooded': 2039, 'perfumes': 3054, 'savlon': 3610, 'covid19': 1057, 'respiratory': 3503, 'suffocates': 4029, 'guidelines': 1902, 'remain': 3448, 'inhale': 2166, 'breathing': 639, 'suggest': 4034, 'pleasent': 3115, 'eliminating': 1431, 'causing': 763, 'bedroom': 519, 'mattress': 2572, 'hygienic': 2080, 'surface': 4076, 'noting': 2825, 'weak': 4552, 'widely': 4595, 'inspite': 2180, '62': 158, 'fitted': 1650, 'chg': 816, 'cetrimide': 777, 'efficacy': 1415, 'hul': 2065, 'burn': 686, 'wound': 4642, 'ways': 4551, 'bucket': 672, 'extreme': 1539, 'versatile': 4466, 'aids': 271, 'chlorhexidine': 827, 'gluconate': 1826, 'equivalent': 1468, 'duo': 1372, 'chloroxylenol': 829, 'sting': 3970, 'multipurpose': 2743, 'compete': 933, 'https': 2060, 'www': 4662, 'dp': 1351, 'b08cl5p72j': 456, 'aqurate': 382, 'manufacture': 2535, 'modern': 2683, 'everywhere': 1495, 'gave': 1771, 'turns': 4351, 'stain': 3930, 'peachy': 3033, 'tint': 4256, 'nappy': 2757, 'happening': 1942, 'share': 3719, 'dress': 1355, 'pattern': 3023, 'tricked': 4325, 'packaging2': 2961, 'delivery3': 1191, 'product4': 3237, 'beutiful': 541, 'presentation': 3192, 'via': 4470, 'subscribing': 4018, '195': 66, '165': 48, 'gst': 1895, 'substract': 4021, 'promotion': 3258, '185': 58, 'antibacterial': 341, 'refreshed': 3417, 'sops': 3875, 'kiling': 2286, 'handwashing': 1937, 'beneficial': 529, 'hidradenitis': 2005, 'sol': 3853, 'linger': 2406, 'definetly': 1170, 'germ': 1788, 'sended': 3678, 'coverfirst': 1053, 'bites': 561, 'cheat': 803, 'manufacuturer': 2540, 'depandant': 1204, 'odors': 2865, 'quire': 3333, 'essentials': 1479, 'frangrance': 1724, 'hygeine': 2078, 'plys': 3123, 'compromised': 955, 'overpriced': 2951, 'launch': 2337, 'menthol': 2606, 'quaternary': 3324, 'ammonium': 318, 'chloride': 828, 'compounds': 953, 'potent': 3152, 'bleach': 570, 'glad': 1816, 'introduced': 2204, 'concentrates': 960, 'formulation': 1708, 'alternative': 303, 'amway': 324, 'pursue': 3305, 'involve': 2209, 'hassle': 1953, 'dealing': 1145, 'pushy': 3308, 'salesperson': 3585, 'pre': 3172, 'residues': 3496, 'wisely': 4612, 'indiscriminately': 2145, 'overuse': 2954, 'microorganisms': 2629, 'resistance': 3498, 'wipe': 4607, 'razor': 3364, 'detail': 1223, 'detergent': 1227, 'pain': 2970, 'ass': 403, 'hygiene': 2079, 'tey': 4182, 'essence': 1476, 'stays': 3951, 'secluded': 3649, 'essense': 1477, 'seldomly': 3668, 'usages': 4419, 'orignal': 2935, 'innovative': 2173, 'minty': 2653, 'tingling': 4254, 'sensation': 3679, 'reckitt': 3394, 'benckiser': 528, 'deserves': 1215, 'complaining': 939, 'comparing': 928, 'apples': 364, 'oranges': 2921, 'ideal': 2091, 'baths': 496, 'imparting': 2107, 'aside': 397, 'version': 4467, 'capfull': 728, 'freshest': 1740, 'marketi': 2548, '79': 174, 'tfm': 4183, 'stands': 3936, '29th': 106, 'september': 3689, 'th': 4184, 'october': 2862, 'suited': 4041, 'deodorant': 1202, 'extraordinary': 1538, 'ratingsfor': 3360, 'vfm': 4469, 'hesitate': 2001, 'school': 3628, '2018': 84, 'nine': 2793, 'business': 690, 'doctors': 1332, 'nivea': 2795, 'flagship': 1654, 'beaten': 507, 'determined': 1229, 'differences': 1253, 'pears': 3036, 'fooling': 1691, 'lowest': 2482, 'info': 2157, 'subscribe': 4017, 'startfm': 3944, 'determines': 1230, 'comfortable': 913, 'nominal': 2802, 'dermatologic': 1208, 'ally': 292, 'allergies': 285, 'yeah': 4665, 'park': 2997, 'avenue': 436, 'deoderising': 1201, 'tcc': 4142, 'brightening': 645, 'suuuuuuuper': 4086, 'realy': 3379, 'cintol': 846, 'fress': 1743, 'catch': 756, 'kit': 2294, 'heee': 1982, 'deo': 1200, 'de': 1139, 'freshening': 1738, 'amongst': 321, 'confidence': 969, 'avg': 438, 'scale': 3615, 'fragnace': 1718, '2years': 112, 'nd': 2765, 'refresh': 3416, 'varieties': 4450, 'eyebrows': 1542, 'pefume': 3041, 'gidrej': 1798, 'trustable': 4336, 'powdery': 3161, 'overpowering': 2950, 'modest': 2684, 'slipperiness': 3810, 'dove': 1349, 'winner': 4603, 'chunky': 842, 'gimmicks': 1805, 'anyhow': 348, 'unpacked': 4394, 'surprising': 4082, 'capability': 726, 'smelling': 3824, 'lingers': 2408, 'besides': 535, 'somewhat': 3865, 'larger': 2322, 'regularly': 3433, 'charcoal': 794, 'btw': 669, 'drier': 1358, 'equal': 1466, 'usa': 4417, 'ivory': 2238, 'holiday': 2033, 'inn': 2169, 'hotels': 2053, 'peak': 3034, 'struck': 4001, 'mean': 2579, 'ago': 267, 'underrated': 4372, 'signature': 3769, 'bland': 566, 'saver': 3605, 'trusty': 4339, 'composition': 951, 'bring': 649, 'alternatives': 304, 'experiencing': 1523, 'prickly': 3212, 'bearing': 505, 'males': 2519, 'medicinal': 2589, 'symptoms': 4101, 'suggesting': 4035, 'anybody': 347, 'older': 2889, 'television': 4159, 'transparent': 4308, 'shade': 3711, 'fraud': 1728, 'total': 4293, 'fluxes': 1679, 'separate': 3686, 'melted': 2599, 'chest': 814, 'region': 3427, 'trouble': 4330, 'pcs': 3030, 'soapbut': 3836, 'shop1': 3744, 'verry': 4465, 'broad': 652, 'biscuit': 557, 'combo': 909, '100grm': 11, 'biskits': 559, 'biscuits': 558, 'handling': 1933, 'transport': 4309, '16': 46, 'portal': 3141, 'mart': 2554, 'joke': 2254, 'grandparents': 1867, 'dust': 1378, 'major': 2512, 'demerit': 1194, 'engine': 1446, 'filter': 1630, 'category': 758, 'mostly': 2718, 'quit': 3334, 'generation': 1779, 'understanding': 4374, 'ting': 4253, 'ti': 4239, 'heft': 1983, 'bin': 553, 'bothered': 609, 'redundant': 3410, 'crushed': 1079, 'throw': 4228, 'dusts': 1380, 'unhappy': 4384, 'kachha': 2266, 'maida': 2506, 'uncooked': 4370, 'wheat': 4575, 'flour': 1672, 'vita': 4490, 'marie': 2544, 'soil': 3851, 'eatable': 1399, 'companion': 921, 'fiber': 1620, 'relief': 3444, 'constipation': 988, 'prior': 3222, 'choices': 833, 'ailments': 272, 'medications': 2588, 'productand': 3238, 'safely': 3578, 'totly': 4295, 'buiscuit': 682, 'ust': 4428, 'pay120': 3025, '320': 121, 'shiping': 3733, 'shing': 3731, 'aplicable': 357, 'toty': 4296, 'unsatisfied': 4395, 'accompaniment': 205, 'evening': 1485, 'teasty': 4153, 'rocks': 3548, 'resist': 3497, 'practically': 3166, 'grown': 1893, 'coated': 885, 'delight': 1183, 'fails': 1568, 'mast': 2561, 'hain': 1915, 'boss': 607, 'digest': 1259, 'steax': 3957, 'vitariche': 4494, 'gloss': 1820, 'streax': 3992, 'vitagloss': 4491, 'suggests': 4038, 'cs': 1082, 'bank': 480, 'account': 207, 'rep': 3465, 'aniket': 330, 'supervisor': 4062, 'krishna': 2306, 'unhelpful': 4385, 'sense': 3680, 'telling': 4161, 'dd': 1138, 'repeating': 3470, 'serums': 3695, 'upper': 4408, 'obviously': 2853, 'finding': 1634, 'popup': 3139, 'toooo': 4282, 'quatity': 3325, 'aply': 358, 'al': 276, 'fr': 1715, 'straighten': 3985, 'effort': 1419, 'tame': 4123, 'chemically': 811, 'straightened': 3986, 'dab': 1104, 'medium': 2591, 'detangling': 1226, 'nutty': 2844, 'leaking': 2352, 'originality': 2933, 'nature': 2762, 'cases': 753, 'protecting': 3270, 'sixth': 3793, 'forced': 1693, 'drop': 1364, 'comment': 916, 'wax': 4549, 'blow': 589, 'silky': 3774, 'discovered': 1297, 'spills': 3904, 'whatsoever': 4574, 'ans': 336, 'hait': 1923, 'dnt': 1330, 'gloves': 1823, 'remains': 3451, 'aweek': 445, 'chamical': 783, 'noyce': 2831, 'dye': 1383, 'theor': 4197, 'nocely': 2798, 'women': 4617, 'shoukder': 3750, 'sachets': 3575, 'req': 3483, 'exipy': 1510, 'pf': 3066, '2022': 87, 'wow': 4644, 'unscented': 4396, 'reality': 3376, 'spinning': 3905, 'headache': 1963, 'descriptions': 1213, 'frizi': 1748, 'tangled': 4128, '630': 159, '440': 133, 'fancied': 1584, 'highlighted': 2010, 'parlor': 2998, 'salon': 3586, 'living': 2429, 'middle': 2631, 'class': 853, 'highlighter': 2011, 'surfing': 4078, 'highlights': 2013, 'lightens': 2388, 'henna': 1994, 'mehendi': 2595, 'nourish': 2826, 'girl': 1808, 'shoulder': 3751, 'highlight': 2009, 'spending': 3898, 'girls': 1809, 'dullness': 1371, 'smoothed': 3828, 'tigress': 4244, 'salons': 3587, 'colout': 907, 'highlighting': 2012, 'bleached': 571, 'blond': 584, 'developer': 1236, 'desired': 1222, 'orangish': 2922, 'storbing': 3980, 'britt': 651, 'wherever': 4580, 'gloved': 1822, 'damge': 1118, 'takecare': 4114, 'spa': 3883, 'mts': 2735, 'direction': 1271, 'leaflet': 2347, 'blonder': 586, 'funky': 1764, 'blonde': 585, 'semi': 3676, 'cappucino': 729, 'disaster': 1283, 'mess': 2614, 'frantically': 1727, 'scarfs': 3622, 'andhats': 328, 'final': 1631, 'reddish': 3403, 'ultralights': 4363, 'vibrant': 4472, 'ranging': 3350, 'options': 2918, 'thy': 4238, 'menu': 2610, 'gurl': 1907, 'dyes': 1384, 'normally': 2810, 'show': 3752, 'lie': 2377, 'pray': 3169, 'lords': 2458, 'bless': 576, 'priced': 3206, 'tubr': 4346, 'flaws': 1668, 'advice': 249, 'criticism': 1075, 'hued': 2063, 'permanenti': 3058, 'disliked': 1313, 'longetivity': 2444, 'ratio': 3361, '450': 135, 'undertones': 4377, 'include': 2120, '2weeks': 111, 'showup': 3760, 'allow': 289, 'insufficient': 2190, 'rightly': 3536, 'colors': 904, 'example': 1497, 'garnier': 1769, 'shmpoo': 3737, 'ir': 2211, 'tempered': 4164, 'bleaching': 572, 'softer': 3847, 'manic': 2531, 'panic': 2983, 'fade': 1561, 'monthl': 2706, 'electric': 1426, 'itit': 2233, 'showering': 3755, 'cuticle': 1100, 'bleed': 573, 'neck': 2770, 'lifting': 2384, 'gems': 1776, 'collection': 897, 'recipe': 3391, 'thrice': 4225, 'drctly': 1354, 'burning': 688, 'print': 3219, 'erased': 1469, 'intentionally': 2196, 'fack': 1557, 'westeg': 4569, 'bakwas': 474, 'jab': 2240, 'mere': 2612, 'pass': 3003, 'aya': 454, 'ho': 2025, 'chuka': 841, 'tha': 4185, 'sath': 3596, 'kyu': 2310, 'khel': 2281, 'rahe': 3342, 'quanity': 3319, 'genuinely': 1786, 'strange': 3987, 'himalaya': 2016, 'productplease': 3245, 'rash': 3351, 'blame': 565, 'whoch': 4588, 'inform': 2158, 'third': 4214, 'differs': 1256, 'himalayas': 2018, 'johnson': 2253, 'exception': 1501, 'calming': 715, 'contaminated': 1003, 'appointing': 372, 'omron': 2894, 'thermometer': 4200, 'eliminates': 1430, 'worries': 4635, 'mercury': 2611, 'hazards': 1961, 'oral': 2919, 'rectal': 3400, 'underarm': 4371, 'measurement': 2583, 'celcius': 768, 'fahrenheit': 1565, 'increment': 2131, 'completed': 945, 'approximately': 380, '127rs': 30, 'ammonia': 317, 'guyz': 1910, 'dangerous': 1124, 'swelled': 4094, 'article': 394, '100ml': 12, 'damn': 1120, 'neem': 2775, 'aloevera': 297, 'charm': 799, 'receive': 3384, 'loads': 2431, 'compliments': 949, 'herbals': 1996, 'divine': 1328, 'blessed': 577, '6th': 164, 'aug': 425, 'noticing': 2821, 'patches': 3017, 'hydrate': 2075, 'poorly': 3138, 'necessarily': 2768, 'mmm': 2675, 'againfinal': 259, 'agree': 268, 'random': 3348, '200ml': 80, 'removed': 3461, 'outlet': 2945, 'generous': 1781, 'plops': 3119, 'pea': 3031, '400ml': 130, 'spill': 3902, 'lying': 2490, 'squeeze': 3925, 'runny': 3569, 'squeezing': 3926, 'knows': 2304, 'hai': 1914, 'thumsup': 4236, 'positives': 3146, '03': 3, 'reactions': 3369, 'crying': 1080, 'retail': 3514, 'holding': 2029, 'shampoos': 3717, 'scalps': 3617, 'irritated': 2217, 'peculiar': 3037, 'cosmetics': 1032, 'astonishing': 411, 'thr': 4222, 'abck': 191, 'itching': 2227, 'moms': 2698, 'nothingsuits': 2816, 'soits': 3852, 'rely': 3447, 'curly': 1092, 'recovering': 3399, 'cg': 778, 'disclose': 1287, 'ingredient': 2164, 'methylchloroisothiazolinone': 2623, 'toxic': 4300, 'consumers': 994, 'send': 3677, 'adults': 242, 'decreasing': 1159, '1time': 72, 'horribly': 2049, 'explain': 1527, 'reverted': 3523, 'rub': 3563, 'palms': 2976, 'create': 1070, 'weighted': 4563, 'rebuilds': 3383, 'greesy': 1879, 'duplicates': 1374, 'lightweight': 2394, 'desert': 1214, '67': 162, 'seals': 3643, 'laminated': 2316, 'tad': 4107, 'meant': 2582, 'winning': 4604, 'easier': 1395, 'singlehandedly': 3783, 'squirming': 3928, 'wriggling': 4648, '9th': 185, 'nowadays': 2829, 'messy': 2618, 'eligible': 1429, 'sucks': 4023, 'asking': 400, 'trash': 4313, 'tear': 4148, 'irritant': 2216, 'babycare': 461, 'formulated': 1707, 'restore': 3509, 'almond': 294, 'olive': 2892, 'luster': 2489, 'mallow': 2522, 'soothes': 3873, 'actives': 221, 'allergy': 286, 'urgently': 4413, '59700545': 151, 'jul': 2261, 'lodge': 2439, 'legal': 2364, '2015': 81, 'internet': 2199, 'himalayan': 2017, 'basket': 488, 'included': 2121, 'massage': 2559, '200g': 78, 'grams': 1865, 'diaper': 1245, 'pc': 3028, 'wipes': 4608, '125g': 29, '2pcs': 110, '200': 76, 'bathgentle': 493, 'handlecompletely': 1930, 'august': 426, 'descripted': 1211, 'cute': 1099, '570': 150, '9itemsin': 184, 'mf': 2624, '06': 4, '2019': 85, 'lests': 2370, 'talk': 4121, 'pros1': 3268, 'convenient2': 1016, 'one3': 2896, 'necessary': 2769, 'things4': 4209, 'handling5': 1934, 'qualityso': 3318, 'souch': 3877, 'worthy': 4640, 'giftingif': 1802, 'spilled': 3903, 'wrappers': 4647, 'teared': 4149, 'costed': 1034, '735rs': 168, 'calculating': 709, '1025rs': 14, 'credibilty': 1072, 'complain': 938, 'refunded': 3424, 'solved': 3859, 'malish': 2520, 'termaric': 4168, 'gently': 1784, 'cousin': 1050, 'forms': 1705, 'protective': 3272, 'reminds': 3458, 'recived': 3393, 'abt': 199, 'plactoc': 3105, 'application': 366, 'attachment': 416, 'instantly': 2185, 'nonsticky': 2806, 'sulphate': 4045, 'competitive': 935, 'sleep': 3803, 'asks': 401, 'fancy': 1585, 'thts': 4234, 'bcs': 501, 'series': 3691, 'hyderabad': 2074, 'olay': 2887, 'ponds': 3136, 'lotus': 2468, 'maybelline': 2576, 'lakme': 2315, 'aging': 265, 'bases': 485, 'harm': 1948, 'wrinkle': 4649, 'predicament': 3176, 'magically': 2500, 'softness': 3848, 'skeptical': 3797, 'rose': 3553, 'min': 2642, '165rs': 49, 'ageing': 263, 'pathes': 3019, 'youthful': 4677, 'miracles': 2657, 'expression': 1531, 'makeup': 2516, 'teas': 4151, 'adrak': 237, 'pudina': 3285, 'pinch': 3091, 'cardamon': 735, 'separately': 3687, 'tiring': 4259, 'addicted': 227, 'society': 3841, 'locally': 2433, 'allowed': 290, 'prepare': 3186, 'mesmerizing': 2613, 'speaking': 3890, 'yearsalways': 4668, 'degraded': 1175, 'amlagmation': 316, 'chaipatti': 782, 'dettered': 1231, 'qiality': 3312, 'exceed': 1498, 'wagh': 4502, 'bakri': 473, 'brookebond': 658, 'taj': 4111, 'maharsthra': 2503, 'chai': 779, 'maa': 2492, 'beti': 539, '1kg': 69, 'knew': 2299, 'standpoint': 3935, 'adding': 228, 'drinkers': 1361, 'faithful': 1573, 'leaf': 2346, 'brewed': 642, 'henceforth': 1993, 'whichever': 4582, '400': 129, 'ctc': 1083, 'granules': 1869, 'margin': 2543, 'sub': 4016, 'bopsm': 605, 'yo': 4675, 'discounts': 1296, 'offered': 2871, 'conditions': 968, 'discolored': 1289, 'bangalore': 479, 'avaialble': 432, 'decoction': 1156, 'conditioning': 967, 'gm': 1829, 'jar': 2243, 'jan': 2242, 'visited': 4487, 'relative': 3437, 'dubai': 1369, 'cinnamon': 844, 'cardamom': 734, 'ginger': 1807, 'flovors': 1674, 'disgusting': 1302, 'exported': 1528, 'abroad': 193, 'accept': 200, 'dought': 1348, 'contents': 1005, 'outdated': 2942, 'ruins': 3565, 'iy': 2239, 'aint': 273, 'orth': 2937, '130': 32, 'masla': 2557, 'aromic': 386, 'brew': 641, 'release': 3442, 'sipper': 3784, 'lumps': 2488, 'spicy': 3900, 'spices': 3899, 'cup': 1085, 'lazy': 2343, 'rigmarole': 3537, 'lifesaver': 2381, 'optionally': 2917, 'richer': 3531, 'microwave': 2630, 'heaped': 1972, 'premix': 3183, 'voila': 4498, 'utensils': 4432, 'convenience': 1014, 'measuring': 2585, 'girnar': 1810, 'travellers': 4315, 'proportion': 3266, 'instructed': 2187, 'sweets': 4093, 'discarded': 1285, 'imagine': 2103, 'hated': 1956, 'tsp': 4342, 'premixed': 3184, 'massala': 2560, 'orded': 2923, 'doubts': 1347, 'busy': 691, 'routines': 3558, 'teaoutstanding': 4147, 'mixing': 2672, 'spoon': 3910, 'wholesale': 4591, 'moneyi': 2700, 'grass': 1870, 'uselees': 4423, 'teadont': 4145, 'salty': 3588, 'deteriorated': 1228, 'grain': 1862, 'drinking': 1362, 'assumed': 406, 'disspointed': 1324, 'frangance': 1723, 'kerala': 2274, 'flowery': 1676, 'falsely': 1579, 'grounds': 1890, 'grains': 1863, 'moving': 2731, 'forward': 1710, 'flavous': 1666, 'punch': 3293, 'spectrum': 3896, 'reacher': 3366, 'mahal': 2502, 'hardcore': 1946, 'futile': 1765, 'cardimon': 738, 'costs': 1037, '230': 95, '634': 160, 'whoever': 4589, 'cardammom': 733, 'giner': 1806, 'quotes': 3337, 'rcm': 3365, 'sells': 3675, '355': 124, 'mall': 2521, '385': 126, 'blend': 575, 'kadak': 2267, 'ketchup': 2275, 'sir': 3785, 'productsloosing': 3247, 'faith': 1572, 'liquor': 2414, '500gm': 143, 'expectation': 1516, 'alas': 279, 'arnd': 384, '190': 65, 'tricky': 4326, 'preferences': 3179, 'profiles': 3251, 'accustomed': 210, 'often': 2877, 'reacts': 3370, 'pleasing': 3116, 'tee': 4156, 'bakhri': 472, 'wider': 4597, 'agni': 266, 'robust': 3547, 'bolder': 599, 'cuppa': 1087, 'latest': 2333, 'mfgit': 2626, 'toothe': 4285, 'griviance': 1884, 'fellows': 1615, 'decision': 1154, 'ps': 3282, 'elaichi': 1422, 'honey': 2038, 'hit': 2020, 'motivate': 2721, '182': 57, '216': 90, 'qon': 3313, 'tests': 4176, 'batter': 497, 'reasons': 3382, 'controversial': 1013, 'advertising': 248, 'kumbh': 2308, 'mela': 2596, 'abandon': 190, 'thse': 4233, 'mncs': 2676, 'mock': 2679, 'tolerated': 4273, 'dabur': 1105, 'appropriate': 378, 'behavior': 522, 'hesitation': 2002, 'spoons': 3911, 'slight': 3807, 'tasteless': 4134, 'hype': 2082, 'assuming': 407, 'flame': 1656, 'paid': 2969, '365': 125, 'tajmahal': 4112, 'avilable': 439, '325': 122, 'staroverall': 3938, 'remark': 3452, 'finely': 1636, 'coarsed': 883, 'zip': 4684, 'seven': 3707, 'plzzz': 3125, 'aware': 442, '310': 119, 'unaware': 4367, 'printed': 3220, 'efficient': 1417, 'serving': 3701, 'enhancement': 1450, 'resulted': 3511, 'enhanced': 1449, 'concentrated': 959, 'milder': 2634, 'preparation': 3185, 'seekers': 3662, 'workable': 4627, 'visual': 4488, 'ergonomic': 1470, 'principles': 3218, 'consideration': 981, 'designing': 1220, 'smarter': 3819, 'visually': 4489, 'appealing': 360, '24x7': 99, 'whenver': 4578, 'brooke': 657, 'bond': 601, 'relishes': 3445, 'itthe': 2235, 'preserving': 3194, 'goodit': 1845, 'leafs': 2348, 'itmust': 2234, 'assam': 404, 'simmer': 3778, 'hooked': 2040, 'tremendously': 4322, 'shift': 3728, 'vibes': 4471, 'expects': 1520, 'regulary': 3434, 'replaceable': 3472, 'relatives': 3439, 'superlative': 4061, 'meet': 2593, 'pkt': 3099, 'tight': 4243, 'lose': 2459, 'lightning': 2392, '490': 137, 'beware': 543, '26july': 103, 'tastelessi': 4135, 'retailers': 3515, 'likenaa': 2398, 'khata': 2280, 'na': 2750, 'metha': 2621, 'namkeen': 2754, 'trip': 4328, 'postponed': 3151, 'monthly': 2707, 'savings': 3608, '499': 138, 'vedaka': 4454, 'flovour': 1675, 'hassles': 1954, 'durgapur': 1377, 'rana': 3347, 'pratap': 3168, 'road': 3546, 'west': 4568, 'bengal': 532, 'darjeeling': 1125, 'flavourful': 1665, '170': 52, '220': 93, '200it': 79, 'gram': 1864, 'parceled': 2994, 'poly': 3135, 'exceptional': 1502, 'negatives': 2777, 'falls': 1577, 'pushing': 3307, 'waterproofing': 4546, 'flipkart': 1669, 'showroom': 3758, 'courier': 1047, 'matt': 2569, 'lil': 2401, 'fasttrack': 1593, 'serial': 3690, 'stickers': 3965, 'matching': 2566, 'logo': 2440, 'productbuy': 3240, 'clodtail': 872, 'ive': 2237, 'comfort': 912, 'dipressed': 1269, 'buc': 671, 'stucks': 4003, 'walking': 4507, 'hitting': 2022, 'fastrack': 1592, 'shaking': 3713, 'shopkeeper': 3745, 'confirmed': 971, 'matched': 2565, 'variation': 4448, 'contacted': 998, '30days': 116, 'reordered': 3463, 'goutham': 1853, 'kittu': 2296, 'awsm': 450, 'ugly': 4360, 'rven': 3572, 'peoly': 3043, 'becouse': 516, 'priduct': 3214, 'anymore': 349, 'toooooo': 4283, 'choooooo': 836, 'chweeeeet': 843, '1020rs': 13, 'dail': 1110, 'grace': 1858, 'request': 3484, 'selecting': 3670, 'gf': 1794, 'thankzz': 4190, 'owesome': 2955, 'centre': 773, 'waterproof': 4545, 'penny': 3042, 'killer': 2288, '1499': 37, 'buygood': 701, 'butworst': 697, 'center': 772, 'defects': 1169, 'teenager': 4157, 'approx': 379, 'loosing': 2456, 'sexy': 3710, 'smart': 3818, 'gray': 1873, 'notification': 2822, 'sms': 3830, 'music': 2746, 'controller': 1010, 'unit': 4387, 'horizontal': 2046, 'perpendicular': 3059, 'view': 4475, 'portions': 3143, 'tracker': 4303, 'updates': 4404, 'lately': 2331, 'step': 3961, 'updating': 4405, 'wristbands': 4652, 'performance': 3050, 'functionalities': 1761, 'distance': 1326, 'calorie': 716, 'whatsapp': 4573, 'texts': 4180, 'notifications': 2823, 'connected': 975, 'performs': 3051, 'differently': 1255, 'android': 329, 'smartphones': 3821, 'sensors': 3684, 'tracks': 4305, 'nearly': 2767, 'nuce': 2834, 'ran': 3346, 'anywhere': 354, 'insight': 2179, 'appreciated': 375, 'lean': 2354, 'unisex': 4386, 'oled': 2891, 'heartrate': 1975, 'sensor4': 3683, 'productcons': 3241, 'silence': 3773, 'mute': 2748, 'incoming': 2124, 'fashionable': 1588, 'advised': 250, 'economy': 1404, 'jammed': 2241, 'mai': 2504, 'delivr': 1193, 'kiya': 2297, 'hu': 2061, 'mujhe': 2738, 'samjh': 3589, 'nhi': 2785, 'rha': 3528, 'ki': 2282, 'ye': 4664, 'ka': 2265, 'kya': 2309, 'esliye': 1474, 'pllzz': 3118, 'orignl': 2936, '9044228734': 179, 'stylist': 4015, '125': 27, 'ground': 1889, 'grey': 1882, 'pitcher': 3095, 'entirly': 1464, 'track': 4302, 'pricethanks': 3208, 'definitly': 1173, 'graduate': 1860, 'interview': 2201, 'scenarios': 3624, 'impress': 2110, 'guy': 1908, 'expactation': 1513, 'cloud': 879, 'tail': 4110, 'assurance': 408, 'soo': 3868, 'dis': 1275, 'complains': 940, 'dat': 1129, 'usuing': 4431, 'warrany': 4525, 'internal': 2198, 'wheels': 4576, 'outrside': 2946, 'resistant': 3499, '50m': 144, 'ft': 1755, 'deep': 1161, 'polish': 3132, 'entered': 1461, 'vapour': 4444, 'blocks': 583, '962': 182, 'grand': 1866, 'amazonplease': 312, 'productthis': 3248, 'watchthe': 4543, 'goodone': 1848, 'comparetively': 927, 'awsome': 451, 'smoothly': 3829, 'unfortunently': 4383, 'untill': 4398, 'trendy': 4323, 'attire': 421, 'informals': 2159, 'handed': 1928, 'operating2': 2911, 'amoled': 319, 'daylight': 1136, 'audio': 424, 'integrated': 2192, 'exciting': 1508, 'goodindian': 1844, 'brandconsthe': 627, 'software': 3849, 'bug': 677, 'fixes': 1653, 'completes': 947, 'sensor': 3682, 'feeding': 1609, 'data': 1130, 'firmware': 1644, 'sudden': 4024, 'connection': 977, 'sedentary': 3656, 'reminder': 3456, 'vibrating': 4473, 'reminding': 3457, 'workout': 4630, 'monitor': 2702, 'tracking': 4304, 'frequent': 1734, 'impairing': 2106, 'discrepancy': 1298, 'interface': 2197, 'possibly': 3148, 'fitband': 1648, '10calories': 16, 'counts': 1045, 'kore': 2305, 'talc': 4118, 'clicked': 871, 'existing': 1511, 'compares': 926, 'vis': 4483, 'talcpros': 4119, 'wood': 4622, 'powder2': 3158, 'allows': 291, 'forces': 1694, 'holes': 2032, 'judge': 2256, 'hologram': 2034, 'sticker': 3964, 'somehow': 3860, 'twist': 4353, 'shutting': 3763, 'bottle7': 612, 'spotted': 3914, 'economic': 1402, 'compromise': 954, 'delicately': 1181, 'forever': 1698, 'finer': 1637, 'gms': 1830, 'misleading': 2662, 'offering': 2872, 'diff': 1251, 'sizes': 3796, 'talcum': 4120, 'shock': 3738, '28': 105, 'fraudulent': 1729, 'inserted': 2175, 'party': 3002, 'toiletry': 4270, 'terrific': 4171, 'pinkish': 3094, 'yellowish': 4670, 'govt': 1854, 'genuineness': 1787, 'stains': 3931, 'powders': 3160, 'stucky': 4004, 'mony': 2710, 'leaving': 2361, 'seperate': 3688, 'orderizer': 2928, 'soaping': 3837, 'property': 3265, 'gimic': 1803, 'multinational': 2741, 'refreshes': 3418, 'buts': 692, 'darkening': 1127, 'inappropriate': 2119, 'platforn': 3110, 'shocker': 3740, 'lark': 2323, 'warts': 4527, 'chin': 823, 'pulling': 3288, 'scrubbing': 3640, 'reluctant': 3446, 'counter': 1042, 'wart': 4526, 'pharma': 3069, 'warnings': 4522, 'clay': 856, 'covering': 1054, 'coat': 884, 'patient': 3021, 'whatever': 4572, 'constant': 987, 'affect': 254, 'adversely': 245, 'paints': 2973, 'precautions': 3175, 'std': 3952, 'gym': 1911, 'milling': 2641, 'eyelids': 1543, 'chance': 785, 'ingesting': 2163, 'disclaimers': 1286, 'dislike': 1312, 'fregrence': 1733, 'worthless': 4639, 'fragerance': 1717, 'varient': 4449, 'improving': 2118, 'complexion': 948, 'jasmine': 2244, 'typeone': 4356, 'oldest': 2890, 'lifeboy': 2379, 'moti': 2720, 'eyewash': 1545, 'satisfy': 3601, 'disease': 1300, 'court': 1049, 'pan': 2978, 'ahead': 269, 'miles': 2636, 'scandal': 3620, 'awesone': 447, 'crumble': 1077, 'snd': 3833, 'occassion': 2858, 'marketlooking': 2550, 'tje': 4262, 'expwrience': 1532, 'ghe': 1796, 'offcourse': 2869, 'soaprelative': 3838, 'shy': 3764, 'admit': 236, 'late': 2330, 'hav': 1958, 'producthppe': 3242, 'land': 2318, 'lead': 2344, 'millennium': 2640, 'nutregena': 2839, 'forest': 1697, 'resealed': 3489, 'tape': 4131, 'flakes': 1655, 'parfum': 2996, 'pointed': 3128, 'couldnt': 1040, 'currently': 1095, 'batches': 490, 'miss': 2665, 'itapart': 2223, 'weirdly': 4564, 'dishthe': 1305, 'amazingclass': 309, 'broght': 653, 'agarbatti': 260, 'agarbattis': 261, 'fired': 1642, 'infringed': 2162, 'fragrant': 1722, 'replaceadd': 3473, 'tex': 4179, 'relatively': 3438, 'humid': 2068}\n",
      "['00', '01', '02', '03', '06', '07', '08', '09', '10', '100', '1000', '100grm', '100ml', '1020rs', '1025rs', '109', '10calories', '10days', '10ltrs', '10thickness', '11', '110', '119', '12', '120', '120rs', '1234', '125', '1256', '125g', '127rs', '13', '130', '1300', '14', '140', '140rs', '1499', '15', '1500', '1500ml', '150gm', '150gms', '151', '153', '15th', '16', '160', '165', '165rs', '168', '16k', '170', '171310', '173', '175rs', '18', '182', '185', '188rs', '18best', '18exp', '18i', '18made', '19', '190', '195', '199', '1995', '1kg', '1month', '1st', '1time', '1whole', '1yr', '20', '200', '20000', '200g', '200it', '200ml', '2015', '2016', '2017', '2018', '2019', '2020', '2022', '21', '210', '216', '21600', '22', '220', '23', '230', '2395', '23march', '24', '24x7', '25', '250', '2500rs', '26july', '27', '28', '29th', '2k', '2months', '2nd', '2pcs', '2weeks', '2years', '30', '300', '3000', '30days', '30ml', '31', '310', '315', '320', '325', '347', '355', '365', '385', '3daz', '3rd', '400', '400ml', '40min', '4200', '440', '45', '450', '45day', '490', '499', '4good', '4yo', '50', '500', '500gm', '50m', '50ml', '50s', '50value', '55', '57', '570', '59700545', '5delivery', '5fragrance', '5mins', '5overall', '5soap', '60', '62', '630', '634', '650', '67', '68', '6th', '70', '72', '73', '735rs', '75', '750', '750ml', '751019', '76', '79', '80', '80s', '89', '90', '9044228734', '90s', '96', '962', '99', '9itemsin', '9th', 'a1', 'aa', 'aam', 'aamras', 'abandon', 'abck', 'able', 'abroad', 'absence', 'absolute', 'absolutely', 'absorbed', 'absorbing', 'abt', 'accept', 'accepted', 'access', 'accessibility', 'accompanied', 'accompaniment', 'according', 'account', 'accounts', 'accurate', 'accustomed', 'acetate', 'acid', 'acidic', 'acne', 'acnei', 'acnes', 'across', 'action', 'actions', 'active', 'actives', 'actual', 'actually', 'ad', 'add', 'added', 'addicted', 'adding', 'addition', 'additional', 'additives', 'address', 'adds', 'adequate', 'adjust', 'admit', 'adrak', 'adult', 'adulterated', 'adulteration', 'adultery', 'adults', 'advantage', 'adverse', 'adversely', 'advertised', 'advertisement', 'advertising', 'advice', 'advised', 'aer', 'aermatic', 'affair', 'affect', 'affordability', 'affordable', 'aftermarket', 'afterwards', 'againfinal', 'agarbatti', 'agarbattis', 'age', 'ageing', 'ages', 'aging', 'agni', 'ago', 'agree', 'ahead', 'aid', 'aids', 'ailments', 'aint', 'air', 'airwick', 'al', 'alarm', 'alarming', 'alas', 'alcohol', 'align', 'alkaline', 'alleged', 'allergic', 'allergies', 'allergy', 'alli', 'alllllll', 'allow', 'allowed', 'allows', 'ally', 'almera', 'almond', 'almost', 'aloe', 'aloevera', 'along', 'alot', 'alphonso', 'already', 'also', 'alternative', 'alternatives', 'although', 'always', 'amazed', 'amazing', 'amazingclass', 'amazingly', 'amazon', 'amazonplease', 'ambrosial', 'amd', 'amla', 'amlagmation', 'ammonia', 'ammonium', 'amoled', 'among', 'amongst', 'amount', 'amul', 'amway', 'analog', 'analog9', 'ancient', 'andhats', 'android', 'aniket', 'animals', 'anniversary', 'annoyed', 'annoying', 'another', 'ans', 'answer', 'answering', 'ant', 'anti', 'antibacterial', 'antidepressant', 'antioxidant', 'antioxidants', 'antiseptic', 'ants', 'anybody', 'anyhow', 'anymore', 'anyone', 'anything', 'anyway', 'anyways', 'anywhere', 'apart', 'apartment', 'aplicable', 'aply', 'app', 'appealing', 'appear', 'appearance', 'appears', 'apples', 'applicable', 'application', 'applications', 'applied', 'apply', 'applyin', 'applying', 'appointing', 'appointment', 'appreciate', 'appreciated', 'appreciating', 'apprehensively', 'appropriate', 'approx', 'approximately', 'apt', 'aqurate', 'area', 'arnd', 'aroma', 'aromic', 'around', 'arranged', 'arrest', 'arresting', 'arrive', 'arrived', 'arrmatic', 'article', 'artificial', 'ashwagandha', 'aside', 'ask', 'asked', 'asking', 'asks', 'aspect', 'ass', 'assam', 'assume', 'assumed', 'assuming', 'assurance', 'assure', 'assured', 'astonishing', 'ate', 'atleast', 'atta', 'attached', 'attachment', 'attack', 'attacks', 'attempt', 'attempts', 'attire', 'attracted', 'attractive', 'audio', 'aug', 'august', 'authentic', 'authorities', 'auto', 'automatic', 'automatically', 'avaialble', 'availability', 'available', 'availed', 'avenue', 'average', 'avg', 'avilable', 'avoid', 'avoided', 'aware', 'awareness', 'away', 'aweek', 'awesome', 'awesone', 'awful', 'awkward', 'awsm', 'awsome', 'awssm', 'axecutive', 'aya', 'ayurvedic', 'b08cl5p72j', 'b3', 'baba', 'babies', 'baby', 'babycare', 'babys', 'back', 'backlit', 'backside', 'bacteria', 'bad', 'badly', 'bag', 'bags', 'baked', 'bakhri', 'bakri', 'bakwas', 'balance', 'balanced', 'balances', 'band', 'bangalore', 'bank', 'bar', 'bars', 'base', 'based', 'bases', 'basic', 'basically', 'basket', 'batch', 'batches', 'bath', 'bath5', 'bathgentle', 'bathing', 'bathroom', 'baths', 'batter', 'batteries', 'battery', 'bcoz', 'bcs', 'bcz', 'be4', 'beads', 'bearing', 'beat', 'beaten', 'beats', 'beauties', 'beautiful', 'beauty', 'beautyfull', 'became', 'become', 'becomes', 'becouse', 'becoz', 'bed', 'bedroom', 'bee', 'beep', 'behavior', 'behind', 'bein', 'believe', 'bell', 'belt', 'benckiser', 'beneficial', 'benefit', 'benefits', 'bengal', 'bengaluru', 'berry', 'besides', 'best', 'bestpatanjali', 'beta', 'beti', 'better', 'beutiful', 'beverage', 'beware', 'beyond', 'bezel', 'bf', 'bharat', 'bhubaneswar', 'big', 'bigger', 'bill', 'billion', 'bin', 'bio', 'birth', 'birthday', 'biscuit', 'biscuits', 'biskits', 'bit', 'bites', 'bitter', 'bitterresssssssstttt', 'black', 'blame', 'bland', 'blanket', 'blast', 'blaster', 'bleach', 'bleached', 'bleaching', 'bleed', 'blemishes', 'blend', 'bless', 'blessed', 'blindly', 'blinking', 'bliss', 'block', 'blockages', 'blocks', 'blond', 'blonde', 'blonder', 'blood', 'blooming', 'blow', 'blue', 'bnatural', 'boaring', 'boat', 'body', 'boil', 'boiled', 'boiling', 'boils', 'bolder', 'bolts', 'bond', 'bonus', 'book', 'boosts', 'bopsm', 'born', 'boss', 'bot', 'bothered', 'bothering', 'bottle', 'bottle7', 'bottles', 'bottom', 'bought', 'bound', 'bournvita', 'bowl', 'box', 'boxes', 'boy', 'bp', 'bpc', 'bracelet', 'brain', 'brand', 'brandconsthe', 'brands', 'braved', 'bravo', 'bread', 'break', 'breakfast', 'breaking', 'breakout', 'breakouts', 'breaks', 'breath', 'breathing', 'breaths', 'brew', 'brewed', 'brick', 'bright', 'brightening', 'brightens', 'brighter', 'brilliant', 'bring', 'britannia', 'britt', 'broad', 'broght', 'broke', 'broken', 'brokenand', 'brooke', 'brookebond', 'brother', 'brought', 'brown', 'browsing', 'bruises', 'brush', 'brushes', 'brushing', 'brushingif', 'bt', 'btw', 'bubble', 'buc', 'bucket', 'bucks', 'budget', 'buds', 'buffalo', 'bug', 'bugs', 'build', 'buildup', 'built', 'buiscuit', 'bulky', 'bulletproof', 'bundle', 'burn', 'burner', 'burning', 'burns', 'business', 'busy', 'buts', 'butter', 'butterlicious', 'butterly', 'button', 'butworst', 'buy', 'buyer', 'buyers', 'buygood', 'buying', 'buzzer', 'buzzez', 'bye', 'cabinet', 'cacao', 'cake', 'calculating', 'call', 'called', 'calling', 'calls', 'calm', 'calming', 'calorie', 'came', 'cananga', 'cancer', 'candies', 'candy', 'cannot', 'cans', 'cant', 'cap', 'capability', 'capacity', 'capfull', 'cappucino', 'car', 'carcinogenic', 'card', 'cardammom', 'cardamom', 'cardamon', 'cardboard', 'cardiac', 'cardimon', 'cards', 'care', 'careful', 'carefully', 'careless', 'carelessly', 'carmelita', 'carotene', 'carried', 'carrot', 'carry', 'carton', 'cartoon', 'case', 'cases', 'cash', 'casual', 'catch', 'catching', 'category', 'caught', 'cause', 'caused', 'causes', 'causing', 'caution', 'caveat', 'cavity', 'ceiling', 'celcius', 'cell', 'cells', 'cellulite', 'center', 'centre', 'certain', 'certainly', 'cetaphil', 'cetrimide', 'cg', 'chai', 'chain', 'chains', 'chaipatti', 'chamical', 'champs', 'chance', 'change', 'changed', 'changes', 'changing', 'channel', 'channels', 'chapped', 'chaps', 'charcoal', 'charge', 'charged', 'charges', 'charging', 'charm', 'cheap', 'cheaper', 'cheapest', 'cheat', 'cheated', 'cheating', 'check', 'checked', 'cheers', 'cheese', 'chemical', 'chemically', 'chemicals', 'cherry', 'chest', 'chewy', 'chg', 'chicco', 'child', 'childhood', 'children', 'childrenamazon', 'chilled', 'chin', 'china', 'chinese', 'chipped', 'chlorhexidine', 'chloride', 'chloroxylenol', 'chocolate', 'chocolates', 'choice', 'choices', 'cholesterol', 'cholesterols', 'choooooo', 'choose', 'chop', 'chores', 'chose', 'chuka', 'chunky', 'chweeeeet', 'cinnamon', 'cinthol', 'cintol', 'circulation', 'citrus', 'civilisation', 'claim', 'claimed', 'claims', 'class', 'classic', 'classy', 'clay', 'clean', 'cleaner', 'cleaning', 'cleans', 'cleanse', 'cleansed', 'cleanser', 'cleanses', 'cleansing', 'clear', 'clear2', 'clearing', 'clearly', 'click', 'clicked', 'clodtail', 'close', 'closed', 'closing', 'cloth', 'clothes', 'clots', 'cloud', 'cloudtail', 'cloudtailprinted', 'cloudtrail', 'coarsed', 'coat', 'coated', 'cocao', 'coco', 'cocoa', 'coconut', 'cocoyl', 'code', 'coffee', 'coils', 'coke', 'cola', 'cold', 'collection', 'college', 'color', 'color5', 'colored', 'colorful', 'colorfull', 'colors', 'colour', 'coloured', 'colout', 'combination', 'combo', 'come', 'comes', 'comfort', 'comfortable', 'comfortably', 'coming', 'comment', 'comments', 'common', 'commonly', 'companies', 'companion', 'company', 'comparable', 'compare', 'compared', 'compares', 'comparetively', 'comparing', 'comparison', 'compartment', 'compatible', 'compelled', 'compete', 'competition', 'competitive', 'competitor', 'competitors', 'complain', 'complaining', 'complains', 'complaint', 'complaints', 'complection', 'complete', 'completed', 'completely', 'completes', 'complexion', 'compliments', 'components', 'composition', 'compound', 'compounds', 'compromise', 'compromised', 'compromising', 'compulsary', 'con', 'concentrated', 'concentrates', 'concept', 'concern', 'concerned', 'conclusion', 'condition', 'conditioner', 'conditioning', 'conditions', 'confidence', 'confirm', 'confirmed', 'confused', 'confusing', 'conjunction', 'connected', 'connecting', 'connection', 'connoisseur', 'cons', 'consider', 'consideration', 'considered', 'considering', 'consistency', 'consistent', 'consists', 'constant', 'constipation', 'consult', 'consulted', 'consume', 'consumed', 'consumer', 'consumers', 'consuming', 'consumption', 'contact', 'contacted', 'contain', 'container', 'containing', 'contains', 'contaminated', 'content', 'contents', 'continue', 'continued', 'continuously', 'control', 'controller', 'controlling', 'controls', 'controversial', 'convenience', 'convenient', 'convenient2', 'conventional', 'cook', 'cooked', 'cooking', 'cooks', 'cool', 'cooling', 'copied', 'copy', 'core', 'corner', 'corona', 'corp', 'correct', 'cos', 'cosmetics', 'cost', 'costed', 'costlier', 'costly', 'costs', 'costumer', 'could', 'couldnt', 'count', 'counter', 'counterparts', 'country', 'counts', 'couple', 'courier', 'course', 'court', 'cousin', 'cover', 'covered', 'coverfirst', 'covering', 'covers', 'covid', 'covid19', 'cow', 'cows', 'coz', 'cracked', 'cracking', 'crap', 'craplooklike', 'crazy', 'cream', 'creaminess', 'creams', 'creamy', 'create', 'creating', 'credibilty', 'creme', 'critical', 'criticism', 'crown', 'crumble', 'crumpled', 'crushed', 'crying', 'crystallizes', 'cs', 'ctc', 'cube', 'cup', 'cupboard', 'cuppa', 'curd', 'curdled', 'cure', 'curious', 'curly', 'currency', 'current', 'currently', 'customer', 'customers', 'cut', 'cute', 'cuticle', 'cuts', 'cycle', 'cycles', 'dab', 'dabur', 'dad', 'dada', 'daddies', 'dadi', 'dail', 'daily', 'dairy', 'dalda', 'damage', 'damaged', 'damages', 'damaging', 'damge', 'dammit', 'damn', 'damp', 'dandruff', 'danger', 'dangerous', 'darjeeling', 'dark', 'darkening', 'darkness', 'dat', 'data', 'date', 'dated', 'dates', 'daughter', 'day', 'daylight', 'days', 'dd', 'de', 'dead', 'deak', 'deal', 'dealer', 'dealers', 'dealing', 'dear', 'dec', 'decadent', 'decades', 'deceiving', 'decent', 'decide', 'decided', 'decision', 'declined', 'decoction', 'decorate', 'decoration', 'decreasing', 'dedication', 'deep', 'deeply', 'defame', 'default', 'defeats', 'defect', 'defected', 'defective', 'defects', 'definetly', 'defining', 'definitely', 'definitly', 'degradable', 'degraded', 'degree', 'dehydrated', 'delhi', 'delicacies', 'delicate', 'delicately', 'delicious', 'delight', 'delightful', 'deliver', 'delivered', 'deliveries', 'delivering', 'delivers', 'delivery', 'delivery3', 'deliverycooling', 'delivr', 'demerit', 'demo', 'denied', 'dense', 'dent', 'dento', 'deo', 'deoderising', 'deodorant', 'deodorize', 'depandant', 'depending', 'depends', 'dermadew', 'dermatologic', 'describe', 'described', 'descripted', 'description', 'descriptions', 'desert', 'deserves', 'deshi', 'design', 'designed', 'designers', 'designing', 'desire', 'desired', 'detail', 'detailed', 'details', 'detangling', 'detergent', 'deteriorated', 'determined', 'determines', 'dettered', 'dettol', 'dev', 'develop', 'developed', 'developer', 'developers', 'developing', 'development', 'device', 'dha', 'diabetes', 'dial', 'diameter', 'diaper', 'didnt', 'die', 'diebetic', 'died', 'diet', 'diff', 'difference', 'differences', 'different', 'differently', 'differs', 'difficult', 'diffrent', 'digest', 'digit', 'digital', 'digits', 'dilates', 'dilutated', 'dilute', 'diluted', 'dimension', 'diminishing', 'dipressed', 'direct', 'direction', 'directly', 'dirt', 'dirty', 'dis', 'disable', 'disabled', 'disadvantage', 'disappoint', 'disappointed', 'disappointing', 'disappointment', 'disaster', 'discard', 'discarded', 'disclaimers', 'disclose', 'discoloration', 'discolored', 'discomforting', 'discontinue', 'discontinued', 'discontinuing', 'discount', 'discounted', 'discounts', 'discovered', 'discrepancy', 'discription', 'disease', 'diseases', 'disgusting', 'dish', 'dishes', 'dishthe', 'disinfect', 'disinfectant', 'disinfectants', 'disinfected', 'disinfecting', 'disinfection', 'dislike', 'disliked', 'dispatch', 'dispenser', 'display', 'displayed', 'displays', 'dispose', 'dissapointed', 'dissatisfied', 'dissolve', 'dissolves', 'disspointed', 'dissuade', 'distance', 'divide', 'divine', 'diwali', 'dnt', 'doctor', 'doctors', 'documents', 'doesnt', 'domestic', 'done', 'donno', 'donot', 'dont', 'door', 'doors', 'doorstep', 'dose', 'dosent', 'double', 'doubt', 'doubts', 'dought', 'dove', 'downside', 'dp', 'drawback', 'drawer', 'drctly', 'dress', 'dressing', 'dried', 'drier', 'dries', 'drink', 'drinkers', 'drinking', 'drinks', 'drop', 'drops', 'dry', 'drying', 'dryness', 'dubai', 'due', 'dullness', 'duo', 'duplicate', 'duplicates', 'durable', 'duracell', 'durgapur', 'dust', 'dustbin', 'dusts', 'dusty', 'duty', 'dye', 'dyes', 'dynamic', 'eagerly', 'ear', 'earlier', 'early', 'earning', 'earth', 'earthand', 'earthing', 'ease', 'easier', 'easily', 'easy', 'eat', 'eatable', 'eaten', 'eating', 'economic', 'economical', 'economy', 'eczema', 'edit', 'edited', 'editing', 'ee', 'effect', 'effective', 'effectively', 'effectiveness', 'effects', 'efficacy', 'efficiency', 'efficient', 'efficiently', 'effort', 'eight', 'either', 'elaichi', 'elder', 'elders', 'electicity', 'electric', 'elegabt', 'elegant', 'eligible', 'eliminates', 'eliminating', 'else', 'email', 'embedded', 'emergency', 'emphasize', 'emptied', 'empty', 'encourage', 'end', 'ended', 'endorsing', 'ends', 'energizer', 'energy', 'engine', 'english', 'enhance', 'enhanced', 'enhancement', 'enjoy', 'enjoyable', 'enormous', 'enough', 'enriched', 'ensure', 'ensure4', 'ensured', 'ensures', 'enter', 'entered', 'entertained', 'entire', 'entirly', 'environment', 'equal', 'equally', 'equivalent', 'erased', 'ergonomic', 'error', 'eruptions', 'escalate', 'esliye', 'especially', 'essence', 'essense', 'essential', 'essentials', 'establishment', 'estimate', 'etc', 'evaporates', 'even', 'evening', 'evenly', 'eventually', 'ever', 'every', 'everybody', 'everyday', 'everyone', 'everything', 'everytime', 'everywhere', 'exactly', 'example', 'exceed', 'excellent', 'except', 'exception', 'exceptional', 'excess', 'excessive', 'excessively', 'exchange', 'excited', 'exciting', 'executive', 'exipy', 'existing', 'exorbitant', 'expactation', 'expanded', 'expect', 'expectation', 'expectations', 'expected', 'expecting', 'expects', 'expensive', 'experience', 'experiencing', 'expire', 'expired', 'expiry', 'explain', 'exported', 'expose', 'exposure', 'expression', 'expwrience', 'extent', 'extra', 'extract', 'extracted', 'extracts', 'extraordinary', 'extreme', 'extremely', 'eye', 'eyebrows', 'eyelids', 'eyes', 'eyewash', 'fab', 'fabric', 'fabulous', 'face', 'faceburn', 'faced', 'facewash', 'facewashes', 'facilitate', 'facilitated', 'facing', 'fack', 'fact', 'factor', 'factory', 'fade', 'faded', 'fades', 'fading', 'fahrenheit', 'fail', 'failed', 'fails', 'faint', 'fair', 'fairer', 'faith', 'faithful', 'fake', 'fall', 'falling', 'falls', 'false', 'falsely', 'famed', 'family', 'famous', 'fan', 'fancied', 'fancy', 'fantastic', 'far', 'fashionable', 'fast', 'faster', 'fastest', 'fastrack', 'fasttrack', 'fat', 'father', 'fats', 'fatty', 'fault', 'faulty', 'fav', 'favorite', 'favour', 'favourite', 'fear', 'feature', 'features', 'feb', 'feedback', 'feeding', 'feel', 'feeling', 'feels', 'fell', 'felling', 'fellows', 'felt', 'fernandesfood', 'festival', 'festive', 'fiber', 'fifteen', 'fight', 'fighting', 'fights', 'figure', 'figured', 'filed', 'filled', 'film', 'filter', 'final', 'finally', 'find', 'finding', 'fine', 'finely', 'finer', 'finest', 'finish', 'finished', 'finishing', 'fired', 'firm', 'firmware', 'first', 'firstly', 'fit', 'fitband', 'fits', 'fitted', 'five', 'fixed', 'fixes', 'flagship', 'flakes', 'flame', 'flat', 'flavonoids', 'flavor', 'flavored', 'flavorings', 'flavors', 'flavour', 'flavoured', 'flavourful', 'flavous', 'flawlessly', 'flaws', 'flipkart', 'floor', 'floors', 'flour', 'flouride', 'flovors', 'flovour', 'flowery', 'flu', 'fluoride', 'fluxes', 'fmcg', 'foam', 'foaming', 'foamy', 'focus', 'follow', 'followed', 'fond', 'food', 'foods', 'fool', 'fooling', 'force', 'forced', 'forces', 'forehead', 'foreign', 'forest', 'forever', 'forget', 'forgot', 'form', 'formal', 'formals', 'formed', 'forms', 'formula', 'formulated', 'formulation', 'forum', 'forward', 'fought', 'foul', 'found', 'four', 'fr', 'fraction', 'fragerance', 'fragnace', 'fragnance', 'fragrance', 'fragrance3', 'fragrant', 'frangance', 'frangrance', 'frank', 'frankly', 'frantically', 'fraud', 'fraudulent', 'free', 'freezing', 'fregrance', 'fregrence', 'frequent', 'fresh', 'freshener', 'fresheners', 'freshening', 'freshens', 'freshest', 'freshners', 'freshness', 'fress', 'fridge', 'friend', 'friendly', 'friends', 'frizi', 'frizzy', 'front', 'frooti', 'fruit', 'fruits', 'frusturated', 'ft', 'fuel', 'full', 'fully', 'fun', 'function', 'functionalities', 'functionality', 'functioning', 'funky', 'futile', 'future', 'gadget', 'gain', 'garnier', 'gas', 'gave', 'gel', 'gelit', 'gels', 'gem', 'gems', 'general', 'generally', 'generation', 'generations', 'generous', 'genetic', 'gentle', 'gently', 'genuine', 'genuinely', 'genuineness', 'germ', 'germs', 'get', 'getaway', 'gets', 'getting', 'gf', 'gft', 'ghe', 'ghee', 'gidrej', 'gift', 'gifted', 'gifting', 'giftingif', 'gimic', 'gimmick', 'gimmicks', 'giner', 'ginger', 'girl', 'girls', 'girnar', 'give', 'given', 'gives', 'givin', 'giving', 'glad', 'glass', 'global', 'glocondi', 'gloss', 'glossy', 'gloved', 'gloves', 'glow', 'glowing', 'gluconate', 'glycerin', 'glycinate', 'gm', 'gms', 'go', 'goat', 'god', 'godrej', 'goes', 'goid', 'going', 'gold', 'golden', 'goldilock', 'gone', 'good', 'good8', 'goodindian', 'goodit', 'goodness', 'goodnot', 'goodone', 'goods', 'google', 'goood', 'got', 'goutham', 'govt', 'gp', 'gr8', 'grab', 'grace', 'grade', 'graduate', 'graduated', 'grain', 'grains', 'gram', 'grams', 'grand', 'grandparents', 'granular', 'granules', 'grass', 'gravity', 'gravy', 'gray', 'grear', 'greasy', 'great', 'greater', 'green', 'greesy', 'greets', 'grew', 'grey', 'greying', 'griviance', 'grocery', 'groom', 'gross', 'grossest', 'ground', 'grounds', 'group', 'grouse', 'grown', 'growth', 'gst', 'guarantee', 'guava', 'gud', 'guess', 'guessing', 'guests', 'guidelines', 'guilt', 'gulps', 'gum', 'gupta', 'gurl', 'guy', 'guys', 'guyz', 'gym', 'habitual', 'habitually', 'hai', 'hain', 'hair', 'hair6', 'hair7', 'hairfall', 'hairfallafter', 'hairloss', 'hairs', 'hait', 'haldi', 'half', 'hamper', 'hand', 'handed', 'handful', 'handlecompletely', 'handled', 'handles', 'handling', 'handling5', 'hands', 'handwash', 'handwashing', 'handy', 'hang', 'hanging', 'happened', 'happening', 'happens', 'happy', 'hard', 'hardcore', 'hardly', 'harm', 'harmful', 'harsh', 'haryana', 'hasnt', 'hassle', 'hassles', 'hate', 'hated', 'hats', 'hav', 'havn', 'hazard', 'hazards', 'head', 'headache', 'heal', 'healers', 'healing', 'heals', 'health', 'healthier', 'healthiest', 'healthy', 'heaped', 'heard', 'heart', 'heartrate', 'heat', 'heating', 'heaven', 'heavenly', 'heavy', 'heck', 'heee', 'heft', 'hell', 'hello', 'helmet', 'help', 'helped', 'helpful', 'helping', 'helps', 'hence', 'henceforth', 'henna', 'herbal', 'herbals', 'herbs', 'hershey', 'hersheys', 'hesitant', 'hesitate', 'hesitation', 'hi', 'hibiscus', 'hidradenitis', 'high', 'higher', 'highest', 'highlight', 'highlighted', 'highlighter', 'highlighting', 'highlights', 'highly', 'hike', 'himalaya', 'himalayan', 'himalayas', 'hint', 'hit', 'hits', 'hitting', 'hives', 'hmt', 'ho', 'hoarders', 'hold', 'holder', 'holding', 'holds', 'hole', 'holes', 'holiday', 'hologram', 'home', 'honest', 'honestly', 'honey', 'hooded', 'hooked', 'hope', 'hopefully', 'hopeless', 'hopes', 'hoping', 'horizontal', 'horlicks', 'horrible', 'horribly', 'horrified', 'hospital', 'hot', 'hotels', 'hour', 'hours', 'house', 'household', 'however', 'hrs', 'https', 'hu', 'hubby', 'hued', 'huge', 'hul', 'hulls', 'human', 'humid', 'humidity', 'hungry', 'hurt', 'husband', 'hv', 'hyderabad', 'hydrate', 'hydrated', 'hydrates', 'hygeine', 'hygiene', 'hygienic', 'hygienically', 'hype', 'hyped', 'hyperpigmentation', 'hypertension', 'iam', 'ice', 'icing', 'iconic', 'idea', 'ideal', 'ideally', 'idot', 'ignorant', 'ignore', 'ignored', 'iight', 'ill', 'illuminated', 'im', 'image', 'images', 'imagine', 'immediately', 'impact', 'impairing', 'imparting', 'important', 'impossible', 'impress', 'impressed', 'impression', 'impressive', 'improve', 'improved', 'improvement', 'improves', 'improving', 'inappropriate', 'include', 'included', 'includes', 'including', 'incoming', 'inconvenient', 'incorrect', 'increase', 'increased', 'increasing', 'incredible', 'increment', 'indeed', 'indefinite', 'independent', 'india', 'indian', 'indicate', 'indicates', 'indicating', 'indication', 'indications', 'indicator', 'indigenously', 'indirectly', 'indiscriminately', 'individual', 'ine', 'ineffective', 'infact', 'infections', 'infer', 'inferior', 'inflammation', 'inflammatory', 'influencer', 'influencers', 'info', 'inform', 'informals', 'information', 'informed', 'infringed', 'ingesting', 'ingredient', 'ingredients', 'inhale', 'initial', 'initially', 'inn', 'inner', 'innocent', 'innovation', 'innovative', 'insert', 'inserted', 'inserting', 'insi', 'inside', 'insight', 'inspite', 'instagram', 'install', 'installation', 'instant', 'instantly', 'instead', 'instructed', 'instruction', 'instructions', 'insufficient', 'intact', 'integrated', 'intelligence', 'intended', 'intense', 'intentionally', 'interface', 'internal', 'internet', 'intervals', 'interview', 'inthe', 'introduce', 'introduced', 'intrusive', 'invert', 'inverted', 'invisible', 'involve', 'iphone', 'ir', 'ire', 'iron', 'irresistible', 'irrespective', 'irritant', 'irritated', 'irritating', 'irritation', 'irritations', 'issue', 'issues', 'itapart', 'itbecause', 'itch', 'itchiness', 'itching', 'itchy', 'item', 'itemnot', 'items', 'itglasswares', 'itit', 'itmust', 'itthe', 'itz', 'ive', 'ivory', 'iy', 'jab', 'jammed', 'jan', 'jar', 'jasmine', 'jelimals', 'jerk', 'jewellery', 'jewelry', 'jharana', 'ji', 'job', 'jocking', 'johnson', 'joke', 'jokes', 'judge', 'juggad', 'juice', 'juiceboxes', 'juices', 'jul', 'june', 'justify', 'juz', 'ka', 'kachha', 'kadak', 'karnataka', 'ke', 'keep', 'keeping', 'keeps', 'kept', 'kerala', 'ketchup', 'key', 'keypad', 'keys', 'kg', 'khata', 'khel', 'ki', 'kick', 'kid', 'kids', 'kiling', 'kill', 'killer', 'killing', 'kills', 'kind', 'kinda', 'kindly', 'kit', 'kitchen', 'kittu', 'kiya', 'kmf', 'knew', 'knickknacks', 'knots', 'know', 'known', 'knows', 'kore', 'krishna', 'kudos', 'kumbh', 'kya', 'kyu', 'label', 'lack', 'ladher', 'ladies', 'lakme', 'laminated', 'lamps', 'land', 'lapsed', 'laptop', 'large', 'larger', 'lark', 'lashes', 'last', 'lasted', 'lasting', 'lastly', 'lasts', 'late', 'lately', 'later', 'latest', 'lather', 'lathers', 'latter', 'launch', 'launched', 'laundry', 'lavender', 'law', 'layer', 'lazy', 'lead', 'leads', 'leaf', 'leaflet', 'leafs', 'league', 'leakage', 'leaked', 'leaking', 'leaks', 'lean', 'learnt', 'least', 'leather', 'leather8', 'leave', 'leaves', 'leaving', 'led', 'left', 'legal', 'lemon', 'length', 'leptospirotic', 'less', 'lesser', 'lests', 'let', 'leter', 'lets', 'level', 'licorice', 'lid', 'lie', 'life', 'lifeboy', 'lifebuoy', 'lifesaver', 'lifespan', 'lifestyle', 'lifting', 'light', 'lighten', 'lightening', 'lightens', 'lighter', 'lighting', 'lightly', 'lightning', 'lights', 'lightweight', 'like', 'liked', 'likely', 'likenaa', 'likes', 'liking', 'lil', 'lime', 'limited', 'lindt', 'lines', 'linger', 'lingering', 'lingers', 'lining', 'link', 'liquid', 'liquids', 'liquidy', 'liquor', 'liquorice', 'liqurice', 'list', 'listed', 'listening', 'listing', 'lists', 'litchi', 'liter', 'literally', 'liters', 'litre', 'little', 'live', 'living', 'lizzol', 'loads', 'local', 'locally', 'lock', 'lockdown', 'locked', 'locker', 'locking', 'lodge', 'logo', 'lol', 'long', 'longer', 'longetivity', 'longevity', 'loofah', 'look', 'lookdry', 'looked', 'looking', 'looks', 'lookscons', 'lookwise', 'loose', 'loosed', 'loosing', 'looting', 'lords', 'lose', 'losing', 'loss', 'lost', 'lot', 'lot3', 'lotion', 'lots', 'lott', 'lotus', 'loud', 'love', 'loved', 'lovely', 'lovemyself', 'lover', 'lovers', 'loverslots', 'loves', 'loving', 'low', 'lower', 'lowers', 'lowest', 'loyal', 'ltr', 'luck', 'luckily', 'lump', 'lumps', 'luster', 'lying', 'lyk', 'maa', 'maaza', 'machine', 'machinery', 'made', 'maggi', 'maggie', 'magic', 'magically', 'magnificent', 'mahal', 'maharsthra', 'mai', 'maid', 'maida', 'maids', 'mail', 'mainly', 'maintain', 'maintenance', 'major', 'majorly', 'make', 'makes', 'makeup', 'makin', 'making', 'males', 'malish', 'mall', 'mallow', 'malpractice', 'malt', 'mama', 'mamaearth', 'man', 'manage', 'managed', 'mango', 'manic', 'manners', 'manual', 'manually', 'manufacture', 'manufactured', 'manufacturer', 'manufacturers', 'manufacturing', 'manufacuturer', 'many', 'march', 'margin', 'marie', 'mark', 'marked', 'market', 'marketi', 'marketing', 'marketlooking', 'markets', 'marking', 'marks', 'mart', 'masala', 'mask', 'masla', 'mass', 'massage', 'massala', 'mast', 'master', 'masterchef', 'match', 'matched', 'matching', 'material', 'materials', 'matt', 'matter', 'matters', 'mattress', 'maximum', 'may', 'maybe', 'maybelline', 'mcaffeine', 'meal', 'mean', 'meaning', 'means', 'meant', 'measurement', 'measures', 'measuring', 'mechanism', 'medicated', 'medications', 'medicinal', 'medicine', 'medium', 'mee', 'meet', 'meets', 'mehendi', 'mela', 'melanin', 'melt', 'melted', 'melting', 'melts', 'memaearth', 'member', 'members', 'men', 'menthol', 'mention', 'mentioned', 'mentions', 'menu', 'mercury', 'mere', 'mesmerizing', 'mess', 'message', 'messes', 'messing', 'messy', 'messyso', 'metal', 'metha', 'method', 'methylchloroisothiazolinone', 'mf', 'mfg', 'mfgit', 'micronutrients', 'microorganism', 'microorganisms', 'microwave', 'middle', 'might', 'mild', 'milder', 'mildly', 'miles', 'military', 'milk', 'milky', 'millennium', 'milling', 'min', 'mind', 'mine', 'mineral', 'minerals', 'mini', 'minimal', 'minimum', 'minor', 'mins', 'mint', 'minty', 'minute', 'minutes', 'miracle', 'miracles', 'mire', 'mirrors', 'misguided', 'mislead', 'misleading', 'mismatch', 'misplacing', 'miss', 'missing', 'mist', 'mistakes', 'misty', 'mix', 'mixed', 'mixing', 'mixture', 'ml', 'mmm', 'mncs', 'mobbing', 'mobile', 'mock', 'mode', 'model', 'moderate', 'modern', 'modest', 'mohan', 'moisture', 'moisturiser', 'moisturising', 'moisturize', 'moisturized', 'moisturizer', 'moisturizes', 'moisturizing', 'molk', 'mom', 'moment', 'mommies', 'moms', 'money', 'moneyi', 'moneyworst', 'monitor', 'monopoly', 'monsoons', 'month', 'monthl', 'monthly', 'months', 'months1', 'mony', 'mood', 'mopping', 'moreover', 'morning', 'mortar', 'mositurising', 'mositurized', 'mostly', 'mother', 'moti', 'motivate', 'motor', 'mounted', 'mounting', 'mouse', 'mouth', 'move', 'moved', 'movement', 'movementdo', 'moving', 'mri', 'mrng', 'mrp', 'mts', 'much', 'muffle', 'mujhe', 'mulberry', 'multi', 'multinational', 'multiple', 'multipurpose', 'mumbai', 'mumbaiker', 'music', 'must', 'mute', 'mysore', 'na', 'naked', 'name', 'names', 'namkeen', 'nandini', 'nani', 'nappy', 'national', 'native', 'natural', 'naturally', 'nature', 'navarathna', 'nb', 'nd', 'near', 'nearly', 'necessarily', 'necessary', 'neck', 'need', 'needed', 'needles', 'needs', 'neem', 'negative', 'negatives', 'neither', 'nestle', 'never', 'new', 'newborns', 'newly', 'next', 'nhi', 'niacinamide', 'nice', 'nicelight', 'nicely', 'night', 'nightmare', 'nikhil4', 'nine', 'nitric', 'nivea', 'no1', 'nobody', 'nocely', 'noise', 'noisedoor', 'noisyample', 'nominal', 'non', 'nondairy', 'none', 'nonsticky', 'noodle', 'noodles', 'normal', 'normally', 'nose', 'notch', 'note', 'noted', 'nothing', 'nothingsuits', 'notice', 'noticeable', 'noticeably', 'noticed', 'noticing', 'notification', 'notifications', 'notifier', 'noting', 'nourish', 'nourishing', 'november', 'nowadays', 'nowhere', 'noyce', 'nozzle', 'nt', 'nuce', 'number', 'numbers', 'numerous', 'nutramul', 'nutregena', 'nutrient', 'nutrients', 'nutrition', 'nutritional', 'nutty', 'nyc', 'nykaa', 'oatmeal', 'oats', 'object', 'observe', 'observed', 'obsolete', 'obviously', 'occasion', 'occasional', 'occasionally', 'occasions', 'occassion', 'occur', 'occuring', 'oct', 'october', 'odd', 'odonil', 'odors', 'odour', 'odours', 'ofcourse', 'offcourse', 'offer', 'offered', 'offering', 'offers', 'office', 'offices', 'offline', 'often', 'ohk', 'oil', 'oilier', 'oiling', 'oils', 'oily', 'ok', 'okay', 'okbut', 'olay', 'old', 'older', 'oldest', 'oled', 'olive', 'omg', 'omron', 'one', 'one3', 'ones', 'onion', 'online', 'onset', 'onward', 'onwards', 'open', 'open2', 'opened', 'opener', 'opening', 'opens', 'operate', 'operated', 'operating2', 'operation', 'opinion', 'opinions', 'opposite', 'option', 'optionally', 'options', 'oral', 'orange', 'oranges', 'orangish', 'orded', 'order', 'orderd', 'ordered', 'ordering', 'orderizer', 'orders', 'ordinary', 'organic', 'original', 'originality', 'originally', 'orignal', 'orignl', 'orth', 'os', 'others', 'otherwise', 'outcome', 'outdated', 'outer', 'outfits', 'outlet', 'outrside', 'outside', 'overall', 'overnight', 'overpowering', 'overpriced', 'override', 'oversea', 'overuse', 'owesome', 'oxide', 'pack', 'package', 'packaged', 'packaging', 'packaging2', 'packed', 'packet', 'packets', 'packing', 'packpurchased', 'packs', 'pad', 'paid', 'pain', 'paint', 'painted', 'paints', 'pale', 'palmitic', 'palms', 'pampering', 'pan', 'pandamic', 'pandemic', 'paneer', 'panel', 'panic', 'panner', 'pantene', 'pantry', 'papaya', 'paper', 'paperboat', 'par', 'paraben', 'parabens', 'parcel', 'parceled', 'parents', 'parfum', 'park', 'parlor', 'part', 'particular', 'parts', 'party', 'pass', 'passcode', 'passed', 'passport', 'password', 'past', 'paste', 'pastes', 'pasty', 'patanajali', 'patangali', 'patanjali', 'patanjalii', 'patch', 'patches', 'patchouli', 'pathes', 'pathetic', 'patient', 'patients', 'pattern', 'pay', 'pay120', 'payback', 'paying', 'pc', 'pcb', 'pcs', 'pea', 'peace', 'peachy', 'peak', 'peanut', 'pears', 'peculiar', 'peel', 'peeling', 'peeps', 'pefume', 'penny', 'peoly', 'people', 'per', 'percent', 'percentage', 'perfect', 'perfectly', 'performance', 'performs', 'perfume', 'perfumed', 'perfumes', 'perhaps', 'period', 'permanent', 'permanenti', 'perpendicular', 'perpose', 'person', 'personal', 'personally', 'personnel', 'pet', 'pf', 'pg', 'ph', 'pharma', 'phase', 'phenylrealised', 'phone', 'photo', 'photographs', 'photos', 'physical', 'pic', 'picked', 'picky', 'picture', 'pictures', 'piece', 'pieces', 'pigeon', 'pigmentation', 'pillow', 'pimple', 'pimples', 'pimplesgood', 'pin', 'pinch', 'pine', 'pink', 'pinkish', 'pitcher', 'pity', 'pizza', 'pkd', 'pkt', 'place', 'placed', 'placedonly', 'places', 'placing', 'plactoc', 'plan', 'planning', 'plants', 'plastic', 'platforn', 'play', 'pleasant', 'please', 'pleased', 'pleasent', 'pleasing', 'plenty', 'pllzz', 'plops', 'pls', 'plug', 'plus', 'plys', 'plz', 'plzzz', 'pocket', 'point', 'pointed', 'pointers', 'points', 'policy', 'polish', 'polluted', 'pollution', 'poly', 'ponds', 'poor', 'poorly', 'popup', 'portable', 'portal', 'portion', 'portions', 'positive', 'positively', 'positives', 'possible', 'possibly', 'post', 'posted', 'postponed', 'potent', 'potential', 'pouch', 'pouches', 'pour', 'powder', 'powder2', 'powdered', 'powders', 'powdery', 'power', 'powerful', 'ppl', 'practicality', 'practically', 'practice', 'pratap', 'pray', 'prdct', 'prdodct', 'pre', 'precaution', 'precautionary', 'precautions', 'predicament', 'prefer', 'preference', 'preferences', 'preferred', 'premature', 'premium', 'premix', 'premixed', 'preparation', 'prepare', 'prepared', 'preparing', 'presence', 'present', 'presentable', 'presentation', 'preservatives', 'preserving', 'press', 'pressed', 'pressing', 'pressure', 'pretty', 'prevent', 'preventing', 'prevents', 'previous', 'previously', 'price', 'priced', 'prices', 'pricethanks', 'pricey', 'pricier', 'pricing', 'prickly', 'pricy', 'priduct', 'prime', 'primer', 'primitive', 'principles', 'print', 'printed', 'printing', 'prior', 'priority', 'pro', 'probably', 'problem', 'problems', 'process', 'processed', 'processing', 'procuct', 'prodct', 'produce', 'produces', 'product', 'product2', 'product4', 'productand', 'productbut', 'productbuy', 'productcons', 'producthppe', 'producti', 'production', 'productplease', 'products', 'productsloosing', 'productthis', 'professional', 'professor', 'profiles', 'program', 'programming', 'progression', 'promised', 'promote', 'promoting', 'promotion', 'prompt', 'prone', 'proper', 'properly', 'properlyback', 'properties', 'property', 'proportion', 'pros', 'pros1', 'protect', 'protecting', 'protection', 'protective', 'protekt', 'proud', 'proven', 'provide', 'provided', 'providepros', 'provides', 'providing', 'provised', 'ps', 'pshycosis', 'public', 'pudina', 'puffed', 'puja', 'pulling', 'pulp', 'pulps', 'pulpy', 'pump', 'punch', 'pungent', 'purchase', 'purchased', 'purchases', 'purchasing', 'pure', 'purechased', 'purity', 'purple', 'purpose', 'purposes', 'pursue', 'push', 'pushing', 'pushy', 'put', 'putting', 'pwd', 'qiality', 'qon', 'qr', 'qty', 'qualify', 'quality', 'qualityso', 'quanity', 'quantities', 'quantity', 'quarantine', 'quartz', 'quaternary', 'quatity', 'queen', 'queries', 'question', 'questions', 'quick', 'quickly', 'quiet', 'quire', 'quit', 'quite', 'qulaity', 'quotes', 'rack', 'radiance', 'radiant', 'radium', 'rahe', 'raised', 'raises', 'ram', 'ran', 'rana', 'random', 'range', 'ranging', 'rash', 'rashes', 'rat', 'rate', 'rated', 'rates', 'rather', 'rating', 'ratings', 'ratingsfor', 'ratio', 'raw', 'rays', 'razor', 'rcm', 'reacher', 'reaching', 'reaction', 'reactions', 'reacts', 'read', 'reading', 'ready', 'real', 'realised', 'reality', 'realized', 'really', 'realy', 'reason', 'reasonable', 'reasons', 'rebuilds', 'receive', 'received', 'receiving', 'recent', 'recently', 'recieve', 'recieved', 'recipe', 'recipes', 'recived', 'reckitt', 'recommandation', 'recommend', 'recommendation', 'recommended', 'recovering', 'rectal', 'recycled', 'red', 'reddish', 'redensyl', 'reduce', 'reduced', 'reduces', 'reducing', 'reduction', 'redundant', 'refill', 'refilled', 'refills', 'refined', 'refinedpruduct', 'refresh', 'refreshed', 'refreshes', 'refreshing', 'refrigeration', 'refrigerator', 'refrigerators', 'refund', 'refunded', 'regarding', 'regimen', 'region', 'registered', 'regret', 'regretful', 'regretted', 'regular', 'regularly', 'regulary', 'regulate', 'related', 'relative', 'relatively', 'relatives', 'relaxation', 'relaxes', 'release', 'reliable', 'relief', 'relishes', 'reluctant', 'rely', 'remain', 'remained', 'remaining', 'remains', 'remark', 'remedies', 'remedy', 'remember', 'reminder', 'reminding', 'reminds', 'removal', 'remove', 'removed', 'removing', 'reordered', 'reordering', 'rep', 'repair', 'repairing', 'repairs', 'repeated', 'repeating', 'replace', 'replaceable', 'replaceadd', 'replaced', 'replacement', 'replacing', 'replenishment', 'reported', 'reporting', 'representative', 'represented', 'reputation', 'req', 'request', 'requested', 'requesting', 'require', 'required', 'resealed', 'research', 'researched', 'resembles', 'resent', 'reset', 'residue', 'residues', 'resist', 'resistance', 'resistant', 'resolution', 'resolved', 'respectively', 'respiratory', 'response', 'responsibility', 'responsible', 'responsive', 'rest', 'restore', 'result', 'resulted', 'resulting', 'results', 'retail', 'retailers', 'retain', 'retention', 'return', 'returnable', 'returned', 'returning', 'returns', 'reverted', 'review', 'reviewed', 'reviewing', 'reviews', 'rha', 'rice', 'rich', 'richer', 'richness', 'rid', 'ridiculous', 'right', 'rightly', 'rigmarole', 'rings', 'rings2', 'rinse', 'rinses', 'rinsing', 'rip', 'risk', 'risking', 'road', 'robust', 'rocks', 'room', 'roommate', 'roots', 'rosacea', 'rose', 'rough', 'roughly', 'round', 'routine', 'routines', 'royal', 'rs', 'rs480', 'rs495', 'rub', 'rubbish', 'ruins', 'rules', 'run', 'running', 'runny', 'rupee', 'rupees', 'rven', 'sab', 'sachet', 'sachets', 'sad', 'safe', 'safely', 'safer', 'safety', 'said', 'sake', 'sale', 'sales', 'salesperson', 'salon', 'salons', 'salty', 'samjh', 'sandal', 'sandalwood', 'sandwich', 'sanitization', 'sanitizer', 'santoor', 'sath', 'satiate', 'satisfaction', 'satisfie', 'satisfied', 'satisfy', 'satisfying', 'saturated', 'save', 'saver', 'saves', 'saving', 'savings', 'saviour', 'savlon', 'saw', 'say', 'saying', 'says', 'scale', 'scalp', 'scalps', 'scaly', 'scam', 'scandal', 'scared', 'scarfs', 'scars', 'scenarios', 'scent', 'scented', 'scentless', 'school', 'scissors', 'scoop', 'scope', 'scratch', 'scratched', 'scratches', 'screen', 'screw', 'screws', 'scrub', 'scrubber', 'scrubbing', 'seal', 'sealed', 'seals', 'search', 'searching', 'season', 'seasons', 'sebum', 'secluded', 'second', 'secondly', 'seconds', 'secret', 'secure', 'security', 'sedentary', 'see', 'seed', 'seeds', 'seeing', 'seek', 'seekers', 'seem', 'seemed', 'seems', 'seen', 'segment', 'seldomly', 'selected', 'selecting', 'self', 'sell', 'seller', 'selling', 'sells', 'semi', 'send', 'sended', 'sensation', 'sense', 'sensitive', 'sensor', 'sensor4', 'sensors', 'sent', 'separate', 'separately', 'seperate', 'september', 'serial', 'series', 'serious', 'seriously', 'serum', 'serums', 'servants', 'serve', 'serves', 'service', 'services', 'serving', 'sessions', 'set', 'setit', 'sets', 'setting', 'seven', 'several', 'sexual', 'sexy', 'shade', 'shake', 'shaking', 'shall', 'shamefully', 'shampoo', 'shampoos', 'shape', 'share', 'sharing', 'sharp', 'shaving', 'shea', 'sheer', 'sheets', 'shelf', 'shell', 'shift', 'shifted', 'shine', 'shing', 'shiny', 'shiping', 'shipping', 'shirt', 'shld', 'shmpoo', 'shock', 'shocked', 'shocker', 'shocks', 'shoots', 'shop', 'shop1', 'shopkeeper', 'shopping', 'shops', 'short', 'shot', 'shoukder', 'shoulder', 'show', 'showed', 'shower', 'showering', 'showing', 'shown', 'showroom', 'shows', 'showup', 'shush', 'shut', 'shutting', 'shy', 'sick', 'side', 'sides', 'sign', 'signature', 'significant', 'signs', 'sild', 'silence', 'silky', 'silple', 'silver', 'similar', 'simmer', 'simple', 'simply', 'since', 'single', 'singlehandedly', 'sipper', 'sir', 'sister', 'sit', 'site', 'sits', 'sitting', 'situation', 'six', 'sixth', 'size', 'sized', 'sizes', 'skeptical', 'skin', 'skincan', 'skincare', 'skintone', 'sleek', 'sleep', 'slender', 'slice', 'slices', 'slight', 'slightest', 'slightly', 'slipperiness', 'slippery', 'slogan', 'slow', 'slower', 'sls', 'small', 'smaller', 'smart', 'smarter', 'smartphone', 'smartphones', 'smell', 'smelled', 'smelling', 'smells', 'smelly', 'smooth', 'smoothed', 'smoothly', 'sms', 'smudged', 'snack', 'snd', 'soaked', 'soap', 'soapbut', 'soaping', 'soaprelative', 'soaps', 'soapy', 'society', 'sodium', 'soft', 'soften', 'softening', 'softens', 'softer', 'softness', 'software', 'sogood', 'soil', 'soits', 'sol', 'sold', 'solidified', 'solidify', 'solution', 'solutions', 'solved', 'somehow', 'someone', 'something', 'sometime', 'sometimes', 'somewhat', 'somewhere', 'son', 'soo', 'soon', 'sooner', 'sooo', 'soothe', 'soothes', 'soothing', 'sops', 'sort', 'souch', 'sound', 'source', 'sources', 'sourish', 'soya', 'spa', 'space', 'spaces', 'spacious', 'span', 'spanish', 'speak', 'speaking', 'speaks', 'special', 'specially', 'specifications', 'specified', 'spectrum', 'spend', 'spending', 'spices', 'spicy', 'spiders', 'spill', 'spilled', 'spills', 'spinning', 'spit', 'spoiled', 'spoils', 'spoilt', 'spoon', 'spoons', 'spot', 'spots', 'spotted', 'spotty', 'spray', 'sprayed', 'sprayer', 'sprayers', 'spraying', 'sprays', 'spread', 'spreads', 'squeaky', 'squeeze', 'squeezing', 'squeezy', 'squirming', 'stack', 'stain', 'stains', 'stamp', 'standard', 'standards', 'standpoint', 'stands', 'star', 'staroverall', 'stars', 'starspackaging', 'starsthe', 'start', 'started', 'startfm', 'starting', 'starts', 'state', 'states', 'stationary', 'stay', 'stays', 'std', 'steal', 'stealing', 'steals', 'stearic', 'steax', 'steel', 'stellar', 'stench', 'step', 'steps', 'stick', 'sticker', 'stickers', 'sticks', 'sticky', 'still', 'stimulating', 'sting', 'stinking', 'stir', 'stock', 'stomach', 'stop', 'stopped', 'stopping', 'stops', 'storage', 'storbing', 'store', 'stored', 'stores', 'straight', 'straighten', 'straightened', 'strange', 'strangely', 'strap', 'straps', 'strawberry', 'streax', 'strength', 'strengthens', 'stress', 'strip', 'stripped', 'stroke', 'strong', 'stronger', 'struck', 'stuck', 'stucks', 'stucky', 'student', 'students', 'study', 'stuff', 'stuffedit', 'stumbled', 'stunning', 'sturdy', 'style', 'stylish', 'stylist', 'sub', 'subscribe', 'subscribing', 'subsequently', 'substances', 'substract', 'subtle', 'sucks', 'sudden', 'suddenly', 'suffer', 'suffering', 'sufficient', 'suffocates', 'sugar', 'sugarhaving', 'suger', 'sugery', 'suggest', 'suggesting', 'suggestion', 'suggestions', 'suggests', 'suit', 'suitable', 'suited', 'suits', 'suji', 'sulfate', 'sulphate', 'sulphur', 'sum', 'summer', 'summers', 'sun', 'sunday', 'sunflower', 'sunil', 'sunlight', 'super', 'superb', 'superbly', 'superfood', 'superfoods', 'superior', 'superlative', 'supervisor', 'supple', 'supplied', 'supplier', 'supply', 'support', 'supporting', 'supportive', 'supports', 'suppose', 'supposed', 'supposedly', 'sure', 'surely', 'surface', 'surfaces', 'surfing', 'surpirsingly', 'surprise', 'surprised', 'surprising', 'surprisingly', 'survivor', 'survivors', 'suuuuuuuper', 'swallow', 'swallowed', 'sweat', 'sweet', 'sweetner', 'sweetness', 'sweets', 'swelled', 'swellings', 'switch', 'switched', 'switchin', 'switching', 'sydney', 'symptoms', 'sync', 'syrup', 'system', 'tab', 'table', 'tad', 'tag', 'tags', 'tail', 'taj', 'tajmahal', 'take', 'takecare', 'taken', 'takes', 'taking', 'talc', 'talcpros', 'talcum', 'talk', 'talking', 'tame', 'tampered', 'tampering', 'tan', 'tandoori', 'tangled', 'tangy', 'tanning', 'tape', 'taste', 'tasted', 'tasteless', 'tastelessi', 'tastes', 'tasting', 'tasty', 'tasty5', 'tata', 'tatacliq', 'tcc', 'tea', 'teach', 'teadont', 'team', 'teaoutstanding', 'tear', 'teared', 'tears', 'teas', 'teast', 'teasty', 'technician', 'teddy', 'tee', 'teenager', 'teeth', 'television', 'tell', 'telling', 'tells', 'temperature', 'tempered', 'ten', 'tenconclusion', 'tends', 'termaric', 'terms', 'terrible', 'terrific', 'terrorist', 'terrorists', 'test', 'tested', 'tests', 'tetra', 'tetrapak', 'tex', 'texts', 'texture', 'tey', 'tfm', 'th', 'tha', 'thank', 'thankful', 'thankfully', 'thanks', 'thankzz', 'thant', 'thanx', 'thats', 'thee', 'theft', 'them2', 'theor', 'thereby', 'therefore', 'thermometer', 'thick', 'thicker', 'thickness', 'thief', 'thik', 'thin', 'thing', 'things', 'things4', 'think', 'thinking', 'thinner', 'thinning', 'third', 'thn', 'thnx', 'thorough', 'thoroughly', 'though', 'thought', 'thousands', 'thr', 'three', 'threw', 'thrice', 'thrifty', 'throughout', 'throw', 'throwed', 'throwing', 'thrown', 'thru', 'thse', 'thts', 'thumbs', 'thumsup', 'thus', 'thy', 'ti', 'tick', 'ticking', 'tiffin', 'tight', 'tigress', 'tiles', 'till', 'time', 'timely', 'timepiece', 'timer', 'times', 'tin', 'ting', 'tingling', 'tins', 'tint', 'tiny', 'tip', 'tiring', 'titan', 'titen', 'tje', 'tocopherol', 'tocopheryl', 'today', 'toddler', 'toddlers', 'together', 'toilet', 'toiletry', 'toilets', 'told', 'tolerated', 'toli', 'tone', 'toned', 'toneso', 'tongue', 'tons', 'took', 'tooo', 'toooo', 'toooooo', 'tooth', 'toothe', 'toothed', 'toothpaste', 'tooti', 'top', 'torm', 'torn', 'torture', 'total', 'totally', 'totly', 'toty', 'touch', 'tough', 'towards', 'toxic', 'toxin', 'track', 'tracker', 'tracking', 'tracks', 'trans', 'transit', 'transparent', 'transport', 'transportation', 'transported', 'trapped', 'trash', 'travel', 'travellers', 'travelling', 'tray', 'treat', 'treatment', 'treatments', 'tree', 'tremendously', 'trendy', 'trials', 'tricked', 'tricky', 'tried', 'trip', 'tropical', 'trouble', 'troubleshooting', 'true', 'truely', 'truly', 'trust', 'trustable', 'trusted', 'trustworthy', 'trusty', 'try', 'trying', 'tsp', 'tube', 'tuber', 'tubes', 'tubr', 'tune', 'turmeric', 'turn', 'turned', 'turns', 'twice', 'twist', 'two', 'type', 'typeone', 'types', 'typically', 'ubtan', 'ugly', 'ultimate', 'ultimately', 'ultralights', 'um', 'unable', 'unavailable', 'unaware', 'unbearable', 'uncle', 'uncooked', 'underarm', 'underrated', 'understand', 'understanding', 'understands', 'understood', 'undertones', 'undoubtedly', 'unethical', 'uneven', 'unexpected', 'unfortunately', 'unfortunently', 'unhappy', 'unhelpful', 'unisex', 'unit', 'university', 'unless', 'unlike', 'unlock', 'unlocked', 'unnecessarily', 'unpacked', 'unsatisfied', 'unscented', 'unsealed', 'untill', 'unusual', 'unwrap', 'upcoming', 'update', 'updated', 'updates', 'updating', 'upload', 'upon', 'upper', 'upset', 'upto', 'ur', 'urban', 'urgently', 'urine', 'urself', 'us', 'usa', 'usage', 'usages', 'use', 'used', 'useful', 'uselees', 'useless', 'user', 'uses', 'using', 'ust', 'usual', 'usually', 'usuing', 'utensils', 'utterly', 'uv', 'vacuum', 'validity', 'valuable', 'valuables', 'value', 'vanaspathi', 'vanaspati', 'vanished', 'vanishes', 'vapour', 'vara', 'variant', 'variants', 'variation', 'varient', 'varieties', 'variety', 'varifies', 'various', 'vedaka', 'vegan', 'vegetable', 'vegetables', 'vegetarian', 'vehicle', 'velvet', 'vent', 'vera', 'verdict', 'verify', 'verry', 'versatile', 'version', 'vessels', 'vfm', 'via', 'vibes', 'vibrant', 'vibrating', 'videos', 'view', 'viewing', 'views', 'vinegar', 'violet', 'viraj', 'virus', 'viruses', 'vis', 'viscous', 'visible', 'visit', 'visited', 'visual', 'visually', 'vita', 'vitagloss', 'vitamin', 'vitamins', 'vitariche', 'viz', 'vlcc', 'vlogs', 'voila', 'volt', 'volume', 'waah', 'wagh', 'waight', 'wait', 'waiting', 'waking', 'walking', 'wall', 'wallet', 'wallets', 'walls', 'walnut', 'want', 'wanted', 'wants', 'wardrobe', 'wardrobes', 'warehouse', 'warm', 'warmth', 'warn', 'warnings', 'warranty', 'warranty10', 'warrany', 'wart', 'warts', 'wash', 'washed', 'washes', 'washing', 'washroom', 'washrooms', 'wasnt', 'waste', 'wasted', 'wasting', 'wat', 'watch', 'watches', 'watching', 'watchreally', 'watchthe', 'water', 'waterproof', 'waterproofing', 'watery', 'wattery', 'wax', 'way', 'ways', 'weak', 'wealth', 'wear', 'wearing', 'weather', 'website', 'wedding', 'week', 'weeks', 'weight', 'weightbut', 'weighted', 'weirdly', 'well', 'well4', 'went', 'west', 'westeg', 'western', 'wet', 'whatever', 'whatsapp', 'whatsoever', 'wheat', 'wheels', 'whenever', 'whenver', 'whereas', 'wherever', 'whether', 'whichever', 'whilst', 'whipped', 'whipping', 'whit', 'white', 'whoch', 'whoever', 'whole', 'wholesale', 'whose', 'whr', 'wick', 'widely', 'widens', 'wider', 'wierdly', 'wife', 'wil', 'win', 'window', 'winner', 'winning', 'winter', 'winters', 'wipe', 'wipes', 'wire', 'wiring', 'wise', 'wisely', 'wish', 'within', 'without', 'wiyh', 'women', 'wonder', 'wonderful', 'wonders', 'wont', 'wood', 'word', 'words', 'wore', 'work', 'workable', 'worked', 'working', 'workout', 'works', 'workshop', 'world', 'worried', 'worries', 'worse', 'worst', 'worth', 'worthless', 'worthy', 'would', 'wound', 'wounds', 'wow', 'wowww', 'wrapper', 'wrappers', 'wriggling', 'wrinkle', 'wrinkles', 'wrist', 'wristbands', 'wrists', 'wristwatch', 'write', 'writer', 'writing', 'written', 'wrong', 'wrongly', 'wrote', 'www', 'yashtimadhu', 'ye', 'yeah', 'year', 'years', 'yearsalways', 'yellow', 'yellowish', 'yes', 'yesterday', 'yet', 'ylang', 'yo', 'young', 'youthful', 'youtubber', 'youtube', 'yr', 'yummy', 'zanzat', 'zero', 'zip', 'zits', 'zones']\n",
      "  (0, 4671)\t0.15986797009202525\n",
      "  (0, 4476)\t0.21272635238887105\n",
      "  (0, 4335)\t0.14928861341276786\n",
      "  (0, 4235)\t0.16900784642405073\n",
      "  (0, 4207)\t0.1347205207630517\n",
      "  (0, 3650)\t0.14759032074891648\n",
      "  (0, 3235)\t0.17113645473812014\n",
      "  (0, 3044)\t0.11886811468594927\n",
      "  (0, 2898)\t0.17743284373417534\n",
      "  (0, 2879)\t0.3637730517694848\n",
      "  (0, 2541)\t0.12319878343309452\n",
      "  (0, 2526)\t0.2694410415261034\n",
      "  (0, 2479)\t0.13916532343879187\n",
      "  (0, 2302)\t0.12755430473004536\n",
      "  (0, 1925)\t0.14599198711246378\n",
      "  (0, 1916)\t0.10592288948490508\n",
      "  (0, 1842)\t0.17492324575189103\n",
      "  (0, 1837)\t0.13180732086746014\n",
      "  (0, 1690)\t0.19885036940930959\n",
      "  (0, 1645)\t0.10852963943208627\n",
      "  (0, 1628)\t0.1625866206507696\n",
      "  (0, 1521)\t0.15110020690842044\n",
      "  (0, 1454)\t0.2636146417349203\n",
      "  (0, 1097)\t0.15513186344448926\n",
      "  (0, 946)\t0.15304130641835334\n",
      "  :\t:\n",
      "  (2772, 1586)\t1.0\n",
      "  (2773, 4227)\t0.5984975751720292\n",
      "  (2773, 2442)\t0.3407380717125226\n",
      "  (2773, 2327)\t0.45477968037633276\n",
      "  (2773, 1742)\t0.46062197955492346\n",
      "  (2773, 1135)\t0.3266512716438397\n",
      "  (2774, 3835)\t0.45035134373875163\n",
      "  (2774, 3180)\t0.8928514250381756\n",
      "  (2776, 4055)\t0.9355474303772587\n",
      "  (2776, 3235)\t0.3532010836825223\n",
      "  (2777, 4048)\t0.4360900758525805\n",
      "  (2777, 3874)\t0.22942005306858676\n",
      "  (2777, 3835)\t0.13256041419713155\n",
      "  (2777, 3798)\t0.12127354420176055\n",
      "  (2777, 3438)\t0.29469415774027524\n",
      "  (2777, 2708)\t0.3218084465659429\n",
      "  (2777, 2360)\t0.16236579010114074\n",
      "  (2777, 2091)\t0.26280981807887827\n",
      "  (2777, 2068)\t0.29469415774027524\n",
      "  (2777, 2052)\t0.4089197673470232\n",
      "  (2777, 1720)\t0.13324152989756163\n",
      "  (2777, 1366)\t0.16547110698140774\n",
      "  (2777, 1178)\t0.25335270155853634\n",
      "  (2777, 1023)\t0.2458013398552505\n",
      "  (2777, 536)\t0.12359397463523657\n",
      "[[0. 0. 0. ... 0. 0. 0.]\n",
      " [0. 0. 0. ... 0. 0. 0.]\n",
      " [0. 0. 0. ... 0. 0. 0.]\n",
      " ...\n",
      " [0. 0. 0. ... 0. 0. 0.]\n",
      " [0. 0. 0. ... 0. 0. 0.]\n",
      " [0. 0. 0. ... 0. 0. 0.]]\n"
     ]
    },
    {
     "name": "stderr",
     "output_type": "stream",
     "text": [
      "C:\\Users\\Laukit\\anaconda3\\lib\\site-packages\\sklearn\\utils\\deprecation.py:87: FutureWarning: Function get_feature_names is deprecated; get_feature_names is deprecated in 1.0 and will be removed in 1.2. Please use get_feature_names_out instead.\n",
      "  warnings.warn(msg, category=FutureWarning)\n"
     ]
    }
   ],
   "source": [
    "from sklearn.feature_extraction.text import TfidfVectorizer\n",
    "features = TfidfVectorizer()\n",
    "features.fit(reviews_df[\"clean_review_text\"])\n",
    "print(features.vocabulary_)\n",
    "print(features.get_feature_names())\n",
    "TFIDFvec = features.transform(reviews_df[\"clean_review_text\"])\n",
    "print(TFIDFvec)\n",
    "print(TFIDFvec.toarray())"
   ]
  },
  {
   "cell_type": "code",
   "execution_count": 100,
   "metadata": {},
   "outputs": [],
   "source": [
    "from sklearn.model_selection import train_test_split\n",
    "df = pd.concat([positiveReviews_df,negativeReviews_df])\n",
    "df = df[[\"clean_review_text\",\"scoreStatus\"]]\n",
    "df['scoreStatus'] = (df['scoreStatus'] == 'positive')*1\n",
    "X = df[\"clean_review_text\"]\n",
    "y = df[\"scoreStatus\"]\n",
    "X_train, X_test, y_train,y_test = train_test_split(X,y,test_size=0.30,random_state=10)\n",
    "X= features.fit_transform(X)"
   ]
  },
  {
   "cell_type": "code",
   "execution_count": 101,
   "metadata": {},
   "outputs": [],
   "source": [
    "X_train = features.fit_transform(X_train)\n",
    "X_test = features.transform(X_test)"
   ]
  },
  {
   "cell_type": "code",
   "execution_count": 102,
   "metadata": {},
   "outputs": [
    {
     "data": {
      "text/plain": [
       "<1790x4435 sparse matrix of type '<class 'numpy.float64'>'\n",
       "\twith 36194 stored elements in Compressed Sparse Row format>"
      ]
     },
     "execution_count": 102,
     "metadata": {},
     "output_type": "execute_result"
    }
   ],
   "source": [
    "X_train"
   ]
  },
  {
   "cell_type": "code",
   "execution_count": 103,
   "metadata": {},
   "outputs": [
    {
     "data": {
      "text/plain": [
       "<768x4435 sparse matrix of type '<class 'numpy.float64'>'\n",
       "\twith 14694 stored elements in Compressed Sparse Row format>"
      ]
     },
     "execution_count": 103,
     "metadata": {},
     "output_type": "execute_result"
    }
   ],
   "source": [
    "X_test"
   ]
  },
  {
   "cell_type": "code",
   "execution_count": 104,
   "metadata": {},
   "outputs": [
    {
     "data": {
      "text/plain": [
       "(1790, 4435)"
      ]
     },
     "execution_count": 104,
     "metadata": {},
     "output_type": "execute_result"
    }
   ],
   "source": [
    "X_train.shape"
   ]
  },
  {
   "cell_type": "code",
   "execution_count": 105,
   "metadata": {},
   "outputs": [
    {
     "data": {
      "text/plain": [
       "(1790,)"
      ]
     },
     "execution_count": 105,
     "metadata": {},
     "output_type": "execute_result"
    }
   ],
   "source": [
    "y_train.shape"
   ]
  },
  {
   "cell_type": "code",
   "execution_count": 106,
   "metadata": {},
   "outputs": [
    {
     "data": {
      "text/plain": [
       "(768, 4435)"
      ]
     },
     "execution_count": 106,
     "metadata": {},
     "output_type": "execute_result"
    }
   ],
   "source": [
    "X_test.shape"
   ]
  },
  {
   "cell_type": "code",
   "execution_count": 107,
   "metadata": {},
   "outputs": [
    {
     "data": {
      "text/plain": [
       "LogisticRegression()"
      ]
     },
     "execution_count": 107,
     "metadata": {},
     "output_type": "execute_result"
    }
   ],
   "source": [
    "from sklearn.linear_model import LogisticRegression\n",
    "model=LogisticRegression()\n",
    "model.fit(X_train,y_train)"
   ]
  },
  {
   "cell_type": "code",
   "execution_count": 108,
   "metadata": {},
   "outputs": [
    {
     "name": "stdout",
     "output_type": "stream",
     "text": [
      "These are the results \n",
      " [0.9921875  0.984375   1.         1.         1.         0.9765625\n",
      " 1.         1.         0.50980392 0.        ]\n"
     ]
    }
   ],
   "source": [
    "from sklearn.model_selection import KFold\n",
    "from sklearn.model_selection import cross_val_score\n",
    "Folds = KFold(n_splits=10)\n",
    "result = cross_val_score(model,X,y,cv=Folds)\n",
    "print(\"These are the results \\n\",result)"
   ]
  },
  {
   "cell_type": "code",
   "execution_count": 109,
   "metadata": {},
   "outputs": [
    {
     "data": {
      "text/plain": [
       "array([[ 35,  75],\n",
       "       [  0, 658]], dtype=int64)"
      ]
     },
     "execution_count": 109,
     "metadata": {},
     "output_type": "execute_result"
    }
   ],
   "source": [
    "from sklearn.metrics import confusion_matrix , classification_report\n",
    "y_pred = model.predict(X_test)\n",
    "confusion_matrix(y_test,y_pred)"
   ]
  },
  {
   "cell_type": "code",
   "execution_count": 110,
   "metadata": {},
   "outputs": [
    {
     "name": "stdout",
     "output_type": "stream",
     "text": [
      "              precision    recall  f1-score   support\n",
      "\n",
      "           0       1.00      0.32      0.48       110\n",
      "           1       0.90      1.00      0.95       658\n",
      "\n",
      "    accuracy                           0.90       768\n",
      "   macro avg       0.95      0.66      0.71       768\n",
      "weighted avg       0.91      0.90      0.88       768\n",
      "\n"
     ]
    }
   ],
   "source": [
    "print(classification_report(y_test,y_pred))"
   ]
  },
  {
   "cell_type": "code",
   "execution_count": null,
   "metadata": {},
   "outputs": [],
   "source": []
  }
 ],
 "metadata": {
  "kernelspec": {
   "display_name": "Python 3 (ipykernel)",
   "language": "python",
   "name": "python3"
  },
  "language_info": {
   "codemirror_mode": {
    "name": "ipython",
    "version": 3
   },
   "file_extension": ".py",
   "mimetype": "text/x-python",
   "name": "python",
   "nbconvert_exporter": "python",
   "pygments_lexer": "ipython3",
   "version": "3.9.7"
  }
 },
 "nbformat": 4,
 "nbformat_minor": 4
}
