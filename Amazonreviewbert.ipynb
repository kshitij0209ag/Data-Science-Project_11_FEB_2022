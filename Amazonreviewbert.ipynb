{
 "cells": [
  {
   "cell_type": "code",
   "execution_count": 131,
   "id": "42e9f308",
   "metadata": {},
   "outputs": [],
   "source": [
    "import pandas as pd\n",
    "import numpy as np\n",
    "from matplotlib import pyplot as plt"
   ]
  },
  {
   "cell_type": "code",
   "execution_count": 132,
   "id": "c9fc7813",
   "metadata": {},
   "outputs": [
    {
     "data": {
      "text/html": [
       "<div>\n",
       "<style scoped>\n",
       "    .dataframe tbody tr th:only-of-type {\n",
       "        vertical-align: middle;\n",
       "    }\n",
       "\n",
       "    .dataframe tbody tr th {\n",
       "        vertical-align: top;\n",
       "    }\n",
       "\n",
       "    .dataframe thead th {\n",
       "        text-align: right;\n",
       "    }\n",
       "</style>\n",
       "<table border=\"1\" class=\"dataframe\">\n",
       "  <thead>\n",
       "    <tr style=\"text-align: right;\">\n",
       "      <th></th>\n",
       "      <th>asin</th>\n",
       "      <th>name</th>\n",
       "      <th>date</th>\n",
       "      <th>rating</th>\n",
       "      <th>review</th>\n",
       "    </tr>\n",
       "  </thead>\n",
       "  <tbody>\n",
       "    <tr>\n",
       "      <th>0</th>\n",
       "      <td>B07W7CTLD1</td>\n",
       "      <td>Mamaearth-Onion-Growth-Control-Redensyl</td>\n",
       "      <td>2019-09-06</td>\n",
       "      <td>1</td>\n",
       "      <td>I bought this hair oil after viewing so many g...</td>\n",
       "    </tr>\n",
       "    <tr>\n",
       "      <th>1</th>\n",
       "      <td>B07W7CTLD1</td>\n",
       "      <td>Mamaearth-Onion-Growth-Control-Redensyl</td>\n",
       "      <td>2019-08-14</td>\n",
       "      <td>5</td>\n",
       "      <td>Used This Mama Earth Newly Launched Onion Oil ...</td>\n",
       "    </tr>\n",
       "    <tr>\n",
       "      <th>2</th>\n",
       "      <td>B07W7CTLD1</td>\n",
       "      <td>Mamaearth-Onion-Growth-Control-Redensyl</td>\n",
       "      <td>2019-10-19</td>\n",
       "      <td>1</td>\n",
       "      <td>So bad product...My hair falling increase too ...</td>\n",
       "    </tr>\n",
       "    <tr>\n",
       "      <th>3</th>\n",
       "      <td>B07W7CTLD1</td>\n",
       "      <td>Mamaearth-Onion-Growth-Control-Redensyl</td>\n",
       "      <td>2019-09-16</td>\n",
       "      <td>1</td>\n",
       "      <td>Product just smells similar to navarathna hair...</td>\n",
       "    </tr>\n",
       "    <tr>\n",
       "      <th>4</th>\n",
       "      <td>B07W7CTLD1</td>\n",
       "      <td>Mamaearth-Onion-Growth-Control-Redensyl</td>\n",
       "      <td>2019-08-18</td>\n",
       "      <td>5</td>\n",
       "      <td>I have been trying different onion oil for my ...</td>\n",
       "    </tr>\n",
       "  </tbody>\n",
       "</table>\n",
       "</div>"
      ],
      "text/plain": [
       "         asin                                     name        date  rating  \\\n",
       "0  B07W7CTLD1  Mamaearth-Onion-Growth-Control-Redensyl  2019-09-06       1   \n",
       "1  B07W7CTLD1  Mamaearth-Onion-Growth-Control-Redensyl  2019-08-14       5   \n",
       "2  B07W7CTLD1  Mamaearth-Onion-Growth-Control-Redensyl  2019-10-19       1   \n",
       "3  B07W7CTLD1  Mamaearth-Onion-Growth-Control-Redensyl  2019-09-16       1   \n",
       "4  B07W7CTLD1  Mamaearth-Onion-Growth-Control-Redensyl  2019-08-18       5   \n",
       "\n",
       "                                              review  \n",
       "0  I bought this hair oil after viewing so many g...  \n",
       "1  Used This Mama Earth Newly Launched Onion Oil ...  \n",
       "2  So bad product...My hair falling increase too ...  \n",
       "3  Product just smells similar to navarathna hair...  \n",
       "4  I have been trying different onion oil for my ...  "
      ]
     },
     "execution_count": 132,
     "metadata": {},
     "output_type": "execute_result"
    }
   ],
   "source": [
    "# Reading data in the system\n",
    "reviews_df = pd.read_csv('amazon_vfl_reviews.csv')\n",
    "reviews_df.head()"
   ]
  },
  {
   "cell_type": "code",
   "execution_count": 133,
   "id": "c31eeef2",
   "metadata": {},
   "outputs": [
    {
     "data": {
      "text/plain": [
       "asin      0\n",
       "name      0\n",
       "date      0\n",
       "rating    0\n",
       "review    0\n",
       "dtype: int64"
      ]
     },
     "execution_count": 133,
     "metadata": {},
     "output_type": "execute_result"
    }
   ],
   "source": [
    "# the review column, four rows without review text, we drop the rows with the null columns\n",
    "reviews_df = reviews_df.dropna()\n",
    "#resetting the index\n",
    "reviews_df = reviews_df.reset_index(drop=True)\n",
    "# any null columns\n",
    "reviews_df.isnull().sum()"
   ]
  },
  {
   "cell_type": "code",
   "execution_count": 134,
   "id": "ff84ee5c",
   "metadata": {},
   "outputs": [
    {
     "data": {
      "text/plain": [
       "'I am writing this review after using it around 20 days It seems very natural and chemical free and is very gentle on skin But it does its job of cleaning the skin properly It contains tea tree which is one of my favourite ingredients for skin care Give it a try its definitely better than all other chemicals containing face washes And its even affordable as compared to other natural brands available in market '"
      ]
     },
     "execution_count": 134,
     "metadata": {},
     "output_type": "execute_result"
    }
   ],
   "source": [
    "import re\n",
    "# remove all characters not number or characters\n",
    "def cleanText(input_string):\n",
    "    modified_string = re.sub('[^A-Za-z0-9]+', ' ', input_string)\n",
    "    return(modified_string)\n",
    "reviews_df['review'] = reviews_df.review.apply(cleanText)\n",
    "reviews_df['review'][150]"
   ]
  },
  {
   "cell_type": "code",
   "execution_count": 135,
   "id": "fe902df8",
   "metadata": {},
   "outputs": [],
   "source": [
    "reviews_df['brandName'] = reviews_df['name'].str.split('-').str[0]\n"
   ]
  },
  {
   "cell_type": "code",
   "execution_count": 136,
   "id": "e01ad80c",
   "metadata": {},
   "outputs": [
    {
     "data": {
      "text/plain": [
       "array(['Mamaearth', 'Godrej', 'Titan', 'Maaza', 'Paper', 'Indiana',\n",
       "       'Coca', 'Natural', 'Maggi', 'Glucon', 'Amul', 'Patanjali',\n",
       "       'Dettol', 'Savlon', 'Cinthol', 'Britannia', 'Nutrichoice',\n",
       "       'Streax', 'Himalaya', 'Society', 'Tata', 'Fastrack', 'Reflex',\n",
       "       'Mysore'], dtype=object)"
      ]
     },
     "execution_count": 136,
     "metadata": {},
     "output_type": "execute_result"
    }
   ],
   "source": [
    "reviews_df['brandName'] = reviews_df['brandName'].str.title()\n",
    "reviews_df.brandName.unique()"
   ]
  },
  {
   "cell_type": "code",
   "execution_count": 137,
   "id": "d6eca0e3",
   "metadata": {},
   "outputs": [
    {
     "data": {
      "text/plain": [
       "array(['Onion-Growth-Control-Redensyl',\n",
       "       'Percent-Natural-Berry-Toothpaste',\n",
       "       'Natural-Turmeric-Saffron-brightning',\n",
       "       'Illuminate-Vitamin-Radiant-Turmeric',\n",
       "       'Blemishes-Pigmentation-Blemish-Mulberry', 'Face-Wash-100-ml',\n",
       "       'Moisturizing-Baby-Bathing-Oatmeal',\n",
       "       'Protekt-Master-Blaster-Handwash', 'No-1-Bathing-Soap-Lime',\n",
       "       'No-1-Bathing-Soap-Turmeric', 'Direct-Cool-Refrigerator-1905-PTDI',\n",
       "       'aer-Pocket-Bathroom-Fragrance',\n",
       "       'Security-Solutions-SEEC9060-Electronic',\n",
       "       'Matic-Spray-Violet-Valley',\n",
       "       'Security-Solutions-Goldilocks-Personal',\n",
       "       'ViroShield-Disinfecting-VIROSHIELD-30UV',\n",
       "       'Analog-Black-Dial-Watch-1805NM01',\n",
       "       'Analog-White-Dial-Watch-NK1639SL03',\n",
       "       'Karishma-Analog-Blue-Watch-1774SM01',\n",
       "       'Karishma-Analog-Black-Watch-NK1639SM02',\n",
       "       'Octane-Analog-Silver-Watch-NK1650BM03',\n",
       "       'Analog-Black-Dial-Watch-NK1730SL02',\n",
       "       'Karishma-Analog-Champagne-Watch-NK1580YL05',\n",
       "       'Analog-Gold-Dial-Watch-NK1650YM04',\n",
       "       'Karishma-Analog-Black-NK1578SM04', '1-2L',\n",
       "       'Boat-Aamras-Juice-250ml', 'Frutti-Cherries-Frooti-Multicolor',\n",
       "       'Cola-300ml-Pack-6', 'Mango-Juice-1L-Pack', 'Boat-Mixed-Fruit',\n",
       "       'Masala-Noodles-Singles-840g', 'D-Glucose-Based-Beverage-Orange',\n",
       "       'Festive-Delight-Assorted-Jelimals',\n",
       "       'Butter-Pasteurised-100g-Pack', 'Cow-Ghee-500ml',\n",
       "       'Fresh-Paneer-200g', 'Cacao-Chocolate-125g-Pack',\n",
       "       'Cheese-Slices-200g-Pack', 'Fresh-Cream-250ml',\n",
       "       'Pure-Ghee-Pouch-1L', 'Pro-500g-Pouch-Pack',\n",
       "       'Gold-Milk-Homogenised-Standardised', 'Cows-Ghee-1L',\n",
       "       'Aloe-Pimples-Moisturizing-150ml',\n",
       "       'Shatavar-Mushli-Ashwagandha-Churna',\n",
       "       'Kanti-Natural-Cleanser-Shampoo', 'Ayurved-Ltd-CORO-NIL-Tablet',\n",
       "       'UHT-Milk-1000-ml', 'Cows-Ghee-500ml', 'Saundarya-Aloe-Vera-150ml',\n",
       "       'Disinfectant-Multi-Use-Hygiene-Liquid',\n",
       "       'Disinfectant-Cleaner-Home-Fresh', 'Liquid-Refill-Original-1500',\n",
       "       'Multi-Purpose-Disinfectant-Surfaces-Original',\n",
       "       'After-Shave-Lotion-1000', 'Original-Protection-Bathing-125gm',\n",
       "       'Detergent-Liquid-Laundry-Sanitizer-Spring-Blossom',\n",
       "       'Disinfectant-Liquid-Menthol-Cool', 'Lime-Soap-100-Pack',\n",
       "       'Original-Soap-100-Pack', 'Lime-Soap-100g-Pack',\n",
       "       'Original-Soap-100g-Pack', 'Soap-125g-Pack-Free',\n",
       "       'Cool-Soap-100-Pack', 'Confidence-Soap-100g-Pack',\n",
       "       'Cool-Soap-100g-Free', 'NutriChoice-Digestive-100g',\n",
       "       'Good-Day-Cashew-200g', 'Marie-Gold-200g',\n",
       "       'Digestives-grain-Pack-200g', 'Vita-Marie-Gold-150g',\n",
       "       '50-50-Biscuits-Pouch-80g', 'Nice-Time-150g',\n",
       "       'Hair-Serum-Gloss-100ml', 'Shampoo-Enriched-Extracts-Long-Lasting',\n",
       "       'Vitalized-Hair-Serum-300',\n",
       "       'Ultralights-Highlighting-Kit-Collection',\n",
       "       'Shampoo-Colour-Natural-Black-25-ml-Pack',\n",
       "       'Professional-Hold-Funkey-Colour',\n",
       "       'Soft-Hair-Colour-Natural-Black-170', 'Perfumed-Body-Peach-100ml',\n",
       "       '4004G-Baby-Powder-400g', 'Moisturizing-Aloe-Vera-200ml',\n",
       "       'Baby-Shampoo-400-ml', '4003F-Baby-Lotion-400ml', 'Gift-Pack',\n",
       "       'Herbals-Baby-Lotion-400ml', 'Herbals-Anti-Wrinkle-Cream',\n",
       "       'Tea-Regular-250g-Pouch', 'Tea-Regular-Pouch-1kg',\n",
       "       'Tea-Masala-Jar-250g', 'Tea-Minute-Masala-500g',\n",
       "       'Daily-Elachi-Premix-Pouch', 'Tea-Premium-Packet-1000g',\n",
       "       'Tea-Daily-Masala-Premix', 'Tea-Minute-Ginger-Lemongrass',\n",
       "       'Minute-Tea-Masala-500g', 'Tea-Gold-500g', 'Tea-Premium-North-1kg',\n",
       "       'Tea-Gold-1kg', 'Tea-Gold-Leaf-Pouch', 'Tea-Premium-1-5kg',\n",
       "       'Premium-Leaf-South-500g', 'Agni-Leaf-Tea-1kg',\n",
       "       'Casual-Analog-White-Watch-NK3121SM01',\n",
       "       'Analog-Womens-6150SM04-NK6150SM04',\n",
       "       'Casual-Analog-Blue-Watch-NK3124SL02',\n",
       "       'Activity-Tracker-Monitor-SWD90066PP01',\n",
       "       'Economy-2013-Analog-Watch-NK3099SP05',\n",
       "       'Casual-Analog-Grey-Watch-NK3121SL02',\n",
       "       'Casual-Analog-White-Watch-NK3120SL01',\n",
       "       'Analog-Silver-Dial-Watch-NK9332PP06',\n",
       "       'Activity-Tracker-Monitor-SWD90066PP02',\n",
       "       'SANDAL-Mysore-Sandal-Talcum', 'Sandal-Bathing-Soap-125g',\n",
       "       'Sandal-Gold-Soap-Pack', 'Whitening-Rejuvenating-Face-Pack',\n",
       "       'Sandal-Jasmine-Rose-Soap', 'Sandal-Millennium-Soap-150g',\n",
       "       'Sandal-Agarbathies-Pack-Box', 'Sandal-Soaps-Pack-Bars'],\n",
       "      dtype=object)"
      ]
     },
     "execution_count": 137,
     "metadata": {},
     "output_type": "execute_result"
    }
   ],
   "source": [
    "# Extracting the product from the name column\n",
    "products = []\n",
    "for value in reviews_df['name']:\n",
    "    indx = len(value.split('-')[0])+1\n",
    "    products.append(value[indx:])\n",
    "reviews_df['product'] = products\n",
    "reviews_df['product'].unique()"
   ]
  },
  {
   "cell_type": "code",
   "execution_count": 138,
   "id": "3b54eaa0",
   "metadata": {},
   "outputs": [],
   "source": [
    "# import string\n",
    "# import nltk\n",
    "# from nltk.corpus import stopwords\n",
    "# #converting to lower case\n",
    "# reviews_df['clean_review_text']=reviews_df['review'].str.lower()\n",
    "# #removing punctuations\n",
    "# reviews_df['clean_review_text']=reviews_df['clean_review_text'].str.translate(str.maketrans('', '',string.punctuation))\n",
    "# stopWords=stopwords.words('english')+['the', 'a','an', 'i', 'he', 'she', 'they', 'to', 'of', 'it', 'from']\n",
    "# def removeStopWords(stopWords, rvw_txt):\n",
    "#     newtxt = ' '.join([word for word in rvw_txt.split() if word not in stopWords])\n",
    "#     return newtxt\n",
    "# reviews_df['clean_review_text'] = [removeStopWords(stopWords,x) for x in reviews_df['clean_review_text']]"
   ]
  },
  {
   "cell_type": "code",
   "execution_count": 139,
   "id": "68800ba5",
   "metadata": {},
   "outputs": [
    {
     "data": {
      "text/html": [
       "<div>\n",
       "<style scoped>\n",
       "    .dataframe tbody tr th:only-of-type {\n",
       "        vertical-align: middle;\n",
       "    }\n",
       "\n",
       "    .dataframe tbody tr th {\n",
       "        vertical-align: top;\n",
       "    }\n",
       "\n",
       "    .dataframe thead th {\n",
       "        text-align: right;\n",
       "    }\n",
       "</style>\n",
       "<table border=\"1\" class=\"dataframe\">\n",
       "  <thead>\n",
       "    <tr style=\"text-align: right;\">\n",
       "      <th></th>\n",
       "      <th>asin</th>\n",
       "      <th>name</th>\n",
       "      <th>date</th>\n",
       "      <th>rating</th>\n",
       "      <th>review</th>\n",
       "      <th>brandName</th>\n",
       "      <th>product</th>\n",
       "      <th>review_tokens</th>\n",
       "    </tr>\n",
       "  </thead>\n",
       "  <tbody>\n",
       "    <tr>\n",
       "      <th>0</th>\n",
       "      <td>B07W7CTLD1</td>\n",
       "      <td>Mamaearth-Onion-Growth-Control-Redensyl</td>\n",
       "      <td>2019-09-06</td>\n",
       "      <td>1</td>\n",
       "      <td>I bought this hair oil after viewing so many g...</td>\n",
       "      <td>Mamaearth</td>\n",
       "      <td>Onion-Growth-Control-Redensyl</td>\n",
       "      <td>[I, bought, this, hair, oil, after, viewing, s...</td>\n",
       "    </tr>\n",
       "    <tr>\n",
       "      <th>1</th>\n",
       "      <td>B07W7CTLD1</td>\n",
       "      <td>Mamaearth-Onion-Growth-Control-Redensyl</td>\n",
       "      <td>2019-08-14</td>\n",
       "      <td>5</td>\n",
       "      <td>Used This Mama Earth Newly Launched Onion Oil ...</td>\n",
       "      <td>Mamaearth</td>\n",
       "      <td>Onion-Growth-Control-Redensyl</td>\n",
       "      <td>[Used, This, Mama, Earth, Newly, Launched, Oni...</td>\n",
       "    </tr>\n",
       "    <tr>\n",
       "      <th>2</th>\n",
       "      <td>B07W7CTLD1</td>\n",
       "      <td>Mamaearth-Onion-Growth-Control-Redensyl</td>\n",
       "      <td>2019-10-19</td>\n",
       "      <td>1</td>\n",
       "      <td>So bad product My hair falling increase too mu...</td>\n",
       "      <td>Mamaearth</td>\n",
       "      <td>Onion-Growth-Control-Redensyl</td>\n",
       "      <td>[So, bad, product, My, hair, falling, increase...</td>\n",
       "    </tr>\n",
       "    <tr>\n",
       "      <th>3</th>\n",
       "      <td>B07W7CTLD1</td>\n",
       "      <td>Mamaearth-Onion-Growth-Control-Redensyl</td>\n",
       "      <td>2019-09-16</td>\n",
       "      <td>1</td>\n",
       "      <td>Product just smells similar to navarathna hair...</td>\n",
       "      <td>Mamaearth</td>\n",
       "      <td>Onion-Growth-Control-Redensyl</td>\n",
       "      <td>[Product, just, smells, similar, to, navarathn...</td>\n",
       "    </tr>\n",
       "    <tr>\n",
       "      <th>4</th>\n",
       "      <td>B07W7CTLD1</td>\n",
       "      <td>Mamaearth-Onion-Growth-Control-Redensyl</td>\n",
       "      <td>2019-08-18</td>\n",
       "      <td>5</td>\n",
       "      <td>I have been trying different onion oil for my ...</td>\n",
       "      <td>Mamaearth</td>\n",
       "      <td>Onion-Growth-Control-Redensyl</td>\n",
       "      <td>[I, have, been, trying, different, onion, oil,...</td>\n",
       "    </tr>\n",
       "  </tbody>\n",
       "</table>\n",
       "</div>"
      ],
      "text/plain": [
       "         asin                                     name        date  rating  \\\n",
       "0  B07W7CTLD1  Mamaearth-Onion-Growth-Control-Redensyl  2019-09-06       1   \n",
       "1  B07W7CTLD1  Mamaearth-Onion-Growth-Control-Redensyl  2019-08-14       5   \n",
       "2  B07W7CTLD1  Mamaearth-Onion-Growth-Control-Redensyl  2019-10-19       1   \n",
       "3  B07W7CTLD1  Mamaearth-Onion-Growth-Control-Redensyl  2019-09-16       1   \n",
       "4  B07W7CTLD1  Mamaearth-Onion-Growth-Control-Redensyl  2019-08-18       5   \n",
       "\n",
       "                                              review  brandName  \\\n",
       "0  I bought this hair oil after viewing so many g...  Mamaearth   \n",
       "1  Used This Mama Earth Newly Launched Onion Oil ...  Mamaearth   \n",
       "2  So bad product My hair falling increase too mu...  Mamaearth   \n",
       "3  Product just smells similar to navarathna hair...  Mamaearth   \n",
       "4  I have been trying different onion oil for my ...  Mamaearth   \n",
       "\n",
       "                         product  \\\n",
       "0  Onion-Growth-Control-Redensyl   \n",
       "1  Onion-Growth-Control-Redensyl   \n",
       "2  Onion-Growth-Control-Redensyl   \n",
       "3  Onion-Growth-Control-Redensyl   \n",
       "4  Onion-Growth-Control-Redensyl   \n",
       "\n",
       "                                       review_tokens  \n",
       "0  [I, bought, this, hair, oil, after, viewing, s...  \n",
       "1  [Used, This, Mama, Earth, Newly, Launched, Oni...  \n",
       "2  [So, bad, product, My, hair, falling, increase...  \n",
       "3  [Product, just, smells, similar, to, navarathn...  \n",
       "4  [I, have, been, trying, different, onion, oil,...  "
      ]
     },
     "execution_count": 139,
     "metadata": {},
     "output_type": "execute_result"
    }
   ],
   "source": [
    "from nltk.tokenize import word_tokenize\n",
    "#splitting text into words\n",
    "tokenList=[]\n",
    "for indx in range(len(reviews_df)):\n",
    "       token=word_tokenize(reviews_df['review'] [indx])\n",
    "       tokenList.append(token)\n",
    "reviews_df['review_tokens'] = tokenList\n",
    "reviews_df.head()"
   ]
  },
  {
   "cell_type": "code",
   "execution_count": 140,
   "id": "4c264836",
   "metadata": {},
   "outputs": [
    {
     "name": "stderr",
     "output_type": "stream",
     "text": [
      "[nltk_data] Downloading package vader_lexicon to\n",
      "[nltk_data]     C:\\Users\\Laukit\\AppData\\Roaming\\nltk_data...\n",
      "[nltk_data]   Package vader_lexicon is already up-to-date!\n"
     ]
    }
   ],
   "source": [
    "from vaderSentiment.vaderSentiment import SentimentIntensityAnalyzer\n",
    "import nltk\n",
    "nltk.download('vader_lexicon')\n",
    "sentiment_model = SentimentIntensityAnalyzer()\n",
    "sentiment_scores=[]\n",
    "sentiment_score_flag = []\n",
    "for text in reviews_df['review'] :\n",
    "        sentimentResults = sentiment_model.polarity_scores(text)\n",
    "        sentiment_score = sentimentResults[\"compound\"]\n",
    "        #print(sentimentResults)\n",
    "        #The compound value reflects the overall sentiment ranging from -1 being very negative and +1 being very positive.\n",
    "        sentiment_scores.append(sentiment_score)\n",
    "        # marking the sentiments as positive, negative and neutral \n",
    "        if sentimentResults['compound'] >= 0.05 : \n",
    "            sentiment_score_flag.append('positive')\n",
    "  \n",
    "        elif sentimentResults['compound'] <= - 0.05 : \n",
    "            sentiment_score_flag.append('negative')\n",
    "  \n",
    "        else : \n",
    "            sentiment_score_flag.append('neutral')\n",
    "            \n",
    "reviews_df['scores']=sentiment_scores\n",
    "reviews_df['scoreStatus'] = sentiment_score_flag"
   ]
  },
  {
   "cell_type": "code",
   "execution_count": 141,
   "id": "2ba53698",
   "metadata": {},
   "outputs": [],
   "source": [
    "positiveReviews_df =reviews_df.loc[reviews_df['scoreStatus'] == \"positive\"]\n",
    "negativeReviews_df =reviews_df.loc[reviews_df['scoreStatus'] == \"negative\"]"
   ]
  },
  {
   "cell_type": "code",
   "execution_count": 142,
   "id": "339fd247",
   "metadata": {},
   "outputs": [
    {
     "data": {
      "text/html": [
       "<div>\n",
       "<style scoped>\n",
       "    .dataframe tbody tr th:only-of-type {\n",
       "        vertical-align: middle;\n",
       "    }\n",
       "\n",
       "    .dataframe tbody tr th {\n",
       "        vertical-align: top;\n",
       "    }\n",
       "\n",
       "    .dataframe thead th {\n",
       "        text-align: right;\n",
       "    }\n",
       "</style>\n",
       "<table border=\"1\" class=\"dataframe\">\n",
       "  <thead>\n",
       "    <tr style=\"text-align: right;\">\n",
       "      <th></th>\n",
       "      <th>positiveReviews</th>\n",
       "      <th>negativeReviews</th>\n",
       "    </tr>\n",
       "    <tr>\n",
       "      <th>brandName</th>\n",
       "      <th></th>\n",
       "      <th></th>\n",
       "    </tr>\n",
       "  </thead>\n",
       "  <tbody>\n",
       "    <tr>\n",
       "      <th>Amul</th>\n",
       "      <td>126</td>\n",
       "      <td>20.0</td>\n",
       "    </tr>\n",
       "    <tr>\n",
       "      <th>Britannia</th>\n",
       "      <td>84</td>\n",
       "      <td>26.0</td>\n",
       "    </tr>\n",
       "    <tr>\n",
       "      <th>Cinthol</th>\n",
       "      <td>168</td>\n",
       "      <td>20.0</td>\n",
       "    </tr>\n",
       "    <tr>\n",
       "      <th>Coca</th>\n",
       "      <td>16</td>\n",
       "      <td>4.0</td>\n",
       "    </tr>\n",
       "    <tr>\n",
       "      <th>Dettol</th>\n",
       "      <td>140</td>\n",
       "      <td>28.0</td>\n",
       "    </tr>\n",
       "    <tr>\n",
       "      <th>Fastrack</th>\n",
       "      <td>128</td>\n",
       "      <td>26.0</td>\n",
       "    </tr>\n",
       "    <tr>\n",
       "      <th>Glucon</th>\n",
       "      <td>14</td>\n",
       "      <td>2.0</td>\n",
       "    </tr>\n",
       "    <tr>\n",
       "      <th>Godrej</th>\n",
       "      <td>142</td>\n",
       "      <td>54.0</td>\n",
       "    </tr>\n",
       "    <tr>\n",
       "      <th>Himalaya</th>\n",
       "      <td>150</td>\n",
       "      <td>46.0</td>\n",
       "    </tr>\n",
       "    <tr>\n",
       "      <th>Indiana</th>\n",
       "      <td>6</td>\n",
       "      <td>NaN</td>\n",
       "    </tr>\n",
       "    <tr>\n",
       "      <th>Maaza</th>\n",
       "      <td>12</td>\n",
       "      <td>4.0</td>\n",
       "    </tr>\n",
       "    <tr>\n",
       "      <th>Maggi</th>\n",
       "      <td>10</td>\n",
       "      <td>8.0</td>\n",
       "    </tr>\n",
       "    <tr>\n",
       "      <th>Mamaearth</th>\n",
       "      <td>136</td>\n",
       "      <td>60.0</td>\n",
       "    </tr>\n",
       "    <tr>\n",
       "      <th>Mysore</th>\n",
       "      <td>132</td>\n",
       "      <td>44.0</td>\n",
       "    </tr>\n",
       "    <tr>\n",
       "      <th>Natural</th>\n",
       "      <td>26</td>\n",
       "      <td>12.0</td>\n",
       "    </tr>\n",
       "    <tr>\n",
       "      <th>Nutrichoice</th>\n",
       "      <td>10</td>\n",
       "      <td>2.0</td>\n",
       "    </tr>\n",
       "    <tr>\n",
       "      <th>Paper</th>\n",
       "      <td>34</td>\n",
       "      <td>4.0</td>\n",
       "    </tr>\n",
       "    <tr>\n",
       "      <th>Patanjali</th>\n",
       "      <td>112</td>\n",
       "      <td>42.0</td>\n",
       "    </tr>\n",
       "    <tr>\n",
       "      <th>Reflex</th>\n",
       "      <td>26</td>\n",
       "      <td>8.0</td>\n",
       "    </tr>\n",
       "    <tr>\n",
       "      <th>Savlon</th>\n",
       "      <td>12</td>\n",
       "      <td>6.0</td>\n",
       "    </tr>\n",
       "    <tr>\n",
       "      <th>Society</th>\n",
       "      <td>120</td>\n",
       "      <td>42.0</td>\n",
       "    </tr>\n",
       "    <tr>\n",
       "      <th>Streax</th>\n",
       "      <td>142</td>\n",
       "      <td>22.0</td>\n",
       "    </tr>\n",
       "    <tr>\n",
       "      <th>Tata</th>\n",
       "      <td>134</td>\n",
       "      <td>32.0</td>\n",
       "    </tr>\n",
       "    <tr>\n",
       "      <th>Titan</th>\n",
       "      <td>160</td>\n",
       "      <td>20.0</td>\n",
       "    </tr>\n",
       "  </tbody>\n",
       "</table>\n",
       "</div>"
      ],
      "text/plain": [
       "             positiveReviews  negativeReviews\n",
       "brandName                                    \n",
       "Amul                     126             20.0\n",
       "Britannia                 84             26.0\n",
       "Cinthol                  168             20.0\n",
       "Coca                      16              4.0\n",
       "Dettol                   140             28.0\n",
       "Fastrack                 128             26.0\n",
       "Glucon                    14              2.0\n",
       "Godrej                   142             54.0\n",
       "Himalaya                 150             46.0\n",
       "Indiana                    6              NaN\n",
       "Maaza                     12              4.0\n",
       "Maggi                     10              8.0\n",
       "Mamaearth                136             60.0\n",
       "Mysore                   132             44.0\n",
       "Natural                   26             12.0\n",
       "Nutrichoice               10              2.0\n",
       "Paper                     34              4.0\n",
       "Patanjali                112             42.0\n",
       "Reflex                    26              8.0\n",
       "Savlon                    12              6.0\n",
       "Society                  120             42.0\n",
       "Streax                   142             22.0\n",
       "Tata                     134             32.0\n",
       "Titan                    160             20.0"
      ]
     },
     "execution_count": 142,
     "metadata": {},
     "output_type": "execute_result"
    }
   ],
   "source": [
    "a = pd.DataFrame(positiveReviews_df.groupby(['brandName']).count()['review'])\n",
    "positiveReviews_df.loc[positiveReviews_df['brandName'] == \"Indiana\"][\"review\"]\n",
    "b = pd.DataFrame(negativeReviews_df.groupby(['brandName']).count()['review'])\n",
    "c = pd.concat([a, b], axis=1)\n",
    "c.columns = ['positiveReviews','negativeReviews']\n",
    "c"
   ]
  },
  {
   "cell_type": "code",
   "execution_count": 143,
   "id": "a852bd08",
   "metadata": {},
   "outputs": [
    {
     "data": {
      "text/html": [
       "<div>\n",
       "<style scoped>\n",
       "    .dataframe tbody tr th:only-of-type {\n",
       "        vertical-align: middle;\n",
       "    }\n",
       "\n",
       "    .dataframe tbody tr th {\n",
       "        vertical-align: top;\n",
       "    }\n",
       "\n",
       "    .dataframe thead th {\n",
       "        text-align: right;\n",
       "    }\n",
       "</style>\n",
       "<table border=\"1\" class=\"dataframe\">\n",
       "  <thead>\n",
       "    <tr style=\"text-align: right;\">\n",
       "      <th></th>\n",
       "      <th>asin</th>\n",
       "      <th>name</th>\n",
       "      <th>date</th>\n",
       "      <th>rating</th>\n",
       "      <th>review</th>\n",
       "      <th>brandName</th>\n",
       "      <th>product</th>\n",
       "      <th>review_tokens</th>\n",
       "      <th>scores</th>\n",
       "      <th>scoreStatus</th>\n",
       "    </tr>\n",
       "  </thead>\n",
       "  <tbody>\n",
       "    <tr>\n",
       "      <th>0</th>\n",
       "      <td>B07W7CTLD1</td>\n",
       "      <td>Mamaearth-Onion-Growth-Control-Redensyl</td>\n",
       "      <td>2019-09-06</td>\n",
       "      <td>1</td>\n",
       "      <td>I bought this hair oil after viewing so many g...</td>\n",
       "      <td>Mamaearth</td>\n",
       "      <td>Onion-Growth-Control-Redensyl</td>\n",
       "      <td>[I, bought, this, hair, oil, after, viewing, s...</td>\n",
       "      <td>-0.7528</td>\n",
       "      <td>negative</td>\n",
       "    </tr>\n",
       "    <tr>\n",
       "      <th>1</th>\n",
       "      <td>B07W7CTLD1</td>\n",
       "      <td>Mamaearth-Onion-Growth-Control-Redensyl</td>\n",
       "      <td>2019-08-14</td>\n",
       "      <td>5</td>\n",
       "      <td>Used This Mama Earth Newly Launched Onion Oil ...</td>\n",
       "      <td>Mamaearth</td>\n",
       "      <td>Onion-Growth-Control-Redensyl</td>\n",
       "      <td>[Used, This, Mama, Earth, Newly, Launched, Oni...</td>\n",
       "      <td>0.8689</td>\n",
       "      <td>positive</td>\n",
       "    </tr>\n",
       "    <tr>\n",
       "      <th>2</th>\n",
       "      <td>B07W7CTLD1</td>\n",
       "      <td>Mamaearth-Onion-Growth-Control-Redensyl</td>\n",
       "      <td>2019-10-19</td>\n",
       "      <td>1</td>\n",
       "      <td>So bad product My hair falling increase too mu...</td>\n",
       "      <td>Mamaearth</td>\n",
       "      <td>Onion-Growth-Control-Redensyl</td>\n",
       "      <td>[So, bad, product, My, hair, falling, increase...</td>\n",
       "      <td>-0.7780</td>\n",
       "      <td>negative</td>\n",
       "    </tr>\n",
       "    <tr>\n",
       "      <th>3</th>\n",
       "      <td>B07W7CTLD1</td>\n",
       "      <td>Mamaearth-Onion-Growth-Control-Redensyl</td>\n",
       "      <td>2019-09-16</td>\n",
       "      <td>1</td>\n",
       "      <td>Product just smells similar to navarathna hair...</td>\n",
       "      <td>Mamaearth</td>\n",
       "      <td>Onion-Growth-Control-Redensyl</td>\n",
       "      <td>[Product, just, smells, similar, to, navarathn...</td>\n",
       "      <td>-0.9253</td>\n",
       "      <td>negative</td>\n",
       "    </tr>\n",
       "    <tr>\n",
       "      <th>4</th>\n",
       "      <td>B07W7CTLD1</td>\n",
       "      <td>Mamaearth-Onion-Growth-Control-Redensyl</td>\n",
       "      <td>2019-08-18</td>\n",
       "      <td>5</td>\n",
       "      <td>I have been trying different onion oil for my ...</td>\n",
       "      <td>Mamaearth</td>\n",
       "      <td>Onion-Growth-Control-Redensyl</td>\n",
       "      <td>[I, have, been, trying, different, onion, oil,...</td>\n",
       "      <td>0.8597</td>\n",
       "      <td>positive</td>\n",
       "    </tr>\n",
       "  </tbody>\n",
       "</table>\n",
       "</div>"
      ],
      "text/plain": [
       "         asin                                     name        date  rating  \\\n",
       "0  B07W7CTLD1  Mamaearth-Onion-Growth-Control-Redensyl  2019-09-06       1   \n",
       "1  B07W7CTLD1  Mamaearth-Onion-Growth-Control-Redensyl  2019-08-14       5   \n",
       "2  B07W7CTLD1  Mamaearth-Onion-Growth-Control-Redensyl  2019-10-19       1   \n",
       "3  B07W7CTLD1  Mamaearth-Onion-Growth-Control-Redensyl  2019-09-16       1   \n",
       "4  B07W7CTLD1  Mamaearth-Onion-Growth-Control-Redensyl  2019-08-18       5   \n",
       "\n",
       "                                              review  brandName  \\\n",
       "0  I bought this hair oil after viewing so many g...  Mamaearth   \n",
       "1  Used This Mama Earth Newly Launched Onion Oil ...  Mamaearth   \n",
       "2  So bad product My hair falling increase too mu...  Mamaearth   \n",
       "3  Product just smells similar to navarathna hair...  Mamaearth   \n",
       "4  I have been trying different onion oil for my ...  Mamaearth   \n",
       "\n",
       "                         product  \\\n",
       "0  Onion-Growth-Control-Redensyl   \n",
       "1  Onion-Growth-Control-Redensyl   \n",
       "2  Onion-Growth-Control-Redensyl   \n",
       "3  Onion-Growth-Control-Redensyl   \n",
       "4  Onion-Growth-Control-Redensyl   \n",
       "\n",
       "                                       review_tokens  scores scoreStatus  \n",
       "0  [I, bought, this, hair, oil, after, viewing, s... -0.7528    negative  \n",
       "1  [Used, This, Mama, Earth, Newly, Launched, Oni...  0.8689    positive  \n",
       "2  [So, bad, product, My, hair, falling, increase... -0.7780    negative  \n",
       "3  [Product, just, smells, similar, to, navarathn... -0.9253    negative  \n",
       "4  [I, have, been, trying, different, onion, oil,...  0.8597    positive  "
      ]
     },
     "execution_count": 143,
     "metadata": {},
     "output_type": "execute_result"
    }
   ],
   "source": [
    "reviews_df.head()"
   ]
  },
  {
   "cell_type": "code",
   "execution_count": 144,
   "id": "75bf559a",
   "metadata": {},
   "outputs": [],
   "source": [
    "from sklearn.model_selection import train_test_split\n",
    "df = pd.concat([positiveReviews_df,negativeReviews_df])\n",
    "df = df[[\"review\",\"scoreStatus\"]]\n",
    "df['scoreStatus'] = (df['scoreStatus'] == 'positive')*1\n",
    "X = df[\"review\"]\n",
    "y = df[\"scoreStatus\"]\n",
    "X_train, X_test, y_train,y_test = train_test_split(X,y,test_size=0.30,random_state=10,stratify=y)"
   ]
  },
  {
   "cell_type": "code",
   "execution_count": 145,
   "id": "ca4640b3",
   "metadata": {},
   "outputs": [
    {
     "data": {
      "text/plain": [
       "1       Used This Mama Earth Newly Launched Onion Oil ...\n",
       "4       I have been trying different onion oil for my ...\n",
       "5       I have been using this product for some time n...\n",
       "7       It s a very good product from mamaearth The oi...\n",
       "9       I used it only one time so I can t say about h...\n",
       "                              ...                        \n",
       "2752    This mysore sandal agarbatti we have been usin...\n",
       "2753    No discount is being provided seller Informati...\n",
       "2755         Not that great smell like mysore sandal soap\n",
       "2762                    No return and replaceAdd more tex\n",
       "2770                    No return and replaceAdd more tex\n",
       "Name: review, Length: 2572, dtype: object"
      ]
     },
     "execution_count": 145,
     "metadata": {},
     "output_type": "execute_result"
    }
   ],
   "source": [
    "X"
   ]
  },
  {
   "cell_type": "code",
   "execution_count": 146,
   "id": "e0c93026",
   "metadata": {},
   "outputs": [
    {
     "data": {
      "text/plain": [
       "1       1\n",
       "4       1\n",
       "5       1\n",
       "7       1\n",
       "9       1\n",
       "       ..\n",
       "2752    0\n",
       "2753    0\n",
       "2755    0\n",
       "2762    0\n",
       "2770    0\n",
       "Name: scoreStatus, Length: 2572, dtype: int32"
      ]
     },
     "execution_count": 146,
     "metadata": {},
     "output_type": "execute_result"
    }
   ],
   "source": [
    "y"
   ]
  },
  {
   "cell_type": "code",
   "execution_count": 147,
   "id": "56bb566c",
   "metadata": {},
   "outputs": [
    {
     "data": {
      "text/plain": [
       "735     1\n",
       "956     1\n",
       "1105    1\n",
       "2520    1\n",
       "Name: scoreStatus, dtype: int32"
      ]
     },
     "execution_count": 147,
     "metadata": {},
     "output_type": "execute_result"
    }
   ],
   "source": [
    "y_train.head(4)"
   ]
  },
  {
   "cell_type": "markdown",
   "id": "3317f781",
   "metadata": {},
   "source": [
    "**BERT**"
   ]
  },
  {
   "cell_type": "code",
   "execution_count": 148,
   "id": "a34b3f96",
   "metadata": {},
   "outputs": [],
   "source": [
    "import tensorflow as tf\n",
    "import tensorflow_hub as hub\n",
    "import tensorflow_text as text"
   ]
  },
  {
   "cell_type": "code",
   "execution_count": 151,
   "id": "60bf22b0",
   "metadata": {},
   "outputs": [],
   "source": [
    "bert_preprocess = hub.KerasLayer(\"https://tfhub.dev/tensorflow/bert_en_uncased_preprocess/3\")\n",
    "bert_encoder = hub.KerasLayer(\"https://tfhub.dev/tensorflow/small_bert/bert_en_uncased_L-2_H-128_A-2/2\")"
   ]
  },
  {
   "cell_type": "code",
   "execution_count": 158,
   "id": "41fdc303",
   "metadata": {},
   "outputs": [
    {
     "data": {
      "text/plain": [
       "<tf.Tensor: shape=(2, 128), dtype=float32, numpy=\n",
       "array([[-0.9999987 ,  0.01071229, -0.995502  ,  0.8562559 , -0.99558413,\n",
       "         0.8986226 , -0.60493124, -0.79044473,  0.15512452,  0.02966076,\n",
       "        -0.26142392, -0.11665922,  0.04905817,  0.9999691 , -0.24645543,\n",
       "        -0.04265916,  0.6993984 ,  0.07292873, -0.9327675 , -0.38997692,\n",
       "         0.86449397,  0.06304374, -0.53457457, -0.38080534, -0.9990194 ,\n",
       "        -0.01110427, -0.9924098 ,  0.97485083,  0.9883726 ,  0.07334311,\n",
       "        -0.01233872, -0.09122372, -0.987129  , -0.739312  ,  0.9623693 ,\n",
       "         0.99886316, -0.9929084 ,  0.09775567,  0.86410886, -0.9961791 ,\n",
       "         0.80519783,  0.7134737 , -0.9991094 ,  0.96025693, -0.9958785 ,\n",
       "        -0.0763339 , -0.95795584,  0.9966234 ,  0.8117529 ,  0.9986095 ,\n",
       "         0.6687927 , -0.9113395 , -0.14305553,  0.98947835,  0.87842464,\n",
       "         0.95031476, -0.63934624, -0.9653621 ,  0.9715774 ,  0.74336493,\n",
       "         0.09228497,  0.9007104 ,  0.31535703,  0.82329303, -0.49547645,\n",
       "        -0.99997073, -0.40903142,  0.8381159 ,  0.90277225,  0.9776762 ,\n",
       "         0.99434984,  0.05530497, -0.87633145,  0.04407244,  0.78691715,\n",
       "        -0.9953604 , -0.74551153,  0.10562585, -0.97409135,  0.06513111,\n",
       "        -0.31749728,  0.12138515, -0.9869842 , -0.9995881 ,  0.99952054,\n",
       "         0.07581912, -0.87113553, -0.98268366, -0.6671323 ,  0.811142  ,\n",
       "         0.22593465,  0.9788317 , -0.9613741 ,  0.9336777 ,  0.94793713,\n",
       "         0.9250546 , -0.8628498 ,  0.6440948 , -0.9998988 , -0.84542495,\n",
       "        -0.92571014,  0.934538  , -0.99840516, -0.9254024 , -0.99498075,\n",
       "        -0.4018192 , -0.9991517 , -0.9818108 ,  0.3932882 ,  0.8964611 ,\n",
       "         0.9986614 ,  0.8996941 , -0.43382958,  0.9955595 , -0.9997596 ,\n",
       "         0.02694038, -0.96397436, -0.03995229,  0.07680033, -0.999787  ,\n",
       "        -0.02308672, -0.99963105, -0.96224296,  0.8922416 , -0.9996486 ,\n",
       "         0.9987098 ,  0.83201885,  0.97884864],\n",
       "       [-0.9999995 ,  0.06186695, -0.99981785,  0.5889434 , -0.9988547 ,\n",
       "         0.11284838, -0.91700566, -0.13974467,  0.0859185 ,  0.03815095,\n",
       "        -0.21602654, -0.08250443, -0.10901215,  1.        , -0.7596506 ,\n",
       "        -0.9085401 ,  0.9032006 , -0.03845135, -0.9196661 ,  0.94502354,\n",
       "         0.9289362 ,  0.12507969,  0.9240418 ,  0.6959323 , -0.999976  ,\n",
       "         0.00169877, -0.9997432 ,  0.8176682 ,  0.9977128 ,  0.16407537,\n",
       "         0.05764668,  0.14859167, -0.99793553, -0.52199095,  0.9231484 ,\n",
       "         0.9996292 , -0.9804349 , -0.14026748,  0.9904746 , -0.9986671 ,\n",
       "         0.85813075,  0.98668987, -0.99907386,  0.99356127, -0.99973196,\n",
       "        -0.24940756, -0.9967669 ,  0.9972636 ,  0.98339874,  0.99686486,\n",
       "         0.8819581 , -0.73122895, -0.04171113,  0.98872334,  0.987929  ,\n",
       "         0.9904904 , -0.72457373, -0.98269165,  0.92639583, -0.48285803,\n",
       "         0.01061849,  0.85957116, -0.95360816,  0.98318607, -0.91144705,\n",
       "        -0.9999997 ,  0.21223232,  0.91967946,  0.94184655,  0.9514329 ,\n",
       "         0.9993972 , -0.11257593, -0.99085844,  0.17057595,  0.9288311 ,\n",
       "        -0.9954898 , -0.60992527,  0.14881746, -0.74786127,  0.24891716,\n",
       "         0.7376041 , -0.16487965, -0.9991396 , -0.9995097 ,  0.99993503,\n",
       "        -0.93148786,  0.17859384,  0.0851296 , -0.2960193 ,  0.7011111 ,\n",
       "        -0.22046906,  0.9974707 , -0.9026041 ,  0.9729068 ,  0.28942445,\n",
       "         0.43361178, -0.95866257,  0.7139707 , -0.9999851 , -0.9335679 ,\n",
       "        -0.97256345,  0.8821146 , -0.9999074 , -0.94917923, -0.9989131 ,\n",
       "         0.36386678, -0.9967683 , -0.99836946,  0.4386381 ,  0.9663672 ,\n",
       "         0.9998888 ,  0.91279644, -0.9204927 ,  0.9995825 , -0.99999577,\n",
       "         0.09496944, -0.27847362,  0.60287976,  0.18625136, -0.99751174,\n",
       "         0.13565134, -0.9999943 , -0.6975951 ,  0.96353346, -0.99991333,\n",
       "         0.9948127 ,  0.78185546,  0.99105746]], dtype=float32)>"
      ]
     },
     "execution_count": 158,
     "metadata": {},
     "output_type": "execute_result"
    }
   ],
   "source": [
    "def get_sentence_embeding(sentences):\n",
    "    preprocessed_text = bert_preprocess(sentences)\n",
    "    return bert_encoder(preprocessed_text)['pooled_output']\n",
    "\n",
    "get_sentence_embeding([\n",
    "    \"Nice Product\", \n",
    "    \"Very bad\"]\n",
    ")"
   ]
  },
  {
   "cell_type": "code",
   "execution_count": 159,
   "id": "d0d3bf97",
   "metadata": {},
   "outputs": [],
   "source": [
    "# Bert layers\n",
    "text_input = tf.keras.layers.Input(shape=(), dtype=tf.string, name='text')\n",
    "preprocessed_text = bert_preprocess(text_input)\n",
    "outputs = bert_encoder(preprocessed_text)\n",
    "\n",
    "# Neural network layers\n",
    "l = tf.keras.layers.Dropout(0.1, name=\"dropout\")(outputs['pooled_output'])\n",
    "l = tf.keras.layers.Dense(1, activation='sigmoid', name=\"output\")(l)\n",
    "\n",
    "# Use inputs and outputs to construct a final model\n",
    "model = tf.keras.Model(inputs=[text_input], outputs = [l])"
   ]
  },
  {
   "cell_type": "code",
   "execution_count": 161,
   "id": "800cc85f",
   "metadata": {},
   "outputs": [
    {
     "name": "stdout",
     "output_type": "stream",
     "text": [
      "Model: \"model_7\"\n",
      "__________________________________________________________________________________________________\n",
      " Layer (type)                   Output Shape         Param #     Connected to                     \n",
      "==================================================================================================\n",
      " text (InputLayer)              [(None,)]            0           []                               \n",
      "                                                                                                  \n",
      " keras_layer_10 (KerasLayer)    {'input_mask': (Non  0           ['text[0][0]']                   \n",
      "                                e, 128),                                                          \n",
      "                                 'input_word_ids':                                                \n",
      "                                (None, 128),                                                      \n",
      "                                 'input_type_ids':                                                \n",
      "                                (None, 128)}                                                      \n",
      "                                                                                                  \n",
      " keras_layer_11 (KerasLayer)    {'encoder_outputs':  4385921     ['keras_layer_10[1][0]',         \n",
      "                                 [(None, 128, 128),               'keras_layer_10[1][1]',         \n",
      "                                 (None, 128, 128)],               'keras_layer_10[1][2]']         \n",
      "                                 'sequence_output':                                               \n",
      "                                 (None, 128, 128),                                                \n",
      "                                 'pooled_output': (                                               \n",
      "                                None, 128),                                                       \n",
      "                                 'default': (None,                                                \n",
      "                                128)}                                                             \n",
      "                                                                                                  \n",
      " dropout (Dropout)              (None, 128)          0           ['keras_layer_11[1][3]']         \n",
      "                                                                                                  \n",
      " output (Dense)                 (None, 1)            129         ['dropout[0][0]']                \n",
      "                                                                                                  \n",
      "==================================================================================================\n",
      "Total params: 4,386,050\n",
      "Trainable params: 129\n",
      "Non-trainable params: 4,385,921\n",
      "__________________________________________________________________________________________________\n"
     ]
    }
   ],
   "source": [
    "model.summary()"
   ]
  },
  {
   "cell_type": "code",
   "execution_count": 162,
   "id": "7871d1fc",
   "metadata": {},
   "outputs": [
    {
     "data": {
      "text/plain": [
       "1800"
      ]
     },
     "execution_count": 162,
     "metadata": {},
     "output_type": "execute_result"
    }
   ],
   "source": [
    "len(X_train)"
   ]
  },
  {
   "cell_type": "code",
   "execution_count": 163,
   "id": "2e9bcd38",
   "metadata": {},
   "outputs": [],
   "source": [
    "METRICS = [\n",
    "      tf.keras.metrics.BinaryAccuracy(name='accuracy'),\n",
    "      tf.keras.metrics.Precision(name='precision'),\n",
    "      tf.keras.metrics.Recall(name='recall')\n",
    "]\n",
    "\n",
    "model.compile(optimizer='adam',\n",
    "              loss='binary_crossentropy',\n",
    "              metrics=METRICS)"
   ]
  },
  {
   "cell_type": "code",
   "execution_count": 164,
   "id": "ba599567",
   "metadata": {},
   "outputs": [
    {
     "name": "stdout",
     "output_type": "stream",
     "text": [
      "Epoch 1/10\n",
      "57/57 [==============================] - 8s 101ms/step - loss: 0.6756 - accuracy: 0.6150 - precision: 0.8070 - recall: 0.6765\n",
      "Epoch 2/10\n",
      "57/57 [==============================] - 6s 104ms/step - loss: 0.4999 - accuracy: 0.7906 - precision: 0.7937 - recall: 0.9944\n",
      "Epoch 3/10\n",
      "57/57 [==============================] - 6s 111ms/step - loss: 0.4916 - accuracy: 0.7872 - precision: 0.7947 - recall: 0.9867\n",
      "Epoch 4/10\n",
      "57/57 [==============================] - 7s 114ms/step - loss: 0.4796 - accuracy: 0.7900 - precision: 0.7973 - recall: 0.9860\n",
      "Epoch 5/10\n",
      "57/57 [==============================] - 7s 126ms/step - loss: 0.4774 - accuracy: 0.7906 - precision: 0.7964 - recall: 0.9888\n",
      "Epoch 6/10\n",
      "57/57 [==============================] - 6s 106ms/step - loss: 0.4783 - accuracy: 0.7939 - precision: 0.7984 - recall: 0.9902\n",
      "Epoch 7/10\n",
      "57/57 [==============================] - 6s 109ms/step - loss: 0.4689 - accuracy: 0.7878 - precision: 0.7985 - recall: 0.9797\n",
      "Epoch 8/10\n",
      "57/57 [==============================] - 6s 104ms/step - loss: 0.4661 - accuracy: 0.7939 - precision: 0.8011 - recall: 0.9846\n",
      "Epoch 9/10\n",
      "57/57 [==============================] - 6s 105ms/step - loss: 0.4663 - accuracy: 0.7978 - precision: 0.8023 - recall: 0.9888\n",
      "Epoch 10/10\n",
      "57/57 [==============================] - 6s 104ms/step - loss: 0.4546 - accuracy: 0.7983 - precision: 0.8055 - recall: 0.9832\n"
     ]
    },
    {
     "data": {
      "text/plain": [
       "<keras.callbacks.History at 0x264a871ce50>"
      ]
     },
     "execution_count": 164,
     "metadata": {},
     "output_type": "execute_result"
    }
   ],
   "source": [
    "model.fit(X_train, y_train, epochs=10)"
   ]
  },
  {
   "cell_type": "code",
   "execution_count": 165,
   "id": "ed1c853a",
   "metadata": {},
   "outputs": [
    {
     "name": "stdout",
     "output_type": "stream",
     "text": [
      "25/25 [==============================] - 3s 108ms/step - loss: 0.4478 - accuracy: 0.7979 - precision: 0.8016 - recall: 0.9902\n"
     ]
    },
    {
     "data": {
      "text/plain": [
       "[0.4477790892124176,\n",
       " 0.7979274392127991,\n",
       " 0.8015872836112976,\n",
       " 0.9901960492134094]"
      ]
     },
     "execution_count": 165,
     "metadata": {},
     "output_type": "execute_result"
    }
   ],
   "source": [
    "model.evaluate(X_test, y_test)"
   ]
  },
  {
   "cell_type": "code",
   "execution_count": 166,
   "id": "e130c8a8",
   "metadata": {},
   "outputs": [],
   "source": [
    "y_predicted = model.predict(X_test)\n",
    "y_predicted = y_predicted.flatten()"
   ]
  },
  {
   "cell_type": "code",
   "execution_count": 167,
   "id": "469f5e8d",
   "metadata": {},
   "outputs": [
    {
     "data": {
      "text/plain": [
       "array([1, 1, 1, 1, 1, 1, 1, 1, 1, 1, 1, 1, 1, 1, 1, 1, 1, 1, 1, 1, 1, 1,\n",
       "       1, 1, 1, 1, 1, 1, 1, 1, 1, 1, 1, 1, 1, 1, 1, 1, 1, 1, 1, 1, 1, 1,\n",
       "       1, 1, 1, 1, 1, 1, 1, 1, 1, 1, 1, 1, 1, 1, 1, 1, 1, 1, 1, 1, 1, 1,\n",
       "       1, 1, 1, 1, 1, 1, 1, 1, 1, 1, 1, 1, 1, 1, 1, 1, 1, 1, 1, 1, 1, 1,\n",
       "       0, 1, 1, 1, 1, 1, 1, 1, 1, 1, 1, 1, 1, 1, 1, 1, 1, 1, 1, 1, 1, 1,\n",
       "       1, 1, 1, 1, 1, 1, 1, 1, 0, 1, 1, 1, 1, 1, 1, 1, 1, 1, 1, 1, 1, 0,\n",
       "       1, 1, 1, 0, 1, 1, 1, 1, 1, 1, 1, 1, 1, 1, 1, 1, 1, 1, 1, 1, 1, 1,\n",
       "       1, 1, 1, 1, 1, 1, 1, 1, 1, 1, 1, 1, 1, 1, 1, 1, 1, 1, 1, 1, 1, 1,\n",
       "       1, 1, 1, 1, 1, 1, 1, 1, 1, 1, 1, 1, 1, 1, 1, 1, 1, 1, 1, 0, 1, 1,\n",
       "       1, 1, 1, 1, 1, 1, 1, 1, 1, 1, 1, 1, 1, 1, 1, 1, 1, 1, 1, 1, 1, 1,\n",
       "       1, 1, 1, 1, 1, 1, 1, 1, 1, 1, 1, 1, 1, 1, 1, 1, 1, 1, 0, 1, 1, 1,\n",
       "       1, 1, 1, 1, 1, 1, 1, 1, 1, 1, 1, 0, 1, 1, 1, 1, 1, 1, 1, 1, 1, 1,\n",
       "       1, 1, 1, 1, 1, 1, 1, 1, 1, 1, 1, 1, 1, 1, 1, 1, 1, 1, 1, 1, 1, 1,\n",
       "       1, 0, 1, 1, 1, 1, 1, 1, 1, 1, 1, 1, 1, 1, 1, 1, 1, 1, 1, 1, 1, 1,\n",
       "       1, 1, 1, 1, 1, 1, 1, 1, 1, 1, 1, 1, 1, 1, 1, 1, 1, 1, 1, 1, 1, 1,\n",
       "       1, 1, 1, 1, 1, 1, 1, 1, 1, 1, 1, 1, 1, 1, 1, 1, 0, 1, 1, 1, 1, 1,\n",
       "       1, 1, 1, 1, 1, 1, 1, 1, 1, 1, 1, 1, 1, 1, 1, 1, 1, 1, 1, 1, 1, 1,\n",
       "       1, 1, 1, 1, 1, 1, 1, 1, 1, 1, 1, 1, 1, 1, 1, 1, 1, 1, 1, 1, 1, 1,\n",
       "       1, 1, 1, 1, 1, 1, 1, 1, 1, 1, 1, 1, 1, 1, 1, 1, 1, 1, 1, 1, 1, 1,\n",
       "       1, 1, 1, 1, 1, 1, 1, 1, 1, 1, 1, 1, 1, 1, 1, 1, 1, 1, 1, 1, 1, 1,\n",
       "       1, 1, 1, 1, 1, 1, 1, 1, 1, 1, 1, 0, 1, 1, 1, 1, 1, 1, 1, 1, 1, 1,\n",
       "       1, 1, 1, 1, 1, 1, 1, 1, 1, 1, 1, 1, 1, 1, 1, 1, 1, 1, 1, 1, 1, 1,\n",
       "       1, 1, 1, 1, 1, 1, 1, 1, 1, 1, 1, 1, 1, 1, 1, 1, 1, 1, 1, 1, 1, 1,\n",
       "       1, 1, 1, 1, 1, 1, 1, 1, 1, 1, 1, 1, 1, 1, 1, 1, 1, 1, 1, 1, 1, 1,\n",
       "       1, 1, 1, 1, 1, 1, 1, 1, 1, 1, 1, 1, 1, 0, 1, 1, 1, 1, 1, 1, 1, 1,\n",
       "       1, 1, 1, 1, 1, 1, 1, 1, 1, 1, 1, 1, 1, 1, 1, 1, 1, 1, 1, 1, 1, 1,\n",
       "       1, 1, 1, 1, 1, 1, 1, 1, 1, 1, 1, 1, 1, 1, 1, 1, 1, 1, 1, 1, 1, 1,\n",
       "       0, 1, 1, 1, 1, 1, 1, 1, 1, 1, 1, 1, 1, 1, 1, 1, 1, 1, 1, 1, 1, 1,\n",
       "       1, 1, 1, 1, 1, 1, 1, 1, 1, 1, 1, 1, 1, 1, 1, 1, 1, 1, 1, 0, 1, 1,\n",
       "       1, 1, 1, 1, 1, 1, 1, 1, 1, 1, 1, 1, 1, 1, 1, 1, 1, 1, 1, 1, 1, 1,\n",
       "       1, 1, 1, 1, 1, 1, 1, 1, 1, 1, 1, 1, 1, 1, 1, 1, 1, 1, 1, 1, 1, 1,\n",
       "       1, 1, 1, 1, 1, 1, 1, 1, 1, 1, 1, 1, 0, 1, 1, 1, 1, 1, 0, 1, 1, 1,\n",
       "       1, 1, 1, 1, 1, 1, 1, 1, 1, 1, 1, 1, 1, 1, 1, 1, 0, 1, 1, 1, 1, 1,\n",
       "       1, 1, 1, 1, 1, 1, 1, 1, 1, 1, 1, 1, 1, 1, 1, 1, 1, 1, 1, 1, 1, 1,\n",
       "       1, 1, 1, 1, 1, 1, 1, 1, 1, 1, 1, 1, 1, 1, 1, 1, 1, 1, 1, 1, 1, 1,\n",
       "       1, 1])"
      ]
     },
     "execution_count": 167,
     "metadata": {},
     "output_type": "execute_result"
    }
   ],
   "source": [
    "import numpy as np\n",
    "\n",
    "y_predicted = np.where(y_predicted > 0.5, 1, 0)\n",
    "y_predicted"
   ]
  },
  {
   "cell_type": "code",
   "execution_count": 168,
   "id": "bc12c20e",
   "metadata": {},
   "outputs": [
    {
     "data": {
      "text/plain": [
       "array([[ 10, 150],\n",
       "       [  6, 606]], dtype=int64)"
      ]
     },
     "execution_count": 168,
     "metadata": {},
     "output_type": "execute_result"
    }
   ],
   "source": [
    "from sklearn.metrics import confusion_matrix, classification_report\n",
    "cm = confusion_matrix(y_test, y_predicted)\n",
    "cm "
   ]
  },
  {
   "cell_type": "code",
   "execution_count": 169,
   "id": "1b580833",
   "metadata": {},
   "outputs": [
    {
     "data": {
      "text/plain": [
       "Text(33.0, 0.5, 'Truth')"
      ]
     },
     "execution_count": 169,
     "metadata": {},
     "output_type": "execute_result"
    },
    {
     "data": {
      "image/png": "[encoded data removed]",
      "text/plain": [
       "<Figure size 432x288 with 2 Axes>"
      ]
     },
     "metadata": {
      "needs_background": "light"
     },
     "output_type": "display_data"
    }
   ],
   "source": [
    "from matplotlib import pyplot as plt\n",
    "import seaborn as sn\n",
    "sn.heatmap(cm, annot=True, fmt='d')\n",
    "plt.xlabel('Predicted')\n",
    "plt.ylabel('Truth')"
   ]
  },
  {
   "cell_type": "code",
   "execution_count": 170,
   "id": "5cdd0688",
   "metadata": {},
   "outputs": [
    {
     "name": "stdout",
     "output_type": "stream",
     "text": [
      "              precision    recall  f1-score   support\n",
      "\n",
      "           0       0.62      0.06      0.11       160\n",
      "           1       0.80      0.99      0.89       612\n",
      "\n",
      "    accuracy                           0.80       772\n",
      "   macro avg       0.71      0.53      0.50       772\n",
      "weighted avg       0.76      0.80      0.73       772\n",
      "\n"
     ]
    }
   ],
   "source": [
    "print(classification_report(y_test, y_predicted))"
   ]
  },
  {
   "cell_type": "code",
   "execution_count": 171,
   "id": "7a874437",
   "metadata": {},
   "outputs": [
    {
     "data": {
      "text/plain": [
       "array([[0.94640154]], dtype=float32)"
      ]
     },
     "execution_count": 171,
     "metadata": {},
     "output_type": "execute_result"
    }
   ],
   "source": [
    "reviews = [\"Bad\"]\n",
    "model.predict(reviews)"
   ]
  }
 ],
 "metadata": {
  "kernelspec": {
   "display_name": "Python 3 (ipykernel)",
   "language": "python",
   "name": "python3"
  },
  "language_info": {
   "codemirror_mode": {
    "name": "ipython",
    "version": 3
   },
   "file_extension": ".py",
   "mimetype": "text/x-python",
   "name": "python",
   "nbconvert_exporter": "python",
   "pygments_lexer": "ipython3",
   "version": "3.9.7"
  }
 },
 "nbformat": 4,
 "nbformat_minor": 5
}
