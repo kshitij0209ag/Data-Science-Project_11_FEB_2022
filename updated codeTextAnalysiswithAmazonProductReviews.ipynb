{
 "cells": [
  {
   "cell_type": "code",
   "execution_count": 1,
   "metadata": {},
   "outputs": [],
   "source": [
    "# !pip install plotly\n"
   ]
  },
  {
   "cell_type": "code",
   "execution_count": 2,
   "metadata": {},
   "outputs": [],
   "source": [
    "import pandas as pd\n",
    "import numpy as np\n",
    "from matplotlib import pyplot as plt\n",
    "import plotly.express as px"
   ]
  },
  {
   "cell_type": "code",
   "execution_count": 3,
   "metadata": {},
   "outputs": [
    {
     "data": {
      "text/html": [
       "<div>\n",
       "<style scoped>\n",
       "    .dataframe tbody tr th:only-of-type {\n",
       "        vertical-align: middle;\n",
       "    }\n",
       "\n",
       "    .dataframe tbody tr th {\n",
       "        vertical-align: top;\n",
       "    }\n",
       "\n",
       "    .dataframe thead th {\n",
       "        text-align: right;\n",
       "    }\n",
       "</style>\n",
       "<table border=\"1\" class=\"dataframe\">\n",
       "  <thead>\n",
       "    <tr style=\"text-align: right;\">\n",
       "      <th></th>\n",
       "      <th>asin</th>\n",
       "      <th>name</th>\n",
       "      <th>date</th>\n",
       "      <th>rating</th>\n",
       "      <th>review</th>\n",
       "    </tr>\n",
       "  </thead>\n",
       "  <tbody>\n",
       "    <tr>\n",
       "      <th>0</th>\n",
       "      <td>B07W7CTLD1</td>\n",
       "      <td>Mamaearth-Onion-Growth-Control-Redensyl</td>\n",
       "      <td>9/6/2019</td>\n",
       "      <td>1</td>\n",
       "      <td>I bought this hair oil after viewing so many g...</td>\n",
       "    </tr>\n",
       "    <tr>\n",
       "      <th>1</th>\n",
       "      <td>B07W7CTLD1</td>\n",
       "      <td>Mamaearth-Onion-Growth-Control-Redensyl</td>\n",
       "      <td>8/14/2019</td>\n",
       "      <td>5</td>\n",
       "      <td>Used This Mama Earth Newly Launched Onion Oil ...</td>\n",
       "    </tr>\n",
       "    <tr>\n",
       "      <th>2</th>\n",
       "      <td>B07W7CTLD1</td>\n",
       "      <td>Mamaearth-Onion-Growth-Control-Redensyl</td>\n",
       "      <td>10/19/2019</td>\n",
       "      <td>1</td>\n",
       "      <td>So bad product...My hair falling increase too ...</td>\n",
       "    </tr>\n",
       "    <tr>\n",
       "      <th>3</th>\n",
       "      <td>B07W7CTLD1</td>\n",
       "      <td>Mamaearth-Onion-Growth-Control-Redensyl</td>\n",
       "      <td>9/16/2019</td>\n",
       "      <td>1</td>\n",
       "      <td>Product just smells similar to navarathna hair...</td>\n",
       "    </tr>\n",
       "    <tr>\n",
       "      <th>4</th>\n",
       "      <td>B07W7CTLD1</td>\n",
       "      <td>Mamaearth-Onion-Growth-Control-Redensyl</td>\n",
       "      <td>8/18/2019</td>\n",
       "      <td>5</td>\n",
       "      <td>I have been trying different onion oil for my ...</td>\n",
       "    </tr>\n",
       "  </tbody>\n",
       "</table>\n",
       "</div>"
      ],
      "text/plain": [
       "         asin                                     name        date  rating  \\\n",
       "0  B07W7CTLD1  Mamaearth-Onion-Growth-Control-Redensyl    9/6/2019       1   \n",
       "1  B07W7CTLD1  Mamaearth-Onion-Growth-Control-Redensyl   8/14/2019       5   \n",
       "2  B07W7CTLD1  Mamaearth-Onion-Growth-Control-Redensyl  10/19/2019       1   \n",
       "3  B07W7CTLD1  Mamaearth-Onion-Growth-Control-Redensyl   9/16/2019       1   \n",
       "4  B07W7CTLD1  Mamaearth-Onion-Growth-Control-Redensyl   8/18/2019       5   \n",
       "\n",
       "                                              review  \n",
       "0  I bought this hair oil after viewing so many g...  \n",
       "1  Used This Mama Earth Newly Launched Onion Oil ...  \n",
       "2  So bad product...My hair falling increase too ...  \n",
       "3  Product just smells similar to navarathna hair...  \n",
       "4  I have been trying different onion oil for my ...  "
      ]
     },
     "execution_count": 3,
     "metadata": {},
     "output_type": "execute_result"
    }
   ],
   "source": [
    "# Reading data in the system\n",
    "reviews_df = pd.read_csv('amazon_vfl_reviews.csv')\n",
    "reviews_df.head()"
   ]
  },
  {
   "cell_type": "code",
   "execution_count": 4,
   "metadata": {},
   "outputs": [
    {
     "data": {
      "text/plain": [
       "(2782, 5)"
      ]
     },
     "execution_count": 4,
     "metadata": {},
     "output_type": "execute_result"
    }
   ],
   "source": [
    "reviews_df.shape"
   ]
  },
  {
   "cell_type": "code",
   "execution_count": 5,
   "metadata": {},
   "outputs": [
    {
     "data": {
      "text/plain": [
       "asin      0\n",
       "name      0\n",
       "date      0\n",
       "rating    0\n",
       "review    4\n",
       "dtype: int64"
      ]
     },
     "execution_count": 5,
     "metadata": {},
     "output_type": "execute_result"
    }
   ],
   "source": [
    "# any null columns\n",
    "reviews_df.isnull().sum()"
   ]
  },
  {
   "cell_type": "code",
   "execution_count": 6,
   "metadata": {},
   "outputs": [
    {
     "data": {
      "text/plain": [
       "asin      0\n",
       "name      0\n",
       "date      0\n",
       "rating    0\n",
       "review    0\n",
       "dtype: int64"
      ]
     },
     "execution_count": 6,
     "metadata": {},
     "output_type": "execute_result"
    }
   ],
   "source": [
    "# the review column, four rows without review text, we drop the rows with the null columns\n",
    "reviews_df = reviews_df.dropna()\n",
    "#resetting the index\n",
    "reviews_df = reviews_df.reset_index(drop=True)\n",
    "# any null columns\n",
    "reviews_df.isnull().sum()"
   ]
  },
  {
   "cell_type": "code",
   "execution_count": 7,
   "metadata": {},
   "outputs": [
    {
     "data": {
      "text/plain": [
       "<matplotlib.axes._subplots.AxesSubplot at 0x1c1b4b3b850>"
      ]
     },
     "execution_count": 7,
     "metadata": {},
     "output_type": "execute_result"
    },
    {
     "data": {
      "image/png": "[encoded data removed]",
      "text/plain": [
       "<Figure size 432x288 with 1 Axes>"
      ]
     },
     "metadata": {
      "needs_background": "light"
     },
     "output_type": "display_data"
    }
   ],
   "source": [
    "import seaborn as sns\n",
    "sns.countplot(x='rating',data=reviews_df)"
   ]
  },
  {
   "cell_type": "code",
   "execution_count": 8,
   "metadata": {},
   "outputs": [
    {
     "data": {
      "text/plain": [
       "'I am writing this review after using it around 20 days It seems very natural and chemical free and is very gentle on skin But it does its job of cleaning the skin properly It contains tea tree which is one of my favourite ingredients for skin care Give it a try its definitely better than all other chemicals containing face washes And its even affordable as compared to other natural brands available in market '"
      ]
     },
     "execution_count": 8,
     "metadata": {},
     "output_type": "execute_result"
    }
   ],
   "source": [
    "import re\n",
    "# remove all characters not number or characters\n",
    "def cleanText(input_string):\n",
    "    modified_string = re.sub('[^A-Za-z0-9]+', ' ', input_string)\n",
    "    return(modified_string)\n",
    "reviews_df['review'] = reviews_df.review.apply(cleanText)\n",
    "reviews_df['review'][150]"
   ]
  },
  {
   "cell_type": "code",
   "execution_count": 9,
   "metadata": {},
   "outputs": [
    {
     "data": {
      "text/html": [
       "<div>\n",
       "<style scoped>\n",
       "    .dataframe tbody tr th:only-of-type {\n",
       "        vertical-align: middle;\n",
       "    }\n",
       "\n",
       "    .dataframe tbody tr th {\n",
       "        vertical-align: top;\n",
       "    }\n",
       "\n",
       "    .dataframe thead th {\n",
       "        text-align: right;\n",
       "    }\n",
       "</style>\n",
       "<table border=\"1\" class=\"dataframe\">\n",
       "  <thead>\n",
       "    <tr style=\"text-align: right;\">\n",
       "      <th></th>\n",
       "      <th>asin</th>\n",
       "      <th>name</th>\n",
       "      <th>date</th>\n",
       "      <th>rating</th>\n",
       "      <th>review</th>\n",
       "      <th>brandName</th>\n",
       "    </tr>\n",
       "  </thead>\n",
       "  <tbody>\n",
       "    <tr>\n",
       "      <th>0</th>\n",
       "      <td>B07W7CTLD1</td>\n",
       "      <td>Mamaearth-Onion-Growth-Control-Redensyl</td>\n",
       "      <td>9/6/2019</td>\n",
       "      <td>1</td>\n",
       "      <td>I bought this hair oil after viewing so many g...</td>\n",
       "      <td>Mamaearth</td>\n",
       "    </tr>\n",
       "    <tr>\n",
       "      <th>1</th>\n",
       "      <td>B07W7CTLD1</td>\n",
       "      <td>Mamaearth-Onion-Growth-Control-Redensyl</td>\n",
       "      <td>8/14/2019</td>\n",
       "      <td>5</td>\n",
       "      <td>Used This Mama Earth Newly Launched Onion Oil ...</td>\n",
       "      <td>Mamaearth</td>\n",
       "    </tr>\n",
       "    <tr>\n",
       "      <th>2</th>\n",
       "      <td>B07W7CTLD1</td>\n",
       "      <td>Mamaearth-Onion-Growth-Control-Redensyl</td>\n",
       "      <td>10/19/2019</td>\n",
       "      <td>1</td>\n",
       "      <td>So bad product My hair falling increase too mu...</td>\n",
       "      <td>Mamaearth</td>\n",
       "    </tr>\n",
       "    <tr>\n",
       "      <th>3</th>\n",
       "      <td>B07W7CTLD1</td>\n",
       "      <td>Mamaearth-Onion-Growth-Control-Redensyl</td>\n",
       "      <td>9/16/2019</td>\n",
       "      <td>1</td>\n",
       "      <td>Product just smells similar to navarathna hair...</td>\n",
       "      <td>Mamaearth</td>\n",
       "    </tr>\n",
       "    <tr>\n",
       "      <th>4</th>\n",
       "      <td>B07W7CTLD1</td>\n",
       "      <td>Mamaearth-Onion-Growth-Control-Redensyl</td>\n",
       "      <td>8/18/2019</td>\n",
       "      <td>5</td>\n",
       "      <td>I have been trying different onion oil for my ...</td>\n",
       "      <td>Mamaearth</td>\n",
       "    </tr>\n",
       "  </tbody>\n",
       "</table>\n",
       "</div>"
      ],
      "text/plain": [
       "         asin                                     name        date  rating  \\\n",
       "0  B07W7CTLD1  Mamaearth-Onion-Growth-Control-Redensyl    9/6/2019       1   \n",
       "1  B07W7CTLD1  Mamaearth-Onion-Growth-Control-Redensyl   8/14/2019       5   \n",
       "2  B07W7CTLD1  Mamaearth-Onion-Growth-Control-Redensyl  10/19/2019       1   \n",
       "3  B07W7CTLD1  Mamaearth-Onion-Growth-Control-Redensyl   9/16/2019       1   \n",
       "4  B07W7CTLD1  Mamaearth-Onion-Growth-Control-Redensyl   8/18/2019       5   \n",
       "\n",
       "                                              review  brandName  \n",
       "0  I bought this hair oil after viewing so many g...  Mamaearth  \n",
       "1  Used This Mama Earth Newly Launched Onion Oil ...  Mamaearth  \n",
       "2  So bad product My hair falling increase too mu...  Mamaearth  \n",
       "3  Product just smells similar to navarathna hair...  Mamaearth  \n",
       "4  I have been trying different onion oil for my ...  Mamaearth  "
      ]
     },
     "execution_count": 9,
     "metadata": {},
     "output_type": "execute_result"
    }
   ],
   "source": [
    "# From the name we extract the brand\n",
    "reviews_df['brandName'] = reviews_df['name'].str.split('-').str[0]\n",
    "reviews_df.head()"
   ]
  },
  {
   "cell_type": "code",
   "execution_count": 10,
   "metadata": {},
   "outputs": [
    {
     "data": {
      "text/plain": [
       "Cinthol        200\n",
       "Mamaearth      200\n",
       "Titan          200\n",
       "Himalaya       200\n",
       "Godrej         200\n",
       "Streax         188\n",
       "Society        182\n",
       "Tata           180\n",
       "Dettol         180\n",
       "Amul           164\n",
       "Fastrack       160\n",
       "Mysore         154\n",
       "Patanjali      152\n",
       "Britannia      120\n",
       "Reflex          40\n",
       "Natural         40\n",
       "MYSORE          40\n",
       "Paper           40\n",
       "Coca            20\n",
       "Glucon          20\n",
       "Maaza           20\n",
       "PATANJALI       20\n",
       "Maggi           20\n",
       "Savlon          20\n",
       "NutriChoice     12\n",
       "Indiana          6\n",
       "Name: brandName, dtype: int64"
      ]
     },
     "execution_count": 10,
     "metadata": {},
     "output_type": "execute_result"
    }
   ],
   "source": [
    "reviews_df['brandName'].value_counts()"
   ]
  },
  {
   "cell_type": "code",
   "execution_count": 11,
   "metadata": {},
   "outputs": [
    {
     "data": {
      "text/plain": [
       "array(['Mamaearth', 'Godrej', 'Titan', 'Maaza', 'Paper', 'Indiana',\n",
       "       'Coca', 'Natural', 'Maggi', 'Glucon', 'Amul', 'Patanjali',\n",
       "       'Dettol', 'Savlon', 'Cinthol', 'Britannia', 'Nutrichoice',\n",
       "       'Streax', 'Himalaya', 'Society', 'Tata', 'Fastrack', 'Reflex',\n",
       "       'Mysore'], dtype=object)"
      ]
     },
     "execution_count": 11,
     "metadata": {},
     "output_type": "execute_result"
    }
   ],
   "source": [
    "reviews_df['brandName'] = reviews_df['brandName'].str.title()\n",
    "reviews_df.brandName.unique()"
   ]
  },
  {
   "cell_type": "code",
   "execution_count": 12,
   "metadata": {},
   "outputs": [
    {
     "data": {
      "application/vnd.plotly.v1+json": {
       "config": {
        "plotlyServerURL": "https://plot.ly"
       },
       "data": [
        {
         "alignmentgroup": "True",
         "hovertemplate": "count=%{marker.color}<br>brandName=%{y}<extra></extra>",
         "legendgroup": "",
         "marker": {
          "color": [
           6,
           12,
           20,
           20,
           20
          ],
          "coloraxis": "coloraxis",
          "pattern": {
           "shape": ""
          }
         },
         "name": "",
         "offsetgroup": "",
         "orientation": "h",
         "showlegend": false,
         "textposition": "auto",
         "type": "bar",
         "x": [
          6,
          12,
          20,
          20,
          20
         ],
         "xaxis": "x",
         "y": [
          "Indiana",
          "Nutrichoice",
          "Maggi",
          "Savlon",
          "Coca"
         ],
         "yaxis": "y"
        }
       ],
       "layout": {
        "barmode": "relative",
        "coloraxis": {
         "colorbar": {
          "title": {
           "text": "count"
          }
         },
         "colorscale": [
          [
           0,
           "#0d0887"
          ],
          [
           0.1111111111111111,
           "#46039f"
          ],
          [
           0.2222222222222222,
           "#7201a8"
          ],
          [
           0.3333333333333333,
           "#9c179e"
          ],
          [
           0.4444444444444444,
           "#bd3786"
          ],
          [
           0.5555555555555556,
           "#d8576b"
          ],
          [
           0.6666666666666666,
           "#ed7953"
          ],
          [
           0.7777777777777778,
           "#fb9f3a"
          ],
          [
           0.8888888888888888,
           "#fdca26"
          ],
          [
           1,
           "#f0f921"
          ]
         ]
        },
        "legend": {
         "tracegroupgap": 0
        },
        "margin": {
         "t": 60
        },
        "template": {
         "data": {
          "bar": [
           {
            "error_x": {
             "color": "#f2f5fa"
            },
            "error_y": {
             "color": "#f2f5fa"
            },
            "marker": {
             "line": {
              "color": "rgb(17,17,17)",
              "width": 0.5
             },
             "pattern": {
              "fillmode": "overlay",
              "size": 10,
              "solidity": 0.2
             }
            },
            "type": "bar"
           }
          ],
          "barpolar": [
           {
            "marker": {
             "line": {
              "color": "rgb(17,17,17)",
              "width": 0.5
             },
             "pattern": {
              "fillmode": "overlay",
              "size": 10,
              "solidity": 0.2
             }
            },
            "type": "barpolar"
           }
          ],
          "carpet": [
           {
            "aaxis": {
             "endlinecolor": "#A2B1C6",
             "gridcolor": "#506784",
             "linecolor": "#506784",
             "minorgridcolor": "#506784",
             "startlinecolor": "#A2B1C6"
            },
            "baxis": {
             "endlinecolor": "#A2B1C6",
             "gridcolor": "#506784",
             "linecolor": "#506784",
             "minorgridcolor": "#506784",
             "startlinecolor": "#A2B1C6"
            },
            "type": "carpet"
           }
          ],
          "choropleth": [
           {
            "colorbar": {
             "outlinewidth": 0,
             "ticks": ""
            },
            "type": "choropleth"
           }
          ],
          "contour": [
           {
            "colorbar": {
             "outlinewidth": 0,
             "ticks": ""
            },
            "colorscale": [
             [
              0,
              "#0d0887"
             ],
             [
              0.1111111111111111,
              "#46039f"
             ],
             [
              0.2222222222222222,
              "#7201a8"
             ],
             [
              0.3333333333333333,
              "#9c179e"
             ],
             [
              0.4444444444444444,
              "#bd3786"
             ],
             [
              0.5555555555555556,
              "#d8576b"
             ],
             [
              0.6666666666666666,
              "#ed7953"
             ],
             [
              0.7777777777777778,
              "#fb9f3a"
             ],
             [
              0.8888888888888888,
              "#fdca26"
             ],
             [
              1,
              "#f0f921"
             ]
            ],
            "type": "contour"
           }
          ],
          "contourcarpet": [
           {
            "colorbar": {
             "outlinewidth": 0,
             "ticks": ""
            },
            "type": "contourcarpet"
           }
          ],
          "heatmap": [
           {
            "colorbar": {
             "outlinewidth": 0,
             "ticks": ""
            },
            "colorscale": [
             [
              0,
              "#0d0887"
             ],
             [
              0.1111111111111111,
              "#46039f"
             ],
             [
              0.2222222222222222,
              "#7201a8"
             ],
             [
              0.3333333333333333,
              "#9c179e"
             ],
             [
              0.4444444444444444,
              "#bd3786"
             ],
             [
              0.5555555555555556,
              "#d8576b"
             ],
             [
              0.6666666666666666,
              "#ed7953"
             ],
             [
              0.7777777777777778,
              "#fb9f3a"
             ],
             [
              0.8888888888888888,
              "#fdca26"
             ],
             [
              1,
              "#f0f921"
             ]
            ],
            "type": "heatmap"
           }
          ],
          "heatmapgl": [
           {
            "colorbar": {
             "outlinewidth": 0,
             "ticks": ""
            },
            "colorscale": [
             [
              0,
              "#0d0887"
             ],
             [
              0.1111111111111111,
              "#46039f"
             ],
             [
              0.2222222222222222,
              "#7201a8"
             ],
             [
              0.3333333333333333,
              "#9c179e"
             ],
             [
              0.4444444444444444,
              "#bd3786"
             ],
             [
              0.5555555555555556,
              "#d8576b"
             ],
             [
              0.6666666666666666,
              "#ed7953"
             ],
             [
              0.7777777777777778,
              "#fb9f3a"
             ],
             [
              0.8888888888888888,
              "#fdca26"
             ],
             [
              1,
              "#f0f921"
             ]
            ],
            "type": "heatmapgl"
           }
          ],
          "histogram": [
           {
            "marker": {
             "pattern": {
              "fillmode": "overlay",
              "size": 10,
              "solidity": 0.2
             }
            },
            "type": "histogram"
           }
          ],
          "histogram2d": [
           {
            "colorbar": {
             "outlinewidth": 0,
             "ticks": ""
            },
            "colorscale": [
             [
              0,
              "#0d0887"
             ],
             [
              0.1111111111111111,
              "#46039f"
             ],
             [
              0.2222222222222222,
              "#7201a8"
             ],
             [
              0.3333333333333333,
              "#9c179e"
             ],
             [
              0.4444444444444444,
              "#bd3786"
             ],
             [
              0.5555555555555556,
              "#d8576b"
             ],
             [
              0.6666666666666666,
              "#ed7953"
             ],
             [
              0.7777777777777778,
              "#fb9f3a"
             ],
             [
              0.8888888888888888,
              "#fdca26"
             ],
             [
              1,
              "#f0f921"
             ]
            ],
            "type": "histogram2d"
           }
          ],
          "histogram2dcontour": [
           {
            "colorbar": {
             "outlinewidth": 0,
             "ticks": ""
            },
            "colorscale": [
             [
              0,
              "#0d0887"
             ],
             [
              0.1111111111111111,
              "#46039f"
             ],
             [
              0.2222222222222222,
              "#7201a8"
             ],
             [
              0.3333333333333333,
              "#9c179e"
             ],
             [
              0.4444444444444444,
              "#bd3786"
             ],
             [
              0.5555555555555556,
              "#d8576b"
             ],
             [
              0.6666666666666666,
              "#ed7953"
             ],
             [
              0.7777777777777778,
              "#fb9f3a"
             ],
             [
              0.8888888888888888,
              "#fdca26"
             ],
             [
              1,
              "#f0f921"
             ]
            ],
            "type": "histogram2dcontour"
           }
          ],
          "mesh3d": [
           {
            "colorbar": {
             "outlinewidth": 0,
             "ticks": ""
            },
            "type": "mesh3d"
           }
          ],
          "parcoords": [
           {
            "line": {
             "colorbar": {
              "outlinewidth": 0,
              "ticks": ""
             }
            },
            "type": "parcoords"
           }
          ],
          "pie": [
           {
            "automargin": true,
            "type": "pie"
           }
          ],
          "scatter": [
           {
            "marker": {
             "line": {
              "color": "#283442"
             }
            },
            "type": "scatter"
           }
          ],
          "scatter3d": [
           {
            "line": {
             "colorbar": {
              "outlinewidth": 0,
              "ticks": ""
             }
            },
            "marker": {
             "colorbar": {
              "outlinewidth": 0,
              "ticks": ""
             }
            },
            "type": "scatter3d"
           }
          ],
          "scattercarpet": [
           {
            "marker": {
             "colorbar": {
              "outlinewidth": 0,
              "ticks": ""
             }
            },
            "type": "scattercarpet"
           }
          ],
          "scattergeo": [
           {
            "marker": {
             "colorbar": {
              "outlinewidth": 0,
              "ticks": ""
             }
            },
            "type": "scattergeo"
           }
          ],
          "scattergl": [
           {
            "marker": {
             "line": {
              "color": "#283442"
             }
            },
            "type": "scattergl"
           }
          ],
          "scattermapbox": [
           {
            "marker": {
             "colorbar": {
              "outlinewidth": 0,
              "ticks": ""
             }
            },
            "type": "scattermapbox"
           }
          ],
          "scatterpolar": [
           {
            "marker": {
             "colorbar": {
              "outlinewidth": 0,
              "ticks": ""
             }
            },
            "type": "scatterpolar"
           }
          ],
          "scatterpolargl": [
           {
            "marker": {
             "colorbar": {
              "outlinewidth": 0,
              "ticks": ""
             }
            },
            "type": "scatterpolargl"
           }
          ],
          "scatterternary": [
           {
            "marker": {
             "colorbar": {
              "outlinewidth": 0,
              "ticks": ""
             }
            },
            "type": "scatterternary"
           }
          ],
          "surface": [
           {
            "colorbar": {
             "outlinewidth": 0,
             "ticks": ""
            },
            "colorscale": [
             [
              0,
              "#0d0887"
             ],
             [
              0.1111111111111111,
              "#46039f"
             ],
             [
              0.2222222222222222,
              "#7201a8"
             ],
             [
              0.3333333333333333,
              "#9c179e"
             ],
             [
              0.4444444444444444,
              "#bd3786"
             ],
             [
              0.5555555555555556,
              "#d8576b"
             ],
             [
              0.6666666666666666,
              "#ed7953"
             ],
             [
              0.7777777777777778,
              "#fb9f3a"
             ],
             [
              0.8888888888888888,
              "#fdca26"
             ],
             [
              1,
              "#f0f921"
             ]
            ],
            "type": "surface"
           }
          ],
          "table": [
           {
            "cells": {
             "fill": {
              "color": "#506784"
             },
             "line": {
              "color": "rgb(17,17,17)"
             }
            },
            "header": {
             "fill": {
              "color": "#2a3f5f"
             },
             "line": {
              "color": "rgb(17,17,17)"
             }
            },
            "type": "table"
           }
          ]
         },
         "layout": {
          "annotationdefaults": {
           "arrowcolor": "#f2f5fa",
           "arrowhead": 0,
           "arrowwidth": 1
          },
          "autotypenumbers": "strict",
          "coloraxis": {
           "colorbar": {
            "outlinewidth": 0,
            "ticks": ""
           }
          },
          "colorscale": {
           "diverging": [
            [
             0,
             "#8e0152"
            ],
            [
             0.1,
             "#c51b7d"
            ],
            [
             0.2,
             "#de77ae"
            ],
            [
             0.3,
             "#f1b6da"
            ],
            [
             0.4,
             "#fde0ef"
            ],
            [
             0.5,
             "#f7f7f7"
            ],
            [
             0.6,
             "#e6f5d0"
            ],
            [
             0.7,
             "#b8e186"
            ],
            [
             0.8,
             "#7fbc41"
            ],
            [
             0.9,
             "#4d9221"
            ],
            [
             1,
             "#276419"
            ]
           ],
           "sequential": [
            [
             0,
             "#0d0887"
            ],
            [
             0.1111111111111111,
             "#46039f"
            ],
            [
             0.2222222222222222,
             "#7201a8"
            ],
            [
             0.3333333333333333,
             "#9c179e"
            ],
            [
             0.4444444444444444,
             "#bd3786"
            ],
            [
             0.5555555555555556,
             "#d8576b"
            ],
            [
             0.6666666666666666,
             "#ed7953"
            ],
            [
             0.7777777777777778,
             "#fb9f3a"
            ],
            [
             0.8888888888888888,
             "#fdca26"
            ],
            [
             1,
             "#f0f921"
            ]
           ],
           "sequentialminus": [
            [
             0,
             "#0d0887"
            ],
            [
             0.1111111111111111,
             "#46039f"
            ],
            [
             0.2222222222222222,
             "#7201a8"
            ],
            [
             0.3333333333333333,
             "#9c179e"
            ],
            [
             0.4444444444444444,
             "#bd3786"
            ],
            [
             0.5555555555555556,
             "#d8576b"
            ],
            [
             0.6666666666666666,
             "#ed7953"
            ],
            [
             0.7777777777777778,
             "#fb9f3a"
            ],
            [
             0.8888888888888888,
             "#fdca26"
            ],
            [
             1,
             "#f0f921"
            ]
           ]
          },
          "colorway": [
           "#636efa",
           "#EF553B",
           "#00cc96",
           "#ab63fa",
           "#FFA15A",
           "#19d3f3",
           "#FF6692",
           "#B6E880",
           "#FF97FF",
           "#FECB52"
          ],
          "font": {
           "color": "#f2f5fa"
          },
          "geo": {
           "bgcolor": "rgb(17,17,17)",
           "lakecolor": "rgb(17,17,17)",
           "landcolor": "rgb(17,17,17)",
           "showlakes": true,
           "showland": true,
           "subunitcolor": "#506784"
          },
          "hoverlabel": {
           "align": "left"
          },
          "hovermode": "closest",
          "mapbox": {
           "style": "dark"
          },
          "paper_bgcolor": "rgb(17,17,17)",
          "plot_bgcolor": "rgb(17,17,17)",
          "polar": {
           "angularaxis": {
            "gridcolor": "#506784",
            "linecolor": "#506784",
            "ticks": ""
           },
           "bgcolor": "rgb(17,17,17)",
           "radialaxis": {
            "gridcolor": "#506784",
            "linecolor": "#506784",
            "ticks": ""
           }
          },
          "scene": {
           "xaxis": {
            "backgroundcolor": "rgb(17,17,17)",
            "gridcolor": "#506784",
            "gridwidth": 2,
            "linecolor": "#506784",
            "showbackground": true,
            "ticks": "",
            "zerolinecolor": "#C8D4E3"
           },
           "yaxis": {
            "backgroundcolor": "rgb(17,17,17)",
            "gridcolor": "#506784",
            "gridwidth": 2,
            "linecolor": "#506784",
            "showbackground": true,
            "ticks": "",
            "zerolinecolor": "#C8D4E3"
           },
           "zaxis": {
            "backgroundcolor": "rgb(17,17,17)",
            "gridcolor": "#506784",
            "gridwidth": 2,
            "linecolor": "#506784",
            "showbackground": true,
            "ticks": "",
            "zerolinecolor": "#C8D4E3"
           }
          },
          "shapedefaults": {
           "line": {
            "color": "#f2f5fa"
           }
          },
          "sliderdefaults": {
           "bgcolor": "#C8D4E3",
           "bordercolor": "rgb(17,17,17)",
           "borderwidth": 1,
           "tickwidth": 0
          },
          "ternary": {
           "aaxis": {
            "gridcolor": "#506784",
            "linecolor": "#506784",
            "ticks": ""
           },
           "baxis": {
            "gridcolor": "#506784",
            "linecolor": "#506784",
            "ticks": ""
           },
           "bgcolor": "rgb(17,17,17)",
           "caxis": {
            "gridcolor": "#506784",
            "linecolor": "#506784",
            "ticks": ""
           }
          },
          "title": {
           "x": 0.05
          },
          "updatemenudefaults": {
           "bgcolor": "#506784",
           "borderwidth": 0
          },
          "xaxis": {
           "automargin": true,
           "gridcolor": "#283442",
           "linecolor": "#506784",
           "ticks": "",
           "title": {
            "standoff": 15
           },
           "zerolinecolor": "#283442",
           "zerolinewidth": 2
          },
          "yaxis": {
           "automargin": true,
           "gridcolor": "#283442",
           "linecolor": "#506784",
           "ticks": "",
           "title": {
            "standoff": 15
           },
           "zerolinecolor": "#283442",
           "zerolinewidth": 2
          }
         }
        },
        "title": {
         "text": "Top 5 Names Of Brands With Least Number Of Reviews",
         "x": 0.5
        },
        "xaxis": {
         "anchor": "y",
         "domain": [
          0,
          1
         ],
         "title": {
          "text": "count"
         }
        },
        "yaxis": {
         "anchor": "x",
         "domain": [
          0,
          1
         ],
         "title": {
          "text": "brandName"
         }
        }
       }
      }
     },
     "metadata": {},
     "output_type": "display_data"
    }
   ],
   "source": [
    "df1 = pd.DataFrame(reviews_df.groupby('brandName')['asin'].count().reset_index())\n",
    "df1.columns=['brandName','count']\n",
    "sort_df = df1.sort_values(['count'],ascending=True)\n",
    "\n",
    "fig = px.bar(sort_df.iloc[:5,:],y='brandName',x='count',\n",
    "             orientation='h',color='count')\n",
    "fig.update_layout(title_text='Top 5 Names Of Brands With Least Number Of Reviews',title_x=0.5,\n",
    "                  template='plotly_dark')\n",
    "fig.show()"
   ]
  },
  {
   "cell_type": "code",
   "execution_count": 13,
   "metadata": {},
   "outputs": [
    {
     "data": {
      "text/plain": [
       "array(['Onion-Growth-Control-Redensyl',\n",
       "       'Percent-Natural-Berry-Toothpaste',\n",
       "       'Natural-Turmeric-Saffron-brightning',\n",
       "       'Illuminate-Vitamin-Radiant-Turmeric',\n",
       "       'Blemishes-Pigmentation-Blemish-Mulberry', 'Face-Wash-100-ml',\n",
       "       'Moisturizing-Baby-Bathing-Oatmeal',\n",
       "       'Protekt-Master-Blaster-Handwash', 'No-1-Bathing-Soap-Lime',\n",
       "       'No-1-Bathing-Soap-Turmeric', 'Direct-Cool-Refrigerator-1905-PTDI',\n",
       "       'aer-Pocket-Bathroom-Fragrance',\n",
       "       'Security-Solutions-SEEC9060-Electronic',\n",
       "       'Matic-Spray-Violet-Valley',\n",
       "       'Security-Solutions-Goldilocks-Personal',\n",
       "       'ViroShield-Disinfecting-VIROSHIELD-30UV',\n",
       "       'Analog-Black-Dial-Watch-1805NM01',\n",
       "       'Analog-White-Dial-Watch-NK1639SL03',\n",
       "       'Karishma-Analog-Blue-Watch-1774SM01',\n",
       "       'Karishma-Analog-Black-Watch-NK1639SM02',\n",
       "       'Octane-Analog-Silver-Watch-NK1650BM03',\n",
       "       'Analog-Black-Dial-Watch-NK1730SL02',\n",
       "       'Karishma-Analog-Champagne-Watch-NK1580YL05',\n",
       "       'Analog-Gold-Dial-Watch-NK1650YM04',\n",
       "       'Karishma-Analog-Black-NK1578SM04', '1-2L',\n",
       "       'Boat-Aamras-Juice-250ml', 'Frutti-Cherries-Frooti-Multicolor',\n",
       "       'Cola-300ml-Pack-6', 'Mango-Juice-1L-Pack', 'Boat-Mixed-Fruit',\n",
       "       'Masala-Noodles-Singles-840g', 'D-Glucose-Based-Beverage-Orange',\n",
       "       'Festive-Delight-Assorted-Jelimals',\n",
       "       'Butter-Pasteurised-100g-Pack', 'Cow-Ghee-500ml',\n",
       "       'Fresh-Paneer-200g', 'Cacao-Chocolate-125g-Pack',\n",
       "       'Cheese-Slices-200g-Pack', 'Fresh-Cream-250ml',\n",
       "       'Pure-Ghee-Pouch-1L', 'Pro-500g-Pouch-Pack',\n",
       "       'Gold-Milk-Homogenised-Standardised', 'Cows-Ghee-1L',\n",
       "       'Aloe-Pimples-Moisturizing-150ml',\n",
       "       'Shatavar-Mushli-Ashwagandha-Churna',\n",
       "       'Kanti-Natural-Cleanser-Shampoo', 'Ayurved-Ltd-CORO-NIL-Tablet',\n",
       "       'UHT-Milk-1000-ml', 'Cows-Ghee-500ml', 'Saundarya-Aloe-Vera-150ml',\n",
       "       'Disinfectant-Multi-Use-Hygiene-Liquid',\n",
       "       'Disinfectant-Cleaner-Home-Fresh', 'Liquid-Refill-Original-1500',\n",
       "       'Multi-Purpose-Disinfectant-Surfaces-Original',\n",
       "       'After-Shave-Lotion-1000', 'Original-Protection-Bathing-125gm',\n",
       "       'Detergent-Liquid-Laundry-Sanitizer-Spring-Blossom',\n",
       "       'Disinfectant-Liquid-Menthol-Cool', 'Lime-Soap-100-Pack',\n",
       "       'Original-Soap-100-Pack', 'Lime-Soap-100g-Pack',\n",
       "       'Original-Soap-100g-Pack', 'Soap-125g-Pack-Free',\n",
       "       'Cool-Soap-100-Pack', 'Confidence-Soap-100g-Pack',\n",
       "       'Cool-Soap-100g-Free', 'NutriChoice-Digestive-100g',\n",
       "       'Good-Day-Cashew-200g', 'Marie-Gold-200g',\n",
       "       'Digestives-grain-Pack-200g', 'Vita-Marie-Gold-150g',\n",
       "       '50-50-Biscuits-Pouch-80g', 'Nice-Time-150g',\n",
       "       'Hair-Serum-Gloss-100ml', 'Shampoo-Enriched-Extracts-Long-Lasting',\n",
       "       'Vitalized-Hair-Serum-300',\n",
       "       'Ultralights-Highlighting-Kit-Collection',\n",
       "       'Shampoo-Colour-Natural-Black-25-ml-Pack',\n",
       "       'Professional-Hold-Funkey-Colour',\n",
       "       'Soft-Hair-Colour-Natural-Black-170', 'Perfumed-Body-Peach-100ml',\n",
       "       '4004G-Baby-Powder-400g', 'Moisturizing-Aloe-Vera-200ml',\n",
       "       'Baby-Shampoo-400-ml', '4003F-Baby-Lotion-400ml', 'Gift-Pack',\n",
       "       'Herbals-Baby-Lotion-400ml', 'Herbals-Anti-Wrinkle-Cream',\n",
       "       'Tea-Regular-250g-Pouch', 'Tea-Regular-Pouch-1kg',\n",
       "       'Tea-Masala-Jar-250g', 'Tea-Minute-Masala-500g',\n",
       "       'Daily-Elachi-Premix-Pouch', 'Tea-Premium-Packet-1000g',\n",
       "       'Tea-Daily-Masala-Premix', 'Tea-Minute-Ginger-Lemongrass',\n",
       "       'Minute-Tea-Masala-500g', 'Tea-Gold-500g', 'Tea-Premium-North-1kg',\n",
       "       'Tea-Gold-1kg', 'Tea-Gold-Leaf-Pouch', 'Tea-Premium-1-5kg',\n",
       "       'Premium-Leaf-South-500g', 'Agni-Leaf-Tea-1kg',\n",
       "       'Casual-Analog-White-Watch-NK3121SM01',\n",
       "       'Analog-Womens-6150SM04-NK6150SM04',\n",
       "       'Casual-Analog-Blue-Watch-NK3124SL02',\n",
       "       'Activity-Tracker-Monitor-SWD90066PP01',\n",
       "       'Economy-2013-Analog-Watch-NK3099SP05',\n",
       "       'Casual-Analog-Grey-Watch-NK3121SL02',\n",
       "       'Casual-Analog-White-Watch-NK3120SL01',\n",
       "       'Analog-Silver-Dial-Watch-NK9332PP06',\n",
       "       'Activity-Tracker-Monitor-SWD90066PP02',\n",
       "       'SANDAL-Mysore-Sandal-Talcum', 'Sandal-Bathing-Soap-125g',\n",
       "       'Sandal-Gold-Soap-Pack', 'Whitening-Rejuvenating-Face-Pack',\n",
       "       'Sandal-Jasmine-Rose-Soap', 'Sandal-Millennium-Soap-150g',\n",
       "       'Sandal-Agarbathies-Pack-Box', 'Sandal-Soaps-Pack-Bars'],\n",
       "      dtype=object)"
      ]
     },
     "execution_count": 13,
     "metadata": {},
     "output_type": "execute_result"
    }
   ],
   "source": [
    "# Extracting the product from the name column.\n",
    "products = []\n",
    "for value in reviews_df['name']:\n",
    "    indx = len(value.split('-')[0])+1\n",
    "    products.append(value[indx:])\n",
    "reviews_df['product'] = products\n",
    "reviews_df['product'].unique()"
   ]
  },
  {
   "cell_type": "code",
   "execution_count": 14,
   "metadata": {},
   "outputs": [
    {
     "data": {
      "text/html": [
       "<div>\n",
       "<style scoped>\n",
       "    .dataframe tbody tr th:only-of-type {\n",
       "        vertical-align: middle;\n",
       "    }\n",
       "\n",
       "    .dataframe tbody tr th {\n",
       "        vertical-align: top;\n",
       "    }\n",
       "\n",
       "    .dataframe thead th {\n",
       "        text-align: right;\n",
       "    }\n",
       "</style>\n",
       "<table border=\"1\" class=\"dataframe\">\n",
       "  <thead>\n",
       "    <tr style=\"text-align: right;\">\n",
       "      <th></th>\n",
       "      <th>asin</th>\n",
       "      <th>name</th>\n",
       "      <th>date</th>\n",
       "      <th>rating</th>\n",
       "      <th>review</th>\n",
       "      <th>brandName</th>\n",
       "      <th>product</th>\n",
       "    </tr>\n",
       "  </thead>\n",
       "  <tbody>\n",
       "    <tr>\n",
       "      <th>0</th>\n",
       "      <td>B07W7CTLD1</td>\n",
       "      <td>Mamaearth-Onion-Growth-Control-Redensyl</td>\n",
       "      <td>9/6/2019</td>\n",
       "      <td>1</td>\n",
       "      <td>I bought this hair oil after viewing so many g...</td>\n",
       "      <td>Mamaearth</td>\n",
       "      <td>Onion-Growth-Control-Redensyl</td>\n",
       "    </tr>\n",
       "    <tr>\n",
       "      <th>1</th>\n",
       "      <td>B07W7CTLD1</td>\n",
       "      <td>Mamaearth-Onion-Growth-Control-Redensyl</td>\n",
       "      <td>8/14/2019</td>\n",
       "      <td>5</td>\n",
       "      <td>Used This Mama Earth Newly Launched Onion Oil ...</td>\n",
       "      <td>Mamaearth</td>\n",
       "      <td>Onion-Growth-Control-Redensyl</td>\n",
       "    </tr>\n",
       "    <tr>\n",
       "      <th>2</th>\n",
       "      <td>B07W7CTLD1</td>\n",
       "      <td>Mamaearth-Onion-Growth-Control-Redensyl</td>\n",
       "      <td>10/19/2019</td>\n",
       "      <td>1</td>\n",
       "      <td>So bad product My hair falling increase too mu...</td>\n",
       "      <td>Mamaearth</td>\n",
       "      <td>Onion-Growth-Control-Redensyl</td>\n",
       "    </tr>\n",
       "    <tr>\n",
       "      <th>3</th>\n",
       "      <td>B07W7CTLD1</td>\n",
       "      <td>Mamaearth-Onion-Growth-Control-Redensyl</td>\n",
       "      <td>9/16/2019</td>\n",
       "      <td>1</td>\n",
       "      <td>Product just smells similar to navarathna hair...</td>\n",
       "      <td>Mamaearth</td>\n",
       "      <td>Onion-Growth-Control-Redensyl</td>\n",
       "    </tr>\n",
       "    <tr>\n",
       "      <th>4</th>\n",
       "      <td>B07W7CTLD1</td>\n",
       "      <td>Mamaearth-Onion-Growth-Control-Redensyl</td>\n",
       "      <td>8/18/2019</td>\n",
       "      <td>5</td>\n",
       "      <td>I have been trying different onion oil for my ...</td>\n",
       "      <td>Mamaearth</td>\n",
       "      <td>Onion-Growth-Control-Redensyl</td>\n",
       "    </tr>\n",
       "  </tbody>\n",
       "</table>\n",
       "</div>"
      ],
      "text/plain": [
       "         asin                                     name        date  rating  \\\n",
       "0  B07W7CTLD1  Mamaearth-Onion-Growth-Control-Redensyl    9/6/2019       1   \n",
       "1  B07W7CTLD1  Mamaearth-Onion-Growth-Control-Redensyl   8/14/2019       5   \n",
       "2  B07W7CTLD1  Mamaearth-Onion-Growth-Control-Redensyl  10/19/2019       1   \n",
       "3  B07W7CTLD1  Mamaearth-Onion-Growth-Control-Redensyl   9/16/2019       1   \n",
       "4  B07W7CTLD1  Mamaearth-Onion-Growth-Control-Redensyl   8/18/2019       5   \n",
       "\n",
       "                                              review  brandName  \\\n",
       "0  I bought this hair oil after viewing so many g...  Mamaearth   \n",
       "1  Used This Mama Earth Newly Launched Onion Oil ...  Mamaearth   \n",
       "2  So bad product My hair falling increase too mu...  Mamaearth   \n",
       "3  Product just smells similar to navarathna hair...  Mamaearth   \n",
       "4  I have been trying different onion oil for my ...  Mamaearth   \n",
       "\n",
       "                         product  \n",
       "0  Onion-Growth-Control-Redensyl  \n",
       "1  Onion-Growth-Control-Redensyl  \n",
       "2  Onion-Growth-Control-Redensyl  \n",
       "3  Onion-Growth-Control-Redensyl  \n",
       "4  Onion-Growth-Control-Redensyl  "
      ]
     },
     "execution_count": 14,
     "metadata": {},
     "output_type": "execute_result"
    }
   ],
   "source": [
    "reviews_df.head()"
   ]
  },
  {
   "cell_type": "code",
   "execution_count": 15,
   "metadata": {},
   "outputs": [
    {
     "data": {
      "image/png": "[encoded data removed]",
      "text/plain": [
       "<Figure size 720x432 with 1 Axes>"
      ]
     },
     "metadata": {
      "needs_background": "light"
     },
     "output_type": "display_data"
    }
   ],
   "source": [
    "plt.figure(figsize = (10,6))\n",
    "sns.barplot(reviews_df['brandName'].value_counts()[:25].index,reviews_df['brandName'].value_counts()[:25].values)\n",
    "plt.title('Review counts and brands')\n",
    "plt.xlabel('Brands')\n",
    "plt.ylabel('count')\n",
    "plt.xticks(rotation=60)\n",
    "plt.show()"
   ]
  },
  {
   "cell_type": "markdown",
   "metadata": {},
   "source": [
    "Text analysis with NLTK and Vader Sentiment analyzer"
   ]
  },
  {
   "cell_type": "code",
   "execution_count": 16,
   "metadata": {},
   "outputs": [],
   "source": [
    "import string\n",
    "import nltk\n",
    "from nltk.corpus import stopwords\n",
    "#converting to lower case\n",
    "reviews_df['clean_review_text']=reviews_df['review'].str.lower()\n",
    "#removing punctuations\n",
    "reviews_df['clean_review_text']=reviews_df['clean_review_text'].str.translate(str.maketrans('', '',string.punctuation))\n",
    "stopWords=stopwords.words('english')+['the', 'a','an', 'i', 'he', 'she', 'they', 'to', 'of', 'it', 'from']\n",
    "def removeStopWords(stopWords, rvw_txt):\n",
    "    newtxt = ' '.join([word for word in rvw_txt.split() if word not in stopWords])\n",
    "    return newtxt\n",
    "reviews_df['clean_review_text'] = [removeStopWords(stopWords,x) for x in reviews_df['clean_review_text']]"
   ]
  },
  {
   "cell_type": "markdown",
   "metadata": {},
   "source": [
    "**Stemming**"
   ]
  },
  {
   "cell_type": "code",
   "execution_count": 17,
   "metadata": {},
   "outputs": [],
   "source": [
    "from nltk.stem import PorterStemmer\n",
    "porter_stemmer = PorterStemmer()\n",
    "def stem_sentences(sentence):\n",
    "    tokens = sentence.split()\n",
    "    stemmed_tokens = [porter_stemmer.stem(token) for token in tokens]\n",
    "    return ' '.join(stemmed_tokens)\n",
    "reviews_df['clean_review_text']=reviews_df['clean_review_text'].apply(stem_sentences)\n",
    "#data_stem['TWEET_SENT_1'] = data_stem['TWEET_SENT_1'].apply(stem_sentences)"
   ]
  },
  {
   "cell_type": "code",
   "execution_count": 18,
   "metadata": {},
   "outputs": [
    {
     "name": "stderr",
     "output_type": "stream",
     "text": [
      "[nltk_data] Downloading package punkt to\n",
      "[nltk_data]     C:\\Users\\kshit\\AppData\\Roaming\\nltk_data...\n",
      "[nltk_data]   Unzipping tokenizers\\punkt.zip.\n"
     ]
    },
    {
     "data": {
      "text/plain": [
       "True"
      ]
     },
     "execution_count": 18,
     "metadata": {},
     "output_type": "execute_result"
    }
   ],
   "source": [
    "import nltk\n",
    "nltk.download('punkt')"
   ]
  },
  {
   "cell_type": "code",
   "execution_count": 19,
   "metadata": {},
   "outputs": [
    {
     "data": {
      "text/html": [
       "<div>\n",
       "<style scoped>\n",
       "    .dataframe tbody tr th:only-of-type {\n",
       "        vertical-align: middle;\n",
       "    }\n",
       "\n",
       "    .dataframe tbody tr th {\n",
       "        vertical-align: top;\n",
       "    }\n",
       "\n",
       "    .dataframe thead th {\n",
       "        text-align: right;\n",
       "    }\n",
       "</style>\n",
       "<table border=\"1\" class=\"dataframe\">\n",
       "  <thead>\n",
       "    <tr style=\"text-align: right;\">\n",
       "      <th></th>\n",
       "      <th>asin</th>\n",
       "      <th>name</th>\n",
       "      <th>date</th>\n",
       "      <th>rating</th>\n",
       "      <th>review</th>\n",
       "      <th>brandName</th>\n",
       "      <th>product</th>\n",
       "      <th>clean_review_text</th>\n",
       "    </tr>\n",
       "  </thead>\n",
       "  <tbody>\n",
       "    <tr>\n",
       "      <th>0</th>\n",
       "      <td>B07W7CTLD1</td>\n",
       "      <td>Mamaearth-Onion-Growth-Control-Redensyl</td>\n",
       "      <td>9/6/2019</td>\n",
       "      <td>1</td>\n",
       "      <td>I bought this hair oil after viewing so many g...</td>\n",
       "      <td>Mamaearth</td>\n",
       "      <td>Onion-Growth-Control-Redensyl</td>\n",
       "      <td>bought hair oil view mani good comment product...</td>\n",
       "    </tr>\n",
       "    <tr>\n",
       "      <th>1</th>\n",
       "      <td>B07W7CTLD1</td>\n",
       "      <td>Mamaearth-Onion-Growth-Control-Redensyl</td>\n",
       "      <td>8/14/2019</td>\n",
       "      <td>5</td>\n",
       "      <td>Used This Mama Earth Newly Launched Onion Oil ...</td>\n",
       "      <td>Mamaearth</td>\n",
       "      <td>Onion-Growth-Control-Redensyl</td>\n",
       "      <td>use mama earth newli launch onion oil twice mu...</td>\n",
       "    </tr>\n",
       "    <tr>\n",
       "      <th>2</th>\n",
       "      <td>B07W7CTLD1</td>\n",
       "      <td>Mamaearth-Onion-Growth-Control-Redensyl</td>\n",
       "      <td>10/19/2019</td>\n",
       "      <td>1</td>\n",
       "      <td>So bad product My hair falling increase too mu...</td>\n",
       "      <td>Mamaearth</td>\n",
       "      <td>Onion-Growth-Control-Redensyl</td>\n",
       "      <td>bad product hair fall increas much order shamp...</td>\n",
       "    </tr>\n",
       "    <tr>\n",
       "      <th>3</th>\n",
       "      <td>B07W7CTLD1</td>\n",
       "      <td>Mamaearth-Onion-Growth-Control-Redensyl</td>\n",
       "      <td>9/16/2019</td>\n",
       "      <td>1</td>\n",
       "      <td>Product just smells similar to navarathna hair...</td>\n",
       "      <td>Mamaearth</td>\n",
       "      <td>Onion-Growth-Control-Redensyl</td>\n",
       "      <td>product smell similar navarathna hair oil stro...</td>\n",
       "    </tr>\n",
       "    <tr>\n",
       "      <th>4</th>\n",
       "      <td>B07W7CTLD1</td>\n",
       "      <td>Mamaearth-Onion-Growth-Control-Redensyl</td>\n",
       "      <td>8/18/2019</td>\n",
       "      <td>5</td>\n",
       "      <td>I have been trying different onion oil for my ...</td>\n",
       "      <td>Mamaearth</td>\n",
       "      <td>Onion-Growth-Control-Redensyl</td>\n",
       "      <td>tri differ onion oil hair hair healthi product...</td>\n",
       "    </tr>\n",
       "  </tbody>\n",
       "</table>\n",
       "</div>"
      ],
      "text/plain": [
       "         asin                                     name        date  rating  \\\n",
       "0  B07W7CTLD1  Mamaearth-Onion-Growth-Control-Redensyl    9/6/2019       1   \n",
       "1  B07W7CTLD1  Mamaearth-Onion-Growth-Control-Redensyl   8/14/2019       5   \n",
       "2  B07W7CTLD1  Mamaearth-Onion-Growth-Control-Redensyl  10/19/2019       1   \n",
       "3  B07W7CTLD1  Mamaearth-Onion-Growth-Control-Redensyl   9/16/2019       1   \n",
       "4  B07W7CTLD1  Mamaearth-Onion-Growth-Control-Redensyl   8/18/2019       5   \n",
       "\n",
       "                                              review  brandName  \\\n",
       "0  I bought this hair oil after viewing so many g...  Mamaearth   \n",
       "1  Used This Mama Earth Newly Launched Onion Oil ...  Mamaearth   \n",
       "2  So bad product My hair falling increase too mu...  Mamaearth   \n",
       "3  Product just smells similar to navarathna hair...  Mamaearth   \n",
       "4  I have been trying different onion oil for my ...  Mamaearth   \n",
       "\n",
       "                         product  \\\n",
       "0  Onion-Growth-Control-Redensyl   \n",
       "1  Onion-Growth-Control-Redensyl   \n",
       "2  Onion-Growth-Control-Redensyl   \n",
       "3  Onion-Growth-Control-Redensyl   \n",
       "4  Onion-Growth-Control-Redensyl   \n",
       "\n",
       "                                   clean_review_text  \n",
       "0  bought hair oil view mani good comment product...  \n",
       "1  use mama earth newli launch onion oil twice mu...  \n",
       "2  bad product hair fall increas much order shamp...  \n",
       "3  product smell similar navarathna hair oil stro...  \n",
       "4  tri differ onion oil hair hair healthi product...  "
      ]
     },
     "execution_count": 19,
     "metadata": {},
     "output_type": "execute_result"
    }
   ],
   "source": [
    "reviews_df.head()"
   ]
  },
  {
   "cell_type": "code",
   "execution_count": 20,
   "metadata": {},
   "outputs": [
    {
     "data": {
      "text/html": [
       "<div>\n",
       "<style scoped>\n",
       "    .dataframe tbody tr th:only-of-type {\n",
       "        vertical-align: middle;\n",
       "    }\n",
       "\n",
       "    .dataframe tbody tr th {\n",
       "        vertical-align: top;\n",
       "    }\n",
       "\n",
       "    .dataframe thead th {\n",
       "        text-align: right;\n",
       "    }\n",
       "</style>\n",
       "<table border=\"1\" class=\"dataframe\">\n",
       "  <thead>\n",
       "    <tr style=\"text-align: right;\">\n",
       "      <th></th>\n",
       "      <th>asin</th>\n",
       "      <th>name</th>\n",
       "      <th>date</th>\n",
       "      <th>rating</th>\n",
       "      <th>review</th>\n",
       "      <th>brandName</th>\n",
       "      <th>product</th>\n",
       "      <th>clean_review_text</th>\n",
       "      <th>review_tokens</th>\n",
       "    </tr>\n",
       "  </thead>\n",
       "  <tbody>\n",
       "    <tr>\n",
       "      <th>0</th>\n",
       "      <td>B07W7CTLD1</td>\n",
       "      <td>Mamaearth-Onion-Growth-Control-Redensyl</td>\n",
       "      <td>9/6/2019</td>\n",
       "      <td>1</td>\n",
       "      <td>I bought this hair oil after viewing so many g...</td>\n",
       "      <td>Mamaearth</td>\n",
       "      <td>Onion-Growth-Control-Redensyl</td>\n",
       "      <td>bought hair oil view mani good comment product...</td>\n",
       "      <td>[bought, hair, oil, view, mani, good, comment,...</td>\n",
       "    </tr>\n",
       "    <tr>\n",
       "      <th>1</th>\n",
       "      <td>B07W7CTLD1</td>\n",
       "      <td>Mamaearth-Onion-Growth-Control-Redensyl</td>\n",
       "      <td>8/14/2019</td>\n",
       "      <td>5</td>\n",
       "      <td>Used This Mama Earth Newly Launched Onion Oil ...</td>\n",
       "      <td>Mamaearth</td>\n",
       "      <td>Onion-Growth-Control-Redensyl</td>\n",
       "      <td>use mama earth newli launch onion oil twice mu...</td>\n",
       "      <td>[use, mama, earth, newli, launch, onion, oil, ...</td>\n",
       "    </tr>\n",
       "    <tr>\n",
       "      <th>2</th>\n",
       "      <td>B07W7CTLD1</td>\n",
       "      <td>Mamaearth-Onion-Growth-Control-Redensyl</td>\n",
       "      <td>10/19/2019</td>\n",
       "      <td>1</td>\n",
       "      <td>So bad product My hair falling increase too mu...</td>\n",
       "      <td>Mamaearth</td>\n",
       "      <td>Onion-Growth-Control-Redensyl</td>\n",
       "      <td>bad product hair fall increas much order shamp...</td>\n",
       "      <td>[bad, product, hair, fall, increas, much, orde...</td>\n",
       "    </tr>\n",
       "    <tr>\n",
       "      <th>3</th>\n",
       "      <td>B07W7CTLD1</td>\n",
       "      <td>Mamaearth-Onion-Growth-Control-Redensyl</td>\n",
       "      <td>9/16/2019</td>\n",
       "      <td>1</td>\n",
       "      <td>Product just smells similar to navarathna hair...</td>\n",
       "      <td>Mamaearth</td>\n",
       "      <td>Onion-Growth-Control-Redensyl</td>\n",
       "      <td>product smell similar navarathna hair oil stro...</td>\n",
       "      <td>[product, smell, similar, navarathna, hair, oi...</td>\n",
       "    </tr>\n",
       "    <tr>\n",
       "      <th>4</th>\n",
       "      <td>B07W7CTLD1</td>\n",
       "      <td>Mamaearth-Onion-Growth-Control-Redensyl</td>\n",
       "      <td>8/18/2019</td>\n",
       "      <td>5</td>\n",
       "      <td>I have been trying different onion oil for my ...</td>\n",
       "      <td>Mamaearth</td>\n",
       "      <td>Onion-Growth-Control-Redensyl</td>\n",
       "      <td>tri differ onion oil hair hair healthi product...</td>\n",
       "      <td>[tri, differ, onion, oil, hair, hair, healthi,...</td>\n",
       "    </tr>\n",
       "  </tbody>\n",
       "</table>\n",
       "</div>"
      ],
      "text/plain": [
       "         asin                                     name        date  rating  \\\n",
       "0  B07W7CTLD1  Mamaearth-Onion-Growth-Control-Redensyl    9/6/2019       1   \n",
       "1  B07W7CTLD1  Mamaearth-Onion-Growth-Control-Redensyl   8/14/2019       5   \n",
       "2  B07W7CTLD1  Mamaearth-Onion-Growth-Control-Redensyl  10/19/2019       1   \n",
       "3  B07W7CTLD1  Mamaearth-Onion-Growth-Control-Redensyl   9/16/2019       1   \n",
       "4  B07W7CTLD1  Mamaearth-Onion-Growth-Control-Redensyl   8/18/2019       5   \n",
       "\n",
       "                                              review  brandName  \\\n",
       "0  I bought this hair oil after viewing so many g...  Mamaearth   \n",
       "1  Used This Mama Earth Newly Launched Onion Oil ...  Mamaearth   \n",
       "2  So bad product My hair falling increase too mu...  Mamaearth   \n",
       "3  Product just smells similar to navarathna hair...  Mamaearth   \n",
       "4  I have been trying different onion oil for my ...  Mamaearth   \n",
       "\n",
       "                         product  \\\n",
       "0  Onion-Growth-Control-Redensyl   \n",
       "1  Onion-Growth-Control-Redensyl   \n",
       "2  Onion-Growth-Control-Redensyl   \n",
       "3  Onion-Growth-Control-Redensyl   \n",
       "4  Onion-Growth-Control-Redensyl   \n",
       "\n",
       "                                   clean_review_text  \\\n",
       "0  bought hair oil view mani good comment product...   \n",
       "1  use mama earth newli launch onion oil twice mu...   \n",
       "2  bad product hair fall increas much order shamp...   \n",
       "3  product smell similar navarathna hair oil stro...   \n",
       "4  tri differ onion oil hair hair healthi product...   \n",
       "\n",
       "                                       review_tokens  \n",
       "0  [bought, hair, oil, view, mani, good, comment,...  \n",
       "1  [use, mama, earth, newli, launch, onion, oil, ...  \n",
       "2  [bad, product, hair, fall, increas, much, orde...  \n",
       "3  [product, smell, similar, navarathna, hair, oi...  \n",
       "4  [tri, differ, onion, oil, hair, hair, healthi,...  "
      ]
     },
     "execution_count": 20,
     "metadata": {},
     "output_type": "execute_result"
    }
   ],
   "source": [
    "from nltk.tokenize import word_tokenize\n",
    "#splitting text into words\n",
    "tokenList=[]\n",
    "for indx in range(len(reviews_df)):\n",
    "       token=word_tokenize(reviews_df['clean_review_text'][indx])\n",
    "       tokenList.append(token)\n",
    "reviews_df['review_tokens'] = tokenList\n",
    "reviews_df.head()"
   ]
  },
  {
   "cell_type": "code",
   "execution_count": 21,
   "metadata": {},
   "outputs": [
    {
     "name": "stderr",
     "output_type": "stream",
     "text": [
      "[nltk_data] Downloading package vader_lexicon to\n",
      "[nltk_data]     C:\\Users\\kshit\\AppData\\Roaming\\nltk_data...\n",
      "[nltk_data]   Package vader_lexicon is already up-to-date!\n"
     ]
    }
   ],
   "source": [
    "from vaderSentiment.vaderSentiment import SentimentIntensityAnalyzer\n",
    "nltk.download('vader_lexicon')\n",
    "sentiment_model = SentimentIntensityAnalyzer()\n",
    "sentiment_scores=[]\n",
    "sentiment_score_flag = []\n",
    "for text in reviews_df['clean_review_text']:\n",
    "        sentimentResults = sentiment_model.polarity_scores(text)\n",
    "        sentiment_score = sentimentResults[\"compound\"]\n",
    "        #print(sentimentResults)\n",
    "        #The compound value reflects the overall sentiment ranging from -1 being very negative and +1 being very positive.\n",
    "        sentiment_scores.append(sentiment_score)\n",
    "        # marking the sentiments as positive, negative and neutral \n",
    "        if sentimentResults['compound'] >= 0.05 : \n",
    "            sentiment_score_flag.append('positive')\n",
    "  \n",
    "        elif sentimentResults['compound'] <= - 0.05 : \n",
    "            sentiment_score_flag.append('negative')\n",
    "  \n",
    "        else : \n",
    "            sentiment_score_flag.append('neutral')\n",
    "            \n",
    "reviews_df['scores']=sentiment_scores\n",
    "reviews_df['scoreStatus'] = sentiment_score_flag"
   ]
  },
  {
   "cell_type": "code",
   "execution_count": 22,
   "metadata": {},
   "outputs": [
    {
     "data": {
      "text/html": [
       "<div>\n",
       "<style scoped>\n",
       "    .dataframe tbody tr th:only-of-type {\n",
       "        vertical-align: middle;\n",
       "    }\n",
       "\n",
       "    .dataframe tbody tr th {\n",
       "        vertical-align: top;\n",
       "    }\n",
       "\n",
       "    .dataframe thead th {\n",
       "        text-align: right;\n",
       "    }\n",
       "</style>\n",
       "<table border=\"1\" class=\"dataframe\">\n",
       "  <thead>\n",
       "    <tr style=\"text-align: right;\">\n",
       "      <th></th>\n",
       "      <th>asin</th>\n",
       "      <th>name</th>\n",
       "      <th>date</th>\n",
       "      <th>rating</th>\n",
       "      <th>review</th>\n",
       "      <th>brandName</th>\n",
       "      <th>product</th>\n",
       "      <th>clean_review_text</th>\n",
       "      <th>review_tokens</th>\n",
       "      <th>scores</th>\n",
       "      <th>scoreStatus</th>\n",
       "    </tr>\n",
       "  </thead>\n",
       "  <tbody>\n",
       "    <tr>\n",
       "      <th>0</th>\n",
       "      <td>B07W7CTLD1</td>\n",
       "      <td>Mamaearth-Onion-Growth-Control-Redensyl</td>\n",
       "      <td>9/6/2019</td>\n",
       "      <td>1</td>\n",
       "      <td>I bought this hair oil after viewing so many g...</td>\n",
       "      <td>Mamaearth</td>\n",
       "      <td>Onion-Growth-Control-Redensyl</td>\n",
       "      <td>bought hair oil view mani good comment product...</td>\n",
       "      <td>[bought, hair, oil, view, mani, good, comment,...</td>\n",
       "      <td>0.6124</td>\n",
       "      <td>positive</td>\n",
       "    </tr>\n",
       "    <tr>\n",
       "      <th>1</th>\n",
       "      <td>B07W7CTLD1</td>\n",
       "      <td>Mamaearth-Onion-Growth-Control-Redensyl</td>\n",
       "      <td>8/14/2019</td>\n",
       "      <td>5</td>\n",
       "      <td>Used This Mama Earth Newly Launched Onion Oil ...</td>\n",
       "      <td>Mamaearth</td>\n",
       "      <td>Onion-Growth-Control-Redensyl</td>\n",
       "      <td>use mama earth newli launch onion oil twice mu...</td>\n",
       "      <td>[use, mama, earth, newli, launch, onion, oil, ...</td>\n",
       "      <td>0.8176</td>\n",
       "      <td>positive</td>\n",
       "    </tr>\n",
       "    <tr>\n",
       "      <th>2</th>\n",
       "      <td>B07W7CTLD1</td>\n",
       "      <td>Mamaearth-Onion-Growth-Control-Redensyl</td>\n",
       "      <td>10/19/2019</td>\n",
       "      <td>1</td>\n",
       "      <td>So bad product My hair falling increase too mu...</td>\n",
       "      <td>Mamaearth</td>\n",
       "      <td>Onion-Growth-Control-Redensyl</td>\n",
       "      <td>bad product hair fall increas much order shamp...</td>\n",
       "      <td>[bad, product, hair, fall, increas, much, orde...</td>\n",
       "      <td>-0.6908</td>\n",
       "      <td>negative</td>\n",
       "    </tr>\n",
       "    <tr>\n",
       "      <th>3</th>\n",
       "      <td>B07W7CTLD1</td>\n",
       "      <td>Mamaearth-Onion-Growth-Control-Redensyl</td>\n",
       "      <td>9/16/2019</td>\n",
       "      <td>1</td>\n",
       "      <td>Product just smells similar to navarathna hair...</td>\n",
       "      <td>Mamaearth</td>\n",
       "      <td>Onion-Growth-Control-Redensyl</td>\n",
       "      <td>product smell similar navarathna hair oil stro...</td>\n",
       "      <td>[product, smell, similar, navarathna, hair, oi...</td>\n",
       "      <td>-0.1531</td>\n",
       "      <td>negative</td>\n",
       "    </tr>\n",
       "    <tr>\n",
       "      <th>4</th>\n",
       "      <td>B07W7CTLD1</td>\n",
       "      <td>Mamaearth-Onion-Growth-Control-Redensyl</td>\n",
       "      <td>8/18/2019</td>\n",
       "      <td>5</td>\n",
       "      <td>I have been trying different onion oil for my ...</td>\n",
       "      <td>Mamaearth</td>\n",
       "      <td>Onion-Growth-Control-Redensyl</td>\n",
       "      <td>tri differ onion oil hair hair healthi product...</td>\n",
       "      <td>[tri, differ, onion, oil, hair, hair, healthi,...</td>\n",
       "      <td>0.6486</td>\n",
       "      <td>positive</td>\n",
       "    </tr>\n",
       "  </tbody>\n",
       "</table>\n",
       "</div>"
      ],
      "text/plain": [
       "         asin                                     name        date  rating  \\\n",
       "0  B07W7CTLD1  Mamaearth-Onion-Growth-Control-Redensyl    9/6/2019       1   \n",
       "1  B07W7CTLD1  Mamaearth-Onion-Growth-Control-Redensyl   8/14/2019       5   \n",
       "2  B07W7CTLD1  Mamaearth-Onion-Growth-Control-Redensyl  10/19/2019       1   \n",
       "3  B07W7CTLD1  Mamaearth-Onion-Growth-Control-Redensyl   9/16/2019       1   \n",
       "4  B07W7CTLD1  Mamaearth-Onion-Growth-Control-Redensyl   8/18/2019       5   \n",
       "\n",
       "                                              review  brandName  \\\n",
       "0  I bought this hair oil after viewing so many g...  Mamaearth   \n",
       "1  Used This Mama Earth Newly Launched Onion Oil ...  Mamaearth   \n",
       "2  So bad product My hair falling increase too mu...  Mamaearth   \n",
       "3  Product just smells similar to navarathna hair...  Mamaearth   \n",
       "4  I have been trying different onion oil for my ...  Mamaearth   \n",
       "\n",
       "                         product  \\\n",
       "0  Onion-Growth-Control-Redensyl   \n",
       "1  Onion-Growth-Control-Redensyl   \n",
       "2  Onion-Growth-Control-Redensyl   \n",
       "3  Onion-Growth-Control-Redensyl   \n",
       "4  Onion-Growth-Control-Redensyl   \n",
       "\n",
       "                                   clean_review_text  \\\n",
       "0  bought hair oil view mani good comment product...   \n",
       "1  use mama earth newli launch onion oil twice mu...   \n",
       "2  bad product hair fall increas much order shamp...   \n",
       "3  product smell similar navarathna hair oil stro...   \n",
       "4  tri differ onion oil hair hair healthi product...   \n",
       "\n",
       "                                       review_tokens  scores scoreStatus  \n",
       "0  [bought, hair, oil, view, mani, good, comment,...  0.6124    positive  \n",
       "1  [use, mama, earth, newli, launch, onion, oil, ...  0.8176    positive  \n",
       "2  [bad, product, hair, fall, increas, much, orde... -0.6908    negative  \n",
       "3  [product, smell, similar, navarathna, hair, oi... -0.1531    negative  \n",
       "4  [tri, differ, onion, oil, hair, hair, healthi,...  0.6486    positive  "
      ]
     },
     "execution_count": 22,
     "metadata": {},
     "output_type": "execute_result"
    }
   ],
   "source": [
    "reviews_df.head()"
   ]
  },
  {
   "cell_type": "code",
   "execution_count": 95,
   "metadata": {},
   "outputs": [
    {
     "data": {
      "application/vnd.plotly.v1+json": {
       "config": {
        "plotlyServerURL": "https://plot.ly"
       },
       "data": [
        {
         "labels": [
          "positive",
          "neutral",
          "negative"
         ],
         "marker": {
          "colors": [
           "Green",
           "Red",
           "Blue"
          ]
         },
         "type": "pie",
         "values": [
          2094,
          356,
          328
         ]
        }
       ],
       "layout": {
        "template": {
         "data": {
          "bar": [
           {
            "error_x": {
             "color": "#2a3f5f"
            },
            "error_y": {
             "color": "#2a3f5f"
            },
            "marker": {
             "line": {
              "color": "white",
              "width": 0.5
             },
             "pattern": {
              "fillmode": "overlay",
              "size": 10,
              "solidity": 0.2
             }
            },
            "type": "bar"
           }
          ],
          "barpolar": [
           {
            "marker": {
             "line": {
              "color": "white",
              "width": 0.5
             },
             "pattern": {
              "fillmode": "overlay",
              "size": 10,
              "solidity": 0.2
             }
            },
            "type": "barpolar"
           }
          ],
          "carpet": [
           {
            "aaxis": {
             "endlinecolor": "#2a3f5f",
             "gridcolor": "#C8D4E3",
             "linecolor": "#C8D4E3",
             "minorgridcolor": "#C8D4E3",
             "startlinecolor": "#2a3f5f"
            },
            "baxis": {
             "endlinecolor": "#2a3f5f",
             "gridcolor": "#C8D4E3",
             "linecolor": "#C8D4E3",
             "minorgridcolor": "#C8D4E3",
             "startlinecolor": "#2a3f5f"
            },
            "type": "carpet"
           }
          ],
          "choropleth": [
           {
            "colorbar": {
             "outlinewidth": 0,
             "ticks": ""
            },
            "type": "choropleth"
           }
          ],
          "contour": [
           {
            "colorbar": {
             "outlinewidth": 0,
             "ticks": ""
            },
            "colorscale": [
             [
              0,
              "#0d0887"
             ],
             [
              0.1111111111111111,
              "#46039f"
             ],
             [
              0.2222222222222222,
              "#7201a8"
             ],
             [
              0.3333333333333333,
              "#9c179e"
             ],
             [
              0.4444444444444444,
              "#bd3786"
             ],
             [
              0.5555555555555556,
              "#d8576b"
             ],
             [
              0.6666666666666666,
              "#ed7953"
             ],
             [
              0.7777777777777778,
              "#fb9f3a"
             ],
             [
              0.8888888888888888,
              "#fdca26"
             ],
             [
              1,
              "#f0f921"
             ]
            ],
            "type": "contour"
           }
          ],
          "contourcarpet": [
           {
            "colorbar": {
             "outlinewidth": 0,
             "ticks": ""
            },
            "type": "contourcarpet"
           }
          ],
          "heatmap": [
           {
            "colorbar": {
             "outlinewidth": 0,
             "ticks": ""
            },
            "colorscale": [
             [
              0,
              "#0d0887"
             ],
             [
              0.1111111111111111,
              "#46039f"
             ],
             [
              0.2222222222222222,
              "#7201a8"
             ],
             [
              0.3333333333333333,
              "#9c179e"
             ],
             [
              0.4444444444444444,
              "#bd3786"
             ],
             [
              0.5555555555555556,
              "#d8576b"
             ],
             [
              0.6666666666666666,
              "#ed7953"
             ],
             [
              0.7777777777777778,
              "#fb9f3a"
             ],
             [
              0.8888888888888888,
              "#fdca26"
             ],
             [
              1,
              "#f0f921"
             ]
            ],
            "type": "heatmap"
           }
          ],
          "heatmapgl": [
           {
            "colorbar": {
             "outlinewidth": 0,
             "ticks": ""
            },
            "colorscale": [
             [
              0,
              "#0d0887"
             ],
             [
              0.1111111111111111,
              "#46039f"
             ],
             [
              0.2222222222222222,
              "#7201a8"
             ],
             [
              0.3333333333333333,
              "#9c179e"
             ],
             [
              0.4444444444444444,
              "#bd3786"
             ],
             [
              0.5555555555555556,
              "#d8576b"
             ],
             [
              0.6666666666666666,
              "#ed7953"
             ],
             [
              0.7777777777777778,
              "#fb9f3a"
             ],
             [
              0.8888888888888888,
              "#fdca26"
             ],
             [
              1,
              "#f0f921"
             ]
            ],
            "type": "heatmapgl"
           }
          ],
          "histogram": [
           {
            "marker": {
             "pattern": {
              "fillmode": "overlay",
              "size": 10,
              "solidity": 0.2
             }
            },
            "type": "histogram"
           }
          ],
          "histogram2d": [
           {
            "colorbar": {
             "outlinewidth": 0,
             "ticks": ""
            },
            "colorscale": [
             [
              0,
              "#0d0887"
             ],
             [
              0.1111111111111111,
              "#46039f"
             ],
             [
              0.2222222222222222,
              "#7201a8"
             ],
             [
              0.3333333333333333,
              "#9c179e"
             ],
             [
              0.4444444444444444,
              "#bd3786"
             ],
             [
              0.5555555555555556,
              "#d8576b"
             ],
             [
              0.6666666666666666,
              "#ed7953"
             ],
             [
              0.7777777777777778,
              "#fb9f3a"
             ],
             [
              0.8888888888888888,
              "#fdca26"
             ],
             [
              1,
              "#f0f921"
             ]
            ],
            "type": "histogram2d"
           }
          ],
          "histogram2dcontour": [
           {
            "colorbar": {
             "outlinewidth": 0,
             "ticks": ""
            },
            "colorscale": [
             [
              0,
              "#0d0887"
             ],
             [
              0.1111111111111111,
              "#46039f"
             ],
             [
              0.2222222222222222,
              "#7201a8"
             ],
             [
              0.3333333333333333,
              "#9c179e"
             ],
             [
              0.4444444444444444,
              "#bd3786"
             ],
             [
              0.5555555555555556,
              "#d8576b"
             ],
             [
              0.6666666666666666,
              "#ed7953"
             ],
             [
              0.7777777777777778,
              "#fb9f3a"
             ],
             [
              0.8888888888888888,
              "#fdca26"
             ],
             [
              1,
              "#f0f921"
             ]
            ],
            "type": "histogram2dcontour"
           }
          ],
          "mesh3d": [
           {
            "colorbar": {
             "outlinewidth": 0,
             "ticks": ""
            },
            "type": "mesh3d"
           }
          ],
          "parcoords": [
           {
            "line": {
             "colorbar": {
              "outlinewidth": 0,
              "ticks": ""
             }
            },
            "type": "parcoords"
           }
          ],
          "pie": [
           {
            "automargin": true,
            "type": "pie"
           }
          ],
          "scatter": [
           {
            "fillpattern": {
             "fillmode": "overlay",
             "size": 10,
             "solidity": 0.2
            },
            "type": "scatter"
           }
          ],
          "scatter3d": [
           {
            "line": {
             "colorbar": {
              "outlinewidth": 0,
              "ticks": ""
             }
            },
            "marker": {
             "colorbar": {
              "outlinewidth": 0,
              "ticks": ""
             }
            },
            "type": "scatter3d"
           }
          ],
          "scattercarpet": [
           {
            "marker": {
             "colorbar": {
              "outlinewidth": 0,
              "ticks": ""
             }
            },
            "type": "scattercarpet"
           }
          ],
          "scattergeo": [
           {
            "marker": {
             "colorbar": {
              "outlinewidth": 0,
              "ticks": ""
             }
            },
            "type": "scattergeo"
           }
          ],
          "scattergl": [
           {
            "marker": {
             "colorbar": {
              "outlinewidth": 0,
              "ticks": ""
             }
            },
            "type": "scattergl"
           }
          ],
          "scattermapbox": [
           {
            "marker": {
             "colorbar": {
              "outlinewidth": 0,
              "ticks": ""
             }
            },
            "type": "scattermapbox"
           }
          ],
          "scatterpolar": [
           {
            "marker": {
             "colorbar": {
              "outlinewidth": 0,
              "ticks": ""
             }
            },
            "type": "scatterpolar"
           }
          ],
          "scatterpolargl": [
           {
            "marker": {
             "colorbar": {
              "outlinewidth": 0,
              "ticks": ""
             }
            },
            "type": "scatterpolargl"
           }
          ],
          "scatterternary": [
           {
            "marker": {
             "colorbar": {
              "outlinewidth": 0,
              "ticks": ""
             }
            },
            "type": "scatterternary"
           }
          ],
          "surface": [
           {
            "colorbar": {
             "outlinewidth": 0,
             "ticks": ""
            },
            "colorscale": [
             [
              0,
              "#0d0887"
             ],
             [
              0.1111111111111111,
              "#46039f"
             ],
             [
              0.2222222222222222,
              "#7201a8"
             ],
             [
              0.3333333333333333,
              "#9c179e"
             ],
             [
              0.4444444444444444,
              "#bd3786"
             ],
             [
              0.5555555555555556,
              "#d8576b"
             ],
             [
              0.6666666666666666,
              "#ed7953"
             ],
             [
              0.7777777777777778,
              "#fb9f3a"
             ],
             [
              0.8888888888888888,
              "#fdca26"
             ],
             [
              1,
              "#f0f921"
             ]
            ],
            "type": "surface"
           }
          ],
          "table": [
           {
            "cells": {
             "fill": {
              "color": "#EBF0F8"
             },
             "line": {
              "color": "white"
             }
            },
            "header": {
             "fill": {
              "color": "#C8D4E3"
             },
             "line": {
              "color": "white"
             }
            },
            "type": "table"
           }
          ]
         },
         "layout": {
          "annotationdefaults": {
           "arrowcolor": "#2a3f5f",
           "arrowhead": 0,
           "arrowwidth": 1
          },
          "autotypenumbers": "strict",
          "coloraxis": {
           "colorbar": {
            "outlinewidth": 0,
            "ticks": ""
           }
          },
          "colorscale": {
           "diverging": [
            [
             0,
             "#8e0152"
            ],
            [
             0.1,
             "#c51b7d"
            ],
            [
             0.2,
             "#de77ae"
            ],
            [
             0.3,
             "#f1b6da"
            ],
            [
             0.4,
             "#fde0ef"
            ],
            [
             0.5,
             "#f7f7f7"
            ],
            [
             0.6,
             "#e6f5d0"
            ],
            [
             0.7,
             "#b8e186"
            ],
            [
             0.8,
             "#7fbc41"
            ],
            [
             0.9,
             "#4d9221"
            ],
            [
             1,
             "#276419"
            ]
           ],
           "sequential": [
            [
             0,
             "#0d0887"
            ],
            [
             0.1111111111111111,
             "#46039f"
            ],
            [
             0.2222222222222222,
             "#7201a8"
            ],
            [
             0.3333333333333333,
             "#9c179e"
            ],
            [
             0.4444444444444444,
             "#bd3786"
            ],
            [
             0.5555555555555556,
             "#d8576b"
            ],
            [
             0.6666666666666666,
             "#ed7953"
            ],
            [
             0.7777777777777778,
             "#fb9f3a"
            ],
            [
             0.8888888888888888,
             "#fdca26"
            ],
            [
             1,
             "#f0f921"
            ]
           ],
           "sequentialminus": [
            [
             0,
             "#0d0887"
            ],
            [
             0.1111111111111111,
             "#46039f"
            ],
            [
             0.2222222222222222,
             "#7201a8"
            ],
            [
             0.3333333333333333,
             "#9c179e"
            ],
            [
             0.4444444444444444,
             "#bd3786"
            ],
            [
             0.5555555555555556,
             "#d8576b"
            ],
            [
             0.6666666666666666,
             "#ed7953"
            ],
            [
             0.7777777777777778,
             "#fb9f3a"
            ],
            [
             0.8888888888888888,
             "#fdca26"
            ],
            [
             1,
             "#f0f921"
            ]
           ]
          },
          "colorway": [
           "#636efa",
           "#EF553B",
           "#00cc96",
           "#ab63fa",
           "#FFA15A",
           "#19d3f3",
           "#FF6692",
           "#B6E880",
           "#FF97FF",
           "#FECB52"
          ],
          "font": {
           "color": "#2a3f5f"
          },
          "geo": {
           "bgcolor": "white",
           "lakecolor": "white",
           "landcolor": "white",
           "showlakes": true,
           "showland": true,
           "subunitcolor": "#C8D4E3"
          },
          "hoverlabel": {
           "align": "left"
          },
          "hovermode": "closest",
          "mapbox": {
           "style": "light"
          },
          "paper_bgcolor": "white",
          "plot_bgcolor": "white",
          "polar": {
           "angularaxis": {
            "gridcolor": "#EBF0F8",
            "linecolor": "#EBF0F8",
            "ticks": ""
           },
           "bgcolor": "white",
           "radialaxis": {
            "gridcolor": "#EBF0F8",
            "linecolor": "#EBF0F8",
            "ticks": ""
           }
          },
          "scene": {
           "xaxis": {
            "backgroundcolor": "white",
            "gridcolor": "#DFE8F3",
            "gridwidth": 2,
            "linecolor": "#EBF0F8",
            "showbackground": true,
            "ticks": "",
            "zerolinecolor": "#EBF0F8"
           },
           "yaxis": {
            "backgroundcolor": "white",
            "gridcolor": "#DFE8F3",
            "gridwidth": 2,
            "linecolor": "#EBF0F8",
            "showbackground": true,
            "ticks": "",
            "zerolinecolor": "#EBF0F8"
           },
           "zaxis": {
            "backgroundcolor": "white",
            "gridcolor": "#DFE8F3",
            "gridwidth": 2,
            "linecolor": "#EBF0F8",
            "showbackground": true,
            "ticks": "",
            "zerolinecolor": "#EBF0F8"
           }
          },
          "shapedefaults": {
           "line": {
            "color": "#2a3f5f"
           }
          },
          "ternary": {
           "aaxis": {
            "gridcolor": "#DFE8F3",
            "linecolor": "#A2B1C6",
            "ticks": ""
           },
           "baxis": {
            "gridcolor": "#DFE8F3",
            "linecolor": "#A2B1C6",
            "ticks": ""
           },
           "bgcolor": "white",
           "caxis": {
            "gridcolor": "#DFE8F3",
            "linecolor": "#A2B1C6",
            "ticks": ""
           }
          },
          "title": {
           "x": 0.05
          },
          "xaxis": {
           "automargin": true,
           "gridcolor": "#EBF0F8",
           "linecolor": "#EBF0F8",
           "ticks": "",
           "title": {
            "standoff": 15
           },
           "zerolinecolor": "#EBF0F8",
           "zerolinewidth": 2
          },
          "yaxis": {
           "automargin": true,
           "gridcolor": "#EBF0F8",
           "linecolor": "#EBF0F8",
           "ticks": "",
           "title": {
            "standoff": 15
           },
           "zerolinecolor": "#EBF0F8",
           "zerolinewidth": 2
          }
         }
        },
        "title": {
         "text": "Proportion of Sentiments",
         "x": 0.5
        }
       }
      }
     },
     "metadata": {},
     "output_type": "display_data"
    }
   ],
   "source": [
    "import plotly.graph_objects as go\n",
    "fig = go.Figure(data=[go.Pie(labels=reviews_df['scoreStatus'].value_counts().index.tolist(),\n",
    "                             values=reviews_df['scoreStatus'].value_counts().tolist(),\n",
    "                            marker=dict(colors=['Green','Red','Blue']))])\n",
    "\n",
    "# fig.update_layout(title_text='Proportion of Sentiments',title_x=0.5,\n",
    "#                   template='plotly_dark')\n",
    "\n",
    "fig.update_layout(title_text='Proportion of Sentiments', title_x=0.5,\n",
    "                  template='plotly_white')\n",
    "fig.show()\n"
   ]
  },
  {
   "cell_type": "code",
   "execution_count": 24,
   "metadata": {},
   "outputs": [
    {
     "data": {
      "image/png": "[encoded data removed]",
      "text/plain": [
       "<Figure size 720x720 with 1 Axes>"
      ]
     },
     "metadata": {
      "needs_background": "light"
     },
     "output_type": "display_data"
    }
   ],
   "source": [
    "from wordcloud import WordCloud , ImageColorGenerator\n",
    "def show_wordcloud(data, title = None):\n",
    "    wordcloud = WordCloud(width = 800,\n",
    "                       height = 600,\n",
    "                       colormap = 'RdYlGn', \n",
    "                       margin = 0,\n",
    "                       max_words = 200,  \n",
    "                       min_word_length = 4,\n",
    "                       max_font_size = 120, \n",
    "                       background_color = 'black'\n",
    "    ).generate(str(data))\n",
    "\n",
    "    plt.figure(figsize = (10, 10))\n",
    "    plt.axis('off')\n",
    "\n",
    "    plt.imshow(wordcloud,interpolation = 'gaussian')\n",
    "    plt.show()\n",
    "    \n",
    "# print wordcloud\n",
    "show_wordcloud(reviews_df[\"review\"])"
   ]
  },
  {
   "cell_type": "code",
   "execution_count": 25,
   "metadata": {},
   "outputs": [
    {
     "data": {
      "image/png": "[encoded data removed]",
      "text/plain": [
       "<Figure size 720x720 with 1 Axes>"
      ]
     },
     "metadata": {
      "needs_background": "light"
     },
     "output_type": "display_data"
    }
   ],
   "source": [
    "# print wordcloud\n",
    "positiveReviews_df =reviews_df.loc[reviews_df['scoreStatus'] == \"positive\"]\n",
    "show_wordcloud(positiveReviews_df[\"clean_review_text\"])"
   ]
  },
  {
   "cell_type": "code",
   "execution_count": 26,
   "metadata": {},
   "outputs": [
    {
     "data": {
      "image/png": "[encoded data removed]",
      "text/plain": [
       "<Figure size 720x720 with 1 Axes>"
      ]
     },
     "metadata": {
      "needs_background": "light"
     },
     "output_type": "display_data"
    }
   ],
   "source": [
    "negativeReviews_df =reviews_df.loc[reviews_df['scoreStatus'] == \"negative\"]\n",
    "## print wordcloud\n",
    "show_wordcloud(negativeReviews_df[\"clean_review_text\"])"
   ]
  },
  {
   "cell_type": "code",
   "execution_count": 27,
   "metadata": {},
   "outputs": [
    {
     "data": {
      "text/html": [
       "<div>\n",
       "<style scoped>\n",
       "    .dataframe tbody tr th:only-of-type {\n",
       "        vertical-align: middle;\n",
       "    }\n",
       "\n",
       "    .dataframe tbody tr th {\n",
       "        vertical-align: top;\n",
       "    }\n",
       "\n",
       "    .dataframe thead th {\n",
       "        text-align: right;\n",
       "    }\n",
       "</style>\n",
       "<table border=\"1\" class=\"dataframe\">\n",
       "  <thead>\n",
       "    <tr style=\"text-align: right;\">\n",
       "      <th></th>\n",
       "      <th>positiveReviews</th>\n",
       "      <th>negativeReviews</th>\n",
       "    </tr>\n",
       "  </thead>\n",
       "  <tbody>\n",
       "    <tr>\n",
       "      <th>Amul</th>\n",
       "      <td>130</td>\n",
       "      <td>12.0</td>\n",
       "    </tr>\n",
       "    <tr>\n",
       "      <th>Britannia</th>\n",
       "      <td>88</td>\n",
       "      <td>18.0</td>\n",
       "    </tr>\n",
       "    <tr>\n",
       "      <th>Cinthol</th>\n",
       "      <td>168</td>\n",
       "      <td>16.0</td>\n",
       "    </tr>\n",
       "    <tr>\n",
       "      <th>Coca</th>\n",
       "      <td>18</td>\n",
       "      <td>2.0</td>\n",
       "    </tr>\n",
       "    <tr>\n",
       "      <th>Dettol</th>\n",
       "      <td>132</td>\n",
       "      <td>20.0</td>\n",
       "    </tr>\n",
       "    <tr>\n",
       "      <th>Fastrack</th>\n",
       "      <td>126</td>\n",
       "      <td>18.0</td>\n",
       "    </tr>\n",
       "    <tr>\n",
       "      <th>Glucon</th>\n",
       "      <td>12</td>\n",
       "      <td>NaN</td>\n",
       "    </tr>\n",
       "    <tr>\n",
       "      <th>Godrej</th>\n",
       "      <td>154</td>\n",
       "      <td>38.0</td>\n",
       "    </tr>\n",
       "    <tr>\n",
       "      <th>Himalaya</th>\n",
       "      <td>154</td>\n",
       "      <td>38.0</td>\n",
       "    </tr>\n",
       "    <tr>\n",
       "      <th>Indiana</th>\n",
       "      <td>4</td>\n",
       "      <td>NaN</td>\n",
       "    </tr>\n",
       "    <tr>\n",
       "      <th>Maaza</th>\n",
       "      <td>14</td>\n",
       "      <td>NaN</td>\n",
       "    </tr>\n",
       "    <tr>\n",
       "      <th>Maggi</th>\n",
       "      <td>12</td>\n",
       "      <td>4.0</td>\n",
       "    </tr>\n",
       "    <tr>\n",
       "      <th>Mamaearth</th>\n",
       "      <td>164</td>\n",
       "      <td>30.0</td>\n",
       "    </tr>\n",
       "    <tr>\n",
       "      <th>Mysore</th>\n",
       "      <td>130</td>\n",
       "      <td>24.0</td>\n",
       "    </tr>\n",
       "    <tr>\n",
       "      <th>Natural</th>\n",
       "      <td>32</td>\n",
       "      <td>6.0</td>\n",
       "    </tr>\n",
       "    <tr>\n",
       "      <th>Nutrichoice</th>\n",
       "      <td>8</td>\n",
       "      <td>NaN</td>\n",
       "    </tr>\n",
       "    <tr>\n",
       "      <th>Paper</th>\n",
       "      <td>36</td>\n",
       "      <td>2.0</td>\n",
       "    </tr>\n",
       "    <tr>\n",
       "      <th>Patanjali</th>\n",
       "      <td>102</td>\n",
       "      <td>32.0</td>\n",
       "    </tr>\n",
       "    <tr>\n",
       "      <th>Reflex</th>\n",
       "      <td>28</td>\n",
       "      <td>6.0</td>\n",
       "    </tr>\n",
       "    <tr>\n",
       "      <th>Savlon</th>\n",
       "      <td>16</td>\n",
       "      <td>2.0</td>\n",
       "    </tr>\n",
       "    <tr>\n",
       "      <th>Society</th>\n",
       "      <td>142</td>\n",
       "      <td>14.0</td>\n",
       "    </tr>\n",
       "    <tr>\n",
       "      <th>Streax</th>\n",
       "      <td>134</td>\n",
       "      <td>14.0</td>\n",
       "    </tr>\n",
       "    <tr>\n",
       "      <th>Tata</th>\n",
       "      <td>142</td>\n",
       "      <td>16.0</td>\n",
       "    </tr>\n",
       "    <tr>\n",
       "      <th>Titan</th>\n",
       "      <td>148</td>\n",
       "      <td>16.0</td>\n",
       "    </tr>\n",
       "  </tbody>\n",
       "</table>\n",
       "</div>"
      ],
      "text/plain": [
       "             positiveReviews  negativeReviews\n",
       "Amul                     130             12.0\n",
       "Britannia                 88             18.0\n",
       "Cinthol                  168             16.0\n",
       "Coca                      18              2.0\n",
       "Dettol                   132             20.0\n",
       "Fastrack                 126             18.0\n",
       "Glucon                    12              NaN\n",
       "Godrej                   154             38.0\n",
       "Himalaya                 154             38.0\n",
       "Indiana                    4              NaN\n",
       "Maaza                     14              NaN\n",
       "Maggi                     12              4.0\n",
       "Mamaearth                164             30.0\n",
       "Mysore                   130             24.0\n",
       "Natural                   32              6.0\n",
       "Nutrichoice                8              NaN\n",
       "Paper                     36              2.0\n",
       "Patanjali                102             32.0\n",
       "Reflex                    28              6.0\n",
       "Savlon                    16              2.0\n",
       "Society                  142             14.0\n",
       "Streax                   134             14.0\n",
       "Tata                     142             16.0\n",
       "Titan                    148             16.0"
      ]
     },
     "execution_count": 27,
     "metadata": {},
     "output_type": "execute_result"
    }
   ],
   "source": [
    "a = pd.DataFrame(positiveReviews_df.groupby(['brandName']).count()[\"clean_review_text\"])\n",
    "positiveReviews_df.loc[positiveReviews_df['brandName'] == \"Indiana\"][\"review\"]\n",
    "b = pd.DataFrame(negativeReviews_df.groupby(['brandName']).count()[\"clean_review_text\"])\n",
    "c = pd.concat([a, b], axis=1)\n",
    "c.columns = ['positiveReviews','negativeReviews']\n",
    "c"
   ]
  },
  {
   "cell_type": "code",
   "execution_count": 28,
   "metadata": {},
   "outputs": [
    {
     "name": "stdout",
     "output_type": "stream",
     "text": [
      "3550\n",
      "{'bought': 515, 'hair': 1468, 'oil': 2198, 'view': 3385, 'mani': 1928, 'good': 1404, 'comment': 747, 'product': 2462, 'enough': 1114, 'first': 1256, 'expens': 1165, 'second': 2750, 'thing': 3165, 'amount': 284, 'low': 1885, 'half': 1476, 'bottl': 512, 'ye': 3529, 'complet': 764, 'fill': 1244, 'cheat': 662, 'custom': 862, 'mamaearth': 1924, 'trust': 3270, 'fool': 1289, 'peopl': 2324, 'know': 1755, 'brand': 525, 'go': 1394, 'buy': 583, 'thumb': 3189, 'onion': 2214, 'use': 3339, 'mama': 1923, 'earth': 1070, 'newli': 2125, 'launch': 1784, 'twice': 3281, 'must': 2095, 'say': 2724, 'im': 1601, 'alreadi': 265, 'impress': 1610, 'result': 2651, 'prevent': 2438, 'loss': 1873, 'help': 1522, 'control': 798, 'prematur': 2428, 'grey': 1439, 'dryness': 1050, 'dandruff': 882, 'scalp': 2727, 'erupt': 1128, 'problem': 2457, 'regular': 2606, 'avoid': 371, 'dri': 1045, 'frizzi': 1336, 'make': 1914, 'sure': 3063, 'week': 3444, 'provid': 2493, 'essenti': 1134, 'nutrient': 2170, 'also': 266, 'strengthen': 3001, 'root': 2677, 'work': 3500, 'best': 447, 'season': 2747, 'bad': 394, 'fall': 1204, 'increas': 1617, 'much': 2084, 'order': 2229, 'shampoo': 2797, 'mask': 1943, 'noth': 2153, 'stop': 2990, 'hairfallaft': 1472, 'wash': 3424, 'badli': 395, 'smell': 2883, 'similar': 2844, 'navarathna': 2108, 'strong': 3005, 'sticki': 2982, 'appli': 319, 'three': 3178, 'drop': 1049, 'review': 2657, 'usag': 3338, 'months1': 2061, 'worst': 3507, 'product2': 2463, 'lot3': 1876, 'brought': 551, 'watch': 3429, 'youtub': 3541, 'influenc': 1638, 'mumbaik': 2093, 'nikhil4': 2133, 'total': 3236, 'misguid': 2023, 'never': 2122, 'take': 3090, 'suggest': 3036, 'sinc': 2848, 'month': 2058, 'lose': 1872, 'hair6': 1469, 'wast': 3427, 'money': 2051, 'well': 3448, 'damag': 877, 'hair7': 1470, 'better': 451, 'solut': 2907, 'return': 2655, 'tri': 3259, 'differ': 975, 'healthi': 1505, 'liter': 1847, 'chang': 653, 'textur': 3142, 'realli': 2574, 'happi': 1486, 'come': 745, 'nice': 2129, 'color': 738, 'packag': 2257, 'definit': 919, 'recommend': 2584, 'one': 2212, 'everyon': 1146, 'look': 1865, 'follow': 1286, 'instagram': 1655, 'insi': 1651, 'lovemyself': 1882, 'time': 3198, 'roommat': 2676, 'plan': 2375, 'forget': 1295, 'final': 1247, 'last': 1777, 'experi': 1166, 'everi': 1143, 'night': 2131, 'get': 1364, 'shower': 2828, 'morn': 2065, 'pro': 2455, 'non': 2144, 'greasi': 1432, 'pretti': 2437, 'light': 1824, 'pungent': 2507, 'awkward': 378, 'fragrance3': 1313, 'lump': 1892, 'togeth': 3215, 'give': 1379, 'shine': 2809, 'dark': 885, 'color5': 739, 'hairfal': 1471, 'hairloss': 1473, 'dens': 937, 'presenc': 2432, 'visibl': 3392, 'con': 772, 'find': 1248, 'anyth': 309, 'alli': 254, 'issu': 1686, 'purchas': 2508, 'fake': 1203, 'day': 891, 'full': 1343, 'strength': 3000, 'perfect': 2328, 'rich': 2660, 'sulphur': 3042, 'that': 3151, 'add': 210, 'hold': 1547, 'suitabl': 3038, 'type': 3284, 'show': 2827, 'benefit': 442, 'ad': 209, 'ate': 350, 'redensyl': 2590, 'content': 796, 'percentag': 2327, 'bein': 436, 'secondli': 2751, 'extract': 1178, 'effect': 1084, 'switchin': 3077, 'back': 390, 'convent': 802, 'method': 1990, 'makin': 1916, 'juic': 1718, 'applyin': 321, 'mention': 1979, 'amaz': 270, 'made': 1899, 'extrem': 1180, 'soft': 2897, 'shini': 2811, 'properli': 2484, 'bother': 511, 'think': 3167, 'till': 3197, 'date': 889, 'search': 2746, 'end': 1105, 'suppos': 3061, 'wait': 3408, 'see': 2755, 'impact': 1605, 'arrest': 336, 'yr': 3543, 'old': 2205, 'son': 2915, 'like': 1830, 'brush': 555, 'flavour': 1269, 'strawberri': 2998, 'previous': 2440, 'chicco': 671, 'switch': 3076, 'due': 1052, 'lower': 1886, 'price': 2441, 'mee': 1969, 'ingredi': 1643, 'child': 672, 'health': 1504, 'year': 3531, 'caviti': 635, 'start': 2967, 'develop': 962, 'breath': 533, 'toothpast': 3230, 'coupl': 822, 'session': 2786, 'feel': 1233, 'might': 1999, 'actual': 208, 'caus': 632, 'rather': 2556, 'keep': 1729, 'away': 374, 'immedi': 1604, 'shift': 2808, 'pigeon': 2356, 'next': 2126, 'onward': 2217, 'natur': 2107, 'properti': 2486, 'team': 3115, 'need': 2116, 'research': 2638, 'decent': 903, 'though': 3174, 'berri': 445, 'blast': 478, 'kid': 1740, 'love': 1881, 'part': 2288, 'perfectli': 2329, 'fine': 1249, 'swallow': 3071, '100': 9, 'safe': 2699, 'introduc': 1674, 'toxin': 3243, 'free': 1322, 'tast': 3104, 'flourid': 1275, 'tooth': 3229, 'past': 2295, 'avail': 366, 'right': 2664, '12': 23, 'almost': 259, 'teeth': 3124, 'eat': 1076, 'babi': 388, 'way': 3437, 'bit': 470, 'thn': 3170, 'forgot': 1296, 'kept': 1730, 'satisfact': 2716, 'small': 2878, 'understand': 3300, 'spit': 2944, 'sl': 2865, 'fluorid': 1280, 'vegan': 3365, 'claim': 701, 'plastic': 2377, 'respons': 2648, 'none': 2146, 'found': 1305, 'verdict': 3372, 'quit': 2539, 'notic': 2155, 'wish': 3490, 'singl': 2849, 'pack': 2256, 'instead': 1659, 'minimum': 2015, 'qti': 2522, 'lot': 1875, 'finish': 1252, 'tube': 3275, 'peanut': 2316, 'size': 2859, 'less': 1808, 'portion': 2404, 'brushingif': 556, 'click': 713, 'link': 1838, 'reliabl': 2614, 'qualiti': 2524, '4yo': 139, 'earlier': 1068, 'par': 2281, 'yet': 3536, 'econom': 1079, 'even': 1139, 'gulp': 1458, 'harm': 1490, 'although': 268, 'teach': 3113, 'littl': 1849, 'import': 1608, 'aspect': 344, 'consid': 785, 'place': 2372, 'mild': 2000, 'bubbl': 559, 'gum': 1459, 'plu': 2387, 'without': 3492, 'chemic': 666, 'foam': 1283, 'quantiti': 2527, 'dento': 939, 'lott': 1878, 'super': 3050, 'list': 1844, 'skin': 2861, 'face': 1188, 'felt': 1236, 'disappoint': 991, 'realis': 2571, 'lighter': 1826, 'remov': 2623, 'tan': 3099, 'leav': 1801, 'squeaki': 2953, 'clean': 706, 'brighter': 538, 'fragranc': 1312, 'thick': 3160, 'bead': 420, 'want': 3414, 'scrub': 2743, 'everyday': 1145, 'facewash': 1190, 'pulpi': 2504, 'orang': 2226, 'turmer': 3279, 'bright': 536, 'previou': 2439, 'annoy': 296, 'wors': 3506, 'worth': 3508, 'got': 1412, '175r': 54, 'sale': 2704, 'still': 2983, 'dont': 1030, 'paraben': 2282, 'sulfat': 3040, 'henc': 1523, 'talk': 3096, 'liquoric': 1842, 'attract': 357, 'consist': 787, 'unusu': 3322, 'other': 2238, 'radiant': 2544, 'rid': 2662, 'discolor': 996, 'pigment': 2357, 'pleasant': 2381, 'larg': 1773, 'walnut': 3413, 'intens': 1666, 'scrubber': 2744, 'daili': 874, 'moistur': 2045, 'liquidi': 1840, 'imag': 1602, 'key': 1733, 'stearic': 2974, 'acid': 202, 'cleans': 708, 'dirt': 987, 'sweat': 3072, 'excess': 1155, 'sebum': 2748, 'sodium': 2896, 'cocoyl': 729, 'glycin': 1392, 'produc': 2461, 'creami': 838, 'lather': 1782, 'soften': 2898, 'glycerin': 1391, 'treat': 3254, 'rough': 2680, 'scali': 2726, 'itchi': 1690, 'minor': 2016, 'irrit': 1685, 'palmit': 2267, 'sooth': 2920, 'common': 748, 'satur': 2718, 'fatti': 1221, 'anim': 294, 'plant': 2376, 'microorgan': 1996, 'niacinamid': 2128, 'form': 1297, 'vitamin': 3397, 'b3': 386, 'manag': 1926, 'acn': 203, 'rosacea': 2678, 'wrinkl': 3517, 'lighten': 1825, 'compound': 769, 'carrot': 623, 'seed': 2756, 'beta': 449, 'caroten': 621, 'heal': 1502, 'chap': 655, 'crack': 833, 'balanc': 401, 'may': 1957, 'reduc': 2591, 'tocopheryl': 3212, 'tocopherol': 3211, 'acet': 201, 'known': 1756, 'antioxid': 303, 'powder': 2413, 'haldi': 1475, 'contain': 794, 'anti': 300, 'inflammatori': 1637, 'compon': 767, 'yashtimadhu': 3528, 'commonli': 749, 'ayurved': 384, 'herb': 1526, 'licoric': 1814, 'power': 2416, 'sun': 3045, 'protect': 2489, 'regul': 2605, 'spot': 2948, 'blemish': 482, 'antisept': 304, 'boost': 506, 'circul': 698, 'ylang': 3537, 'cananga': 598, 'tree': 3256, 'tropic': 3264, 'nativ': 2106, 'india': 1623, 'promot': 2480, 'relax': 2611, 'kill': 1742, 'bacteria': 393, 'blood': 492, 'pressur': 2436, 'sexual': 2792, 'desir': 953, 'patchouli': 2302, 'deodor': 942, 'bodi': 499, 'odour': 2190, 'inflamm': 1636, 'fight': 1241, 'water': 3432, 'retent': 2654, 'break': 530, 'cellulit': 639, 'facilit': 1191, 'faster': 1215, 'wound': 3512, 'stimul': 2984, 'growth': 1449, 'new': 2123, 'appear': 317, 'cut': 863, 'bruis': 554, 'scar': 2730, 'hope': 1558, 'majorli': 1913, 'name': 2100, 'compani': 750, 'abl': 188, 'base': 406, 'ancient': 290, 'secret': 2752, 'recip': 2580, 'dadi': 872, 'nani': 2103, 'person': 2338, 'hydrat': 1585, 'thoroughli': 3173, 'instant': 1657, 'fresh': 1327, 'ubtan': 3287, 'sensit': 2771, 'kudo': 1759, 'thought': 3175, 'behind': 435, 'read': 2567, 'great': 1433, 'eagerli': 1065, 'open': 2218, 'empti': 1103, 'liquric': 1843, 'excit': 1157, 'heard': 1509, 'dead': 895, 'cell': 638, 'glow': 1389, 'repair': 2626, 'horribl': 1562, 'normal': 2149, 'tend': 3131, 'winter': 3486, 'march': 1934, 'enjoy': 1112, 'healthier': 1506, 'herbal': 1527, 'decid': 904, 'regret': 2604, 'rash': 2553, 'happen': 1485, '3daz': 126, 'could': 816, 'infer': 1634, 'becoz': 429, 'skincar': 2863, 'plz': 2389, 'ur': 3331, 'trap': 3250, 'market': 1938, 'gimmick': 1374, 'earthand': 1071, 'suit': 3037, 'sign': 2836, 'exposur': 1173, 'harsh': 1491, 'ray': 2560, 'tone': 3222, 'improv': 1611, 'complect': 763, 'frankli': 1318, 'honest': 1553, '15': 38, 'mositur': 2067, 'mark': 1937, 'uneven': 3305, 'toneso': 3223, 'purpos': 2513, 'fade': 1196, 'entertain': 1119, 'far': 1212, 'mosituris': 2068, 'serum': 2782, 'upcom': 3324, 'summer': 3044, 'superb': 3051, 'resolv': 2645, 'qulaiti': 2540, 'across': 205, 'anoth': 297, 'fast': 1214, 'absorb': 192, 'support': 3060, 'soon': 2917, 'least': 1798, '20': 74, 'check': 663, 'brighten': 537, 'line': 1836, 'reduct': 2592, 'dear': 899, 'friend': 1333, 'pump': 2505, 'tell': 3126, 'procuct': 2459, 'bloom': 493, 'radianc': 2543, 'thu': 3188, 'compat': 756, 'doesnt': 1025, 'fairer': 1201, 'um': 3291, 'amazon': 273, 'afford': 230, 'within': 3491, 'big': 460, 'zit': 3548, 'kind': 1744, 'entir': 1120, 'care': 617, 'routin': 2683, 'test': 3137, 'organ': 2232, 'high': 1533, 'expect': 1164, 'prone': 2482, 'smooth': 2885, 'sake': 2703, 'extra': 1177, 'turn': 3280, 'opposit': 2223, 'white': 3469, 'forehead': 1291, 'nose': 2150, 'pictur': 2354, 'worri': 3505, 'patch': 2301, 'eye': 1181, '3rd': 127, 'horrifi': 1563, '500': 141, 'buck': 561, 'mcaffein': 1960, '1whole': 72, 'breakout': 532, 'skinton': 2864, 'around': 334, 'easili': 1075, 'observ': 2178, 'minut': 2019, 'downsid': 1039, 'discomfort': 997, 'mom': 2048, 'relat': 2610, 'hyperpigment': 1589, '50': 140, 'diet': 973, 'deliv': 929, 'wise': 3489, 'accompani': 196, 'took': 3225, 'two': 3283, 'would': 3511, 'ladi': 1766, 'ofcours': 2191, 'refund': 2599, 'payback': 2309, 'dissatisfi': 1014, 'oili': 2199, 'signific': 2838, 'brilliant': 539, 'continu': 797, 'tip': 3206, 'pillow': 2358, 'sheet': 2804, '1yr': 73, 'receiv': 2577, 'diffrent': 977, 'doubt': 1036, 'origin': 2233, '30ml': 116, 'usual': 3345, '50ml': 144, 'fav': 1224, 'cream': 837, 'quickli': 2536, 'sometim': 2912, 'realiz': 2573, 'huge': 1575, 'bee': 432, 'extent': 1176, 'updat': 3325, 'pleas': 2380, 'pimpl': 2359, 'mulberri': 2087, 'miner': 2012, 'melanin': 1973, 'dispens': 1010, 'travel': 3252, 'moisturis': 2046, 'hello': 1520, 'job': 1712, 'iam': 1591, 'write': 3521, 'websit': 3442, 'figur': 1242, 'ml': 2033, 'compar': 752, 'scent': 2734, 'coz': 832, 'hardli': 1489, 'exactli': 1150, 'went': 3450, 'site': 2855, 'present': 2433, 'fan': 1209, 'gener': 1358, 'nykaa': 2174, 'highli': 1536, 'seem': 2759, 'copi': 805, 'broke': 545, 'pricier': 2445, 'side': 2835, 'guy': 1462, 'cant': 602, 'believ': 437, 'magic': 1901, 'memaearth': 1975, 'bye': 588, 'be4': 419, 'pic': 2351, '27': 103, 'feb': 1230, '2020': 85, '23march': 96, 'becam': 426, 'fair': 1200, 'valu': 3351, 'gentl': 1360, 'tea': 3112, 'favourit': 1227, 'pricey': 2443, 'option': 2224, 'requir': 2636, 'gone': 1403, 'jock': 1713, 'wonder': 3495, 'wake': 3409, 'bed': 430, 'beauti': 424, 'combin': 743, 'monsoon': 2057, 'becom': 427, 'oilier': 2200, 'humid': 1579, 'dehydr': 923, 'vlcc': 3400, 'atleast': 351, 'hell': 1519, 'servic': 2785, 'deliveri': 930, 'polici': 2395, 'toward': 3241, 'applic': 320, 'star': 2963, 'averag': 368, 'materi': 1952, 'medic': 1966, 'whether': 3464, 'concern': 775, 'pick': 2352, 'aroma': 333, 'sever': 2790, 'suddenli': 3028, 'attack': 354, 'fail': 1198, 'cure': 857, 'acnei': 204, 'occur': 2184, 'omg': 2210, 'consult': 790, 'doctor': 1023, 'recommand': 2583, 'fit': 1258, 'tuber': 3276, 'replac': 2628, 'suffer': 3029, 'everybodi': 1144, '1month': 69, 'six': 2857, 'stumbl': 3014, 'rang': 2552, 'easi': 1073, 'squeezi': 2955, 'clear': 710, 'gel': 1355, 'mother': 2070, 'anyon': 308, 'edit': 1082, '11': 20, 'soap': 2891, 'scam': 2728, 'youtubb': 3542, 'channel': 654, 'home': 1552, 'remedi': 2620, 'activ': 207, 'rip': 2670, 'deepli': 912, 'alway': 269, 'awesom': 376, 'delic': 925, 'newborn': 2124, 'birth': 466, 'goat': 1395, 'milk': 2005, 'long': 1860, 'eczema': 1081, 'gift': 1371, 'bath': 410, 'hive': 1543, 'hit': 1542, 'bar': 405, 'ok': 2201, 'melt': 1974, 'wet': 3454, 'bathroom': 413, 'save': 2719, 'possibl': 2406, 'costlier': 814, 'regimen': 2601, 'adult': 218, 'residu': 2642, 'surpris': 3067, 'thin': 3164, 'film': 1245, 'slipperi': 2873, 'nake': 2099, 'strip': 3003, 'excel': 1153, 'zero': 3546, 'pasti': 2296, 'mass': 1945, 'scoop': 2738, 'hand': 1478, 'manufactur': 1932, 'process': 2458, 'liquid': 1839, 'moreov': 2064, 'soapi': 2893, 'rins': 2669, 'teddi': 3121, 'outcom': 2240, 'dermadew': 945, 'trial': 3260, 'neg': 2119, 'item': 1691, 'share': 2799, '1st': 70, 'ignor': 1597, 'later': 1780, 'whole': 3472, 'boil': 500, 'spotti': 2949, 'burn': 574, 'cetaphil': 644, 'lotion': 1877, 'threw': 3179, 'appreci': 323, 'enrich': 1115, 'oatmeal': 2176, 'shea': 2802, 'butter': 578, 'coconut': 728, 'cleanser': 709, 'toddler': 3214, 'shape': 2798, 'tear': 3117, 'formula': 1300, 'mommi': 2050, 'daddi': 871, 'special': 2934, 'phase': 2345, 'independ': 1622, 'everytim': 1148, 'let': 1811, 'daughter': 890, 'linger': 1837, 'fabul': 1187, 'stellar': 2977, 'hamper': 1477, 'howev': 1570, 'bowl': 518, 'someth': 2911, 'compromis': 770, 'foami': 1284, 'mean': 1962, 'five': 1260, 'productbut': 2466, 'ask': 343, 'global': 1384, 'chain': 648, 'cheap': 659, 'focu': 1285, 'bio': 465, 'degrad': 921, 'mail': 1908, 'thank': 3147, 'godrej': 1397, 'top': 3232, 'notch': 2151, 'lifebuoy': 1819, 'dettol': 960, 'santoor': 2713, 'patanjali': 2299, 'master': 1949, 'blaster': 479, 'masterchef': 1950, 'variant': 3358, 'purechas': 2510, 'dealer': 898, 'inferior': 1635, 'genuin': 1362, 'came': 596, 'cloudtrail': 721, 'wrong': 3524, 'suppli': 3058, 'left': 1803, 'green': 1435, 'heaven': 1513, 'run': 2692, 'stay': 2971, 'particular': 2290, 'blue': 495, 'handwash': 1483, 'hospit': 1564, 'firstli': 1257, 'lockdown': 1855, 'red': 2588, 'zone': 3549, 'imposs': 1609, 'onlin': 2215, 'current': 861, 'situat': 2856, 'pocket': 2391, 'spread': 2952, 'effici': 1086, 'mrp': 2082, 'gain': 1352, 'pink': 2364, '750ml': 169, '650': 159, 'capac': 605, 'note': 2152, 'panten': 2276, 'standard': 2961, 'volum': 3404, 'waah': 3405, 'intact': 1662, 'seal': 2745, 'bt': 557, 'protekt': 2490, 'countri': 821, 'fulli': 1344, 'satisfi': 2717, 'tick': 3192, 'point': 2392, 'viz': 3399, 'delhi': 924, 'lead': 1790, 'lime': 1833, 'individu': 1629, 'prefer': 2427, 'irrespect': 1684, 'press': 2435, 'button': 581, 'lemon': 1805, 'loofah': 1864, 'well4': 3449, 'alo': 260, 'vera': 3371, 'nourish': 2158, 'bath5': 411, 'offer': 2193, '96': 177, 'good8': 1405, 'allerg': 252, 'reaction': 2566, 'overal': 2247, 'no1': 2137, 'refresh': 2597, 'deal': 897, '173': 53, '09': 7, '19': 63, '24': 97, 'pkd': 2369, 'simpli': 2847, '5soap': 154, '5fragranc': 151, '5deliveri': 150, '5overal': 153, 'reason': 2575, 'foreign': 1292, 'except': 1154, 'cheaper': 660, 'fragnanc': 1311, 'enter': 1118, 'grade': 1419, 'raw': 2559, 'cinthol': 696, 'mind': 2010, 'budget': 564, 'citru': 699, '150gm': 41, 'sold': 2905, 'bundl': 573, 'dissolv': 1015, 'ensur': 1116, 'hot': 1565, 'eight': 1088, 'rs': 2685, '89': 174, '00': 0, 'fregranc': 1324, 'hour': 1567, 'depend': 944, 'sandal': 2709, 'greater': 1434, 'longev': 1863, 'subtl': 3025, 'includ': 1613, 'pantri': 2277, 'suffici': 3030, 'lightli': 1827, 'longer': 1861, 'sandalwood': 2710, 'afterward': 232, 'done': 1027, 'bonu': 504, '76': 171, 'itz': 1697, 'lyk': 1894, 'mysor': 2097, '10': 8, '13': 31, 'havn': 1498, 'vanish': 3355, 'hard': 1487, 'mislead': 2024, 'favorit': 1225, 'wife': 3481, 'choos': 688, 'model': 2040, 'recent': 2578, 'boy': 520, 'profession': 2474, 'verifi': 3373, 'local': 1853, 'shop': 2820, '21600': 90, 'rupe': 2694, '16k': 50, 'pay': 2307, 'toli': 3220, 'vara': 3357, 'charg': 657, 'ice': 1592, 'tray': 3253, 'providepro': 2494, 'beautyful': 425, 'colorful': 740, 'direct': 985, 'cool': 804, 'veget': 3366, 'rack': 2542, 'absolut': 191, 'nois': 2140, 'backsid': 392, 'store': 2993, 'lover': 1883, 'sad': 2698, 'post': 2407, 'tune': 3278, 'pathet': 2304, 'defect': 916, 'wont': 3496, 'refriger': 2598, 'noisedoor': 2141, 'shut': 2833, 'properlyback': 2485, 'panel': 2273, 'coil': 732, 'danger': 883, 'childrenamazon': 675, 'sell': 2765, 'deni': 936, 'technician': 3120, 'wil': 3482, 'prime': 2448, 'member': 1976, 'resolut': 2644, 'hopeless': 1559, 'escal': 1129, 'corp': 809, 'email': 1099, 'tatacliq': 3110, 'indian': 1624, 'promis': 2479, 'detail': 954, 'seller': 2766, 'guarante': 1451, 'warranti': 3421, 'card': 610, 'address': 213, 'phone': 2347, 'number': 2166, 'etc': 1137, 'absenc': 190, 'difficult': 976, 'period': 2333, 'case': 626, '21': 87, 'condit': 777, 'short': 2823, 'itemnot': 1692, 'action': 206, 'taken': 3092, 'spaciou': 2930, 'ultim': 3289, 'consumpt': 792, 'rate': 2555, 'energi': 1108, 'elect': 1092, 'bill': 462, 'orderd': 2230, 'drawer': 1042, '1000': 10, 'spend': 2938, 'poor': 2399, 'upon': 3327, 'deliverycool': 932, 'goodnot': 1408, 'noisyampl': 2142, 'space': 2929, 'famili': 1207, '4good': 138, 'lookdri': 1866, 'storag': 2991, 'door': 1031, 'close': 715, 'push': 2515, 'itglasswar': 1693, 'factor': 1194, 'cabinet': 589, 'wierdli': 3480, 'placedonli': 2373, 'cube': 851, 'fuel': 1342, 'function': 1346, 'minim': 2014, 'sound': 2924, 'exchang': 1156, 'everyth': 1147, 'fact': 1193, 'aer': 226, 'rest': 2649, 'hint': 1541, 'eventu': 1141, 'crystal': 848, 'juggad': 1717, 'basic': 407, 'cover': 827, 'hole': 1549, 'hang': 1484, 'display': 1011, 'scissor': 2737, 'slender': 2868, 'violet': 3387, 'purpl': 2512, '25': 99, 'champ': 651, 'odonil': 2188, 'freshen': 1328, 'age': 235, 'law': 1787, 'diminish': 983, 'encourag': 1104, 'apt': 328, 'room': 2675, 'apart': 312, 'kick': 1739, 'concept': 774, 'ceil': 636, 'washroom': 3425, 'word': 3498, 'caution': 633, 'mine': 2011, 'maximum': 1956, '22': 91, 'grab': 1417, 'car': 608, 'toilet': 3216, 'offic': 2194, 'instal': 1656, 'zanzat': 3545, 'roughli': 2681, 'fifteen': 1240, 'guest': 1455, 'duplic': 1055, 'author': 362, 'supplier': 3059, 'cannot': 601, 'hv': 1583, 'packet': 2259, 'buyer': 584, 'file': 1243, 'consum': 791, 'forum': 1301, 'sunil': 3048, 'box': 519, '160': 46, 'rs480': 2686, 'rs495': 2687, 'kindli': 1746, 'maintain': 1910, 'area': 330, 'frank': 1317, 'opinion': 2222, 'complaint': 762, 'mood': 2062, 'counterpart': 820, 'evenli': 1140, 'leak': 1794, '30': 112, 'misti': 2030, 'unless': 3313, 'sort': 2922, 'tangi': 3101, 'initi': 1645, '14': 34, 'latter': 1783, 'shell': 2806, 'arriv': 337, 'batteri': 415, 'messag': 1985, 'els': 1098, 'serv': 2783, 'manual': 1931, 'obsolet': 2179, 'instruct': 1660, 'match': 1951, 'either': 1089, 'program': 2477, 'personnel': 2339, 'forc': 1290, 'hous': 1568, 'cost': 812, 'devic': 963, 'defeat': 915, 'ridicul': 2663, 'code': 730, 'indic': 1625, '68': 161, 'lock': 1854, 'clear2': 711, 'error': 1127, 'step': 2979, 'mode': 2039, 'access': 195, 'pg': 2342, '751019': 170, 'featur': 1229, 'digit': 979, 'written': 3523, 'book': 505, 'set': 2787, 'password': 2294, 'luck': 1890, 'scratch': 2740, 'multipl': 2090, 'loos': 1869, 'iron': 1682, 'paint': 2264, 'tag': 3086, 'sent': 2774, 'us': 3336, 'unwrap': 3323, 'attach': 353, 'sachet': 2697, 'locker': 1856, 'near': 2111, 'insert': 1650, 'insid': 1652, 'wall': 3411, 'mount': 2074, 'knot': 1754, 'keypad': 1734, 'aa': 183, 'led': 1802, 'posit': 2405, 'accord': 197, 'respect': 2646, 'lid': 1815, 'automat': 364, 'screw': 2742, 'fix': 1261, 'aftermarket': 231, 'mayb': 1958, 'mechan': 1965, 'unlock': 3315, 'given': 1380, 'readi': 2568, 'default': 914, '1234': 26, 'donot': 1029, 'firm': 1254, 'bolt': 502, 'motor': 2073, 'user': 3342, 'calm': 594, 'oper': 2220, 'head': 1500, 'repeat': 2627, 'call': 593, '750': 168, 'stuff': 3012, 'weight': 3445, 'cupboard': 853, 'otherwis': 2239, 'carri': 622, '4200': 131, 'idot': 1596, 'doubl': 1035, '171310': 52, 'setit': 2788, 'china': 678, 'dent': 938, 'chip': 680, 'pad': 2261, 'align': 249, 'declin': 906, 'thief': 3162, 'sweet': 3073, 'therefor': 3157, 'secur': 2753, 'pwd': 2518, 'execut': 1158, 'demo': 935, 'appoint': 322, '300': 113, 'put': 2517, 'bulki': 571, 'heavi': 1515, 'almera': 257, 'safer': 2700, 'cash': 627, 'passport': 2293, 'valuabl': 3352, 'lookwis': 1868, 'classi': 703, 'touch': 3239, 'proper': 2483, 'passcod': 2292, 'beep': 433, 'whenev': 3460, 'addit': 212, 'emerg': 1101, 'ever': 1142, 'cours': 824, 'peac': 2313, 'truli': 3269, 'greet': 1437, 'overrid': 2251, 'visit': 3393, 'perfum': 2331, 'specifi': 2936, 'accept': 194, 'spray': 2950, 'min': 2009, 'blink': 486, 'hr': 1571, 'design': 952, 'said': 2702, '20000': 76, 'arrmat': 338, 'airwick': 244, 'aermat': 227, 'sprayer': 2951, 'refil': 2594, 'dispos': 1012, 'air': 243, 'wick': 3476, 'stock': 2988, 'lavend': 1786, 'duracel': 1057, 'timer': 3200, '40min': 130, 'interv': 1671, 'window': 3484, 'machineri': 1898, 'bot': 510, 'ga': 1350, 'wrote': 3526, 'regard': 2600, 'meet': 1970, 'reput': 2633, '10day': 17, 'cloudtail': 719, 'crap': 834, 'unnecessarili': 3316, 'auto': 363, 'machin': 1897, 'fault': 1222, 'piec': 2355, 'co': 722, 'cartoon': 625, 'reciev': 2579, 'craplooklik': 835, 'rule': 2691, 'advantag': 221, 'front': 1337, 'sit': 2854, 'report': 2631, 'arrang': 335, 'inform': 1640, 'confirm': 780, 'resent': 2640, 'caveat': 634, 'alarm': 247, 'higher': 1534, 'muffl': 2085, 'blanket': 477, 'fabric': 1186, 'getaway': 1365, 'sleek': 2866, 'gadget': 1351, 'guess': 1454, 'speak': 2933, 'handi': 1479, 'wardrob': 3415, 'wallet': 3412, 'currenc': 860, 'carelessli': 619, 'risk': 2671, 'steal': 2973, 'maid': 1906, 'compart': 755, 'flawlessli': 1271, 'somewher': 2914, 'novemb': 2159, '2016': 81, 'eleg': 1094, 'certain': 642, 'jewelri': 1709, 'document': 1024, 'velvet': 3369, 'portabl': 2402, 'buzzez': 587, 'duti': 1062, 'goldilock': 1402, 'diwali': 1021, 'disabl': 989, 'theft': 3153, 'loud': 1880, 'move': 2077, 'slightli': 2872, 'told': 3218, 'pcb': 2311, 'attempt': 355, 'confus': 781, 'level': 1813, 'screen': 2741, 'mini': 2013, 'primit': 2450, 'volt': 3403, 'creat': 839, 'stylish': 3018, 'mobil': 2037, 'wristwatch': 3520, 'inner': 1647, 'layer': 1788, 'grossest': 1444, 'iphon': 1679, 'wire': 3488, 'gp': 1415, 'alkalin': 250, 'messyso': 1987, 'sum': 3043, 'occasion': 2182, 'thrifti': 3181, 'parent': 2284, 'anniversari': 295, 'stationari': 2970, 'transport': 3249, 'quick': 2535, 'answer': 298, 'queri': 2533, 'terribl': 3134, 'shock': 2817, 'thrown': 3184, 'warehous': 3416, 'luckili': 1891, 'mint': 2017, 'domest': 1026, 'shall': 2795, 'stress': 3002, 'backlit': 391, 'illumin': 1600, 'futur': 1349, 'jewelleri': 1708, 'household': 1569, 'chore': 690, 'physic': 2350, 'fear': 1228, 'misplac': 2026, 'inconveni': 1615, 'studi': 3011, 'tabl': 3084, 'men': 1977, 'knickknack': 1753, 'ear': 1066, 'ring': 2667, 'sturdi': 3016, 'dissuad': 1017, 'servant': 2784, 'tamper': 3098, 'intend': 1665, 'reset': 2641, 'troubleshoot': 3266, 'shoot': 2819, 'faulti': 1223, 'fruit': 1339, 'black': 474, 'uv': 3348, 'treatment': 3255, 'idea': 1594, 'sanit': 2712, 'discript': 1002, 'four': 1306, 'lamp': 1769, 'mirror': 2022, 'unlik': 3314, 'competitor': 760, 'grous': 1447, 'useless': 3341, 'expos': 1172, 'object': 2177, 'whose': 3474, 'disinfect': 1007, 'segment': 2761, 'specif': 2935, 'buzzer': 586, 'estim': 1136, 'cycl': 866, '18': 55, 'fals': 1205, 'count': 818, 'axecut': 382, 'heat': 1512, 'laptop': 1772, 'upto': 3330, 'helmet': 1521, 'smaller': 2879, 'pollut': 2397, 'stack': 2957, 'ensure4': 1117, 'plug': 2388, 'play': 2379, 'curiou': 858, 'laps': 1771, 'pin': 2361, 'critic': 843, 'account': 198, 'flat': 1265, 'rings2': 2668, 'moment': 2049, 'fraction': 1308, 'hazard': 1499, 'classic': 704, 'practic': 2418, 'safeti': 2701, 'pshycosi': 2497, 'utterli': 3347, 'peel': 2319, 'dial': 967, 'unexpect': 3306, 'request': 2635, 'sync': 3080, 'titan': 3208, 'wrist': 3518, 'gud': 1453, 'formal': 1298, 'occas': 2181, 'belt': 439, 'strap': 2997, 'a1': 182, 'tata': 3109, 'okbut': 2203, '2month': 107, 'father': 1220, 'photo': 2348, 'handl': 1480, 'glass': 1383, 'crumpl': 846, 'corner': 807, 'scare': 2731, 'god': 1396, 'wasnt': 3426, 'stamp': 2959, 'brick': 535, 'mortar': 2066, 'sunday': 3046, 'sab': 2696, 'mri': 2080, 'wrongli': 3525, 'repres': 2632, 'cardboard': 614, 'outsid': 2246, 'starsth': 2966, 'starspackag': 2965, 'upload': 3326, 'shown': 2829, 'shot': 2824, 'spanish': 2932, 'english': 1110, 'accur': 199, 'nyc': 2173, 'bcz': 418, 'gft': 1367, 'bf': 457, 'birthday': 467, 'thnx': 3171, 'dada': 870, 'metal': 1988, 'groom': 1442, 'wed': 3443, 'timepiec': 3199, 'silver': 2843, 'stun': 3015, 'royal': 2684, 'bracelet': 523, 'goe': 1398, 'dimens': 982, 'mismatch': 2025, 'loyal': 1888, 'life': 1817, 'simpl': 2846, 'diamet': 968, 'yesterday': 3535, 'odd': 2187, 'thorough': 3172, 'brows': 553, 'chose': 691, 'thee': 3152, 'system': 3082, 'shld': 2815, 'puja': 2501, 'festiv': 1238, '1256': 28, 'wear': 3440, 'husband': 1582, 'pl': 2371, 'wowww': 3514, 'hmt': 1544, 'choic': 685, 'young': 3539, 'watchreal': 3430, 'proud': 2491, 'casual': 628, 'premium': 2429, 'real': 2569, 'incred': 1618, 'sister': 2853, 'professor': 2475, 'colleg': 737, 'univers': 3312, 'student': 3010, 'matter': 1954, 'golden': 1401, 'colour': 741, 'dad': 869, 'radium': 2545, 'built': 569, 'leather': 1799, 'feedback': 1232, 'per': 2325, 'along': 262, 'bezel': 456, 'urself': 3335, 'justifi': 1722, 'magnific': 1902, 'dusti': 1061, '2k': 106, 'analog': 288, '2500r': 101, 'build': 567, 'cheer': 664, '2395': 95, 'amd': 276, 'urban': 3332, 'round': 2682, 'band': 402, 'brown': 552, 'leather8': 1800, 'movement': 2078, 'quartz': 2529, 'analog9': 289, 'warranty10': 3422, 'crown': 844, 'wore': 3499, 'wiyh': 3493, 'shirt': 2814, '3000': 114, 'fab': 1185, 'western': 3453, 'outfit': 2243, 'uncl': 3296, 'enhanc': 1111, 'style': 3017, 'elegabt': 1095, 'lookscon': 1867, 'notifi': 2157, 'thanx': 3150, 'itbecaus': 1688, 'tab': 3083, 'ee': 1083, 'adjust': 215, 'glossi': 1387, 'gold': 1400, 'tooo': 3226, 'goood': 1411, 'catch': 629, 'elder': 1091, 'brother': 550, 'core': 806, 'incorrect': 1616, '31': 117, 'sogood': 2901, 'itch': 1689, 'whr': 3475, 'pointer': 2393, 'titen': 3209, 'ladher': 1765, 'length': 1806, 'gem': 1357, 'seen': 2760, 'moder': 2041, 'lash': 1776, 'survivor': 3069, 'awssm': 381, 'hubbi': 1574, 'bigger': 461, '1500': 39, 'probabl': 2456, 'factori': 1195, 'superior': 3054, 'percent': 2326, 'gupta': 1460, 'ji': 1711, 'describ': 947, 'select': 2763, 'fat': 1219, 'needl': 2117, 'miss': 2027, 'anyway': 310, 'regist': 2603, 'workshop': 3503, 'billion': 463, '1300': 33, '1995': 67, 'durabl': 1056, 'mainten': 1911, 'hasnt': 1493, 'die': 971, 'steel': 2976, 'nicelight': 2130, 'weightbut': 3446, 'ohk': 2197, 'slower': 2876, 'mango': 1927, 'drink': 1047, 'offlin': 2195, 'dirti': 988, 'expiri': 1169, 'smudg': 2887, 'teast': 3118, 'expir': 1168, 'ship': 2812, 'mfg': 1993, '01': 1, '18best': 59, '23': 93, '07': 5, '18i': 61, 'cloudtailprint': 720, '250': 100, 'packpurchas': 2260, '153': 43, '02': 2, '18exp': 60, '18made': 62, 'haryana': 1492, 'karnataka': 1727, 'inth': 1673, 'alphonso': 264, 'aam': 184, 'varieti': 3361, 'unavail': 3293, 'heck': 1516, 'resembl': 2639, '45': 133, 'pulp': 2503, 'shake': 2794, 'frooti': 1338, 'preserv': 2434, 'sugar': 3032, 'aamra': 185, 'paperboat': 2280, 'producti': 2470, 'compel': 757, 'paper': 2279, 'boat': 498, 'flavor': 1267, 'cherri': 667, 'papaya': 2278, 'ltr': 1889, '120r': 25, 'pure': 2509, 'candi': 600, '90': 175, 'rememb': 2621, 'limit': 1834, 'maaza': 1896, 'pour': 2412, 'delici': 927, 'directli': 986, 'decor': 908, 'cake': 591, 'vegetarian': 3367, 'tasti': 3107, 'tooti': 3231, 'coco': 726, 'cola': 734, 'ordinari': 2231, 'term': 3132, 'nt': 2164, 'dedic': 910, 'coke': 733, 'can': 597, 'puf': 2500, 'video': 3384, 'transit': 3247, 'corona': 808, 'beat': 422, 'chill': 676, 'beverag': 453, 'wrapper': 3515, 'viraj': 3388, 'mohan': 2044, 'warmth': 3418, 'cold': 735, 'scope': 2739, 'intellig': 1664, 'groceri': 1441, 'pet': 2340, 'lesser': 1809, 'leakag': 1795, 'photograph': 2349, 'emphas': 1102, 'swell': 3075, 'buildup': 568, '199': 66, '210': 88, 'label': 1763, 'mixtur': 2032, 'artifici': 340, 'carton': 624, 'soak': 2890, 'rat': 2554, 'urin': 3334, 'stink': 2986, 'juicebox': 1719, 'stench': 2978, 'leptospirot': 1807, 'unbear': 3295, 'food': 1288, 'bag': 396, 'unfortun': 3307, 'stuck': 3008, 'discard': 993, 'didnt': 970, 'mainli': 1909, 'guava': 1452, 'dilut': 981, 'costum': 815, 'understood': 3301, 'slice': 2869, 'litchi': 1846, '2nd': 108, 'uneth': 3304, 'precautionari': 2425, 'measur': 1964, 'mistak': 2029, '168': 49, 'sooo': 2919, 'outer': 2242, 'comparison': 754, 'fun': 1345, 'supposedli': 3062, 'ant': 299, 'dammit': 879, 'live': 1850, 'seriou': 2780, 'throw': 3183, 'maggi': 1900, 'stomach': 2989, 'app': 315, 'state': 2969, 'qualifi': 2523, 'mous': 2075, 'suji': 3039, 'nobodi': 2138, 'listen': 1845, 'nation': 2105, 'lol': 1859, 'prepar': 2431, 'hungri': 1580, 'prompt': 2481, 'noodl': 2148, 'group': 1446, 'snack': 2888, 'icon': 1593, 'born': 508, '80': 173, 'open2': 2219, 'disadvantag': 990, 'tenconclus': 3130, 'ten': 3129, 'thousand': 3176, 'kitchen': 1748, 'broken': 546, 'cook': 803, 'them2': 3154, 'nestl': 2121, 'decad': 901, 'childhood': 673, 'brave': 527, 'question': 2534, 'rais': 2547, 'masala': 1942, 'tasty5': 3108, '5min': 152, 'atta': 352, 'quiet': 2537, 'oat': 2175, 'torn': 3234, 'eaten': 1078, '109': 15, 'tiffin': 3193, 'provis': 2495, 'ine': 1630, 'torm': 3233, 'energ': 1107, 'whit': 3468, 'prdodct': 2422, 'glocondi': 1385, 'favour': 1226, 'bnatur': 496, '120': 24, 'jelim': 1706, '140': 35, '110': 21, '119': 22, 'grear': 1431, 'june': 1721, 'oct': 2185, 'monopoli': 2056, 'boar': 497, 'eas': 1072, 'establish': 1135, 'amul': 285, 'pamper': 2268, 'bud': 563, 'competit': 759, 'dairi': 875, 'breakfast': 531, 'sandwich': 2711, 'bake': 397, 'dish': 1005, 'butterlici': 580, 'carmelita': 620, 'fernandesfood': 1237, 'writer': 3522, 'famou': 1208, 'slogan': 2874, 'butterli': 579, 'remain': 2618, 'throughout': 3182, 'discontinu': 998, 'ghee': 1369, 'granular': 1426, 'bottom': 514, 'neither': 2120, 'shush': 2832, 'cow': 831, 'cholesterol': 686, 'buffalo': 565, '70': 163, 'paneer': 2272, 'apprehens': 324, 'surprisingli': 3068, 'quarantin': 2528, 'affair': 228, 'exorbit': 1161, 'gravi': 1428, 'hygien': 1587, 'vacuum': 3349, '45day': 135, 'valid': 3350, 'chewi': 669, 'smelli': 2884, '73': 165, 'indefinit': 1621, 'saviour': 2721, 'tandoori': 3100, 'chines': 679, 'block': 488, 'reorder': 2624, 'today': 3213, 'earli': 1067, 'pizza': 2368, 'amazingli': 272, 'yummi': 3544, 'prioriti': 2454, 'delicaci': 926, 'trustworthi': 3273, 'reach': 2563, 'panner': 2275, 'nandini': 2102, 'kmf': 1751, 'goid': 1399, 'bitterresssssssstttt': 473, 'bitter': 472, 'sugarhav': 3033, 'medicin': 1967, 'chocol': 684, 'loverslot': 1884, 'sourc': 2925, 'numer': 2167, 'googl': 1410, 'heart': 1510, 'bp': 521, 'diebet': 972, 'patient': 2305, '60': 155, 'antidepress': 302, 'sweetner': 3074, 'wealth': 3439, 'movementdo': 2079, 'cocoa': 727, 'retain': 2653, 'perman': 2334, 'micronutri': 1995, 'finest': 1251, 'bhubaneswar': 459, 'bengaluru': 444, 'comfort': 746, '99': 179, 'hershey': 1528, 'chop': 689, 'stir': 2987, 'silpl': 2842, 'beyond': 455, 'cocao': 725, 'degre': 922, 'tortur': 3235, 'public': 2498, 'militari': 2004, 'terrorist': 3136, 'joke': 1715, 'cheapest': 661, 'suger': 3034, 'leagu': 1793, 'stick': 2980, 'prici': 2444, 'true': 3267, 'nb': 2109, 'mouth': 2076, 'heavenli': 1514, 'sugeri': 3035, 'cacao': 590, 'connoisseur': 784, 'mildli': 2002, 'inde': 1620, 'among': 282, 'lindt': 1835, 'graduat': 1420, 'progress': 2478, '55': 146, '75': 167, 'strang': 2996, 'sourish': 2926, 'hesit': 1529, 'superbl': 3052, 'temperatur': 3128, 'dose': 1033, 'meal': 1961, 'guilt': 1457, 'nowher': 2161, 'slightest': 2871, 'gross': 1443, 'innov': 1649, 'endors': 1106, 'proven': 2492, 'healthiest': 1507, 'superfood': 3053, 'flavonoid': 1266, 'lifespan': 1821, 'highest': 1535, 'nitric': 2135, 'oxid': 2255, 'dilat': 980, 'widen': 3478, 'vessel': 3377, 'blockag': 489, 'therebi': 3156, 'brain': 524, 'carcinogen': 609, 'cancer': 599, 'thinner': 3168, 'clot': 716, 'enorm': 1113, 'lack': 1764, 'awar': 373, 'defam': 913, 'piti': 2367, 'innoc': 1648, 'tongu': 3224, 'onset': 2216, 'lifestyl': 1822, 'genet': 1359, 'diseas': 1003, 'diabet': 966, 'hypertens': 1590, 'stroke': 3004, 'cardiac': 615, 'infact': 1632, 'bliss': 487, 'irresist': 1683, 'delight': 928, 'ambrosi': 275, 'authent': 361, 'lastli': 1778, 'doorstep': 1032, 'fell': 1234, 'bravo': 528, 'britannia': 541, 'chees': 665, 'milki': 2006, 'mist': 2028, 'okay': 2202, 'bread': 529, 'creme': 841, 'mire': 2021, 'fridg': 1332, 'vent': 3370, 'freez': 1323, 'whip': 3467, 'nondairi': 2145, 'watteri': 3435, 'whilst': 3466, 'subsequ': 3022, 'tin': 3201, 'oversea': 2252, 'thant': 3149, 'typic': 3286, 'kg': 1735, 'mumbai': 2092, 'spoil': 2945, '15th': 44, 'ill': 1599, 'warn': 3419, 'alllllll': 255, 'burner': 575, 'solidifi': 2906, 'gr8': 1416, 'bulletproof': 572, 'coffe': 731, 'bpc': 522, 'batch': 409, 'indirectli': 1627, 'potenti': 2410, 'adulter': 219, 'dynam': 1064, 'lost': 1874, 'perpos': 2337, 'moneyworst': 2053, 'refinedpruduct': 2596, 'sild': 2839, 'fantast': 1211, 'fond': 1287, 'nutramul': 2168, 'syrup': 3081, 'bournvita': 517, 'horlick': 1561, 'nutrit': 2171, 'dha': 964, 'malt': 1922, 'win': 3483, 'children': 674, 'hype': 1588, 'advertis': 223, 'curd': 855, 'warm': 3417, 'drawback': 1041, 'conveni': 800, 'assur': 348, '10ltr': 18, 'pouch': 2411, 'thicker': 3161, 'tetra': 3138, 'recycl': 2587, 'environ': 1122, 'friendli': 1334, 'soya': 2927, 'sheer': 2803, 'curdl': 856, 'adequ': 214, 'precaut': 2424, 'careless': 618, 'vehicl': 3368, 'weather': 3441, 'bound': 516, 'advers': 222, 'spoilt': 2946, 'perhap': 2332, 'sunlight': 3049, 'straight': 2994, '50valu': 145, 'vanaspati': 3354, 'patangali': 2298, 'leter': 1812, 'correct': 810, 'waight': 3407, 'iight': 1598, 'deshi': 951, 'fmcg': 1282, 'qr': 2521, 'varifi': 3362, 'prodct': 2460, '08': 6, 'tran': 3246, 'descript': 948, 'shame': 2796, 'deceiv': 902, 'hi': 1530, 'assum': 347, 'indigen': 1626, 'habitu': 1465, 'costli': 813, 'hike': 1538, 'pale': 2265, 'shelf': 2805, 'litr': 1848, 'span': 2931, 'dec': 900, '2017': 82, 'pass': 2291, 'parcel': 2283, 'mix': 2031, 'hate': 1496, 'earn': 1069, 'dosent': 1034, 'vanaspathi': 3353, 'frustur': 1340, 'faceburn': 1189, 'bcoz': 417, 'dress': 1044, 'juz': 1723, 'ppl': 2417, 'vlog': 3401, 'prdct': 2421, 'connect': 783, 'dispatch': 1009, 'bestpatanjali': 448, 'baba': 387, 'ram': 2548, 'dev': 961, 'rice': 2659, 'hull': 1577, 'serious': 2781, 'ashwagandha': 341, 'fastest': 1216, 'amla': 277, 'hibiscu': 1531, 'ineffect': 1631, 'ton': 3221, 'sunflow': 3047, 'embed': 1100, 'compulsari': 771, 'condition': 778, 'bharat': 458, 'wat': 3428, 'clearli': 712, 'undoubtedli': 3303, 'tetrapak': 3139, 'molk': 2047, 'surpirsingli': 3066, 'patanajali': 2297, 'dalda': 876, 'refin': 2595, 'jharana': 1710, 'conclus': 776, 'patanjalii': 2300, 'graviti': 1429, 'crazi': 836, 'yellow': 3533, 'puriti': 2511, 'nightmar': 2132, 'unabl': 3292, 'queen': 2532, 'overnight': 2248, 'intrus': 1675, 'replenish': 2630, 'especi': 1131, 'cap': 603, 'sharp': 2800, 'hurt': 1581, 'invert': 1676, 'conjunct': 782, 'jerk': 1707, 'mess': 1984, 'learnt': 1797, 'infect': 1633, 'gelit': 1356, 'pimplesgood': 2360, 'skincan': 2862, 'primer': 2449, 'miracl': 2020, 'peep': 2320, 'ph': 2343, 'mrng': 2081, 'suppl': 3057, '140r': 36, 'donno': 1028, 'alot': 263, 'discount': 999, 'variou': 3363, 'pine': 2363, 'blindli': 485, 'bug': 566, 'spider': 2941, 'vinegar': 3386, 'cloth': 717, 'smartphon': 2882, 'damp': 881, 'stronger': 3006, 'divid': 1019, 'holder': 1548, 'thru': 3185, 'mob': 2036, 'floor': 1273, 'shave': 2801, 'foul': 1304, 'certainli': 643, 'germ': 1363, 'civilis': 700, 'fought': 1303, 'fame': 1206, 'manner': 1930, 'world': 3504, 'satiat': 2715, 'man': 1925, 'self': 2764, 'trueli': 3268, 'healer': 1503, 'sick': 2834, 'seek': 2757, 'ire': 1681, 'hoarder': 1546, 'grew': 1438, 'sydney': 3078, 'alleg': 251, 'expand': 1163, 'tini': 3204, 'lizzol': 1851, 'cleaner': 707, 'tile': 3196, 'laundri': 1785, 'covid': 829, 'pandem': 2271, 'bell': 438, 'surfac': 3065, 'multi': 2088, 'viru': 3389, 'scentless': 2735, 'human': 1578, 'contact': 793, 'equal': 1123, 'substanc': 3023, 'honestli': 1554, 'saw': 2723, 'invis': 1677, 'dissapoint': 1013, '10thick': 19, 'plenti': 2383, 'mop': 2063, 'aid': 240, 'thik': 3163, 'pandam': 2270, '315': 119, 'print': 2452, '347': 122, 'slow': 2875, 'hat': 1495, '151': 42, 'sooner': 2918, 'stuffedit': 3013, 'rubbish': 2689, 'phenylrealis': 2346, 'malpractic': 1921, 'adulteri': 220, 'wateri': 3433, 'ke': 1728, 'viscou': 3391, 'kinda': 1745, 'deak': 896, 'loot': 1870, 'defin': 917, 'brokenand': 547, 'faint': 1199, 'picki': 2353, 'givin': 1381, 'someon': 2910, 'aw': 372, 'dustbin': 1060, '1500ml': 40, 'upset': 3329, '188r': 58, 'freshner': 1330, 'flu': 1279, 'tough': 3240, 'caught': 631, 'evapor': 1138, 'alcohol': 248, '57': 147, 'wherea': 3462, '72': 164, 'virus': 3390, 'ideal': 1595, 'os': 2237, 'unseal': 3320, 'nozzl': 2163, 'hood': 1556, 'savlon': 2722, 'covid19': 830, 'respiratori': 2647, 'suffoc': 3031, 'guidelin': 1456, 'inhal': 1644, 'pleasent': 2382, 'elimin': 1097, 'bedroom': 431, 'mattress': 1955, 'weak': 3438, 'wide': 3477, 'inspit': 1654, '62': 156, 'chg': 670, 'cetrimid': 645, 'efficaci': 1085, 'hul': 1576, 'bucket': 562, 'versatil': 3375, 'chlorhexidin': 681, 'glucon': 1390, 'equival': 1124, 'duo': 1054, 'chloroxylenol': 683, 'sting': 2985, 'multipurpos': 2091, 'compet': 758, 'http': 1572, 'www': 3527, 'dp': 1040, 'b08cl5p72j': 385, 'aqur': 329, 'modern': 2042, 'everywher': 1149, 'gave': 1354, 'stain': 2958, 'peachi': 2314, 'tint': 3205, 'nappi': 2104, 'pattern': 2306, 'trick': 3261, 'packaging2': 2258, 'delivery3': 931, 'product4': 2464, 'beuti': 452, 'via': 3380, 'subscrib': 3021, '195': 65, '165': 47, 'gst': 1450, 'substract': 3024, '185': 57, 'antibacteri': 301, 'sop': 2921, 'kile': 1741, 'benefici': 441, 'hidraden': 1532, 'sol': 2904, 'definetli': 918, 'send': 2768, 'coverfirst': 828, 'bite': 471, 'manufacutur': 1933, 'depand': 943, 'odor': 2189, 'quir': 2538, 'frangranc': 1316, 'hygein': 1586, 'pli': 2384, 'overpr': 2250, 'menthol': 1978, 'quaternari': 2530, 'ammonium': 280, 'chlorid': 682, 'potent': 2409, 'bleach': 480, 'glad': 1382, 'concentr': 773, 'formul': 1299, 'altern': 267, 'amway': 286, 'pursu': 2514, 'involv': 1678, 'hassl': 1494, 'pushi': 2516, 'salesperson': 2705, 'pre': 2423, 'indiscrimin': 1628, 'overus': 2253, 'resist': 2643, 'wipe': 3487, 'razor': 2561, 'deterg': 956, 'pain': 2263, 'ass': 345, 'tey': 3143, 'essenc': 1132, 'seclud': 2749, 'essens': 1133, 'seldomli': 2762, 'orign': 2234, 'minti': 2018, 'tingl': 3203, 'sensat': 2770, 'reckitt': 2582, 'benckis': 440, 'deserv': 950, 'complain': 761, 'appl': 318, 'impart': 1607, 'asid': 342, 'version': 3376, 'capful': 606, 'freshest': 1329, 'marketi': 1939, '79': 172, 'tfm': 3144, 'stand': 2960, '29th': 105, 'septemb': 2777, 'th': 3145, 'octob': 2186, 'extraordinari': 1179, 'ratingsfor': 2557, 'vfm': 3378, 'school': 2736, '2018': 83, 'nine': 2134, 'busi': 576, 'nivea': 2136, 'flagship': 1262, 'beaten': 423, 'determin': 958, 'pear': 2317, 'lowest': 1887, 'info': 1639, 'startfm': 2968, 'nomin': 2143, 'dermatolog': 946, 'allergi': 253, 'yeah': 3530, 'park': 2286, 'avenu': 367, 'deoderis': 941, 'tcc': 3111, 'suuuuuuuper': 3070, 'reali': 2570, 'cintol': 697, 'fress': 1331, 'kit': 1747, 'heee': 1517, 'deo': 940, 'de': 894, 'amongst': 283, 'confid': 779, 'avg': 369, 'scale': 2725, 'fragnac': 1310, '2year': 111, 'nd': 2110, 'eyebrow': 1182, 'pefum': 2321, 'gidrej': 1370, 'trustabl': 3271, 'powderi': 2415, 'overpow': 2249, 'modest': 2043, 'dove': 1038, 'winner': 3485, 'chunki': 693, 'anyhow': 306, 'unpack': 3317, 'capabl': 604, 'besid': 446, 'somewhat': 2913, 'larger': 1774, 'regularli': 2608, 'charcoal': 656, 'btw': 558, 'drier': 1046, 'usa': 3337, 'ivori': 1699, 'holiday': 1550, 'inn': 1646, 'hotel': 1566, 'peak': 2315, 'struck': 3007, 'ago': 237, 'underr': 3299, 'signatur': 2837, 'bland': 476, 'saver': 2720, 'trusti': 3272, 'composit': 768, 'bring': 540, 'experienc': 1167, 'prickli': 2446, 'bear': 421, 'male': 1917, 'symptom': 3079, 'anybodi': 305, 'older': 2206, 'televis': 3125, 'transpar': 3248, 'shade': 2793, 'fraud': 1320, 'flux': 1281, 'separ': 2775, 'chest': 668, 'region': 2602, 'troubl': 3265, 'pc': 2310, 'soapbut': 2892, 'shop1': 2821, 'verri': 3374, 'broad': 543, 'biscuit': 468, 'combo': 744, '100grm': 11, 'biskit': 469, '16': 45, 'portal': 2403, 'mart': 1941, 'grandpar': 1424, 'dust': 1059, 'major': 1912, 'demerit': 934, 'engin': 1109, 'filter': 1246, 'categori': 630, 'mostli': 2069, 'ting': 3202, 'ti': 3191, 'heft': 1518, 'bin': 464, 'redund': 2593, 'crush': 847, 'unhappi': 3308, 'kachha': 1725, 'maida': 1907, 'uncook': 3297, 'wheat': 3458, 'flour': 1274, 'vita': 3395, 'mari': 1936, 'soil': 2902, 'eatabl': 1077, 'companion': 751, 'fiber': 1239, 'relief': 2615, 'constip': 789, 'prior': 2453, 'ailment': 241, 'productand': 2465, 'totli': 3238, 'buiscuit': 570, 'ust': 3343, 'pay120': 2308, '320': 120, 'shipe': 2813, 'shing': 2810, 'aplic': 314, 'toti': 3237, 'unsatisfi': 3318, 'teasti': 3119, 'rock': 2674, 'grown': 1448, 'coat': 724, 'mast': 1948, 'hain': 1467, 'boss': 509, 'digest': 978, 'steax': 2975, 'vitarich': 3398, 'gloss': 1386, 'streax': 2999, 'vitagloss': 3396, 'cs': 849, 'bank': 404, 'rep': 2625, 'aniket': 293, 'supervisor': 3056, 'krishna': 1758, 'unhelp': 3309, 'sens': 2769, 'dd': 893, 'upper': 3328, 'obvious': 2180, 'popup': 2401, 'toooo': 3227, 'quatiti': 2531, 'apli': 313, 'al': 245, 'fr': 1307, 'straighten': 2995, 'effort': 1087, 'tame': 3097, 'dab': 867, 'medium': 1968, 'detangl': 955, 'nutti': 2172, 'sixth': 2858, 'wax': 3436, 'blow': 494, 'silki': 2841, 'discov': 1000, 'spill': 2942, 'whatsoev': 3457, 'an': 287, 'hait': 1474, 'dnt': 1022, 'glove': 1388, 'aweek': 375, 'chamic': 650, 'noyc': 2162, 'dye': 1063, 'theor': 3155, 'noce': 2139, 'women': 3494, 'shoukder': 2825, 'req': 2634, 'exipi': 1159, 'pf': 2341, '2022': 86, 'wow': 3513, 'unscent': 3319, 'realiti': 2572, 'spin': 2943, 'headach': 1501, 'frizi': 1335, 'tangl': 3102, '630': 157, '440': 132, 'fanci': 1210, 'highlight': 1537, 'parlor': 2287, 'salon': 2706, 'middl': 1998, 'class': 702, 'surf': 3064, 'henna': 1525, 'mehendi': 1971, 'girl': 1377, 'shoulder': 2826, 'dull': 1053, 'tigress': 3195, 'colout': 742, 'blond': 490, 'orangish': 2227, 'storb': 2992, 'britt': 542, 'wherev': 3463, 'damg': 878, 'takecar': 3091, 'spa': 2928, 'mt': 2083, 'leaflet': 1792, 'blonder': 491, 'funki': 1347, 'semi': 2767, 'cappucino': 607, 'disast': 992, 'frantic': 1319, 'scarf': 2732, 'andhat': 291, 'reddish': 2589, 'ultralight': 3290, 'vibrant': 3382, 'thi': 3159, 'menu': 1980, 'gurl': 1461, 'lie': 1816, 'pray': 2420, 'lord': 1871, 'bless': 484, 'tubr': 3277, 'flaw': 1270, 'advic': 224, 'hu': 1573, 'permanenti': 2335, 'dislik': 1008, 'longet': 1862, 'ratio': 2558, '450': 134, 'underton': 3302, '2week': 110, 'showup': 2831, 'allow': 256, 'insuffici': 1661, 'rightli': 2665, 'exampl': 1151, 'garnier': 1353, 'shmpoo': 2816, 'ir': 1680, 'temper': 3127, 'softer': 2899, 'manic': 1929, 'panic': 2274, 'monthl': 2059, 'electr': 1093, 'itit': 1694, 'cuticl': 865, 'bleed': 481, 'neck': 2115, 'lift': 1823, 'collect': 736, 'thrice': 3180, 'drctli': 1043, 'eras': 1125, 'intent': 1667, 'fack': 1192, 'westeg': 3452, 'bakwa': 400, 'jab': 1701, 'mere': 1982, 'aya': 383, 'ho': 1545, 'chuka': 692, 'tha': 3146, 'sath': 2714, 'kyu': 1762, 'khel': 1737, 'rahe': 2546, 'quaniti': 2526, 'himalaya': 1539, 'productpleas': 2471, 'blame': 475, 'whoch': 3470, 'third': 3169, 'johnson': 1714, 'contamin': 795, 'omron': 2211, 'thermomet': 3158, 'mercuri': 1981, 'oral': 2225, 'rectal': 2586, 'underarm': 3298, 'celciu': 637, 'fahrenheit': 1197, 'increment': 1619, 'approxim': 327, '127r': 30, 'ammonia': 279, 'guyz': 1463, 'articl': 339, '100ml': 12, 'damn': 880, 'neem': 2118, 'aloevera': 261, 'charm': 658, 'load': 1852, 'compliment': 766, 'divin': 1020, '6th': 162, 'aug': 359, 'poorli': 2400, 'necessarili': 2114, 'mmm': 2034, 'againfin': 233, 'agre': 238, 'random': 2551, '200ml': 79, 'outlet': 2244, 'plop': 2386, 'pea': 2312, '400ml': 129, 'squeez': 2954, 'runni': 2693, 'hai': 1466, 'thumsup': 3190, '03': 3, 'cri': 842, 'retail': 2652, 'peculiar': 2318, 'cosmet': 811, 'astonish': 349, 'thr': 3177, 'abck': 187, 'nothingsuit': 2154, 'soit': 2903, 'reli': 2613, 'curli': 859, 'recov': 2585, 'cg': 646, 'disclos': 995, 'methylchloroisothiazolinon': 1991, 'toxic': 3242, 'decreas': 909, '1time': 71, 'explain': 1170, 'revert': 2656, 'rub': 2688, 'palm': 2266, 'rebuild': 2576, 'greesi': 1436, 'lightweight': 1829, 'desert': 949, '67': 160, 'lamin': 1768, 'tad': 3085, 'meant': 1963, 'easier': 1074, 'singlehandedli': 2850, 'squirm': 2956, 'wriggl': 3516, '9th': 181, 'nowaday': 2160, 'messi': 1986, 'elig': 1096, 'suck': 3026, 'trash': 3251, 'babycar': 389, 'restor': 2650, 'almond': 258, 'oliv': 2209, 'luster': 1893, 'mallow': 1920, 'urgent': 3333, '59700545': 149, 'jul': 1720, 'lodg': 1857, 'legal': 1804, '2015': 80, 'internet': 1670, 'himalayan': 1540, 'basket': 408, 'massag': 1946, '200g': 77, 'gram': 1422, 'diaper': 969, '125g': 29, '2pc': 109, '200': 75, 'bathgentl': 412, 'handlecomplet': 1481, 'august': 360, 'cute': 864, '570': 148, '9itemsin': 180, 'mf': 1992, '06': 4, '2019': 84, 'lest': 1810, 'pros1': 2488, 'convenient2': 801, 'one3': 2213, 'necessari': 2113, 'things4': 3166, 'handling5': 1482, 'qualityso': 2525, 'souch': 2923, 'worthi': 3509, 'giftingif': 1372, '735r': 166, 'calcul': 592, '1025r': 14, 'credibilti': 840, 'solv': 2908, 'malish': 1918, 'termar': 3133, 'gentli': 1361, 'cousin': 826, 'remind': 2622, 'reciv': 2581, 'abt': 193, 'plactoc': 2374, 'instantli': 1658, 'nonsticki': 2147, 'sulphat': 3041, 'sleep': 2867, 'tht': 3187, 'bc': 416, 'seri': 2778, 'hyderabad': 1584, 'olay': 2204, 'pond': 2398, 'lotu': 1879, 'maybellin': 1959, 'lakm': 1767, 'predica': 2426, 'skeptic': 2860, 'rose': 2679, '165r': 48, 'path': 2303, 'youth': 3540, 'express': 1174, 'makeup': 1915, 'adrak': 217, 'pudina': 2499, 'pinch': 2362, 'cardamon': 613, 'tire': 3207, 'addict': 211, 'societi': 2895, 'mesmer': 1983, 'yearsalway': 3532, 'amlagm': 278, 'chaipatti': 649, 'detter': 959, 'qialiti': 2519, 'exceed': 1152, 'wagh': 3406, 'bakri': 399, 'brookebond': 549, 'taj': 3088, 'maharsthra': 1904, 'chai': 647, 'maa': 1895, 'beti': 450, '1kg': 68, 'knew': 1752, 'standpoint': 2962, 'drinker': 1048, 'faith': 1202, 'leaf': 1791, 'brew': 534, 'henceforth': 1524, 'whichev': 3465, '400': 128, 'ctc': 850, 'granul': 1425, 'margin': 1935, 'sub': 3020, 'bopsm': 507, 'yo': 3538, 'bangalor': 403, 'avaialbl': 365, 'decoct': 907, 'gm': 1393, 'jar': 1704, 'jan': 1703, 'rel': 2609, 'dubai': 1051, 'cinnamon': 695, 'cardamom': 612, 'ginger': 1376, 'flovor': 1276, 'disgust': 1004, 'export': 1171, 'abroad': 189, 'dought': 1037, 'outdat': 2241, 'ruin': 2690, 'iy': 1700, 'aint': 242, 'orth': 2236, '130': 32, 'masla': 1944, 'arom': 332, 'releas': 2612, 'sipper': 2851, 'spici': 2940, 'spice': 2939, 'cup': 852, 'lazi': 1789, 'rigmarol': 2666, 'lifesav': 1820, 'richer': 2661, 'microwav': 1997, 'heap': 1508, 'premix': 2430, 'voila': 3402, 'utensil': 3346, 'girnar': 1378, 'proport': 2487, 'imagin': 1603, 'tsp': 3274, 'massala': 1947, 'ord': 2228, 'teaoutstand': 3116, 'spoon': 2947, 'wholesal': 3473, 'moneyi': 2052, 'grass': 1427, 'usele': 3340, 'teadont': 3114, 'salti': 2707, 'deterior': 957, 'grain': 1421, 'disspoint': 1016, 'franganc': 1315, 'kerala': 1731, 'floweri': 1278, 'ground': 1445, 'forward': 1302, 'flavou': 1268, 'punch': 2506, 'spectrum': 2937, 'reacher': 2564, 'mahal': 1903, 'hardcor': 1488, 'futil': 1348, 'cardimon': 616, '230': 94, '634': 158, 'whoever': 3471, 'cardammom': 611, 'giner': 1375, 'quot': 2541, 'rcm': 2562, '355': 123, 'mall': 1919, '385': 125, 'blend': 483, 'kadak': 1726, 'ketchup': 1732, 'sir': 2852, 'productsloos': 2472, 'liquor': 1841, '500gm': 142, 'ala': 246, 'arnd': 331, '190': 64, 'tricki': 3262, 'profil': 2476, 'accustom': 200, 'often': 2196, 'react': 2565, 'tee': 3122, 'bakhri': 398, 'wider': 3479, 'agni': 236, 'robust': 2673, 'bolder': 501, 'cuppa': 854, 'latest': 1781, 'mfgit': 1994, 'grivianc': 1440, 'fellow': 1235, 'decis': 905, 'ps': 2496, 'elaichi': 1090, 'honey': 1555, 'motiv': 2072, '182': 56, '216': 89, 'qon': 2520, 'batter': 414, 'controversi': 799, 'kumbh': 1760, 'mela': 1972, 'abandon': 186, 'thse': 3186, 'mnc': 2035, 'mock': 2038, 'toler': 3219, 'dabur': 868, 'appropri': 325, 'behavior': 434, 'slight': 2870, 'tasteless': 3105, 'flame': 1264, 'paid': 2262, '365': 124, 'tajmah': 3089, 'avil': 370, '325': 121, 'staroveral': 2964, 'remark': 2619, 'coars': 723, 'zip': 3547, 'seven': 2789, 'plzzz': 2390, '310': 118, 'unawar': 3294, 'milder': 2001, 'seeker': 2758, 'workabl': 3501, 'visual': 3394, 'ergonom': 1126, 'principl': 2451, 'consider': 786, 'smarter': 2881, 'appeal': 316, '24x7': 98, 'whenver': 3461, 'brook': 548, 'bond': 503, 'relish': 2616, 'itth': 1696, 'goodit': 1407, 'itmust': 1695, 'assam': 346, 'simmer': 2845, 'hook': 1557, 'tremend': 3257, 'vibe': 3381, 'regulari': 2607, 'superl': 3055, 'pkt': 2370, 'tight': 3194, 'lightn': 1828, '490': 136, 'bewar': 454, '26juli': 102, 'tastelessi': 3106, 'likenaa': 1831, 'khata': 1736, 'na': 2098, 'metha': 1989, 'namkeen': 2101, 'trip': 3263, 'postpon': 2408, 'monthli': 2060, '499': 137, 'vedaka': 3364, 'flovour': 1277, 'durgapur': 1058, 'rana': 2550, 'pratap': 2419, 'road': 2672, 'west': 3451, 'bengal': 443, 'darjeel': 884, '170': 51, '220': 92, '200it': 78, 'poli': 2394, 'waterproof': 3434, 'flipkart': 1272, 'showroom': 2830, 'courier': 823, 'matt': 1953, 'lil': 1832, 'fasttrack': 1218, 'serial': 2779, 'sticker': 2981, 'logo': 1858, 'productbuy': 2467, 'clodtail': 714, 'ive': 1698, 'dipress': 984, 'buc': 560, 'walk': 3410, 'fastrack': 1217, 'shopkeep': 2822, 'variat': 3359, '30day': 115, 'goutham': 1413, 'kittu': 1749, 'awsm': 379, 'ugli': 3288, 'rven': 2695, 'peoli': 2323, 'becous': 428, 'priduct': 2447, 'anymor': 307, 'toooooo': 3228, 'choooooo': 687, 'chweeeeet': 694, '1020r': 13, 'dail': 873, 'grace': 1418, 'gf': 1366, 'thankzz': 3148, 'owesom': 2254, 'centr': 641, 'penni': 2322, 'killer': 1743, '1499': 37, 'buygood': 585, 'butworst': 582, 'center': 640, 'teenag': 3123, 'approx': 326, 'sexi': 2791, 'smart': 2880, 'gray': 1430, 'notif': 2156, 'sm': 2877, 'music': 2094, 'unit': 3311, 'horizont': 1560, 'perpendicular': 2336, 'tracker': 3245, 'late': 1779, 'wristband': 3519, 'perform': 2330, 'distanc': 1018, 'calori': 595, 'whatsapp': 3456, 'text': 3141, 'android': 292, 'sensor': 2772, 'track': 3244, 'nearli': 2112, 'nuce': 2165, 'ran': 2549, 'anywher': 311, 'insight': 1653, 'lean': 1796, 'unisex': 3310, 'ole': 2208, 'heartrat': 1511, 'sensor4': 2773, 'productcon': 2468, 'silenc': 2840, 'mute': 2096, 'incom': 1614, 'fashion': 1213, 'advis': 225, 'economi': 1080, 'jam': 1702, 'mai': 1905, 'delivr': 933, 'kiya': 1750, 'mujh': 2086, 'samjh': 2708, 'nhi': 2127, 'rha': 2658, 'ki': 1738, 'ka': 1724, 'kya': 1761, 'esliy': 1130, 'pllzz': 2385, 'orignl': 2235, '9044228734': 176, 'stylist': 3019, '125': 27, 'pitcher': 2366, 'entirli': 1121, 'pricethank': 2442, 'definitli': 920, 'interview': 1672, 'scenario': 2733, 'expact': 1162, 'cloud': 718, 'tail': 3087, 'soo': 2916, 'di': 965, 'dat': 887, 'usu': 3344, 'warrani': 3420, 'intern': 1669, 'wheel': 3459, 'outrsid': 2245, '50m': 143, 'ft': 1341, 'deep': 911, 'polish': 2396, 'vapour': 3356, '962': 178, 'grand': 1423, 'amazonpleas': 274, 'productthi': 2473, 'watchth': 3431, 'goodon': 1409, 'comparet': 753, 'awsom': 380, 'smoothli': 2886, 'until': 3321, 'trendi': 3258, 'attir': 356, 'operating2': 2221, 'amol': 281, 'daylight': 892, 'audio': 358, 'integr': 1663, 'goodindian': 1406, 'brandconsth': 526, 'softwar': 2900, 'feed': 1231, 'data': 888, 'firmwar': 1255, 'sudden': 3027, 'sedentari': 2754, 'vibrat': 3383, 'workout': 3502, 'monitor': 2055, 'frequent': 1326, 'impair': 1606, 'discrep': 1001, 'interfac': 1668, 'fitband': 1259, '10calori': 16, 'kore': 1757, 'talc': 3093, 'exist': 1160, 'vi': 3379, 'talcpro': 3094, 'wood': 3497, 'powder2': 2414, 'judg': 1716, 'hologram': 1551, 'somehow': 2909, 'twist': 3282, 'bottle7': 513, 'forev': 1294, 'finer': 1250, 'diff': 974, 'talcum': 3095, '28': 104, 'fraudul': 1321, 'parti': 2289, 'toiletri': 3217, 'terrif': 3135, 'pinkish': 2365, 'yellowish': 3534, 'govt': 1414, 'stucki': 3009, 'moni': 2054, 'seper': 2776, 'gimic': 1373, 'multin': 2089, 'but': 577, 'darken': 886, 'inappropri': 1612, 'platforn': 2378, 'shocker': 2818, 'lark': 1775, 'wart': 3423, 'chin': 677, 'pull': 2502, 'reluct': 2617, 'counter': 819, 'pharma': 2344, 'clay': 705, 'whatev': 3455, 'constant': 788, 'affect': 229, 'std': 2972, 'gym': 1464, 'mill': 2007, 'eyelid': 1183, 'chanc': 652, 'ingest': 1642, 'disclaim': 994, 'fregrenc': 1325, 'worthless': 3510, 'frager': 1309, 'varient': 3360, 'complexion': 765, 'jasmin': 1705, 'typeon': 3285, 'oldest': 2207, 'lifeboy': 1818, 'moti': 2071, 'eyewash': 1184, 'court': 825, 'pan': 2269, 'ahead': 239, 'mile': 2003, 'scandal': 2729, 'aweson': 377, 'crumbl': 845, 'snd': 2889, 'occass': 2183, 'marketlook': 1940, 'tje': 3210, 'expwrienc': 1175, 'ghe': 1368, 'offcours': 2192, 'soaprel': 2894, 'shi': 2807, 'admit': 216, 'hav': 1497, 'producthpp': 2469, 'land': 1770, 'millennium': 2008, 'nutregena': 2169, 'forest': 1293, 'reseal': 2637, 'tape': 3103, 'flake': 1263, 'parfum': 2285, 'couldnt': 817, 'itapart': 1687, 'weirdli': 3447, 'dishth': 1006, 'amazingclass': 271, 'broght': 544, 'agarbatti': 234, 'fire': 1253, 'infring': 1641, 'fragrant': 1314, 'replaceadd': 2629, 'tex': 3140}\n"
     ]
    }
   ],
   "source": [
    "from sklearn.feature_extraction.text import CountVectorizer\n",
    "features = CountVectorizer()\n",
    "features.fit(reviews_df[\"clean_review_text\"])\n",
    "print(len(features.vocabulary_))\n",
    "print(features.vocabulary_)"
   ]
  },
  {
   "cell_type": "code",
   "execution_count": 29,
   "metadata": {},
   "outputs": [
    {
     "name": "stdout",
     "output_type": "stream",
     "text": [
      "  (0, 284)\t1\n",
      "  (0, 512)\t2\n",
      "  (0, 515)\t1\n",
      "  (0, 525)\t2\n",
      "  (0, 583)\t1\n",
      "  (0, 662)\t1\n",
      "  (0, 747)\t1\n",
      "  (0, 764)\t1\n",
      "  (0, 862)\t1\n",
      "  (0, 1114)\t2\n",
      "  (0, 1165)\t1\n",
      "  (0, 1244)\t1\n",
      "  (0, 1256)\t1\n",
      "  (0, 1289)\t1\n",
      "  (0, 1394)\t1\n",
      "  (0, 1404)\t3\n",
      "  (0, 1468)\t1\n",
      "  (0, 1476)\t1\n",
      "  (0, 1755)\t1\n",
      "  (0, 1885)\t1\n",
      "  (0, 1924)\t2\n",
      "  (0, 1928)\t1\n",
      "  (0, 2198)\t3\n",
      "  (0, 2214)\t1\n",
      "  (0, 2324)\t1\n",
      "  :\t:\n",
      "  (2772, 1211)\t1\n",
      "  (2773, 891)\t1\n",
      "  (2773, 1327)\t1\n",
      "  (2773, 1777)\t1\n",
      "  (2773, 1860)\t1\n",
      "  (2773, 3182)\t1\n",
      "  (2774, 2427)\t1\n",
      "  (2774, 2891)\t1\n",
      "  (2776, 2462)\t1\n",
      "  (2776, 3050)\t1\n",
      "  (2777, 447)\t1\n",
      "  (2777, 804)\t1\n",
      "  (2777, 924)\t1\n",
      "  (2777, 1045)\t1\n",
      "  (2777, 1312)\t1\n",
      "  (2777, 1565)\t2\n",
      "  (2777, 1579)\t1\n",
      "  (2777, 1595)\t1\n",
      "  (2777, 1801)\t1\n",
      "  (2777, 2058)\t2\n",
      "  (2777, 2609)\t1\n",
      "  (2777, 2861)\t1\n",
      "  (2777, 2891)\t1\n",
      "  (2777, 2920)\t1\n",
      "  (2777, 3044)\t2\n"
     ]
    }
   ],
   "source": [
    "bagofWords = features.transform(reviews_df[\"clean_review_text\"])\n",
    "print(bagofWords)"
   ]
  },
  {
   "cell_type": "code",
   "execution_count": 30,
   "metadata": {},
   "outputs": [
    {
     "name": "stdout",
     "output_type": "stream",
     "text": [
      "[[0 0 0 ... 0 0 0]\n",
      " [0 0 0 ... 0 0 0]\n",
      " [0 0 0 ... 0 0 0]\n",
      " ...\n",
      " [0 0 0 ... 0 0 0]\n",
      " [0 0 0 ... 0 0 0]\n",
      " [0 0 0 ... 0 0 0]]\n"
     ]
    }
   ],
   "source": [
    "print(bagofWords.toarray())"
   ]
  },
  {
   "cell_type": "code",
   "execution_count": 31,
   "metadata": {},
   "outputs": [
    {
     "name": "stdout",
     "output_type": "stream",
     "text": [
      "['00', '01', '02', '03', '06', '07', '08', '09', '10', '100', '1000', '100grm', '100ml', '1020r', '1025r', '109', '10calori', '10day', '10ltr', '10thick', '11', '110', '119', '12', '120', '120r', '1234', '125', '1256', '125g', '127r', '13', '130', '1300', '14', '140', '140r', '1499', '15', '1500', '1500ml', '150gm', '151', '153', '15th', '16', '160', '165', '165r', '168', '16k', '170', '171310', '173', '175r', '18', '182', '185', '188r', '18best', '18exp', '18i', '18made', '19', '190', '195', '199', '1995', '1kg', '1month', '1st', '1time', '1whole', '1yr', '20', '200', '20000', '200g', '200it', '200ml', '2015', '2016', '2017', '2018', '2019', '2020', '2022', '21', '210', '216', '21600', '22', '220', '23', '230', '2395', '23march', '24', '24x7', '25', '250', '2500r', '26juli', '27', '28', '29th', '2k', '2month', '2nd', '2pc', '2week', '2year', '30', '300', '3000', '30day', '30ml', '31', '310', '315', '320', '325', '347', '355', '365', '385', '3daz', '3rd', '400', '400ml', '40min', '4200', '440', '45', '450', '45day', '490', '499', '4good', '4yo', '50', '500', '500gm', '50m', '50ml', '50valu', '55', '57', '570', '59700545', '5deliveri', '5fragranc', '5min', '5overal', '5soap', '60', '62', '630', '634', '650', '67', '68', '6th', '70', '72', '73', '735r', '75', '750', '750ml', '751019', '76', '79', '80', '89', '90', '9044228734', '96', '962', '99', '9itemsin', '9th', 'a1', 'aa', 'aam', 'aamra', 'abandon', 'abck', 'abl', 'abroad', 'absenc', 'absolut', 'absorb', 'abt', 'accept', 'access', 'accompani', 'accord', 'account', 'accur', 'accustom', 'acet', 'acid', 'acn', 'acnei', 'across', 'action', 'activ', 'actual', 'ad', 'add', 'addict', 'addit', 'address', 'adequ', 'adjust', 'admit', 'adrak', 'adult', 'adulter', 'adulteri', 'advantag', 'advers', 'advertis', 'advic', 'advis', 'aer', 'aermat', 'affair', 'affect', 'afford', 'aftermarket', 'afterward', 'againfin', 'agarbatti', 'age', 'agni', 'ago', 'agre', 'ahead', 'aid', 'ailment', 'aint', 'air', 'airwick', 'al', 'ala', 'alarm', 'alcohol', 'align', 'alkalin', 'alleg', 'allerg', 'allergi', 'alli', 'alllllll', 'allow', 'almera', 'almond', 'almost', 'alo', 'aloevera', 'along', 'alot', 'alphonso', 'alreadi', 'also', 'altern', 'although', 'alway', 'amaz', 'amazingclass', 'amazingli', 'amazon', 'amazonpleas', 'ambrosi', 'amd', 'amla', 'amlagm', 'ammonia', 'ammonium', 'amol', 'among', 'amongst', 'amount', 'amul', 'amway', 'an', 'analog', 'analog9', 'ancient', 'andhat', 'android', 'aniket', 'anim', 'anniversari', 'annoy', 'anoth', 'answer', 'ant', 'anti', 'antibacteri', 'antidepress', 'antioxid', 'antisept', 'anybodi', 'anyhow', 'anymor', 'anyon', 'anyth', 'anyway', 'anywher', 'apart', 'apli', 'aplic', 'app', 'appeal', 'appear', 'appl', 'appli', 'applic', 'applyin', 'appoint', 'appreci', 'apprehens', 'appropri', 'approx', 'approxim', 'apt', 'aqur', 'area', 'arnd', 'arom', 'aroma', 'around', 'arrang', 'arrest', 'arriv', 'arrmat', 'articl', 'artifici', 'ashwagandha', 'asid', 'ask', 'aspect', 'ass', 'assam', 'assum', 'assur', 'astonish', 'ate', 'atleast', 'atta', 'attach', 'attack', 'attempt', 'attir', 'attract', 'audio', 'aug', 'august', 'authent', 'author', 'auto', 'automat', 'avaialbl', 'avail', 'avenu', 'averag', 'avg', 'avil', 'avoid', 'aw', 'awar', 'away', 'aweek', 'awesom', 'aweson', 'awkward', 'awsm', 'awsom', 'awssm', 'axecut', 'aya', 'ayurved', 'b08cl5p72j', 'b3', 'baba', 'babi', 'babycar', 'back', 'backlit', 'backsid', 'bacteria', 'bad', 'badli', 'bag', 'bake', 'bakhri', 'bakri', 'bakwa', 'balanc', 'band', 'bangalor', 'bank', 'bar', 'base', 'basic', 'basket', 'batch', 'bath', 'bath5', 'bathgentl', 'bathroom', 'batter', 'batteri', 'bc', 'bcoz', 'bcz', 'be4', 'bead', 'bear', 'beat', 'beaten', 'beauti', 'beautyful', 'becam', 'becom', 'becous', 'becoz', 'bed', 'bedroom', 'bee', 'beep', 'behavior', 'behind', 'bein', 'believ', 'bell', 'belt', 'benckis', 'benefici', 'benefit', 'bengal', 'bengaluru', 'berri', 'besid', 'best', 'bestpatanjali', 'beta', 'beti', 'better', 'beuti', 'beverag', 'bewar', 'beyond', 'bezel', 'bf', 'bharat', 'bhubaneswar', 'big', 'bigger', 'bill', 'billion', 'bin', 'bio', 'birth', 'birthday', 'biscuit', 'biskit', 'bit', 'bite', 'bitter', 'bitterresssssssstttt', 'black', 'blame', 'bland', 'blanket', 'blast', 'blaster', 'bleach', 'bleed', 'blemish', 'blend', 'bless', 'blindli', 'blink', 'bliss', 'block', 'blockag', 'blond', 'blonder', 'blood', 'bloom', 'blow', 'blue', 'bnatur', 'boar', 'boat', 'bodi', 'boil', 'bolder', 'bolt', 'bond', 'bonu', 'book', 'boost', 'bopsm', 'born', 'boss', 'bot', 'bother', 'bottl', 'bottle7', 'bottom', 'bought', 'bound', 'bournvita', 'bowl', 'box', 'boy', 'bp', 'bpc', 'bracelet', 'brain', 'brand', 'brandconsth', 'brave', 'bravo', 'bread', 'break', 'breakfast', 'breakout', 'breath', 'brew', 'brick', 'bright', 'brighten', 'brighter', 'brilliant', 'bring', 'britannia', 'britt', 'broad', 'broght', 'broke', 'broken', 'brokenand', 'brook', 'brookebond', 'brother', 'brought', 'brown', 'brows', 'bruis', 'brush', 'brushingif', 'bt', 'btw', 'bubbl', 'buc', 'buck', 'bucket', 'bud', 'budget', 'buffalo', 'bug', 'build', 'buildup', 'built', 'buiscuit', 'bulki', 'bulletproof', 'bundl', 'burn', 'burner', 'busi', 'but', 'butter', 'butterli', 'butterlici', 'button', 'butworst', 'buy', 'buyer', 'buygood', 'buzzer', 'buzzez', 'bye', 'cabinet', 'cacao', 'cake', 'calcul', 'call', 'calm', 'calori', 'came', 'can', 'cananga', 'cancer', 'candi', 'cannot', 'cant', 'cap', 'capabl', 'capac', 'capful', 'cappucino', 'car', 'carcinogen', 'card', 'cardammom', 'cardamom', 'cardamon', 'cardboard', 'cardiac', 'cardimon', 'care', 'careless', 'carelessli', 'carmelita', 'caroten', 'carri', 'carrot', 'carton', 'cartoon', 'case', 'cash', 'casual', 'catch', 'categori', 'caught', 'caus', 'caution', 'caveat', 'caviti', 'ceil', 'celciu', 'cell', 'cellulit', 'center', 'centr', 'certain', 'certainli', 'cetaphil', 'cetrimid', 'cg', 'chai', 'chain', 'chaipatti', 'chamic', 'champ', 'chanc', 'chang', 'channel', 'chap', 'charcoal', 'charg', 'charm', 'cheap', 'cheaper', 'cheapest', 'cheat', 'check', 'cheer', 'chees', 'chemic', 'cherri', 'chest', 'chewi', 'chg', 'chicco', 'child', 'childhood', 'children', 'childrenamazon', 'chill', 'chin', 'china', 'chines', 'chip', 'chlorhexidin', 'chlorid', 'chloroxylenol', 'chocol', 'choic', 'cholesterol', 'choooooo', 'choos', 'chop', 'chore', 'chose', 'chuka', 'chunki', 'chweeeeet', 'cinnamon', 'cinthol', 'cintol', 'circul', 'citru', 'civilis', 'claim', 'class', 'classi', 'classic', 'clay', 'clean', 'cleaner', 'cleans', 'cleanser', 'clear', 'clear2', 'clearli', 'click', 'clodtail', 'close', 'clot', 'cloth', 'cloud', 'cloudtail', 'cloudtailprint', 'cloudtrail', 'co', 'coars', 'coat', 'cocao', 'coco', 'cocoa', 'coconut', 'cocoyl', 'code', 'coffe', 'coil', 'coke', 'cola', 'cold', 'collect', 'colleg', 'color', 'color5', 'colorful', 'colour', 'colout', 'combin', 'combo', 'come', 'comfort', 'comment', 'common', 'commonli', 'compani', 'companion', 'compar', 'comparet', 'comparison', 'compart', 'compat', 'compel', 'compet', 'competit', 'competitor', 'complain', 'complaint', 'complect', 'complet', 'complexion', 'compliment', 'compon', 'composit', 'compound', 'compromis', 'compulsari', 'con', 'concentr', 'concept', 'concern', 'conclus', 'condit', 'condition', 'confid', 'confirm', 'confus', 'conjunct', 'connect', 'connoisseur', 'consid', 'consider', 'consist', 'constant', 'constip', 'consult', 'consum', 'consumpt', 'contact', 'contain', 'contamin', 'content', 'continu', 'control', 'controversi', 'conveni', 'convenient2', 'convent', 'cook', 'cool', 'copi', 'core', 'corner', 'corona', 'corp', 'correct', 'cosmet', 'cost', 'costli', 'costlier', 'costum', 'could', 'couldnt', 'count', 'counter', 'counterpart', 'countri', 'coupl', 'courier', 'cours', 'court', 'cousin', 'cover', 'coverfirst', 'covid', 'covid19', 'cow', 'coz', 'crack', 'crap', 'craplooklik', 'crazi', 'cream', 'creami', 'creat', 'credibilti', 'creme', 'cri', 'critic', 'crown', 'crumbl', 'crumpl', 'crush', 'crystal', 'cs', 'ctc', 'cube', 'cup', 'cupboard', 'cuppa', 'curd', 'curdl', 'cure', 'curiou', 'curli', 'currenc', 'current', 'custom', 'cut', 'cute', 'cuticl', 'cycl', 'dab', 'dabur', 'dad', 'dada', 'daddi', 'dadi', 'dail', 'daili', 'dairi', 'dalda', 'damag', 'damg', 'dammit', 'damn', 'damp', 'dandruff', 'danger', 'darjeel', 'dark', 'darken', 'dat', 'data', 'date', 'daughter', 'day', 'daylight', 'dd', 'de', 'dead', 'deak', 'deal', 'dealer', 'dear', 'dec', 'decad', 'deceiv', 'decent', 'decid', 'decis', 'declin', 'decoct', 'decor', 'decreas', 'dedic', 'deep', 'deepli', 'defam', 'default', 'defeat', 'defect', 'defin', 'definetli', 'definit', 'definitli', 'degrad', 'degre', 'dehydr', 'delhi', 'delic', 'delicaci', 'delici', 'delight', 'deliv', 'deliveri', 'delivery3', 'deliverycool', 'delivr', 'demerit', 'demo', 'deni', 'dens', 'dent', 'dento', 'deo', 'deoderis', 'deodor', 'depand', 'depend', 'dermadew', 'dermatolog', 'describ', 'descript', 'desert', 'deserv', 'deshi', 'design', 'desir', 'detail', 'detangl', 'deterg', 'deterior', 'determin', 'detter', 'dettol', 'dev', 'develop', 'devic', 'dha', 'di', 'diabet', 'dial', 'diamet', 'diaper', 'didnt', 'die', 'diebet', 'diet', 'diff', 'differ', 'difficult', 'diffrent', 'digest', 'digit', 'dilat', 'dilut', 'dimens', 'diminish', 'dipress', 'direct', 'directli', 'dirt', 'dirti', 'disabl', 'disadvantag', 'disappoint', 'disast', 'discard', 'disclaim', 'disclos', 'discolor', 'discomfort', 'discontinu', 'discount', 'discov', 'discrep', 'discript', 'diseas', 'disgust', 'dish', 'dishth', 'disinfect', 'dislik', 'dispatch', 'dispens', 'display', 'dispos', 'dissapoint', 'dissatisfi', 'dissolv', 'disspoint', 'dissuad', 'distanc', 'divid', 'divin', 'diwali', 'dnt', 'doctor', 'document', 'doesnt', 'domest', 'done', 'donno', 'donot', 'dont', 'door', 'doorstep', 'dose', 'dosent', 'doubl', 'doubt', 'dought', 'dove', 'downsid', 'dp', 'drawback', 'drawer', 'drctli', 'dress', 'dri', 'drier', 'drink', 'drinker', 'drop', 'dryness', 'dubai', 'due', 'dull', 'duo', 'duplic', 'durabl', 'duracel', 'durgapur', 'dust', 'dustbin', 'dusti', 'duti', 'dye', 'dynam', 'eagerli', 'ear', 'earli', 'earlier', 'earn', 'earth', 'earthand', 'eas', 'easi', 'easier', 'easili', 'eat', 'eatabl', 'eaten', 'econom', 'economi', 'eczema', 'edit', 'ee', 'effect', 'efficaci', 'effici', 'effort', 'eight', 'either', 'elaichi', 'elder', 'elect', 'electr', 'eleg', 'elegabt', 'elig', 'elimin', 'els', 'email', 'embed', 'emerg', 'emphas', 'empti', 'encourag', 'end', 'endors', 'energ', 'energi', 'engin', 'english', 'enhanc', 'enjoy', 'enorm', 'enough', 'enrich', 'ensur', 'ensure4', 'enter', 'entertain', 'entir', 'entirli', 'environ', 'equal', 'equival', 'eras', 'ergonom', 'error', 'erupt', 'escal', 'esliy', 'especi', 'essenc', 'essens', 'essenti', 'establish', 'estim', 'etc', 'evapor', 'even', 'evenli', 'eventu', 'ever', 'everi', 'everybodi', 'everyday', 'everyon', 'everyth', 'everytim', 'everywher', 'exactli', 'exampl', 'exceed', 'excel', 'except', 'excess', 'exchang', 'excit', 'execut', 'exipi', 'exist', 'exorbit', 'expact', 'expand', 'expect', 'expens', 'experi', 'experienc', 'expir', 'expiri', 'explain', 'export', 'expos', 'exposur', 'express', 'expwrienc', 'extent', 'extra', 'extract', 'extraordinari', 'extrem', 'eye', 'eyebrow', 'eyelid', 'eyewash', 'fab', 'fabric', 'fabul', 'face', 'faceburn', 'facewash', 'facilit', 'fack', 'fact', 'factor', 'factori', 'fade', 'fahrenheit', 'fail', 'faint', 'fair', 'fairer', 'faith', 'fake', 'fall', 'fals', 'fame', 'famili', 'famou', 'fan', 'fanci', 'fantast', 'far', 'fashion', 'fast', 'faster', 'fastest', 'fastrack', 'fasttrack', 'fat', 'father', 'fatti', 'fault', 'faulti', 'fav', 'favorit', 'favour', 'favourit', 'fear', 'featur', 'feb', 'feed', 'feedback', 'feel', 'fell', 'fellow', 'felt', 'fernandesfood', 'festiv', 'fiber', 'fifteen', 'fight', 'figur', 'file', 'fill', 'film', 'filter', 'final', 'find', 'fine', 'finer', 'finest', 'finish', 'fire', 'firm', 'firmwar', 'first', 'firstli', 'fit', 'fitband', 'five', 'fix', 'flagship', 'flake', 'flame', 'flat', 'flavonoid', 'flavor', 'flavou', 'flavour', 'flaw', 'flawlessli', 'flipkart', 'floor', 'flour', 'flourid', 'flovor', 'flovour', 'floweri', 'flu', 'fluorid', 'flux', 'fmcg', 'foam', 'foami', 'focu', 'follow', 'fond', 'food', 'fool', 'forc', 'forehead', 'foreign', 'forest', 'forev', 'forget', 'forgot', 'form', 'formal', 'formul', 'formula', 'forum', 'forward', 'fought', 'foul', 'found', 'four', 'fr', 'fraction', 'frager', 'fragnac', 'fragnanc', 'fragranc', 'fragrance3', 'fragrant', 'franganc', 'frangranc', 'frank', 'frankli', 'frantic', 'fraud', 'fraudul', 'free', 'freez', 'fregranc', 'fregrenc', 'frequent', 'fresh', 'freshen', 'freshest', 'freshner', 'fress', 'fridg', 'friend', 'friendli', 'frizi', 'frizzi', 'front', 'frooti', 'fruit', 'frustur', 'ft', 'fuel', 'full', 'fulli', 'fun', 'function', 'funki', 'futil', 'futur', 'ga', 'gadget', 'gain', 'garnier', 'gave', 'gel', 'gelit', 'gem', 'gener', 'genet', 'gentl', 'gentli', 'genuin', 'germ', 'get', 'getaway', 'gf', 'gft', 'ghe', 'ghee', 'gidrej', 'gift', 'giftingif', 'gimic', 'gimmick', 'giner', 'ginger', 'girl', 'girnar', 'give', 'given', 'givin', 'glad', 'glass', 'global', 'glocondi', 'gloss', 'glossi', 'glove', 'glow', 'glucon', 'glycerin', 'glycin', 'gm', 'go', 'goat', 'god', 'godrej', 'goe', 'goid', 'gold', 'golden', 'goldilock', 'gone', 'good', 'good8', 'goodindian', 'goodit', 'goodnot', 'goodon', 'googl', 'goood', 'got', 'goutham', 'govt', 'gp', 'gr8', 'grab', 'grace', 'grade', 'graduat', 'grain', 'gram', 'grand', 'grandpar', 'granul', 'granular', 'grass', 'gravi', 'graviti', 'gray', 'grear', 'greasi', 'great', 'greater', 'green', 'greesi', 'greet', 'grew', 'grey', 'grivianc', 'groceri', 'groom', 'gross', 'grossest', 'ground', 'group', 'grous', 'grown', 'growth', 'gst', 'guarante', 'guava', 'gud', 'guess', 'guest', 'guidelin', 'guilt', 'gulp', 'gum', 'gupta', 'gurl', 'guy', 'guyz', 'gym', 'habitu', 'hai', 'hain', 'hair', 'hair6', 'hair7', 'hairfal', 'hairfallaft', 'hairloss', 'hait', 'haldi', 'half', 'hamper', 'hand', 'handi', 'handl', 'handlecomplet', 'handling5', 'handwash', 'hang', 'happen', 'happi', 'hard', 'hardcor', 'hardli', 'harm', 'harsh', 'haryana', 'hasnt', 'hassl', 'hat', 'hate', 'hav', 'havn', 'hazard', 'head', 'headach', 'heal', 'healer', 'health', 'healthi', 'healthier', 'healthiest', 'heap', 'heard', 'heart', 'heartrat', 'heat', 'heaven', 'heavenli', 'heavi', 'heck', 'heee', 'heft', 'hell', 'hello', 'helmet', 'help', 'henc', 'henceforth', 'henna', 'herb', 'herbal', 'hershey', 'hesit', 'hi', 'hibiscu', 'hidraden', 'high', 'higher', 'highest', 'highli', 'highlight', 'hike', 'himalaya', 'himalayan', 'hint', 'hit', 'hive', 'hmt', 'ho', 'hoarder', 'hold', 'holder', 'hole', 'holiday', 'hologram', 'home', 'honest', 'honestli', 'honey', 'hood', 'hook', 'hope', 'hopeless', 'horizont', 'horlick', 'horribl', 'horrifi', 'hospit', 'hot', 'hotel', 'hour', 'hous', 'household', 'howev', 'hr', 'http', 'hu', 'hubbi', 'huge', 'hul', 'hull', 'human', 'humid', 'hungri', 'hurt', 'husband', 'hv', 'hyderabad', 'hydrat', 'hygein', 'hygien', 'hype', 'hyperpigment', 'hypertens', 'iam', 'ice', 'icon', 'idea', 'ideal', 'idot', 'ignor', 'iight', 'ill', 'illumin', 'im', 'imag', 'imagin', 'immedi', 'impact', 'impair', 'impart', 'import', 'imposs', 'impress', 'improv', 'inappropri', 'includ', 'incom', 'inconveni', 'incorrect', 'increas', 'incred', 'increment', 'inde', 'indefinit', 'independ', 'india', 'indian', 'indic', 'indigen', 'indirectli', 'indiscrimin', 'individu', 'ine', 'ineffect', 'infact', 'infect', 'infer', 'inferior', 'inflamm', 'inflammatori', 'influenc', 'info', 'inform', 'infring', 'ingest', 'ingredi', 'inhal', 'initi', 'inn', 'inner', 'innoc', 'innov', 'insert', 'insi', 'insid', 'insight', 'inspit', 'instagram', 'instal', 'instant', 'instantli', 'instead', 'instruct', 'insuffici', 'intact', 'integr', 'intellig', 'intend', 'intens', 'intent', 'interfac', 'intern', 'internet', 'interv', 'interview', 'inth', 'introduc', 'intrus', 'invert', 'invis', 'involv', 'iphon', 'ir', 'ire', 'iron', 'irresist', 'irrespect', 'irrit', 'issu', 'itapart', 'itbecaus', 'itch', 'itchi', 'item', 'itemnot', 'itglasswar', 'itit', 'itmust', 'itth', 'itz', 'ive', 'ivori', 'iy', 'jab', 'jam', 'jan', 'jar', 'jasmin', 'jelim', 'jerk', 'jewelleri', 'jewelri', 'jharana', 'ji', 'job', 'jock', 'johnson', 'joke', 'judg', 'juggad', 'juic', 'juicebox', 'jul', 'june', 'justifi', 'juz', 'ka', 'kachha', 'kadak', 'karnataka', 'ke', 'keep', 'kept', 'kerala', 'ketchup', 'key', 'keypad', 'kg', 'khata', 'khel', 'ki', 'kick', 'kid', 'kile', 'kill', 'killer', 'kind', 'kinda', 'kindli', 'kit', 'kitchen', 'kittu', 'kiya', 'kmf', 'knew', 'knickknack', 'knot', 'know', 'known', 'kore', 'krishna', 'kudo', 'kumbh', 'kya', 'kyu', 'label', 'lack', 'ladher', 'ladi', 'lakm', 'lamin', 'lamp', 'land', 'laps', 'laptop', 'larg', 'larger', 'lark', 'lash', 'last', 'lastli', 'late', 'later', 'latest', 'lather', 'latter', 'launch', 'laundri', 'lavend', 'law', 'layer', 'lazi', 'lead', 'leaf', 'leaflet', 'leagu', 'leak', 'leakag', 'lean', 'learnt', 'least', 'leather', 'leather8', 'leav', 'led', 'left', 'legal', 'lemon', 'length', 'leptospirot', 'less', 'lesser', 'lest', 'let', 'leter', 'level', 'licoric', 'lid', 'lie', 'life', 'lifeboy', 'lifebuoy', 'lifesav', 'lifespan', 'lifestyl', 'lift', 'light', 'lighten', 'lighter', 'lightli', 'lightn', 'lightweight', 'like', 'likenaa', 'lil', 'lime', 'limit', 'lindt', 'line', 'linger', 'link', 'liquid', 'liquidi', 'liquor', 'liquoric', 'liquric', 'list', 'listen', 'litchi', 'liter', 'litr', 'littl', 'live', 'lizzol', 'load', 'local', 'lock', 'lockdown', 'locker', 'lodg', 'logo', 'lol', 'long', 'longer', 'longet', 'longev', 'loofah', 'look', 'lookdri', 'lookscon', 'lookwis', 'loos', 'loot', 'lord', 'lose', 'loss', 'lost', 'lot', 'lot3', 'lotion', 'lott', 'lotu', 'loud', 'love', 'lovemyself', 'lover', 'loverslot', 'low', 'lower', 'lowest', 'loyal', 'ltr', 'luck', 'luckili', 'lump', 'luster', 'lyk', 'maa', 'maaza', 'machin', 'machineri', 'made', 'maggi', 'magic', 'magnific', 'mahal', 'maharsthra', 'mai', 'maid', 'maida', 'mail', 'mainli', 'maintain', 'mainten', 'major', 'majorli', 'make', 'makeup', 'makin', 'male', 'malish', 'mall', 'mallow', 'malpractic', 'malt', 'mama', 'mamaearth', 'man', 'manag', 'mango', 'mani', 'manic', 'manner', 'manual', 'manufactur', 'manufacutur', 'march', 'margin', 'mari', 'mark', 'market', 'marketi', 'marketlook', 'mart', 'masala', 'mask', 'masla', 'mass', 'massag', 'massala', 'mast', 'master', 'masterchef', 'match', 'materi', 'matt', 'matter', 'mattress', 'maximum', 'may', 'mayb', 'maybellin', 'mcaffein', 'meal', 'mean', 'meant', 'measur', 'mechan', 'medic', 'medicin', 'medium', 'mee', 'meet', 'mehendi', 'mela', 'melanin', 'melt', 'memaearth', 'member', 'men', 'menthol', 'mention', 'menu', 'mercuri', 'mere', 'mesmer', 'mess', 'messag', 'messi', 'messyso', 'metal', 'metha', 'method', 'methylchloroisothiazolinon', 'mf', 'mfg', 'mfgit', 'micronutri', 'microorgan', 'microwav', 'middl', 'might', 'mild', 'milder', 'mildli', 'mile', 'militari', 'milk', 'milki', 'mill', 'millennium', 'min', 'mind', 'mine', 'miner', 'mini', 'minim', 'minimum', 'minor', 'mint', 'minti', 'minut', 'miracl', 'mire', 'mirror', 'misguid', 'mislead', 'mismatch', 'misplac', 'miss', 'mist', 'mistak', 'misti', 'mix', 'mixtur', 'ml', 'mmm', 'mnc', 'mob', 'mobil', 'mock', 'mode', 'model', 'moder', 'modern', 'modest', 'mohan', 'moistur', 'moisturis', 'molk', 'mom', 'moment', 'mommi', 'money', 'moneyi', 'moneyworst', 'moni', 'monitor', 'monopoli', 'monsoon', 'month', 'monthl', 'monthli', 'months1', 'mood', 'mop', 'moreov', 'morn', 'mortar', 'mositur', 'mosituris', 'mostli', 'mother', 'moti', 'motiv', 'motor', 'mount', 'mous', 'mouth', 'move', 'movement', 'movementdo', 'mri', 'mrng', 'mrp', 'mt', 'much', 'muffl', 'mujh', 'mulberri', 'multi', 'multin', 'multipl', 'multipurpos', 'mumbai', 'mumbaik', 'music', 'must', 'mute', 'mysor', 'na', 'nake', 'name', 'namkeen', 'nandini', 'nani', 'nappi', 'nation', 'nativ', 'natur', 'navarathna', 'nb', 'nd', 'near', 'nearli', 'necessari', 'necessarili', 'neck', 'need', 'needl', 'neem', 'neg', 'neither', 'nestl', 'never', 'new', 'newborn', 'newli', 'next', 'nhi', 'niacinamid', 'nice', 'nicelight', 'night', 'nightmar', 'nikhil4', 'nine', 'nitric', 'nivea', 'no1', 'nobodi', 'noce', 'nois', 'noisedoor', 'noisyampl', 'nomin', 'non', 'nondairi', 'none', 'nonsticki', 'noodl', 'normal', 'nose', 'notch', 'note', 'noth', 'nothingsuit', 'notic', 'notif', 'notifi', 'nourish', 'novemb', 'nowaday', 'nowher', 'noyc', 'nozzl', 'nt', 'nuce', 'number', 'numer', 'nutramul', 'nutregena', 'nutrient', 'nutrit', 'nutti', 'nyc', 'nykaa', 'oat', 'oatmeal', 'object', 'observ', 'obsolet', 'obvious', 'occas', 'occasion', 'occass', 'occur', 'oct', 'octob', 'odd', 'odonil', 'odor', 'odour', 'ofcours', 'offcours', 'offer', 'offic', 'offlin', 'often', 'ohk', 'oil', 'oili', 'oilier', 'ok', 'okay', 'okbut', 'olay', 'old', 'older', 'oldest', 'ole', 'oliv', 'omg', 'omron', 'one', 'one3', 'onion', 'onlin', 'onset', 'onward', 'open', 'open2', 'oper', 'operating2', 'opinion', 'opposit', 'option', 'oral', 'orang', 'orangish', 'ord', 'order', 'orderd', 'ordinari', 'organ', 'origin', 'orign', 'orignl', 'orth', 'os', 'other', 'otherwis', 'outcom', 'outdat', 'outer', 'outfit', 'outlet', 'outrsid', 'outsid', 'overal', 'overnight', 'overpow', 'overpr', 'overrid', 'oversea', 'overus', 'owesom', 'oxid', 'pack', 'packag', 'packaging2', 'packet', 'packpurchas', 'pad', 'paid', 'pain', 'paint', 'pale', 'palm', 'palmit', 'pamper', 'pan', 'pandam', 'pandem', 'paneer', 'panel', 'panic', 'panner', 'panten', 'pantri', 'papaya', 'paper', 'paperboat', 'par', 'paraben', 'parcel', 'parent', 'parfum', 'park', 'parlor', 'part', 'parti', 'particular', 'pass', 'passcod', 'passport', 'password', 'past', 'pasti', 'patanajali', 'patangali', 'patanjali', 'patanjalii', 'patch', 'patchouli', 'path', 'pathet', 'patient', 'pattern', 'pay', 'pay120', 'payback', 'pc', 'pcb', 'pea', 'peac', 'peachi', 'peak', 'peanut', 'pear', 'peculiar', 'peel', 'peep', 'pefum', 'penni', 'peoli', 'peopl', 'per', 'percent', 'percentag', 'perfect', 'perfectli', 'perform', 'perfum', 'perhap', 'period', 'perman', 'permanenti', 'perpendicular', 'perpos', 'person', 'personnel', 'pet', 'pf', 'pg', 'ph', 'pharma', 'phase', 'phenylrealis', 'phone', 'photo', 'photograph', 'physic', 'pic', 'pick', 'picki', 'pictur', 'piec', 'pigeon', 'pigment', 'pillow', 'pimpl', 'pimplesgood', 'pin', 'pinch', 'pine', 'pink', 'pinkish', 'pitcher', 'piti', 'pizza', 'pkd', 'pkt', 'pl', 'place', 'placedonli', 'plactoc', 'plan', 'plant', 'plastic', 'platforn', 'play', 'pleas', 'pleasant', 'pleasent', 'plenti', 'pli', 'pllzz', 'plop', 'plu', 'plug', 'plz', 'plzzz', 'pocket', 'point', 'pointer', 'poli', 'polici', 'polish', 'pollut', 'pond', 'poor', 'poorli', 'popup', 'portabl', 'portal', 'portion', 'posit', 'possibl', 'post', 'postpon', 'potent', 'potenti', 'pouch', 'pour', 'powder', 'powder2', 'powderi', 'power', 'ppl', 'practic', 'pratap', 'pray', 'prdct', 'prdodct', 'pre', 'precaut', 'precautionari', 'predica', 'prefer', 'prematur', 'premium', 'premix', 'prepar', 'presenc', 'present', 'preserv', 'press', 'pressur', 'pretti', 'prevent', 'previou', 'previous', 'price', 'pricethank', 'pricey', 'prici', 'pricier', 'prickli', 'priduct', 'prime', 'primer', 'primit', 'principl', 'print', 'prior', 'prioriti', 'pro', 'probabl', 'problem', 'process', 'procuct', 'prodct', 'produc', 'product', 'product2', 'product4', 'productand', 'productbut', 'productbuy', 'productcon', 'producthpp', 'producti', 'productpleas', 'productsloos', 'productthi', 'profession', 'professor', 'profil', 'program', 'progress', 'promis', 'promot', 'prompt', 'prone', 'proper', 'properli', 'properlyback', 'properti', 'proport', 'pros1', 'protect', 'protekt', 'proud', 'proven', 'provid', 'providepro', 'provis', 'ps', 'pshycosi', 'public', 'pudina', 'puf', 'puja', 'pull', 'pulp', 'pulpi', 'pump', 'punch', 'pungent', 'purchas', 'pure', 'purechas', 'puriti', 'purpl', 'purpos', 'pursu', 'push', 'pushi', 'put', 'pwd', 'qialiti', 'qon', 'qr', 'qti', 'qualifi', 'qualiti', 'qualityso', 'quaniti', 'quantiti', 'quarantin', 'quartz', 'quaternari', 'quatiti', 'queen', 'queri', 'question', 'quick', 'quickli', 'quiet', 'quir', 'quit', 'qulaiti', 'quot', 'rack', 'radianc', 'radiant', 'radium', 'rahe', 'rais', 'ram', 'ran', 'rana', 'random', 'rang', 'rash', 'rat', 'rate', 'rather', 'ratingsfor', 'ratio', 'raw', 'ray', 'razor', 'rcm', 'reach', 'reacher', 'react', 'reaction', 'read', 'readi', 'real', 'reali', 'realis', 'realiti', 'realiz', 'realli', 'reason', 'rebuild', 'receiv', 'recent', 'reciev', 'recip', 'reciv', 'reckitt', 'recommand', 'recommend', 'recov', 'rectal', 'recycl', 'red', 'reddish', 'redensyl', 'reduc', 'reduct', 'redund', 'refil', 'refin', 'refinedpruduct', 'refresh', 'refriger', 'refund', 'regard', 'regimen', 'region', 'regist', 'regret', 'regul', 'regular', 'regulari', 'regularli', 'rel', 'relat', 'relax', 'releas', 'reli', 'reliabl', 'relief', 'relish', 'reluct', 'remain', 'remark', 'remedi', 'rememb', 'remind', 'remov', 'reorder', 'rep', 'repair', 'repeat', 'replac', 'replaceadd', 'replenish', 'report', 'repres', 'reput', 'req', 'request', 'requir', 'reseal', 'research', 'resembl', 'resent', 'reset', 'residu', 'resist', 'resolut', 'resolv', 'respect', 'respiratori', 'respons', 'rest', 'restor', 'result', 'retail', 'retain', 'retent', 'return', 'revert', 'review', 'rha', 'rice', 'rich', 'richer', 'rid', 'ridicul', 'right', 'rightli', 'rigmarol', 'ring', 'rings2', 'rins', 'rip', 'risk', 'road', 'robust', 'rock', 'room', 'roommat', 'root', 'rosacea', 'rose', 'rough', 'roughli', 'round', 'routin', 'royal', 'rs', 'rs480', 'rs495', 'rub', 'rubbish', 'ruin', 'rule', 'run', 'runni', 'rupe', 'rven', 'sab', 'sachet', 'sad', 'safe', 'safer', 'safeti', 'said', 'sake', 'sale', 'salesperson', 'salon', 'salti', 'samjh', 'sandal', 'sandalwood', 'sandwich', 'sanit', 'santoor', 'sath', 'satiat', 'satisfact', 'satisfi', 'satur', 'save', 'saver', 'saviour', 'savlon', 'saw', 'say', 'scale', 'scali', 'scalp', 'scam', 'scandal', 'scar', 'scare', 'scarf', 'scenario', 'scent', 'scentless', 'school', 'scissor', 'scoop', 'scope', 'scratch', 'screen', 'screw', 'scrub', 'scrubber', 'seal', 'search', 'season', 'sebum', 'seclud', 'second', 'secondli', 'secret', 'secur', 'sedentari', 'see', 'seed', 'seek', 'seeker', 'seem', 'seen', 'segment', 'seldomli', 'select', 'self', 'sell', 'seller', 'semi', 'send', 'sens', 'sensat', 'sensit', 'sensor', 'sensor4', 'sent', 'separ', 'seper', 'septemb', 'seri', 'serial', 'seriou', 'serious', 'serum', 'serv', 'servant', 'servic', 'session', 'set', 'setit', 'seven', 'sever', 'sexi', 'sexual', 'shade', 'shake', 'shall', 'shame', 'shampoo', 'shape', 'share', 'sharp', 'shave', 'shea', 'sheer', 'sheet', 'shelf', 'shell', 'shi', 'shift', 'shine', 'shing', 'shini', 'ship', 'shipe', 'shirt', 'shld', 'shmpoo', 'shock', 'shocker', 'shoot', 'shop', 'shop1', 'shopkeep', 'short', 'shot', 'shoukder', 'shoulder', 'show', 'shower', 'shown', 'showroom', 'showup', 'shush', 'shut', 'sick', 'side', 'sign', 'signatur', 'signific', 'sild', 'silenc', 'silki', 'silpl', 'silver', 'similar', 'simmer', 'simpl', 'simpli', 'sinc', 'singl', 'singlehandedli', 'sipper', 'sir', 'sister', 'sit', 'site', 'situat', 'six', 'sixth', 'size', 'skeptic', 'skin', 'skincan', 'skincar', 'skinton', 'sl', 'sleek', 'sleep', 'slender', 'slice', 'slight', 'slightest', 'slightli', 'slipperi', 'slogan', 'slow', 'slower', 'sm', 'small', 'smaller', 'smart', 'smarter', 'smartphon', 'smell', 'smelli', 'smooth', 'smoothli', 'smudg', 'snack', 'snd', 'soak', 'soap', 'soapbut', 'soapi', 'soaprel', 'societi', 'sodium', 'soft', 'soften', 'softer', 'softwar', 'sogood', 'soil', 'soit', 'sol', 'sold', 'solidifi', 'solut', 'solv', 'somehow', 'someon', 'someth', 'sometim', 'somewhat', 'somewher', 'son', 'soo', 'soon', 'sooner', 'sooo', 'sooth', 'sop', 'sort', 'souch', 'sound', 'sourc', 'sourish', 'soya', 'spa', 'space', 'spaciou', 'span', 'spanish', 'speak', 'special', 'specif', 'specifi', 'spectrum', 'spend', 'spice', 'spici', 'spider', 'spill', 'spin', 'spit', 'spoil', 'spoilt', 'spoon', 'spot', 'spotti', 'spray', 'sprayer', 'spread', 'squeaki', 'squeez', 'squeezi', 'squirm', 'stack', 'stain', 'stamp', 'stand', 'standard', 'standpoint', 'star', 'staroveral', 'starspackag', 'starsth', 'start', 'startfm', 'state', 'stationari', 'stay', 'std', 'steal', 'stearic', 'steax', 'steel', 'stellar', 'stench', 'step', 'stick', 'sticker', 'sticki', 'still', 'stimul', 'sting', 'stink', 'stir', 'stock', 'stomach', 'stop', 'storag', 'storb', 'store', 'straight', 'straighten', 'strang', 'strap', 'strawberri', 'streax', 'strength', 'strengthen', 'stress', 'strip', 'stroke', 'strong', 'stronger', 'struck', 'stuck', 'stucki', 'student', 'studi', 'stuff', 'stuffedit', 'stumbl', 'stun', 'sturdi', 'style', 'stylish', 'stylist', 'sub', 'subscrib', 'subsequ', 'substanc', 'substract', 'subtl', 'suck', 'sudden', 'suddenli', 'suffer', 'suffici', 'suffoc', 'sugar', 'sugarhav', 'suger', 'sugeri', 'suggest', 'suit', 'suitabl', 'suji', 'sulfat', 'sulphat', 'sulphur', 'sum', 'summer', 'sun', 'sunday', 'sunflow', 'sunil', 'sunlight', 'super', 'superb', 'superbl', 'superfood', 'superior', 'superl', 'supervisor', 'suppl', 'suppli', 'supplier', 'support', 'suppos', 'supposedli', 'sure', 'surf', 'surfac', 'surpirsingli', 'surpris', 'surprisingli', 'survivor', 'suuuuuuuper', 'swallow', 'sweat', 'sweet', 'sweetner', 'swell', 'switch', 'switchin', 'sydney', 'symptom', 'sync', 'syrup', 'system', 'tab', 'tabl', 'tad', 'tag', 'tail', 'taj', 'tajmah', 'take', 'takecar', 'taken', 'talc', 'talcpro', 'talcum', 'talk', 'tame', 'tamper', 'tan', 'tandoori', 'tangi', 'tangl', 'tape', 'tast', 'tasteless', 'tastelessi', 'tasti', 'tasty5', 'tata', 'tatacliq', 'tcc', 'tea', 'teach', 'teadont', 'team', 'teaoutstand', 'tear', 'teast', 'teasti', 'technician', 'teddi', 'tee', 'teenag', 'teeth', 'televis', 'tell', 'temper', 'temperatur', 'ten', 'tenconclus', 'tend', 'term', 'termar', 'terribl', 'terrif', 'terrorist', 'test', 'tetra', 'tetrapak', 'tex', 'text', 'textur', 'tey', 'tfm', 'th', 'tha', 'thank', 'thankzz', 'thant', 'thanx', 'that', 'thee', 'theft', 'them2', 'theor', 'therebi', 'therefor', 'thermomet', 'thi', 'thick', 'thicker', 'thief', 'thik', 'thin', 'thing', 'things4', 'think', 'thinner', 'third', 'thn', 'thnx', 'thorough', 'thoroughli', 'though', 'thought', 'thousand', 'thr', 'three', 'threw', 'thrice', 'thrifti', 'throughout', 'throw', 'thrown', 'thru', 'thse', 'tht', 'thu', 'thumb', 'thumsup', 'ti', 'tick', 'tiffin', 'tight', 'tigress', 'tile', 'till', 'time', 'timepiec', 'timer', 'tin', 'ting', 'tingl', 'tini', 'tint', 'tip', 'tire', 'titan', 'titen', 'tje', 'tocopherol', 'tocopheryl', 'today', 'toddler', 'togeth', 'toilet', 'toiletri', 'told', 'toler', 'toli', 'ton', 'tone', 'toneso', 'tongu', 'took', 'tooo', 'toooo', 'toooooo', 'tooth', 'toothpast', 'tooti', 'top', 'torm', 'torn', 'tortur', 'total', 'toti', 'totli', 'touch', 'tough', 'toward', 'toxic', 'toxin', 'track', 'tracker', 'tran', 'transit', 'transpar', 'transport', 'trap', 'trash', 'travel', 'tray', 'treat', 'treatment', 'tree', 'tremend', 'trendi', 'tri', 'trial', 'trick', 'tricki', 'trip', 'tropic', 'troubl', 'troubleshoot', 'true', 'trueli', 'truli', 'trust', 'trustabl', 'trusti', 'trustworthi', 'tsp', 'tube', 'tuber', 'tubr', 'tune', 'turmer', 'turn', 'twice', 'twist', 'two', 'type', 'typeon', 'typic', 'ubtan', 'ugli', 'ultim', 'ultralight', 'um', 'unabl', 'unavail', 'unawar', 'unbear', 'uncl', 'uncook', 'underarm', 'underr', 'understand', 'understood', 'underton', 'undoubtedli', 'uneth', 'uneven', 'unexpect', 'unfortun', 'unhappi', 'unhelp', 'unisex', 'unit', 'univers', 'unless', 'unlik', 'unlock', 'unnecessarili', 'unpack', 'unsatisfi', 'unscent', 'unseal', 'until', 'unusu', 'unwrap', 'upcom', 'updat', 'upload', 'upon', 'upper', 'upset', 'upto', 'ur', 'urban', 'urgent', 'urin', 'urself', 'us', 'usa', 'usag', 'use', 'usele', 'useless', 'user', 'ust', 'usu', 'usual', 'utensil', 'utterli', 'uv', 'vacuum', 'valid', 'valu', 'valuabl', 'vanaspathi', 'vanaspati', 'vanish', 'vapour', 'vara', 'variant', 'variat', 'varient', 'varieti', 'varifi', 'variou', 'vedaka', 'vegan', 'veget', 'vegetarian', 'vehicl', 'velvet', 'vent', 'vera', 'verdict', 'verifi', 'verri', 'versatil', 'version', 'vessel', 'vfm', 'vi', 'via', 'vibe', 'vibrant', 'vibrat', 'video', 'view', 'vinegar', 'violet', 'viraj', 'viru', 'virus', 'viscou', 'visibl', 'visit', 'visual', 'vita', 'vitagloss', 'vitamin', 'vitarich', 'viz', 'vlcc', 'vlog', 'voila', 'volt', 'volum', 'waah', 'wagh', 'waight', 'wait', 'wake', 'walk', 'wall', 'wallet', 'walnut', 'want', 'wardrob', 'warehous', 'warm', 'warmth', 'warn', 'warrani', 'warranti', 'warranty10', 'wart', 'wash', 'washroom', 'wasnt', 'wast', 'wat', 'watch', 'watchreal', 'watchth', 'water', 'wateri', 'waterproof', 'watteri', 'wax', 'way', 'weak', 'wealth', 'wear', 'weather', 'websit', 'wed', 'week', 'weight', 'weightbut', 'weirdli', 'well', 'well4', 'went', 'west', 'westeg', 'western', 'wet', 'whatev', 'whatsapp', 'whatsoev', 'wheat', 'wheel', 'whenev', 'whenver', 'wherea', 'wherev', 'whether', 'whichev', 'whilst', 'whip', 'whit', 'white', 'whoch', 'whoever', 'whole', 'wholesal', 'whose', 'whr', 'wick', 'wide', 'widen', 'wider', 'wierdli', 'wife', 'wil', 'win', 'window', 'winner', 'winter', 'wipe', 'wire', 'wise', 'wish', 'within', 'without', 'wiyh', 'women', 'wonder', 'wont', 'wood', 'word', 'wore', 'work', 'workabl', 'workout', 'workshop', 'world', 'worri', 'wors', 'worst', 'worth', 'worthi', 'worthless', 'would', 'wound', 'wow', 'wowww', 'wrapper', 'wriggl', 'wrinkl', 'wrist', 'wristband', 'wristwatch', 'write', 'writer', 'written', 'wrong', 'wrongli', 'wrote', 'www', 'yashtimadhu', 'ye', 'yeah', 'year', 'yearsalway', 'yellow', 'yellowish', 'yesterday', 'yet', 'ylang', 'yo', 'young', 'youth', 'youtub', 'youtubb', 'yr', 'yummi', 'zanzat', 'zero', 'zip', 'zit', 'zone']\n"
     ]
    }
   ],
   "source": [
    "print(features.get_feature_names())"
   ]
  },
  {
   "cell_type": "code",
   "execution_count": 32,
   "metadata": {},
   "outputs": [],
   "source": [
    "from sklearn.model_selection import train_test_split\n",
    "df = pd.concat([positiveReviews_df,negativeReviews_df])\n",
    "df = df[[\"clean_review_text\",\"scoreStatus\"]]\n",
    "df['scoreStatus'] = (df['scoreStatus'] == 'positive')*1\n",
    "X = df[\"clean_review_text\"]\n",
    "y = df[\"scoreStatus\"]\n",
    "X_train, X_test, y_train,y_test = train_test_split(X,y,test_size=0.30,random_state=10)\n",
    "X= features.fit_transform(X)"
   ]
  },
  {
   "cell_type": "code",
   "execution_count": 33,
   "metadata": {},
   "outputs": [],
   "source": [
    "X_train = features.fit_transform(X_train)\n",
    "X_test = features.transform(X_test)"
   ]
  },
  {
   "cell_type": "code",
   "execution_count": 34,
   "metadata": {},
   "outputs": [
    {
     "data": {
      "text/plain": [
       "<1695x3311 sparse matrix of type '<class 'numpy.int64'>'\n",
       "\twith 33108 stored elements in Compressed Sparse Row format>"
      ]
     },
     "execution_count": 34,
     "metadata": {},
     "output_type": "execute_result"
    }
   ],
   "source": [
    "X_train"
   ]
  },
  {
   "cell_type": "code",
   "execution_count": 35,
   "metadata": {},
   "outputs": [
    {
     "data": {
      "text/plain": [
       "<727x3311 sparse matrix of type '<class 'numpy.int64'>'\n",
       "\twith 15336 stored elements in Compressed Sparse Row format>"
      ]
     },
     "execution_count": 35,
     "metadata": {},
     "output_type": "execute_result"
    }
   ],
   "source": [
    "X_test"
   ]
  },
  {
   "cell_type": "code",
   "execution_count": 36,
   "metadata": {},
   "outputs": [
    {
     "data": {
      "text/plain": [
       "(1695, 3311)"
      ]
     },
     "execution_count": 36,
     "metadata": {},
     "output_type": "execute_result"
    }
   ],
   "source": [
    "X_train.shape"
   ]
  },
  {
   "cell_type": "code",
   "execution_count": 37,
   "metadata": {},
   "outputs": [
    {
     "data": {
      "text/plain": [
       "(2422, 3433)"
      ]
     },
     "execution_count": 37,
     "metadata": {},
     "output_type": "execute_result"
    }
   ],
   "source": [
    "X.shape"
   ]
  },
  {
   "cell_type": "code",
   "execution_count": 38,
   "metadata": {},
   "outputs": [
    {
     "data": {
      "text/plain": [
       "(2422, 3433)"
      ]
     },
     "execution_count": 38,
     "metadata": {},
     "output_type": "execute_result"
    }
   ],
   "source": [
    "X.shape"
   ]
  },
  {
   "cell_type": "code",
   "execution_count": 39,
   "metadata": {},
   "outputs": [
    {
     "data": {
      "text/plain": [
       "(1695,)"
      ]
     },
     "execution_count": 39,
     "metadata": {},
     "output_type": "execute_result"
    }
   ],
   "source": [
    "y_train.shape"
   ]
  },
  {
   "cell_type": "code",
   "execution_count": 40,
   "metadata": {},
   "outputs": [
    {
     "data": {
      "text/plain": [
       "(727, 3311)"
      ]
     },
     "execution_count": 40,
     "metadata": {},
     "output_type": "execute_result"
    }
   ],
   "source": [
    "X_test.shape"
   ]
  },
  {
   "cell_type": "code",
   "execution_count": 41,
   "metadata": {},
   "outputs": [
    {
     "data": {
      "text/plain": [
       "LogisticRegression()"
      ]
     },
     "execution_count": 41,
     "metadata": {},
     "output_type": "execute_result"
    }
   ],
   "source": [
    "from sklearn.linear_model import LogisticRegression\n",
    "model=LogisticRegression()\n",
    "model.fit(X_train,y_train) #ACC Witg LR is 98% 0:-.94,1:-.99"
   ]
  },
  {
   "cell_type": "code",
   "execution_count": 42,
   "metadata": {},
   "outputs": [
    {
     "name": "stdout",
     "output_type": "stream",
     "text": [
      "These are the results \n",
      " [0.90123457 0.95061728 0.94214876 0.95867769 0.95041322 0.90909091\n",
      " 0.95867769 0.95041322 0.70247934 0.02479339]\n"
     ]
    }
   ],
   "source": [
    "from sklearn.model_selection import KFold\n",
    "from sklearn.model_selection import cross_val_score\n",
    "Folds = KFold(n_splits=10)\n",
    "result = cross_val_score(model,X,y,cv=Folds)\n",
    "print(\"These are the results \\n\",result)"
   ]
  },
  {
   "cell_type": "code",
   "execution_count": null,
   "metadata": {},
   "outputs": [],
   "source": []
  },
  {
   "cell_type": "code",
   "execution_count": 43,
   "metadata": {},
   "outputs": [],
   "source": [
    "#from sklearn.metrics import confusion_matrix , classification_report\n",
    "#print(classification_report(y_test,y_predicted))"
   ]
  },
  {
   "cell_type": "code",
   "execution_count": 44,
   "metadata": {},
   "outputs": [
    {
     "data": {
      "text/plain": [
       "array([[ 71,  15],\n",
       "       [  6, 635]], dtype=int64)"
      ]
     },
     "execution_count": 44,
     "metadata": {},
     "output_type": "execute_result"
    }
   ],
   "source": [
    "from sklearn.metrics import confusion_matrix , classification_report\n",
    "y_pred = model.predict(X_test)\n",
    "confusion_matrix(y_test,y_pred)"
   ]
  },
  {
   "cell_type": "code",
   "execution_count": 45,
   "metadata": {},
   "outputs": [
    {
     "name": "stdout",
     "output_type": "stream",
     "text": [
      "              precision    recall  f1-score   support\n",
      "\n",
      "           0       0.92      0.83      0.87        86\n",
      "           1       0.98      0.99      0.98       641\n",
      "\n",
      "    accuracy                           0.97       727\n",
      "   macro avg       0.95      0.91      0.93       727\n",
      "weighted avg       0.97      0.97      0.97       727\n",
      "\n"
     ]
    }
   ],
   "source": [
    "print(classification_report(y_test,y_pred))"
   ]
  },
  {
   "cell_type": "code",
   "execution_count": 46,
   "metadata": {},
   "outputs": [
    {
     "data": {
      "text/plain": [
       "Text(69.0, 0.5, 'Truth')"
      ]
     },
     "execution_count": 46,
     "metadata": {},
     "output_type": "execute_result"
    },
    {
     "data": {
      "image/png": "[encoded data removed]",
      "text/plain": [
       "<Figure size 720x504 with 2 Axes>"
      ]
     },
     "metadata": {
      "needs_background": "light"
     },
     "output_type": "display_data"
    }
   ],
   "source": [
    "import seaborn as sn\n",
    "import tensorflow as tf\n",
    "cm = tf.math.confusion_matrix(labels=y_test,predictions=y_pred)\n",
    "plt.figure(figsize = (10,7))\n",
    "sn.heatmap(cm, annot=True, fmt='d')\n",
    "plt.xlabel('Predicted')\n",
    "plt.ylabel('Truth')"
   ]
  },
  {
   "cell_type": "markdown",
   "metadata": {},
   "source": [
    "**SVM**"
   ]
  },
  {
   "cell_type": "code",
   "execution_count": 47,
   "metadata": {},
   "outputs": [
    {
     "data": {
      "text/plain": [
       "SVC(kernel='linear')"
      ]
     },
     "execution_count": 47,
     "metadata": {},
     "output_type": "execute_result"
    }
   ],
   "source": [
    "from sklearn import svm\n",
    "model2 = svm.SVC(kernel='linear')\n",
    "model2.fit(X_train, y_train)  # ACC Witg SVM is 98% 0:-.94,1:-.99\n"
   ]
  },
  {
   "cell_type": "code",
   "execution_count": 48,
   "metadata": {},
   "outputs": [
    {
     "data": {
      "text/plain": [
       "array([[ 76,  10],\n",
       "       [  8, 633]], dtype=int64)"
      ]
     },
     "execution_count": 48,
     "metadata": {},
     "output_type": "execute_result"
    }
   ],
   "source": [
    "from sklearn.metrics import confusion_matrix, classification_report\n",
    "y_pred = model2.predict(X_test)\n",
    "confusion_matrix(y_test, y_pred)\n"
   ]
  },
  {
   "cell_type": "code",
   "execution_count": 49,
   "metadata": {},
   "outputs": [
    {
     "name": "stdout",
     "output_type": "stream",
     "text": [
      "              precision    recall  f1-score   support\n",
      "\n",
      "           0       0.90      0.88      0.89        86\n",
      "           1       0.98      0.99      0.99       641\n",
      "\n",
      "    accuracy                           0.98       727\n",
      "   macro avg       0.94      0.94      0.94       727\n",
      "weighted avg       0.98      0.98      0.98       727\n",
      "\n"
     ]
    }
   ],
   "source": [
    "print(classification_report(y_test,y_pred))"
   ]
  },
  {
   "cell_type": "markdown",
   "metadata": {},
   "source": [
    "**DecisionTree**"
   ]
  },
  {
   "cell_type": "code",
   "execution_count": 50,
   "metadata": {},
   "outputs": [
    {
     "data": {
      "text/plain": [
       "DecisionTreeClassifier()"
      ]
     },
     "execution_count": 50,
     "metadata": {},
     "output_type": "execute_result"
    }
   ],
   "source": [
    "from sklearn.tree import DecisionTreeClassifier\n",
    "model3 = DecisionTreeClassifier()\n",
    "model3.fit(X_train,y_train) #ACC Witg DT is 98% 0:-.95,1:-.99\n"
   ]
  },
  {
   "cell_type": "code",
   "execution_count": 51,
   "metadata": {},
   "outputs": [
    {
     "data": {
      "text/plain": [
       "array([[ 76,  10],\n",
       "       [  8, 633]], dtype=int64)"
      ]
     },
     "execution_count": 51,
     "metadata": {},
     "output_type": "execute_result"
    }
   ],
   "source": [
    "from sklearn.metrics import confusion_matrix, classification_report\n",
    "y_pred = model2.predict(X_test)\n",
    "confusion_matrix(y_test, y_pred)\n"
   ]
  },
  {
   "cell_type": "code",
   "execution_count": 52,
   "metadata": {},
   "outputs": [
    {
     "name": "stdout",
     "output_type": "stream",
     "text": [
      "              precision    recall  f1-score   support\n",
      "\n",
      "           0       0.90      0.88      0.89        86\n",
      "           1       0.98      0.99      0.99       641\n",
      "\n",
      "    accuracy                           0.98       727\n",
      "   macro avg       0.94      0.94      0.94       727\n",
      "weighted avg       0.98      0.98      0.98       727\n",
      "\n"
     ]
    }
   ],
   "source": [
    "print(classification_report(y_test, y_pred))\n"
   ]
  },
  {
   "cell_type": "code",
   "execution_count": 53,
   "metadata": {},
   "outputs": [
    {
     "data": {
      "text/plain": [
       "1"
      ]
     },
     "execution_count": 53,
     "metadata": {},
     "output_type": "execute_result"
    }
   ],
   "source": [
    "text = \"the product great\"\n",
    "model.predict(features.transform([text]))[0]"
   ]
  },
  {
   "cell_type": "code",
   "execution_count": 54,
   "metadata": {},
   "outputs": [
    {
     "data": {
      "text/plain": [
       "0"
      ]
     },
     "execution_count": 54,
     "metadata": {},
     "output_type": "execute_result"
    }
   ],
   "source": [
    "text = \"bad\"\n",
    "model.predict(features.transform([text]))[0]"
   ]
  },
  {
   "cell_type": "code",
   "execution_count": 55,
   "metadata": {},
   "outputs": [
    {
     "data": {
      "text/plain": [
       "1"
      ]
     },
     "execution_count": 55,
     "metadata": {},
     "output_type": "execute_result"
    }
   ],
   "source": [
    "text = \"sucks\"\n",
    "model.predict(features.transform([text]))[0]"
   ]
  },
  {
   "cell_type": "code",
   "execution_count": 56,
   "metadata": {},
   "outputs": [
    {
     "data": {
      "text/plain": [
       "0"
      ]
     },
     "execution_count": 56,
     "metadata": {},
     "output_type": "execute_result"
    }
   ],
   "source": [
    "text = \"very bad\"\n",
    "model.predict(features.transform([text]))[0]"
   ]
  },
  {
   "cell_type": "code",
   "execution_count": 57,
   "metadata": {},
   "outputs": [
    {
     "data": {
      "text/plain": [
       "1"
      ]
     },
     "execution_count": 57,
     "metadata": {},
     "output_type": "execute_result"
    }
   ],
   "source": [
    "text = \"not good\"\n",
    "model.predict(features.transform([text]))[0]"
   ]
  },
  {
   "cell_type": "code",
   "execution_count": 102,
   "metadata": {},
   "outputs": [
    {
     "data": {
      "image/png": "[encoded data removed]",
      "text/plain": [
       "<Figure size 432x288 with 1 Axes>"
      ]
     },
     "metadata": {
      "needs_background": "light"
     },
     "output_type": "display_data"
    }
   ],
   "source": [
    "from nltk.tokenize import word_tokenize\n",
    "from nltk.probability import FreqDist\n",
    "tokenized_word=word_tokenize((reviews_df['clean_review_text'].to_string()))\n",
    "#Frequency Distribution\n",
    "fdist = FreqDist(tokenized_word)\n",
    "# Frequency Distribution Plot\n",
    "fdist.plot(30,cumulative=False)\n",
    "plt.show()"
   ]
  },
  {
   "cell_type": "markdown",
   "metadata": {},
   "source": [
    "Text Analytics with spacy"
   ]
  },
  {
   "cell_type": "code",
   "execution_count": 59,
   "metadata": {},
   "outputs": [],
   "source": [
    "#nlp=spacy.load(\"en_core_web_sm\")"
   ]
  },
  {
   "cell_type": "code",
   "execution_count": 60,
   "metadata": {},
   "outputs": [],
   "source": [
    "#text = reviews_df['review'][1130]\n",
    "#doc=nlp(text)\n",
    "#type(doc)\n",
    "#print(doc)"
   ]
  },
  {
   "cell_type": "code",
   "execution_count": 61,
   "metadata": {},
   "outputs": [],
   "source": [
    "#Tokens\n",
    "#for token in doc:\n",
    "    #print(token.text)"
   ]
  },
  {
   "cell_type": "code",
   "execution_count": 62,
   "metadata": {},
   "outputs": [],
   "source": [
    "#Stopwords\n",
    "#stopwords=spacy.lang.en.stop_words.STOP_WORDS\n",
    "#stopWords = list(stopwords)\n",
    "#len(stopWords)"
   ]
  },
  {
   "cell_type": "code",
   "execution_count": 63,
   "metadata": {},
   "outputs": [],
   "source": [
    "#for token in doc:\n",
    "    #if token.is_stop == False:\n",
    "        #print(token)"
   ]
  },
  {
   "cell_type": "code",
   "execution_count": 64,
   "metadata": {},
   "outputs": [],
   "source": [
    "#print(len(doc))\n",
    "#doc2=[]\n",
    "#for token in doc:\n",
    "    #if not token.is_stop:\n",
    "       #doc2.append(token)\n",
    "#print(len(doc2))"
   ]
  },
  {
   "cell_type": "code",
   "execution_count": 65,
   "metadata": {},
   "outputs": [],
   "source": [
    "#lemmatization\n",
    "#for review_text in doc:\n",
    "    #print(review_text.text,review_text.lemma_)"
   ]
  },
  {
   "cell_type": "code",
   "execution_count": 66,
   "metadata": {},
   "outputs": [],
   "source": [
    "#POS\n",
    "#for token in doc:\n",
    "   #print(token,token.tag_,token.pos_,spacy.explain(token.tag_))"
   ]
  },
  {
   "cell_type": "code",
   "execution_count": 67,
   "metadata": {},
   "outputs": [],
   "source": [
    "#displacy.render(doc,style='dep',jupyter=True,options={'distance':90})"
   ]
  },
  {
   "cell_type": "code",
   "execution_count": 68,
   "metadata": {},
   "outputs": [],
   "source": [
    "#for entity in doc.ents:\n",
    "   #print(entity.text,'---->',entity.label_)\n",
    "#displacy.render(doc,style='ent',jupyter=True)"
   ]
  },
  {
   "cell_type": "code",
   "execution_count": 69,
   "metadata": {},
   "outputs": [],
   "source": [
    "#word vectors and similarity\n",
    "#large pre trained model\n",
    "#!python -m spacy download en_core_web_lg"
   ]
  },
  {
   "cell_type": "code",
   "execution_count": 70,
   "metadata": {},
   "outputs": [],
   "source": [
    "#import en_core_web_lg\n",
    "#nlp = en_core_web_lg.load()\n",
    "#doc=nlp(text)\n",
    "#for token in doc:\n",
    "   #print(token.text,'---->',token.has_vector)"
   ]
  },
  {
   "cell_type": "code",
   "execution_count": 71,
   "metadata": {},
   "outputs": [],
   "source": [
    "#for token in doc:\n",
    "    #print(token.text,'',token.vector_norm)"
   ]
  },
  {
   "cell_type": "code",
   "execution_count": 72,
   "metadata": {},
   "outputs": [],
   "source": [
    "#similarity score\n",
    "#text=\"eat\"\n",
    "#text1=\"ate\"\n",
    "#doc=nlp(text)\n",
    "#doc1=nlp(text1)\n",
    "#doc.similarity(doc1)"
   ]
  },
  {
   "cell_type": "code",
   "execution_count": 73,
   "metadata": {},
   "outputs": [],
   "source": [
    "#similarity score\n",
    "#text=\"good\"\n",
    "#text1=\"bad\"\n",
    "#doc=nlp(text)\n",
    "#doc1=nlp(text1)\n",
    "#doc.similarity(doc1)"
   ]
  },
  {
   "cell_type": "code",
   "execution_count": 74,
   "metadata": {},
   "outputs": [],
   "source": [
    "#similarity score\n",
    "#text=\"hot\"\n",
    "#text1=\"summer\"\n",
    "#doc=nlp(text)\n",
    "#doc1=nlp(text1)\n",
    "#doc.similarity(doc1)"
   ]
  },
  {
   "cell_type": "code",
   "execution_count": 75,
   "metadata": {},
   "outputs": [],
   "source": [
    "#similarity score\n",
    "#text=\"excellent\"\n",
    "#text1=\"good\"\n",
    "#doc=nlp(text)\n",
    "#doc1=nlp(text1)\n",
    "#doc.similarity(doc1)"
   ]
  },
  {
   "cell_type": "code",
   "execution_count": 76,
   "metadata": {},
   "outputs": [],
   "source": [
    "#similarity score\n",
    "#text=\"sucks\"\n",
    "#text1=\"bad\"\n",
    "#doc=nlp(text)\n",
    "#doc1=nlp(text1)\n",
    "#doc.similarity(doc1)"
   ]
  },
  {
   "cell_type": "code",
   "execution_count": 77,
   "metadata": {},
   "outputs": [],
   "source": [
    "#df = pd.concat([positiveReviews_df,negativeReviews_df])\n",
    "#df = df[[\"clean_review_text\",\"scoreStatus\"]]\n",
    "#df['scoreStatus'] = (df['scoreStatus'] == 'positive')*1"
   ]
  },
  {
   "cell_type": "code",
   "execution_count": 78,
   "metadata": {},
   "outputs": [],
   "source": [
    "#Tokenization\n",
    "#punct = string.punctuation\n",
    "#print(punct)\n",
    "#def cleanText(sent):\n",
    "    #doc = nlp(sent)\n",
    "    #tokens = []\n",
    "    #for token in doc:\n",
    "       #if token.lemma != \"-PRON-\":\n",
    "            #tokens.append(token.lemma_.lower().strip())\n",
    "        #else:\n",
    "            #tokens.append(token.lemma_)\n",
    "            \n",
    "    #cleanTokens = []\n",
    "    #for token in tokens:\n",
    "        #if token not in stopWords and token not in punct:\n",
    "            #cleanTokens.append(token)\n",
    "    #return cleanTokens"
   ]
  },
  {
   "cell_type": "code",
   "execution_count": 79,
   "metadata": {},
   "outputs": [],
   "source": [
    "#TFIDF\n",
    "#tfidf = TfidfVectorizer(tokenizer = cleanText)\n",
    "#classifier = LinearSVC()\n",
    "#X = df[\"clean_review_text\"]\n",
    "#y = df[\"scoreStatus\"]\n",
    "#X_train, X_test, y_train,y_test = train_test_split(X,y,test_size=0.3,random_state=0)"
   ]
  },
  {
   "cell_type": "code",
   "execution_count": 80,
   "metadata": {},
   "outputs": [],
   "source": [
    "#X_train.shape, X_test.shape"
   ]
  },
  {
   "cell_type": "code",
   "execution_count": 81,
   "metadata": {},
   "outputs": [],
   "source": [
    "#clf = Pipeline([('tfidf',tfidf),('clf',classifier)])\n",
    "#clf.fit(X_train,y_train)\n",
    "#y_pred = clf.predict(X_test)"
   ]
  },
  {
   "cell_type": "code",
   "execution_count": 82,
   "metadata": {},
   "outputs": [],
   "source": [
    "#print(classification_report(y_test,y_pred))"
   ]
  },
  {
   "cell_type": "code",
   "execution_count": 83,
   "metadata": {},
   "outputs": [],
   "source": [
    "#confusion_matrix(y_test,y_pred)"
   ]
  },
  {
   "cell_type": "markdown",
   "metadata": {},
   "source": [
    "With TextBlob"
   ]
  },
  {
   "cell_type": "code",
   "execution_count": 84,
   "metadata": {},
   "outputs": [],
   "source": [
    "#nltk.download('averaged_perceptron_tagger')\n",
    "#blob = TextBlob(str(reviews_df['review']))\n",
    "#pos_df = pd.DataFrame(blob.tags, columns = ['word' , 'pos'])\n",
    "#pos_df = pos_df.pos.value_counts()[:20]\n",
    "#pos_df.iplot(\n",
    "    #kind='bar',\n",
    "    #xTitle='POS',\n",
    "    #yTitle='count', \n",
    "    #title='Top 20 Part-of-speech tagging for review corpus')\n"
   ]
  },
  {
   "cell_type": "code",
   "execution_count": 85,
   "metadata": {},
   "outputs": [],
   "source": [
    "#pol = lambda x: TextBlob(x).sentiment.polarity\n",
    "#sub = lambda x: TextBlob(x).sentiment.subjectivity\n",
    "#reviews_df[\"polarity\"] = reviews_df[\"review\"].apply(pol)\n",
    "#reviews_df[\"subjectivity\"] = reviews_df[\"review\"].apply(sub)"
   ]
  },
  {
   "cell_type": "code",
   "execution_count": 86,
   "metadata": {},
   "outputs": [],
   "source": [
    "#distribution of rating\n",
    "#sns.countplot(x='rating', data=reviews_df)"
   ]
  },
  {
   "cell_type": "code",
   "execution_count": 87,
   "metadata": {},
   "outputs": [],
   "source": [
    "#reviews_df.head()"
   ]
  },
  {
   "cell_type": "code",
   "execution_count": 88,
   "metadata": {},
   "outputs": [],
   "source": [
    "#print(\"negative reviews\")\n",
    "#most_negative = reviews_df[reviews_df.polarity == -1].review.head()\n",
    "#print(most_negative)\n",
    "#print(\"positive reviews\")\n",
    "#most_positive = reviews_df[reviews_df.polarity == 1].review.head()\n",
    "#print(most_positive)"
   ]
  },
  {
   "cell_type": "markdown",
   "metadata": {},
   "source": [
    "Text analysis with gensim and word2vec"
   ]
  },
  {
   "cell_type": "code",
   "execution_count": 89,
   "metadata": {},
   "outputs": [],
   "source": [
    "#pip install -U gensim"
   ]
  },
  {
   "cell_type": "code",
   "execution_count": 90,
   "metadata": {},
   "outputs": [],
   "source": [
    "import gensim\n",
    "from gensim.models import Word2Vec"
   ]
  },
  {
   "cell_type": "code",
   "execution_count": 91,
   "metadata": {},
   "outputs": [
    {
     "data": {
      "text/plain": [
       "10    [bought, hair, oil, view, mani, good, comment,...\n",
       "11    [use, mama, earth, newli, launch, onion, oil, ...\n",
       "12    [bad, product, hair, fall, increas, much, orde...\n",
       "13    [product, smell, similar, navarathna, hair, oi...\n",
       "14    [tri, differ, onion, oil, hair, hair, healthi,...\n",
       "15    [use, product, time, roommat, plan, order, use...\n",
       "16    [purchas, oil, shampoo, watch, fake, youtub, c...\n",
       "17    [good, product, mamaearth, oil, give, hair, fu...\n",
       "18    [show, onion, oil, benefit, ad, ate, give, oni...\n",
       "19    [use, one, time, say, hairfal, control, stop, ...\n",
       "Name: review_tokens, dtype: object"
      ]
     },
     "execution_count": 91,
     "metadata": {},
     "output_type": "execute_result"
    }
   ],
   "source": [
    "sentences = reviews_df['review_tokens'][10:20]\n",
    "sentences"
   ]
  },
  {
   "cell_type": "code",
   "execution_count": 92,
   "metadata": {},
   "outputs": [
    {
     "name": "stdout",
     "output_type": "stream",
     "text": [
      "Word2Vec(vocab=231, vector_size=100, alpha=0.025)\n",
      "['hair', 'oil', 'product', 'use', 'onion', 'good', 'hairfal', 'scalp', 'fall', 'time', 'mamaearth', '2', 'result', 'pretti', 'sure', 'shampoo', 'increas', 'give', 'review', 'smell', 'well', 'help', 'control', 'visibl', 'dens', 'hairloss', 'youtub', 'dandruff', 'watch', 'shine', 'month', 'money', 'recommend', 'one', '1', 'provid', 'night', 'root', 'best', 'better', 'strong', '4', 'order', 'look', 'stop', 'prevent', 'bought', 'effect', 'earth', 'mani', 'enough', 'first', 'bottl', 'custom', 'peopl', 'brand', 'go', 'ad', 'mama', 'influenc', 'twice', 'say', 'strength', 'newli', 'sticki', 'amount', 'navarathna', 'similar', 'low', 'three', 'badli', 'wash', 'half', '3', 'hairfallaft', 'prematur', 'appli', 'drop', 'thing', 'mask', 'second', 'expens', 'im', 'usag', 'months1', 'comment', 'worst', 'product2', 'lot3', 'brought', 'loss', 'view', 'noth', 'complet', 'ye', 'nutrient', 'mumbaik', 'erupt', 'problem', 'regular', 'avoid', 'dri', 'frizzi', 'make', 'thumb', 'buy', 'week', 'must', 'essenti', 'dryness', 'launch', 'also', 'strengthen', 'know', 'work', 'season', 'bad', 'fool', 'alreadi', 'trust', 'much', 'grey', 'cheat', 'fill', 'impress', 'arrest', 'nikhil4', 'color5', 'percentag', 'content', 'redensyl', 'ate', 'benefit', 'show', 'type', 'suitabl', 'hold', 'add', 'that', 'sulphur', 'rich', 'perfect', 'full', 'day', 'fake', 'purchas', 'issu', 'alli', 'anyth', 'find', 'con', 'bein', 'secondli', 'extract', 'shini', 'see', 'wait', 'suppos', 'end', 'search', 'date', 'till', 'think', 'bother', 'properli', 'soft', 'switchin', 'extrem', 'made', 'amaz', 'mention', 'applyin', 'juic', 'makin', 'method', 'convent', 'back', 'presenc', 'dark', 'total', 'togeth', 'nice', 'come', 'happi', 'realli', 'textur', 'chang', 'liter', 'healthi', 'differ', 'tri', 'return', 'solut', 'hair7', 'damag', 'wast', 'impact', 'lose', 'sinc', '5', 'suggest', 'take', 'never', 'misguid', 'color', 'packag', 'definit', 'get', 'lump', 'fragrance3', 'awkward', 'pungent', 'light', 'greasi', 'non', 'pro', 'morn', 'shower', 'everi', 'everyon', 'experi', 'last', 'final', 'forget', 'plan', 'roommat', 'lovemyself', 'insi', 'instagram', 'follow', 'hair6']\n"
     ]
    },
    {
     "data": {
      "text/plain": [
       "2778"
      ]
     },
     "execution_count": 92,
     "metadata": {},
     "output_type": "execute_result"
    }
   ],
   "source": [
    "#train model\n",
    "model = Word2Vec(sentences, min_count=1)\n",
    "print(model)\n",
    "\n",
    "#vocab\n",
    "words = list(model.wv.index_to_key)\n",
    "print(words)\n",
    "\n",
    "#nltk.download('punkt')\n",
    "reviewsText = reviews_df.clean_review_text.values\n",
    "reviewsVec = [nltk.word_tokenize(review) for review in reviewsText]\n",
    "len(reviewsVec)"
   ]
  },
  {
   "cell_type": "code",
   "execution_count": 107,
   "metadata": {},
   "outputs": [
    {
     "ename": "AttributeError",
     "evalue": "'Word2Vec' object has no attribute 'most_similar'",
     "output_type": "error",
     "traceback": [
      "\u001b[1;31m---------------------------------------------------------------------------\u001b[0m",
      "\u001b[1;31mAttributeError\u001b[0m                            Traceback (most recent call last)",
      "\u001b[1;32m<ipython-input-107-b58cab4b6cb3>\u001b[0m in \u001b[0;36m<module>\u001b[1;34m\u001b[0m\n\u001b[0;32m      2\u001b[0m \u001b[1;31m# model = Word2Vec(sentences=reviewsVec, vector_size=100,window=5, min_count=1, workers=4)\u001b[0m\u001b[1;33m\u001b[0m\u001b[1;33m\u001b[0m\u001b[1;33m\u001b[0m\u001b[0m\n\u001b[0;32m      3\u001b[0m \u001b[0mmodel\u001b[0m\u001b[1;33m.\u001b[0m\u001b[0mwv\u001b[0m\u001b[1;33m.\u001b[0m\u001b[0mmost_similar\u001b[0m\u001b[1;33m(\u001b[0m\u001b[1;34m'watch'\u001b[0m\u001b[1;33m)\u001b[0m\u001b[1;33m\u001b[0m\u001b[1;33m\u001b[0m\u001b[0m\n\u001b[1;32m----> 4\u001b[1;33m \u001b[0mmodel\u001b[0m\u001b[1;33m.\u001b[0m\u001b[0mmost_similar\u001b[0m\u001b[1;33m(\u001b[0m\u001b[1;34m'watch'\u001b[0m\u001b[1;33m)\u001b[0m\u001b[1;33m\u001b[0m\u001b[1;33m\u001b[0m\u001b[0m\n\u001b[0m",
      "\u001b[1;31mAttributeError\u001b[0m: 'Word2Vec' object has no attribute 'most_similar'"
     ]
    }
   ],
   "source": [
    "# model = Word2Vec(reviewsVec,min_count=1, size=32)\n",
    "# model = Word2Vec(sentences=reviewsVec, vector_size=100,window=5, min_count=1, workers=4)\n",
    "model.wv.most_similar('watch')\n",
    "model.most_similar('watch')"
   ]
  },
  {
   "cell_type": "code",
   "execution_count": null,
   "metadata": {},
   "outputs": [
    {
     "data": {
      "text/plain": [
       "[('product', 0.9996922016143799),\n",
       " ('amazon', 0.9996764659881592),\n",
       " ('good', 0.9996495246887207),\n",
       " ('quality', 0.9996253848075867),\n",
       " ('awesome', 0.9996157884597778),\n",
       " ('happy', 0.9995984435081482),\n",
       " ('price', 0.9995734095573425),\n",
       " ('delivery', 0.9995576739311218),\n",
       " ('watch', 0.9995536804199219),\n",
       " ('delivered', 0.9995439648628235)]"
      ]
     },
     "execution_count": 282,
     "metadata": {},
     "output_type": "execute_result"
    }
   ],
   "source": [
    "model = Word2Vec(sentences=reviewsVec, vector_size=100,window=5, min_count=1, workers=4)\n",
    "model.wv.most_similar('packaging')\n",
    "#model.most_similar('packaging')"
   ]
  },
  {
   "cell_type": "code",
   "execution_count": null,
   "metadata": {},
   "outputs": [
    {
     "data": {
      "text/plain": [
       "[('go', 0.9995859265327454),\n",
       " ('know', 0.9995569586753845),\n",
       " ('think', 0.9995326399803162),\n",
       " ('box', 0.9995324611663818),\n",
       " ('colour', 0.9995257258415222),\n",
       " ('working', 0.9995234608650208),\n",
       " ('made', 0.9995232820510864),\n",
       " ('people', 0.9995203018188477),\n",
       " ('water', 0.9995190501213074),\n",
       " ('natural', 0.9995182156562805)]"
      ]
     },
     "execution_count": 283,
     "metadata": {},
     "output_type": "execute_result"
    }
   ],
   "source": [
    "model = Word2Vec(sentences=reviewsVec, vector_size=100,window=5, min_count=1, workers=4)\n",
    "model.wv.most_similar('reviews')"
   ]
  },
  {
   "cell_type": "code",
   "execution_count": null,
   "metadata": {},
   "outputs": [],
   "source": [
    "#!pip install plotly_express==0.4.0"
   ]
  }
 ],
 "metadata": {
  "interpreter": {
   "hash": "b647a98f5a771bef6128177185896650a5eaba3992f263c2977efddc3ac935a8"
  },
  "kernelspec": {
   "display_name": "Python 3.8.3 ('base')",
   "language": "python",
   "name": "python3"
  },
  "language_info": {
   "codemirror_mode": {
    "name": "ipython",
    "version": 3
   },
   "file_extension": ".py",
   "mimetype": "text/x-python",
   "name": "python",
   "nbconvert_exporter": "python",
   "pygments_lexer": "ipython3",
   "version": "3.8.3"
  }
 },
 "nbformat": 4,
 "nbformat_minor": 4
}
