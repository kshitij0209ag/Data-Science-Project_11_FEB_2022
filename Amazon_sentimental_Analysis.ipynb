{
  "cells": [
    {
      "cell_type": "markdown",
      "metadata": {
        "colab_type": "text",
        "id": "view-in-github"
      },
      "source": [
        "<a href=\"https://colab.research.google.com/github/kshitij0209ag/Data-Scient-Project_11_FEB_2021/blob/main/Amazon_sentimental_Analysis.ipynb\" target=\"_parent\"><img src=\"https://colab.research.google.com/assets/colab-badge.svg\" alt=\"Open In Colab\"/></a>"
      ]
    },
    {
      "cell_type": "code",
      "execution_count": 163,
      "metadata": {
        "id": "SNE0KIvhtCuP"
      },
      "outputs": [],
      "source": [
        "import pandas as pd\n",
        "import numpy as np\n",
        "from matplotlib import pyplot as plt\n",
        "import seaborn as sns"
      ]
    },
    {
      "cell_type": "code",
      "execution_count": 164,
      "metadata": {
        "colab": {
          "base_uri": "https://localhost:8080/",
          "height": 206
        },
        "id": "ETm5XiDst-Hy",
        "outputId": "1e607b22-28c2-4ec3-b499-c15769d1fbde"
      },
      "outputs": [
        {
          "data": {
            "text/html": [
              "<div>\n",
              "<style scoped>\n",
              "    .dataframe tbody tr th:only-of-type {\n",
              "        vertical-align: middle;\n",
              "    }\n",
              "\n",
              "    .dataframe tbody tr th {\n",
              "        vertical-align: top;\n",
              "    }\n",
              "\n",
              "    .dataframe thead th {\n",
              "        text-align: right;\n",
              "    }\n",
              "</style>\n",
              "<table border=\"1\" class=\"dataframe\">\n",
              "  <thead>\n",
              "    <tr style=\"text-align: right;\">\n",
              "      <th></th>\n",
              "      <th>asin</th>\n",
              "      <th>name</th>\n",
              "      <th>date</th>\n",
              "      <th>rating</th>\n",
              "      <th>review</th>\n",
              "    </tr>\n",
              "  </thead>\n",
              "  <tbody>\n",
              "    <tr>\n",
              "      <th>0</th>\n",
              "      <td>B07W7CTLD1</td>\n",
              "      <td>Mamaearth-Onion-Growth-Control-Redensyl</td>\n",
              "      <td>9/6/2019</td>\n",
              "      <td>1</td>\n",
              "      <td>I bought this hair oil after viewing so many g...</td>\n",
              "    </tr>\n",
              "    <tr>\n",
              "      <th>1</th>\n",
              "      <td>B07W7CTLD1</td>\n",
              "      <td>Mamaearth-Onion-Growth-Control-Redensyl</td>\n",
              "      <td>8/14/2019</td>\n",
              "      <td>5</td>\n",
              "      <td>Used This Mama Earth Newly Launched Onion Oil ...</td>\n",
              "    </tr>\n",
              "    <tr>\n",
              "      <th>2</th>\n",
              "      <td>B07W7CTLD1</td>\n",
              "      <td>Mamaearth-Onion-Growth-Control-Redensyl</td>\n",
              "      <td>10/19/2019</td>\n",
              "      <td>1</td>\n",
              "      <td>So bad product...My hair falling increase too ...</td>\n",
              "    </tr>\n",
              "    <tr>\n",
              "      <th>3</th>\n",
              "      <td>B07W7CTLD1</td>\n",
              "      <td>Mamaearth-Onion-Growth-Control-Redensyl</td>\n",
              "      <td>9/16/2019</td>\n",
              "      <td>1</td>\n",
              "      <td>Product just smells similar to navarathna hair...</td>\n",
              "    </tr>\n",
              "    <tr>\n",
              "      <th>4</th>\n",
              "      <td>B07W7CTLD1</td>\n",
              "      <td>Mamaearth-Onion-Growth-Control-Redensyl</td>\n",
              "      <td>8/18/2019</td>\n",
              "      <td>5</td>\n",
              "      <td>I have been trying different onion oil for my ...</td>\n",
              "    </tr>\n",
              "  </tbody>\n",
              "</table>\n",
              "</div>"
            ],
            "text/plain": [
              "         asin                                     name        date  rating  \\\n",
              "0  B07W7CTLD1  Mamaearth-Onion-Growth-Control-Redensyl    9/6/2019       1   \n",
              "1  B07W7CTLD1  Mamaearth-Onion-Growth-Control-Redensyl   8/14/2019       5   \n",
              "2  B07W7CTLD1  Mamaearth-Onion-Growth-Control-Redensyl  10/19/2019       1   \n",
              "3  B07W7CTLD1  Mamaearth-Onion-Growth-Control-Redensyl   9/16/2019       1   \n",
              "4  B07W7CTLD1  Mamaearth-Onion-Growth-Control-Redensyl   8/18/2019       5   \n",
              "\n",
              "                                              review  \n",
              "0  I bought this hair oil after viewing so many g...  \n",
              "1  Used This Mama Earth Newly Launched Onion Oil ...  \n",
              "2  So bad product...My hair falling increase too ...  \n",
              "3  Product just smells similar to navarathna hair...  \n",
              "4  I have been trying different onion oil for my ...  "
            ]
          },
          "execution_count": 164,
          "metadata": {},
          "output_type": "execute_result"
        }
      ],
      "source": [
        "df = pd.read_csv('amazon_vfl_reviews.csv')\n",
        "\n",
        "df.head()"
      ]
    },
    {
      "cell_type": "code",
      "execution_count": 165,
      "metadata": {
        "colab": {
          "base_uri": "https://localhost:8080/"
        },
        "id": "2kBS-wI9uDNn",
        "outputId": "7a14bc58-bea5-4f3a-ae62-34b51bd3f184"
      },
      "outputs": [
        {
          "data": {
            "text/plain": [
              "(2782, 5)"
            ]
          },
          "execution_count": 165,
          "metadata": {},
          "output_type": "execute_result"
        }
      ],
      "source": [
        "df.shape"
      ]
    },
    {
      "cell_type": "code",
      "execution_count": 166,
      "metadata": {
        "colab": {
          "base_uri": "https://localhost:8080/"
        },
        "id": "pQxE9OyFuV-t",
        "outputId": "4e246f8e-8b5c-45ac-dbe2-d87d8056db54"
      },
      "outputs": [
        {
          "data": {
            "text/plain": [
              "asin      0\n",
              "name      0\n",
              "date      0\n",
              "rating    0\n",
              "review    4\n",
              "dtype: int64"
            ]
          },
          "execution_count": 166,
          "metadata": {},
          "output_type": "execute_result"
        }
      ],
      "source": [
        "df.isnull().sum()"
      ]
    },
    {
      "cell_type": "code",
      "execution_count": 167,
      "metadata": {
        "colab": {
          "base_uri": "https://localhost:8080/"
        },
        "id": "rKX9EeN_uXnH",
        "outputId": "af19025a-f0a5-4821-c945-037f7ed0a58d"
      },
      "outputs": [
        {
          "data": {
            "text/plain": [
              "4"
            ]
          },
          "execution_count": 167,
          "metadata": {},
          "output_type": "execute_result"
        }
      ],
      "source": [
        "df['review'].isnull().sum()"
      ]
    },
    {
      "cell_type": "code",
      "execution_count": 168,
      "metadata": {
        "colab": {
          "base_uri": "https://localhost:8080/"
        },
        "id": "7dtH2wnWuY-J",
        "outputId": "0a626a3c-9a2b-4af1-913f-9893b68f69e8"
      },
      "outputs": [
        {
          "data": {
            "text/plain": [
              "1635                    Streax-Hair-Serum-Gloss-100ml\n",
              "377     Godrej-Security-Solutions-Goldilocks-Personal\n",
              "2503    Fastrack-Economy-2013-Analog-Watch-NK3099SP05\n",
              "Name: name, dtype: object"
            ]
          },
          "execution_count": 168,
          "metadata": {},
          "output_type": "execute_result"
        }
      ],
      "source": [
        "df['name'].sample(n=3)"
      ]
    },
    {
      "cell_type": "code",
      "execution_count": 169,
      "metadata": {
        "colab": {
          "base_uri": "https://localhost:8080/"
        },
        "id": "B8kLLWIAuau0",
        "outputId": "84c3b24b-fd0d-457c-f05c-cdb9eccb5d23"
      },
      "outputs": [
        {
          "name": "stdout",
          "output_type": "stream",
          "text": [
            "            asin                             name       date  rating review\n",
            "2248  B01GCETOCW               Tata-Tea-Gold-500g   3/3/2018       4    NaN\n",
            "2258  B01GCETOCW               Tata-Tea-Gold-500g   3/3/2018       4    NaN\n",
            "2631  B07J2MQNW3  Mysore-Sandal-Bathing-Soap-125g  5/22/2020       4    NaN\n",
            "2641  B07J2MQNW3  Mysore-Sandal-Bathing-Soap-125g  5/22/2020       4    NaN\n"
          ]
        }
      ],
      "source": [
        "is_NaN = df.isnull()\n",
        "row_has_NaN = is_NaN.any(axis=1)\n",
        "rows_with_NaN = df[row_has_NaN]\n",
        "print(rows_with_NaN)"
      ]
    },
    {
      "cell_type": "code",
      "execution_count": 170,
      "metadata": {
        "id": "c1F_6Ubzu1ew"
      },
      "outputs": [],
      "source": [
        "df.dropna(inplace=True)"
      ]
    },
    {
      "cell_type": "code",
      "execution_count": 171,
      "metadata": {
        "colab": {
          "base_uri": "https://localhost:8080/"
        },
        "id": "Yw0mKFm3u3bd",
        "outputId": "87a88869-3056-4145-c4b3-e26ef4a9bbc2"
      },
      "outputs": [
        {
          "data": {
            "text/plain": [
              "asin      0\n",
              "name      0\n",
              "date      0\n",
              "rating    0\n",
              "review    0\n",
              "dtype: int64"
            ]
          },
          "execution_count": 171,
          "metadata": {},
          "output_type": "execute_result"
        }
      ],
      "source": [
        "df.isnull().sum()"
      ]
    },
    {
      "cell_type": "code",
      "execution_count": 172,
      "metadata": {
        "colab": {
          "base_uri": "https://localhost:8080/"
        },
        "id": "aWXauQWTu48Z",
        "outputId": "df3310e3-36d5-4ad0-dd57-704d4cf98253"
      },
      "outputs": [
        {
          "data": {
            "text/plain": [
              "array(['Mamaearth', 'Godrej', 'Titan', 'Maaza', 'Paper', 'Indiana',\n",
              "       'Coca', 'Natural', 'Maggi', 'Glucon', 'Amul', 'Patanjali',\n",
              "       'PATANJALI', 'Dettol', 'Savlon', 'Cinthol', 'Britannia',\n",
              "       'NutriChoice', 'Streax', 'Himalaya', 'Society', 'Tata', 'Fastrack',\n",
              "       'Reflex', 'MYSORE', 'Mysore'], dtype=object)"
            ]
          },
          "execution_count": 172,
          "metadata": {},
          "output_type": "execute_result"
        }
      ],
      "source": [
        "df['brandName'] = df['name'].str.split('-').str[0]\n",
        "df.brandName.unique()"
      ]
    },
    {
      "cell_type": "markdown",
      "metadata": {
        "id": "SfeurvczvuAk"
      },
      "source": [
        "# we have to change the another chart"
      ]
    },
    {
      "cell_type": "code",
      "execution_count": 173,
      "metadata": {
        "colab": {
          "base_uri": "https://localhost:8080/",
          "height": 297
        },
        "id": "NVM6Mlosu_il",
        "outputId": "cafb5afb-eca7-4e57-b031-fcc697ea87a4"
      },
      "outputs": [
        {
          "data": {
            "text/plain": [
              "<matplotlib.axes._subplots.AxesSubplot at 0x10300d8eb20>"
            ]
          },
          "execution_count": 173,
          "metadata": {},
          "output_type": "execute_result"
        },
        {
          "data": {
            "image/png": "[encoded data removed]",
            "text/plain": [
              "<Figure size 432x288 with 1 Axes>"
            ]
          },
          "metadata": {
            "needs_background": "light"
          },
          "output_type": "display_data"
        }
      ],
      "source": [
        "df.columns\n",
        "sns.countplot(x='rating', data=df)"
      ]
    },
    {
      "cell_type": "code",
      "execution_count": 174,
      "metadata": {
        "colab": {
          "base_uri": "https://localhost:8080/",
          "height": 453
        },
        "id": "1ba7UeljvCaW",
        "outputId": "faaf8086-745f-4984-c193-fc45a4abe9d1"
      },
      "outputs": [
        {
          "data": {
            "image/png": "[encoded data removed]",
            "text/plain": [
              "<Figure size 720x432 with 1 Axes>"
            ]
          },
          "metadata": {
            "needs_background": "light"
          },
          "output_type": "display_data"
        }
      ],
      "source": [
        "plt.figure(figsize = (10,6))\n",
        "sns.barplot(df['brandName'].value_counts()\n",
        "[:25].index,df['brandName'].value_counts()\n",
        "[:25].values)\n",
        "plt.title('Review counts and brands')\n",
        "plt.xlabel('Brands')\n",
        "plt.ylabel('count')\n",
        "plt.xticks(rotation=90)\n",
        "plt.show()"
      ]
    },
    {
      "cell_type": "code",
      "execution_count": 175,
      "metadata": {},
      "outputs": [],
      "source": [
        "import string\n"
      ]
    },
    {
      "cell_type": "code",
      "execution_count": 176,
      "metadata": {},
      "outputs": [
        {
          "name": "stderr",
          "output_type": "stream",
          "text": [
            "[nltk_data] Downloading package stopwords to\n",
            "[nltk_data]     C:\\Users\\kshit\\AppData\\Roaming\\nltk_data...\n",
            "[nltk_data]   Package stopwords is already up-to-date!\n"
          ]
        },
        {
          "data": {
            "text/plain": [
              "True"
            ]
          },
          "execution_count": 176,
          "metadata": {},
          "output_type": "execute_result"
        }
      ],
      "source": [
        "import nltk\n",
        "from nltk.corpus import stopwords\n",
        "nltk.download('stopwords')\n",
        "\n"
      ]
    },
    {
      "cell_type": "code",
      "execution_count": 177,
      "metadata": {
        "colab": {
          "base_uri": "https://localhost:8080/",
          "height": 245
        },
        "id": "xe0yFUTv1pE9",
        "outputId": "7e4d0472-e833-4e8f-8665-5aa0f97dcfe9"
      },
      "outputs": [],
      "source": [
        "#converting to lower case\n",
        "df['clean_review_text']=df['review'].str.lower()\n",
        "#removing punctuations\n",
        "df['clean_review_text']=df['clean_review_text'].str.translate(str.maketrans('','',string.punctuation))\n",
        "stopWords=stopwords.words('english')+['the', 'a', 'an', 'i', 'he', 'she', 'they', 'to', 'of', 'it', 'from']\n",
        "\n",
        "def removeStopWords(stopWords, rvw_txt):\n",
        "  newtxt = ' '.join([word for word in rvw_txt.split() if word not in stopWords])\n",
        "  return newtxt\n",
        "df['clean_review_text'] = [removeStopWords(stopWords,x) \n",
        "for x in df['clean_review_text']]"
      ]
    },
    {
      "cell_type": "code",
      "execution_count": 178,
      "metadata": {},
      "outputs": [
        {
          "data": {
            "text/html": [
              "<div>\n",
              "<style scoped>\n",
              "    .dataframe tbody tr th:only-of-type {\n",
              "        vertical-align: middle;\n",
              "    }\n",
              "\n",
              "    .dataframe tbody tr th {\n",
              "        vertical-align: top;\n",
              "    }\n",
              "\n",
              "    .dataframe thead th {\n",
              "        text-align: right;\n",
              "    }\n",
              "</style>\n",
              "<table border=\"1\" class=\"dataframe\">\n",
              "  <thead>\n",
              "    <tr style=\"text-align: right;\">\n",
              "      <th></th>\n",
              "      <th>asin</th>\n",
              "      <th>name</th>\n",
              "      <th>date</th>\n",
              "      <th>rating</th>\n",
              "      <th>review</th>\n",
              "      <th>brandName</th>\n",
              "      <th>clean_review_text</th>\n",
              "    </tr>\n",
              "  </thead>\n",
              "  <tbody>\n",
              "    <tr>\n",
              "      <th>0</th>\n",
              "      <td>B07W7CTLD1</td>\n",
              "      <td>Mamaearth-Onion-Growth-Control-Redensyl</td>\n",
              "      <td>9/6/2019</td>\n",
              "      <td>1</td>\n",
              "      <td>I bought this hair oil after viewing so many g...</td>\n",
              "      <td>Mamaearth</td>\n",
              "      <td>bought hair oil viewing many good comments pro...</td>\n",
              "    </tr>\n",
              "    <tr>\n",
              "      <th>1</th>\n",
              "      <td>B07W7CTLD1</td>\n",
              "      <td>Mamaearth-Onion-Growth-Control-Redensyl</td>\n",
              "      <td>8/14/2019</td>\n",
              "      <td>5</td>\n",
              "      <td>Used This Mama Earth Newly Launched Onion Oil ...</td>\n",
              "      <td>Mamaearth</td>\n",
              "      <td>used mama earth newly launched onion oil twice...</td>\n",
              "    </tr>\n",
              "    <tr>\n",
              "      <th>2</th>\n",
              "      <td>B07W7CTLD1</td>\n",
              "      <td>Mamaearth-Onion-Growth-Control-Redensyl</td>\n",
              "      <td>10/19/2019</td>\n",
              "      <td>1</td>\n",
              "      <td>So bad product...My hair falling increase too ...</td>\n",
              "      <td>Mamaearth</td>\n",
              "      <td>bad productmy hair falling increase muchi orde...</td>\n",
              "    </tr>\n",
              "    <tr>\n",
              "      <th>3</th>\n",
              "      <td>B07W7CTLD1</td>\n",
              "      <td>Mamaearth-Onion-Growth-Control-Redensyl</td>\n",
              "      <td>9/16/2019</td>\n",
              "      <td>1</td>\n",
              "      <td>Product just smells similar to navarathna hair...</td>\n",
              "      <td>Mamaearth</td>\n",
              "      <td>product smells similar navarathna hair oil str...</td>\n",
              "    </tr>\n",
              "    <tr>\n",
              "      <th>4</th>\n",
              "      <td>B07W7CTLD1</td>\n",
              "      <td>Mamaearth-Onion-Growth-Control-Redensyl</td>\n",
              "      <td>8/18/2019</td>\n",
              "      <td>5</td>\n",
              "      <td>I have been trying different onion oil for my ...</td>\n",
              "      <td>Mamaearth</td>\n",
              "      <td>trying different onion oil hair hair healthy p...</td>\n",
              "    </tr>\n",
              "  </tbody>\n",
              "</table>\n",
              "</div>"
            ],
            "text/plain": [
              "         asin                                     name        date  rating  \\\n",
              "0  B07W7CTLD1  Mamaearth-Onion-Growth-Control-Redensyl    9/6/2019       1   \n",
              "1  B07W7CTLD1  Mamaearth-Onion-Growth-Control-Redensyl   8/14/2019       5   \n",
              "2  B07W7CTLD1  Mamaearth-Onion-Growth-Control-Redensyl  10/19/2019       1   \n",
              "3  B07W7CTLD1  Mamaearth-Onion-Growth-Control-Redensyl   9/16/2019       1   \n",
              "4  B07W7CTLD1  Mamaearth-Onion-Growth-Control-Redensyl   8/18/2019       5   \n",
              "\n",
              "                                              review  brandName  \\\n",
              "0  I bought this hair oil after viewing so many g...  Mamaearth   \n",
              "1  Used This Mama Earth Newly Launched Onion Oil ...  Mamaearth   \n",
              "2  So bad product...My hair falling increase too ...  Mamaearth   \n",
              "3  Product just smells similar to navarathna hair...  Mamaearth   \n",
              "4  I have been trying different onion oil for my ...  Mamaearth   \n",
              "\n",
              "                                   clean_review_text  \n",
              "0  bought hair oil viewing many good comments pro...  \n",
              "1  used mama earth newly launched onion oil twice...  \n",
              "2  bad productmy hair falling increase muchi orde...  \n",
              "3  product smells similar navarathna hair oil str...  \n",
              "4  trying different onion oil hair hair healthy p...  "
            ]
          },
          "execution_count": 178,
          "metadata": {},
          "output_type": "execute_result"
        }
      ],
      "source": [
        "df.head()"
      ]
    },
    {
      "cell_type": "code",
      "execution_count": 179,
      "metadata": {},
      "outputs": [
        {
          "name": "stdout",
          "output_type": "stream",
          "text": [
            "Requirement already satisfied: vaderSentiment in c:\\users\\kshit\\anaconda3\\lib\\site-packages (3.3.2)\n",
            "Requirement already satisfied: requests in c:\\users\\kshit\\anaconda3\\lib\\site-packages (from vaderSentiment) (2.24.0)\n",
            "Requirement already satisfied: urllib3!=1.25.0,!=1.25.1,<1.26,>=1.21.1 in c:\\users\\kshit\\anaconda3\\lib\\site-packages (from requests->vaderSentiment) (1.25.9)\n",
            "Requirement already satisfied: chardet<4,>=3.0.2 in c:\\users\\kshit\\anaconda3\\lib\\site-packages (from requests->vaderSentiment) (3.0.4)\n",
            "Requirement already satisfied: idna<3,>=2.5 in c:\\users\\kshit\\anaconda3\\lib\\site-packages (from requests->vaderSentiment) (2.10)\n",
            "Requirement already satisfied: certifi>=2017.4.17 in c:\\users\\kshit\\anaconda3\\lib\\site-packages (from requests->vaderSentiment) (2020.6.20)\n",
            "Note: you may need to restart the kernel to use updated packages.\n"
          ]
        }
      ],
      "source": [
        "pip install vaderSentiment\n"
      ]
    },
    {
      "cell_type": "code",
      "execution_count": 180,
      "metadata": {},
      "outputs": [
        {
          "name": "stderr",
          "output_type": "stream",
          "text": [
            "[nltk_data] Downloading package vader_lexicon to\n",
            "[nltk_data]     C:\\Users\\kshit\\AppData\\Roaming\\nltk_data...\n",
            "[nltk_data]   Package vader_lexicon is already up-to-date!\n"
          ]
        },
        {
          "data": {
            "text/html": [
              "<div>\n",
              "<style scoped>\n",
              "    .dataframe tbody tr th:only-of-type {\n",
              "        vertical-align: middle;\n",
              "    }\n",
              "\n",
              "    .dataframe tbody tr th {\n",
              "        vertical-align: top;\n",
              "    }\n",
              "\n",
              "    .dataframe thead th {\n",
              "        text-align: right;\n",
              "    }\n",
              "</style>\n",
              "<table border=\"1\" class=\"dataframe\">\n",
              "  <thead>\n",
              "    <tr style=\"text-align: right;\">\n",
              "      <th></th>\n",
              "      <th>asin</th>\n",
              "      <th>name</th>\n",
              "      <th>date</th>\n",
              "      <th>rating</th>\n",
              "      <th>review</th>\n",
              "      <th>brandName</th>\n",
              "      <th>clean_review_text</th>\n",
              "      <th>scores</th>\n",
              "      <th>scoreStatus</th>\n",
              "    </tr>\n",
              "  </thead>\n",
              "  <tbody>\n",
              "    <tr>\n",
              "      <th>0</th>\n",
              "      <td>B07W7CTLD1</td>\n",
              "      <td>Mamaearth-Onion-Growth-Control-Redensyl</td>\n",
              "      <td>9/6/2019</td>\n",
              "      <td>1</td>\n",
              "      <td>I bought this hair oil after viewing so many g...</td>\n",
              "      <td>Mamaearth</td>\n",
              "      <td>bought hair oil viewing many good comments pro...</td>\n",
              "      <td>0.8147</td>\n",
              "      <td>positive</td>\n",
              "    </tr>\n",
              "    <tr>\n",
              "      <th>1</th>\n",
              "      <td>B07W7CTLD1</td>\n",
              "      <td>Mamaearth-Onion-Growth-Control-Redensyl</td>\n",
              "      <td>8/14/2019</td>\n",
              "      <td>5</td>\n",
              "      <td>Used This Mama Earth Newly Launched Onion Oil ...</td>\n",
              "      <td>Mamaearth</td>\n",
              "      <td>used mama earth newly launched onion oil twice...</td>\n",
              "      <td>0.8689</td>\n",
              "      <td>positive</td>\n",
              "    </tr>\n",
              "    <tr>\n",
              "      <th>2</th>\n",
              "      <td>B07W7CTLD1</td>\n",
              "      <td>Mamaearth-Onion-Growth-Control-Redensyl</td>\n",
              "      <td>10/19/2019</td>\n",
              "      <td>1</td>\n",
              "      <td>So bad product...My hair falling increase too ...</td>\n",
              "      <td>Mamaearth</td>\n",
              "      <td>bad productmy hair falling increase muchi orde...</td>\n",
              "      <td>-0.6820</td>\n",
              "      <td>negative</td>\n",
              "    </tr>\n",
              "    <tr>\n",
              "      <th>3</th>\n",
              "      <td>B07W7CTLD1</td>\n",
              "      <td>Mamaearth-Onion-Growth-Control-Redensyl</td>\n",
              "      <td>9/16/2019</td>\n",
              "      <td>1</td>\n",
              "      <td>Product just smells similar to navarathna hair...</td>\n",
              "      <td>Mamaearth</td>\n",
              "      <td>product smells similar navarathna hair oil str...</td>\n",
              "      <td>-0.6124</td>\n",
              "      <td>negative</td>\n",
              "    </tr>\n",
              "    <tr>\n",
              "      <th>4</th>\n",
              "      <td>B07W7CTLD1</td>\n",
              "      <td>Mamaearth-Onion-Growth-Control-Redensyl</td>\n",
              "      <td>8/18/2019</td>\n",
              "      <td>5</td>\n",
              "      <td>I have been trying different onion oil for my ...</td>\n",
              "      <td>Mamaearth</td>\n",
              "      <td>trying different onion oil hair hair healthy p...</td>\n",
              "      <td>0.9286</td>\n",
              "      <td>positive</td>\n",
              "    </tr>\n",
              "  </tbody>\n",
              "</table>\n",
              "</div>"
            ],
            "text/plain": [
              "         asin                                     name        date  rating  \\\n",
              "0  B07W7CTLD1  Mamaearth-Onion-Growth-Control-Redensyl    9/6/2019       1   \n",
              "1  B07W7CTLD1  Mamaearth-Onion-Growth-Control-Redensyl   8/14/2019       5   \n",
              "2  B07W7CTLD1  Mamaearth-Onion-Growth-Control-Redensyl  10/19/2019       1   \n",
              "3  B07W7CTLD1  Mamaearth-Onion-Growth-Control-Redensyl   9/16/2019       1   \n",
              "4  B07W7CTLD1  Mamaearth-Onion-Growth-Control-Redensyl   8/18/2019       5   \n",
              "\n",
              "                                              review  brandName  \\\n",
              "0  I bought this hair oil after viewing so many g...  Mamaearth   \n",
              "1  Used This Mama Earth Newly Launched Onion Oil ...  Mamaearth   \n",
              "2  So bad product...My hair falling increase too ...  Mamaearth   \n",
              "3  Product just smells similar to navarathna hair...  Mamaearth   \n",
              "4  I have been trying different onion oil for my ...  Mamaearth   \n",
              "\n",
              "                                   clean_review_text  scores scoreStatus  \n",
              "0  bought hair oil viewing many good comments pro...  0.8147    positive  \n",
              "1  used mama earth newly launched onion oil twice...  0.8689    positive  \n",
              "2  bad productmy hair falling increase muchi orde... -0.6820    negative  \n",
              "3  product smells similar navarathna hair oil str... -0.6124    negative  \n",
              "4  trying different onion oil hair hair healthy p...  0.9286    positive  "
            ]
          },
          "execution_count": 180,
          "metadata": {},
          "output_type": "execute_result"
        }
      ],
      "source": [
        "from vaderSentiment.vaderSentiment import SentimentIntensityAnalyzer\n",
        "nltk.download('vader_lexicon')\n",
        "sentiment_model = SentimentIntensityAnalyzer()\n",
        "sentiment_scores = []\n",
        "sentiment_score_flag = []\n",
        "for text in df['clean_review_text']:\n",
        "    sentimentResults = sentiment_model.polarity_scores(text)\n",
        "    sentiment_score = sentimentResults[\"compound\"]\n",
        "    sentiment_scores.append(sentiment_score)\n",
        "    if sentimentResults['compound'] >= 0.05:\n",
        "        sentiment_score_flag.append('positive')\n",
        "    elif sentimentResults['compound'] <= -0.05:\n",
        "        sentiment_score_flag.append('negative')\n",
        "    else:\n",
        "        sentiment_score_flag.append('neutral')\n",
        "\n",
        "df['scores'] = sentiment_scores\n",
        "df['scoreStatus'] = sentiment_score_flag\n",
        "df.head()\n"
      ]
    },
    {
      "cell_type": "code",
      "execution_count": 181,
      "metadata": {},
      "outputs": [],
      "source": [
        "df = df[df[\"scoreStatus\"].str.contains(\"neutral\") == False]\n",
        "# df.drop(df.index[['neutral']], inplace=True)\n",
        "# df = df.drop(df[df['scoreStatus']]== \"neutral\", axis=1)\n",
        "# df[df['scoreStatus']] == \"neutral'\n",
        "# df[df.scoreStatus == 'neutral']"
      ]
    },
    {
      "cell_type": "code",
      "execution_count": 182,
      "metadata": {},
      "outputs": [
        {
          "data": {
            "text/plain": [
              "(2528, 9)"
            ]
          },
          "execution_count": 182,
          "metadata": {},
          "output_type": "execute_result"
        }
      ],
      "source": [
        "df.shape\n"
      ]
    },
    {
      "cell_type": "code",
      "execution_count": 183,
      "metadata": {},
      "outputs": [],
      "source": [
        "# pip install WordCloud"
      ]
    },
    {
      "cell_type": "code",
      "execution_count": 184,
      "metadata": {},
      "outputs": [
        {
          "data": {
            "image/png": "[encoded data removed]",
            "text/plain": [
              "<Figure size 432x288 with 1 Axes>"
            ]
          },
          "metadata": {
            "needs_background": "light"
          },
          "output_type": "display_data"
        }
      ],
      "source": [
        "from wordcloud import WordCloud\n",
        "wordcloud2 = WordCloud(background_color='white').generate(' '.join(df['review']))\n",
        "# Generate plot\n",
        "plt.imshow(wordcloud2)\n",
        "plt.axis(\"off\")\n",
        "plt.show()\n"
      ]
    },
    {
      "cell_type": "code",
      "execution_count": 185,
      "metadata": {},
      "outputs": [
        {
          "data": {
            "image/png": "[encoded data removed]",
            "text/plain": [
              "<Figure size 432x288 with 1 Axes>"
            ]
          },
          "metadata": {
            "needs_background": "light"
          },
          "output_type": "display_data"
        }
      ],
      "source": [
        "from wordcloud import WordCloud\n",
        "wordcloud2 = WordCloud(width=1000, height=1000, background_color='white',\n",
        "                       min_font_size=20).generate(' '.join(df['clean_review_text']))\n",
        "# Generate plot\n",
        "plt.imshow(wordcloud2)\n",
        "plt.axis(\"off\")\n",
        "plt.show()\n"
      ]
    },
    {
      "cell_type": "code",
      "execution_count": 186,
      "metadata": {},
      "outputs": [
        {
          "data": {
            "image/png": "[encoded data removed]",
            "text/plain": [
              "<Figure size 432x288 with 1 Axes>"
            ]
          },
          "metadata": {
            "needs_background": "light"
          },
          "output_type": "display_data"
        }
      ],
      "source": [
        "from wordcloud import WordCloud\n",
        "wordcloud2 = WordCloud(background_color='white').generate(\n",
        "    ' '.join(df['clean_review_text']))\n",
        "# Generate plot\n",
        "plt.imshow(wordcloud2)\n",
        "plt.axis(\"off\")\n",
        "plt.show()\n"
      ]
    },
    {
      "cell_type": "markdown",
      "metadata": {},
      "source": [
        "# TF and TF-IDF Vectorizer"
      ]
    },
    {
      "cell_type": "code",
      "execution_count": 187,
      "metadata": {},
      "outputs": [],
      "source": [
        "from sklearn.feature_extraction.text import TfidfVectorizer\n"
      ]
    },
    {
      "cell_type": "code",
      "execution_count": 188,
      "metadata": {},
      "outputs": [],
      "source": [
        "tf = TfidfVectorizer()\n"
      ]
    },
    {
      "cell_type": "code",
      "execution_count": 189,
      "metadata": {},
      "outputs": [
        {
          "name": "stdout",
          "output_type": "stream",
          "text": [
            "[[0. 0. 0. ... 0. 0. 0.]\n",
            " [0. 0. 0. ... 0. 0. 0.]\n",
            " [0. 0. 0. ... 0. 0. 0.]\n",
            " ...\n",
            " [0. 0. 0. ... 0. 0. 0.]\n",
            " [0. 0. 0. ... 0. 0. 0.]\n",
            " [0. 0. 0. ... 0. 0. 0.]]\n"
          ]
        }
      ],
      "source": [
        "x = tf.fit_transform(df['clean_review_text']).toarray()\n",
        "print(x)\n"
      ]
    },
    {
      "cell_type": "markdown",
      "metadata": {},
      "source": [
        "# Bag of words"
      ]
    },
    {
      "cell_type": "code",
      "execution_count": 190,
      "metadata": {},
      "outputs": [],
      "source": [
        "from sklearn.feature_extraction.text import CountVectorizer\n"
      ]
    },
    {
      "cell_type": "code",
      "execution_count": 191,
      "metadata": {},
      "outputs": [
        {
          "data": {
            "text/plain": [
              "CountVectorizer()"
            ]
          },
          "execution_count": 191,
          "metadata": {},
          "output_type": "execute_result"
        }
      ],
      "source": [
        "features = CountVectorizer()\n",
        "features.fit(df['clean_review_text'])\n"
      ]
    },
    {
      "cell_type": "code",
      "execution_count": 192,
      "metadata": {},
      "outputs": [],
      "source": [
        "bagofWords = features.transform(df['clean_review_text'])\n"
      ]
    },
    {
      "cell_type": "markdown",
      "metadata": {},
      "source": [
        "# Representation of output [note]"
      ]
    },
    {
      "cell_type": "code",
      "execution_count": 193,
      "metadata": {},
      "outputs": [
        {
          "name": "stdout",
          "output_type": "stream",
          "text": [
            "  (0, 303)\t1\n",
            "  (0, 385)\t1\n",
            "  (0, 702)\t2\n",
            "  (0, 709)\t1\n",
            "  (0, 721)\t2\n",
            "  (0, 797)\t1\n",
            "  (0, 829)\t1\n",
            "  (0, 912)\t1\n",
            "  (0, 1040)\t1\n",
            "  (0, 1069)\t1\n",
            "  (0, 1232)\t1\n",
            "  (0, 1629)\t1\n",
            "  (0, 1630)\t1\n",
            "  (0, 1706)\t1\n",
            "  (0, 1823)\t1\n",
            "  (0, 1893)\t1\n",
            "  (0, 2061)\t1\n",
            "  (0, 2068)\t3\n",
            "  (0, 2150)\t1\n",
            "  (0, 2165)\t1\n",
            "  (0, 2592)\t1\n",
            "  (0, 2799)\t1\n",
            "  (0, 2850)\t2\n",
            "  (0, 2871)\t1\n",
            "  (0, 3272)\t3\n",
            "  :\t:\n",
            "  (2523, 4638)\t2\n",
            "  (2524, 155)\t1\n",
            "  (2524, 621)\t1\n",
            "  (2524, 1666)\t1\n",
            "  (2524, 4405)\t1\n",
            "  (2524, 5090)\t1\n",
            "  (2524, 5359)\t1\n",
            "  (2525, 1775)\t1\n",
            "  (2526, 3700)\t1\n",
            "  (2526, 4646)\t1\n",
            "  (2527, 621)\t1\n",
            "  (2527, 1151)\t1\n",
            "  (2527, 1329)\t1\n",
            "  (2527, 1532)\t1\n",
            "  (2527, 1926)\t1\n",
            "  (2527, 2308)\t2\n",
            "  (2527, 2326)\t1\n",
            "  (2527, 2351)\t1\n",
            "  (2527, 2656)\t1\n",
            "  (2527, 3069)\t2\n",
            "  (2527, 3944)\t1\n",
            "  (2527, 4346)\t1\n",
            "  (2527, 4405)\t1\n",
            "  (2527, 4456)\t1\n",
            "  (2527, 4638)\t2\n"
          ]
        }
      ],
      "source": [
        "print(bagofWords)"
      ]
    },
    {
      "cell_type": "code",
      "execution_count": 194,
      "metadata": {},
      "outputs": [
        {
          "data": {
            "text/plain": [
              "(2528,)"
            ]
          },
          "execution_count": 194,
          "metadata": {},
          "output_type": "execute_result"
        }
      ],
      "source": [
        "df['clean_review_text'].shape"
      ]
    },
    {
      "cell_type": "code",
      "execution_count": 195,
      "metadata": {},
      "outputs": [
        {
          "data": {
            "text/plain": [
              "array([[0, 0, 0, ..., 0, 0, 0],\n",
              "       [0, 0, 0, ..., 0, 0, 0],\n",
              "       [0, 0, 0, ..., 0, 0, 0],\n",
              "       ...,\n",
              "       [0, 0, 0, ..., 0, 0, 0],\n",
              "       [0, 0, 0, ..., 0, 0, 0],\n",
              "       [0, 0, 0, ..., 0, 0, 0]], dtype=int64)"
            ]
          },
          "execution_count": 195,
          "metadata": {},
          "output_type": "execute_result"
        }
      ],
      "source": [
        "bagofWords.toarray()"
      ]
    },
    {
      "cell_type": "markdown",
      "metadata": {},
      "source": [
        "# concatenation of two columns"
      ]
    },
    {
      "cell_type": "code",
      "execution_count": 196,
      "metadata": {},
      "outputs": [
        {
          "data": {
            "text/html": [
              "<div>\n",
              "<style scoped>\n",
              "    .dataframe tbody tr th:only-of-type {\n",
              "        vertical-align: middle;\n",
              "    }\n",
              "\n",
              "    .dataframe tbody tr th {\n",
              "        vertical-align: top;\n",
              "    }\n",
              "\n",
              "    .dataframe thead th {\n",
              "        text-align: right;\n",
              "    }\n",
              "</style>\n",
              "<table border=\"1\" class=\"dataframe\">\n",
              "  <thead>\n",
              "    <tr style=\"text-align: right;\">\n",
              "      <th></th>\n",
              "      <th>scoreStatus</th>\n",
              "      <th>scores</th>\n",
              "    </tr>\n",
              "  </thead>\n",
              "  <tbody>\n",
              "    <tr>\n",
              "      <th>0</th>\n",
              "      <td>positive</td>\n",
              "      <td>0.8147</td>\n",
              "    </tr>\n",
              "    <tr>\n",
              "      <th>1</th>\n",
              "      <td>positive</td>\n",
              "      <td>0.8689</td>\n",
              "    </tr>\n",
              "    <tr>\n",
              "      <th>2</th>\n",
              "      <td>negative</td>\n",
              "      <td>-0.6820</td>\n",
              "    </tr>\n",
              "    <tr>\n",
              "      <th>3</th>\n",
              "      <td>negative</td>\n",
              "      <td>-0.6124</td>\n",
              "    </tr>\n",
              "    <tr>\n",
              "      <th>4</th>\n",
              "      <td>positive</td>\n",
              "      <td>0.9286</td>\n",
              "    </tr>\n",
              "    <tr>\n",
              "      <th>...</th>\n",
              "      <td>...</td>\n",
              "      <td>...</td>\n",
              "    </tr>\n",
              "    <tr>\n",
              "      <th>2773</th>\n",
              "      <td>positive</td>\n",
              "      <td>0.8720</td>\n",
              "    </tr>\n",
              "    <tr>\n",
              "      <th>2775</th>\n",
              "      <td>positive</td>\n",
              "      <td>0.6369</td>\n",
              "    </tr>\n",
              "    <tr>\n",
              "      <th>2776</th>\n",
              "      <td>positive</td>\n",
              "      <td>0.5574</td>\n",
              "    </tr>\n",
              "    <tr>\n",
              "      <th>2780</th>\n",
              "      <td>positive</td>\n",
              "      <td>0.5994</td>\n",
              "    </tr>\n",
              "    <tr>\n",
              "      <th>2781</th>\n",
              "      <td>positive</td>\n",
              "      <td>0.8720</td>\n",
              "    </tr>\n",
              "  </tbody>\n",
              "</table>\n",
              "<p>2528 rows × 2 columns</p>\n",
              "</div>"
            ],
            "text/plain": [
              "     scoreStatus  scores\n",
              "0       positive  0.8147\n",
              "1       positive  0.8689\n",
              "2       negative -0.6820\n",
              "3       negative -0.6124\n",
              "4       positive  0.9286\n",
              "...          ...     ...\n",
              "2773    positive  0.8720\n",
              "2775    positive  0.6369\n",
              "2776    positive  0.5574\n",
              "2780    positive  0.5994\n",
              "2781    positive  0.8720\n",
              "\n",
              "[2528 rows x 2 columns]"
            ]
          },
          "execution_count": 196,
          "metadata": {},
          "output_type": "execute_result"
        }
      ],
      "source": [
        "# df = pd.concat(df.scoreStatus, df.scores)\n",
        "\n",
        "pd.concat([df.scoreStatus, df.scores], axis=1)\n",
        "\n"
      ]
    },
    {
      "cell_type": "code",
      "execution_count": 197,
      "metadata": {},
      "outputs": [
        {
          "data": {
            "text/plain": [
              "0       False\n",
              "1       False\n",
              "2        True\n",
              "3        True\n",
              "4       False\n",
              "        ...  \n",
              "2773    False\n",
              "2775    False\n",
              "2776    False\n",
              "2780    False\n",
              "2781    False\n",
              "Name: scoreStatus, Length: 2528, dtype: bool"
            ]
          },
          "execution_count": 197,
          "metadata": {},
          "output_type": "execute_result"
        }
      ],
      "source": [
        "df['scoreStatus'] == 'negative'\n"
      ]
    },
    {
      "cell_type": "code",
      "execution_count": 198,
      "metadata": {},
      "outputs": [
        {
          "data": {
            "text/html": [
              "<div>\n",
              "<style scoped>\n",
              "    .dataframe tbody tr th:only-of-type {\n",
              "        vertical-align: middle;\n",
              "    }\n",
              "\n",
              "    .dataframe tbody tr th {\n",
              "        vertical-align: top;\n",
              "    }\n",
              "\n",
              "    .dataframe thead th {\n",
              "        text-align: right;\n",
              "    }\n",
              "</style>\n",
              "<table border=\"1\" class=\"dataframe\">\n",
              "  <thead>\n",
              "    <tr style=\"text-align: right;\">\n",
              "      <th></th>\n",
              "      <th>asin</th>\n",
              "      <th>name</th>\n",
              "      <th>date</th>\n",
              "      <th>rating</th>\n",
              "      <th>review</th>\n",
              "      <th>brandName</th>\n",
              "      <th>clean_review_text</th>\n",
              "      <th>scores</th>\n",
              "      <th>scoreStatus</th>\n",
              "    </tr>\n",
              "  </thead>\n",
              "  <tbody>\n",
              "    <tr>\n",
              "      <th>2</th>\n",
              "      <td>B07W7CTLD1</td>\n",
              "      <td>Mamaearth-Onion-Growth-Control-Redensyl</td>\n",
              "      <td>10/19/2019</td>\n",
              "      <td>1</td>\n",
              "      <td>So bad product...My hair falling increase too ...</td>\n",
              "      <td>Mamaearth</td>\n",
              "      <td>bad productmy hair falling increase muchi orde...</td>\n",
              "      <td>-0.6820</td>\n",
              "      <td>negative</td>\n",
              "    </tr>\n",
              "    <tr>\n",
              "      <th>3</th>\n",
              "      <td>B07W7CTLD1</td>\n",
              "      <td>Mamaearth-Onion-Growth-Control-Redensyl</td>\n",
              "      <td>9/16/2019</td>\n",
              "      <td>1</td>\n",
              "      <td>Product just smells similar to navarathna hair...</td>\n",
              "      <td>Mamaearth</td>\n",
              "      <td>product smells similar navarathna hair oil str...</td>\n",
              "      <td>-0.6124</td>\n",
              "      <td>negative</td>\n",
              "    </tr>\n",
              "    <tr>\n",
              "      <th>6</th>\n",
              "      <td>B07W7CTLD1</td>\n",
              "      <td>Mamaearth-Onion-Growth-Control-Redensyl</td>\n",
              "      <td>9/28/2019</td>\n",
              "      <td>1</td>\n",
              "      <td>I purchased both oil and shampoo after watchin...</td>\n",
              "      <td>Mamaearth</td>\n",
              "      <td>purchased oil shampoo watching fake youtube cu...</td>\n",
              "      <td>-0.2500</td>\n",
              "      <td>negative</td>\n",
              "    </tr>\n",
              "    <tr>\n",
              "      <th>12</th>\n",
              "      <td>B07W7CTLD1</td>\n",
              "      <td>Mamaearth-Onion-Growth-Control-Redensyl</td>\n",
              "      <td>10/19/2019</td>\n",
              "      <td>1</td>\n",
              "      <td>So bad product...My hair falling increase too ...</td>\n",
              "      <td>Mamaearth</td>\n",
              "      <td>bad productmy hair falling increase muchi orde...</td>\n",
              "      <td>-0.6820</td>\n",
              "      <td>negative</td>\n",
              "    </tr>\n",
              "    <tr>\n",
              "      <th>13</th>\n",
              "      <td>B07W7CTLD1</td>\n",
              "      <td>Mamaearth-Onion-Growth-Control-Redensyl</td>\n",
              "      <td>9/16/2019</td>\n",
              "      <td>1</td>\n",
              "      <td>Product just smells similar to navarathna hair...</td>\n",
              "      <td>Mamaearth</td>\n",
              "      <td>product smells similar navarathna hair oil str...</td>\n",
              "      <td>-0.6124</td>\n",
              "      <td>negative</td>\n",
              "    </tr>\n",
              "    <tr>\n",
              "      <th>...</th>\n",
              "      <td>...</td>\n",
              "      <td>...</td>\n",
              "      <td>...</td>\n",
              "      <td>...</td>\n",
              "      <td>...</td>\n",
              "      <td>...</td>\n",
              "      <td>...</td>\n",
              "      <td>...</td>\n",
              "      <td>...</td>\n",
              "    </tr>\n",
              "    <tr>\n",
              "      <th>2731</th>\n",
              "      <td>B015XSO0L8</td>\n",
              "      <td>Mysore-Sandal-Millennium-Soap-150g</td>\n",
              "      <td>3/17/2020</td>\n",
              "      <td>3</td>\n",
              "      <td>Something is wrong with this product currently...</td>\n",
              "      <td>Mysore</td>\n",
              "      <td>something wrong product currently ive using si...</td>\n",
              "      <td>-0.5423</td>\n",
              "      <td>negative</td>\n",
              "    </tr>\n",
              "    <tr>\n",
              "      <th>2737</th>\n",
              "      <td>B015XSO0L8</td>\n",
              "      <td>Mysore-Sandal-Millennium-Soap-150g</td>\n",
              "      <td>10/14/2018</td>\n",
              "      <td>1</td>\n",
              "      <td>It’s the worst thing you can buy. Do not waste...</td>\n",
              "      <td>Mysore</td>\n",
              "      <td>it’s worst thing buy waste money land soap lea...</td>\n",
              "      <td>-0.1027</td>\n",
              "      <td>negative</td>\n",
              "    </tr>\n",
              "    <tr>\n",
              "      <th>2741</th>\n",
              "      <td>B015XSO0L8</td>\n",
              "      <td>Mysore-Sandal-Millennium-Soap-150g</td>\n",
              "      <td>3/17/2020</td>\n",
              "      <td>3</td>\n",
              "      <td>Something is wrong with this product currently...</td>\n",
              "      <td>Mysore</td>\n",
              "      <td>something wrong product currently ive using si...</td>\n",
              "      <td>-0.5423</td>\n",
              "      <td>negative</td>\n",
              "    </tr>\n",
              "    <tr>\n",
              "      <th>2747</th>\n",
              "      <td>B01N3KEVVR</td>\n",
              "      <td>Mysore-Sandal-Agarbathies-Pack-Box</td>\n",
              "      <td>3/22/2020</td>\n",
              "      <td>1</td>\n",
              "      <td>No discount is being provided seller. Informat...</td>\n",
              "      <td>Mysore</td>\n",
              "      <td>discount provided seller information provided ...</td>\n",
              "      <td>-0.4767</td>\n",
              "      <td>negative</td>\n",
              "    </tr>\n",
              "    <tr>\n",
              "      <th>2757</th>\n",
              "      <td>B01N3KEVVR</td>\n",
              "      <td>Mysore-Sandal-Agarbathies-Pack-Box</td>\n",
              "      <td>3/22/2020</td>\n",
              "      <td>1</td>\n",
              "      <td>No discount is being provided seller. Informat...</td>\n",
              "      <td>Mysore</td>\n",
              "      <td>discount provided seller information provided ...</td>\n",
              "      <td>-0.4767</td>\n",
              "      <td>negative</td>\n",
              "    </tr>\n",
              "  </tbody>\n",
              "</table>\n",
              "<p>384 rows × 9 columns</p>\n",
              "</div>"
            ],
            "text/plain": [
              "            asin                                     name        date  rating  \\\n",
              "2     B07W7CTLD1  Mamaearth-Onion-Growth-Control-Redensyl  10/19/2019       1   \n",
              "3     B07W7CTLD1  Mamaearth-Onion-Growth-Control-Redensyl   9/16/2019       1   \n",
              "6     B07W7CTLD1  Mamaearth-Onion-Growth-Control-Redensyl   9/28/2019       1   \n",
              "12    B07W7CTLD1  Mamaearth-Onion-Growth-Control-Redensyl  10/19/2019       1   \n",
              "13    B07W7CTLD1  Mamaearth-Onion-Growth-Control-Redensyl   9/16/2019       1   \n",
              "...          ...                                      ...         ...     ...   \n",
              "2731  B015XSO0L8       Mysore-Sandal-Millennium-Soap-150g   3/17/2020       3   \n",
              "2737  B015XSO0L8       Mysore-Sandal-Millennium-Soap-150g  10/14/2018       1   \n",
              "2741  B015XSO0L8       Mysore-Sandal-Millennium-Soap-150g   3/17/2020       3   \n",
              "2747  B01N3KEVVR       Mysore-Sandal-Agarbathies-Pack-Box   3/22/2020       1   \n",
              "2757  B01N3KEVVR       Mysore-Sandal-Agarbathies-Pack-Box   3/22/2020       1   \n",
              "\n",
              "                                                 review  brandName  \\\n",
              "2     So bad product...My hair falling increase too ...  Mamaearth   \n",
              "3     Product just smells similar to navarathna hair...  Mamaearth   \n",
              "6     I purchased both oil and shampoo after watchin...  Mamaearth   \n",
              "12    So bad product...My hair falling increase too ...  Mamaearth   \n",
              "13    Product just smells similar to navarathna hair...  Mamaearth   \n",
              "...                                                 ...        ...   \n",
              "2731  Something is wrong with this product currently...     Mysore   \n",
              "2737  It’s the worst thing you can buy. Do not waste...     Mysore   \n",
              "2741  Something is wrong with this product currently...     Mysore   \n",
              "2747  No discount is being provided seller. Informat...     Mysore   \n",
              "2757  No discount is being provided seller. Informat...     Mysore   \n",
              "\n",
              "                                      clean_review_text  scores scoreStatus  \n",
              "2     bad productmy hair falling increase muchi orde... -0.6820    negative  \n",
              "3     product smells similar navarathna hair oil str... -0.6124    negative  \n",
              "6     purchased oil shampoo watching fake youtube cu... -0.2500    negative  \n",
              "12    bad productmy hair falling increase muchi orde... -0.6820    negative  \n",
              "13    product smells similar navarathna hair oil str... -0.6124    negative  \n",
              "...                                                 ...     ...         ...  \n",
              "2731  something wrong product currently ive using si... -0.5423    negative  \n",
              "2737  it’s worst thing buy waste money land soap lea... -0.1027    negative  \n",
              "2741  something wrong product currently ive using si... -0.5423    negative  \n",
              "2747  discount provided seller information provided ... -0.4767    negative  \n",
              "2757  discount provided seller information provided ... -0.4767    negative  \n",
              "\n",
              "[384 rows x 9 columns]"
            ]
          },
          "execution_count": 198,
          "metadata": {},
          "output_type": "execute_result"
        }
      ],
      "source": [
        "negative_reviews = df[df['scoreStatus'] == 'negative']\n",
        "negative_reviews"
      ]
    },
    {
      "cell_type": "code",
      "execution_count": 199,
      "metadata": {},
      "outputs": [
        {
          "data": {
            "text/plain": [
              "array(['Mamaearth-Onion-Growth-Control-Redensyl',\n",
              "       'Mamaearth-Percent-Natural-Berry-Toothpaste',\n",
              "       'Mamaearth-Natural-Turmeric-Saffron-brightning',\n",
              "       'Mamaearth-Illuminate-Vitamin-Radiant-Turmeric',\n",
              "       'Mamaearth-Blemishes-Pigmentation-Blemish-Mulberry',\n",
              "       'Mamaearth-Face-Wash-100-ml',\n",
              "       'Mamaearth-Moisturizing-Baby-Bathing-Oatmeal',\n",
              "       'Godrej-Protekt-Master-Blaster-Handwash',\n",
              "       'Godrej-No-1-Bathing-Soap-Lime',\n",
              "       'Godrej-No-1-Bathing-Soap-Turmeric',\n",
              "       'Godrej-Direct-Cool-Refrigerator-1905-PTDI',\n",
              "       'Godrej-aer-Pocket-Bathroom-Fragrance',\n",
              "       'Godrej-Security-Solutions-SEEC9060-Electronic',\n",
              "       'Godrej-Matic-Spray-Violet-Valley',\n",
              "       'Godrej-Security-Solutions-Goldilocks-Personal',\n",
              "       'Godrej-ViroShield-Disinfecting-VIROSHIELD-30UV',\n",
              "       'Titan-Analog-Black-Dial-Watch-1805NM01',\n",
              "       'Titan-Analog-White-Dial-Watch-NK1639SL03',\n",
              "       'Titan-Karishma-Analog-Blue-Watch-1774SM01',\n",
              "       'Titan-Karishma-Analog-Black-Watch-NK1639SM02',\n",
              "       'Titan-Octane-Analog-Silver-Watch-NK1650BM03',\n",
              "       'Titan-Analog-Black-Dial-Watch-NK1730SL02',\n",
              "       'Titan-Karishma-Analog-Champagne-Watch-NK1580YL05',\n",
              "       'Titan-Analog-Gold-Dial-Watch-NK1650YM04',\n",
              "       'Titan-Karishma-Analog-Black-NK1578SM04', 'Maaza-1-2L',\n",
              "       'Paper-Boat-Aamras-Juice-250ml',\n",
              "       'Indiana-Frutti-Cherries-Frooti-Multicolor',\n",
              "       'Coca-Cola-300ml-Pack-6', 'Natural-Mango-Juice-1L-Pack',\n",
              "       'Paper-Boat-Mixed-Fruit', 'Maggi-Masala-Noodles-Singles-840g',\n",
              "       'Glucon-D-Glucose-Based-Beverage-Orange',\n",
              "       'Natural-Festive-Delight-Assorted-Jelimals',\n",
              "       'Amul-Butter-Pasteurised-100g-Pack', 'Amul-Cow-Ghee-500ml',\n",
              "       'Amul-Fresh-Paneer-200g', 'Amul-Cacao-Chocolate-125g-Pack',\n",
              "       'Amul-Cheese-Slices-200g-Pack', 'Amul-Fresh-Cream-250ml',\n",
              "       'Amul-Pure-Ghee-Pouch-1L', 'Amul-Pro-500g-Pouch-Pack',\n",
              "       'Amul-Gold-Milk-Homogenised-Standardised',\n",
              "       'Patanjali-Cows-Ghee-1L',\n",
              "       'PATANJALI-Aloe-Pimples-Moisturizing-150ml',\n",
              "       'Patanjali-Shatavar-Mushli-Ashwagandha-Churna',\n",
              "       'Patanjali-Kanti-Natural-Cleanser-Shampoo',\n",
              "       'Patanjali-Ayurved-Ltd-CORO-NIL-Tablet',\n",
              "       'Patanjali-UHT-Milk-1000-ml', 'Patanjali-Cows-Ghee-500ml',\n",
              "       'Patanjali-Saundarya-Aloe-Vera-150ml',\n",
              "       'Dettol-Disinfectant-Multi-Use-Hygiene-Liquid',\n",
              "       'Dettol-Disinfectant-Cleaner-Home-Fresh',\n",
              "       'Dettol-Liquid-Refill-Original-1500',\n",
              "       'Dettol-Multi-Purpose-Disinfectant-Surfaces-Original',\n",
              "       'Savlon-After-Shave-Lotion-1000',\n",
              "       'Dettol-Original-Protection-Bathing-125gm',\n",
              "       'Dettol-Detergent-Liquid-Laundry-Sanitizer-Spring-Blossom',\n",
              "       'Dettol-Disinfectant-Liquid-Menthol-Cool',\n",
              "       'Cinthol-Lime-Soap-100-Pack', 'Cinthol-Original-Soap-100-Pack',\n",
              "       'Cinthol-Lime-Soap-100g-Pack', 'Cinthol-Original-Soap-100g-Pack',\n",
              "       'Cinthol-Soap-125g-Pack-Free', 'Cinthol-Cool-Soap-100-Pack',\n",
              "       'Cinthol-Confidence-Soap-100g-Pack', 'Cinthol-Cool-Soap-100g-Free',\n",
              "       'Britannia-NutriChoice-Digestive-100g',\n",
              "       'Britannia-Good-Day-Cashew-200g', 'Britannia-Marie-Gold-200g',\n",
              "       'NutriChoice-Digestives-grain-Pack-200g',\n",
              "       'Britannia-Vita-Marie-Gold-150g',\n",
              "       'Britannia-50-50-Biscuits-Pouch-80g', 'Britannia-Nice-Time-150g',\n",
              "       'Streax-Hair-Serum-Gloss-100ml',\n",
              "       'Streax-Shampoo-Enriched-Extracts-Long-Lasting',\n",
              "       'Streax-Vitalized-Hair-Serum-300',\n",
              "       'Streax-Ultralights-Highlighting-Kit-Collection',\n",
              "       'Streax-Shampoo-Colour-Natural-Black-25-ml-Pack',\n",
              "       'Streax-Professional-Hold-Funkey-Colour',\n",
              "       'Streax-Soft-Hair-Colour-Natural-Black-170',\n",
              "       'Streax-Perfumed-Body-Peach-100ml',\n",
              "       'Himalaya-4004G-Baby-Powder-400g',\n",
              "       'Himalaya-Moisturizing-Aloe-Vera-200ml',\n",
              "       'Himalaya-Baby-Shampoo-400-ml', 'Himalaya-4003F-Baby-Lotion-400ml',\n",
              "       'Himalaya-Gift-Pack', 'Himalaya-Herbals-Baby-Lotion-400ml',\n",
              "       'Himalaya-Herbals-Anti-Wrinkle-Cream',\n",
              "       'Society-Tea-Regular-250g-Pouch', 'Society-Tea-Regular-Pouch-1kg',\n",
              "       'Society-Tea-Masala-Jar-250g', 'Society-Tea-Minute-Masala-500g',\n",
              "       'Society-Daily-Elachi-Premix-Pouch',\n",
              "       'Society-Tea-Premium-Packet-1000g',\n",
              "       'Society-Tea-Daily-Masala-Premix',\n",
              "       'Society-Tea-Minute-Ginger-Lemongrass',\n",
              "       'Society-Minute-Tea-Masala-500g', 'Tata-Tea-Gold-500g',\n",
              "       'Tata-Tea-Premium-North-1kg', 'Tata-Tea-Gold-1kg',\n",
              "       'Tata-Tea-Gold-Leaf-Pouch', 'Tata-Tea-Premium-1-5kg',\n",
              "       'Tata-Premium-Leaf-South-500g', 'Tata-Agni-Leaf-Tea-1kg',\n",
              "       'Fastrack-Casual-Analog-White-Watch-NK3121SM01',\n",
              "       'Fastrack-Analog-Womens-6150SM04-NK6150SM04',\n",
              "       'Fastrack-Casual-Analog-Blue-Watch-NK3124SL02',\n",
              "       'Reflex-Activity-Tracker-Monitor-SWD90066PP01',\n",
              "       'Fastrack-Economy-2013-Analog-Watch-NK3099SP05',\n",
              "       'Fastrack-Casual-Analog-Grey-Watch-NK3121SL02',\n",
              "       'Fastrack-Casual-Analog-White-Watch-NK3120SL01',\n",
              "       'Fastrack-Analog-Silver-Dial-Watch-NK9332PP06',\n",
              "       'Reflex-Activity-Tracker-Monitor-SWD90066PP02',\n",
              "       'MYSORE-SANDAL-Mysore-Sandal-Talcum',\n",
              "       'Mysore-Sandal-Bathing-Soap-125g', 'Mysore-Sandal-Gold-Soap-Pack',\n",
              "       'Mysore-Whitening-Rejuvenating-Face-Pack',\n",
              "       'Mysore-Sandal-Jasmine-Rose-Soap',\n",
              "       'Mysore-Sandal-Millennium-Soap-150g',\n",
              "       'Mysore-Sandal-Agarbathies-Pack-Box',\n",
              "       'Mysore-Sandal-Soaps-Pack-Bars'], dtype=object)"
            ]
          },
          "execution_count": 199,
          "metadata": {},
          "output_type": "execute_result"
        }
      ],
      "source": [
        "df.name.unique()"
      ]
    },
    {
      "cell_type": "code",
      "execution_count": 200,
      "metadata": {},
      "outputs": [
        {
          "data": {
            "text/html": [
              "<div>\n",
              "<style scoped>\n",
              "    .dataframe tbody tr th:only-of-type {\n",
              "        vertical-align: middle;\n",
              "    }\n",
              "\n",
              "    .dataframe tbody tr th {\n",
              "        vertical-align: top;\n",
              "    }\n",
              "\n",
              "    .dataframe thead th {\n",
              "        text-align: right;\n",
              "    }\n",
              "</style>\n",
              "<table border=\"1\" class=\"dataframe\">\n",
              "  <thead>\n",
              "    <tr style=\"text-align: right;\">\n",
              "      <th></th>\n",
              "      <th>asin</th>\n",
              "      <th>name</th>\n",
              "      <th>date</th>\n",
              "      <th>rating</th>\n",
              "      <th>review</th>\n",
              "      <th>brandName</th>\n",
              "      <th>clean_review_text</th>\n",
              "      <th>scores</th>\n",
              "      <th>scoreStatus</th>\n",
              "    </tr>\n",
              "  </thead>\n",
              "  <tbody>\n",
              "    <tr>\n",
              "      <th>0</th>\n",
              "      <td>B07W7CTLD1</td>\n",
              "      <td>Mamaearth-Onion-Growth-Control-Redensyl</td>\n",
              "      <td>9/6/2019</td>\n",
              "      <td>1</td>\n",
              "      <td>I bought this hair oil after viewing so many g...</td>\n",
              "      <td>Mamaearth</td>\n",
              "      <td>bought hair oil viewing many good comments pro...</td>\n",
              "      <td>0.8147</td>\n",
              "      <td>positive</td>\n",
              "    </tr>\n",
              "    <tr>\n",
              "      <th>1</th>\n",
              "      <td>B07W7CTLD1</td>\n",
              "      <td>Mamaearth-Onion-Growth-Control-Redensyl</td>\n",
              "      <td>8/14/2019</td>\n",
              "      <td>5</td>\n",
              "      <td>Used This Mama Earth Newly Launched Onion Oil ...</td>\n",
              "      <td>Mamaearth</td>\n",
              "      <td>used mama earth newly launched onion oil twice...</td>\n",
              "      <td>0.8689</td>\n",
              "      <td>positive</td>\n",
              "    </tr>\n",
              "    <tr>\n",
              "      <th>4</th>\n",
              "      <td>B07W7CTLD1</td>\n",
              "      <td>Mamaearth-Onion-Growth-Control-Redensyl</td>\n",
              "      <td>8/18/2019</td>\n",
              "      <td>5</td>\n",
              "      <td>I have been trying different onion oil for my ...</td>\n",
              "      <td>Mamaearth</td>\n",
              "      <td>trying different onion oil hair hair healthy p...</td>\n",
              "      <td>0.9286</td>\n",
              "      <td>positive</td>\n",
              "    </tr>\n",
              "    <tr>\n",
              "      <th>5</th>\n",
              "      <td>B07W7CTLD1</td>\n",
              "      <td>Mamaearth-Onion-Growth-Control-Redensyl</td>\n",
              "      <td>9/30/2019</td>\n",
              "      <td>4</td>\n",
              "      <td>I have been using this product for some time n...</td>\n",
              "      <td>Mamaearth</td>\n",
              "      <td>using product time roommate planning order use...</td>\n",
              "      <td>0.9531</td>\n",
              "      <td>positive</td>\n",
              "    </tr>\n",
              "    <tr>\n",
              "      <th>7</th>\n",
              "      <td>B07W7CTLD1</td>\n",
              "      <td>Mamaearth-Onion-Growth-Control-Redensyl</td>\n",
              "      <td>8/20/2019</td>\n",
              "      <td>5</td>\n",
              "      <td>It's a very good product from mamaearth. The o...</td>\n",
              "      <td>Mamaearth</td>\n",
              "      <td>good product mamaearth oil gives hair full str...</td>\n",
              "      <td>0.9607</td>\n",
              "      <td>positive</td>\n",
              "    </tr>\n",
              "    <tr>\n",
              "      <th>...</th>\n",
              "      <td>...</td>\n",
              "      <td>...</td>\n",
              "      <td>...</td>\n",
              "      <td>...</td>\n",
              "      <td>...</td>\n",
              "      <td>...</td>\n",
              "      <td>...</td>\n",
              "      <td>...</td>\n",
              "      <td>...</td>\n",
              "    </tr>\n",
              "    <tr>\n",
              "      <th>2773</th>\n",
              "      <td>B07MVHJ6CH</td>\n",
              "      <td>Mysore-Sandal-Soaps-Pack-Bars</td>\n",
              "      <td>7/3/2020</td>\n",
              "      <td>5</td>\n",
              "      <td>Best soothing, cooling fragrance for hot summe...</td>\n",
              "      <td>Mysore</td>\n",
              "      <td>best soothing cooling fragrance hot summer mon...</td>\n",
              "      <td>0.8720</td>\n",
              "      <td>positive</td>\n",
              "    </tr>\n",
              "    <tr>\n",
              "      <th>2775</th>\n",
              "      <td>B07MVHJ6CH</td>\n",
              "      <td>Mysore-Sandal-Soaps-Pack-Bars</td>\n",
              "      <td>8/23/2019</td>\n",
              "      <td>5</td>\n",
              "      <td>Been using it for 45 years . The best soap ever .</td>\n",
              "      <td>Mysore</td>\n",
              "      <td>using 45 years best soap ever</td>\n",
              "      <td>0.6369</td>\n",
              "      <td>positive</td>\n",
              "    </tr>\n",
              "    <tr>\n",
              "      <th>2776</th>\n",
              "      <td>B07MVHJ6CH</td>\n",
              "      <td>Mysore-Sandal-Soaps-Pack-Bars</td>\n",
              "      <td>5/9/2019</td>\n",
              "      <td>5</td>\n",
              "      <td>Fantastic</td>\n",
              "      <td>Mysore</td>\n",
              "      <td>fantastic</td>\n",
              "      <td>0.5574</td>\n",
              "      <td>positive</td>\n",
              "    </tr>\n",
              "    <tr>\n",
              "      <th>2780</th>\n",
              "      <td>B07MVHJ6CH</td>\n",
              "      <td>Mysore-Sandal-Soaps-Pack-Bars</td>\n",
              "      <td>6/21/2019</td>\n",
              "      <td>4</td>\n",
              "      <td>Super Product</td>\n",
              "      <td>Mysore</td>\n",
              "      <td>super product</td>\n",
              "      <td>0.5994</td>\n",
              "      <td>positive</td>\n",
              "    </tr>\n",
              "    <tr>\n",
              "      <th>2781</th>\n",
              "      <td>B07MVHJ6CH</td>\n",
              "      <td>Mysore-Sandal-Soaps-Pack-Bars</td>\n",
              "      <td>7/3/2020</td>\n",
              "      <td>5</td>\n",
              "      <td>Best soothing, cooling fragrance for hot summe...</td>\n",
              "      <td>Mysore</td>\n",
              "      <td>best soothing cooling fragrance hot summer mon...</td>\n",
              "      <td>0.8720</td>\n",
              "      <td>positive</td>\n",
              "    </tr>\n",
              "  </tbody>\n",
              "</table>\n",
              "<p>2144 rows × 9 columns</p>\n",
              "</div>"
            ],
            "text/plain": [
              "            asin                                     name       date  rating  \\\n",
              "0     B07W7CTLD1  Mamaearth-Onion-Growth-Control-Redensyl   9/6/2019       1   \n",
              "1     B07W7CTLD1  Mamaearth-Onion-Growth-Control-Redensyl  8/14/2019       5   \n",
              "4     B07W7CTLD1  Mamaearth-Onion-Growth-Control-Redensyl  8/18/2019       5   \n",
              "5     B07W7CTLD1  Mamaearth-Onion-Growth-Control-Redensyl  9/30/2019       4   \n",
              "7     B07W7CTLD1  Mamaearth-Onion-Growth-Control-Redensyl  8/20/2019       5   \n",
              "...          ...                                      ...        ...     ...   \n",
              "2773  B07MVHJ6CH            Mysore-Sandal-Soaps-Pack-Bars   7/3/2020       5   \n",
              "2775  B07MVHJ6CH            Mysore-Sandal-Soaps-Pack-Bars  8/23/2019       5   \n",
              "2776  B07MVHJ6CH            Mysore-Sandal-Soaps-Pack-Bars   5/9/2019       5   \n",
              "2780  B07MVHJ6CH            Mysore-Sandal-Soaps-Pack-Bars  6/21/2019       4   \n",
              "2781  B07MVHJ6CH            Mysore-Sandal-Soaps-Pack-Bars   7/3/2020       5   \n",
              "\n",
              "                                                 review  brandName  \\\n",
              "0     I bought this hair oil after viewing so many g...  Mamaearth   \n",
              "1     Used This Mama Earth Newly Launched Onion Oil ...  Mamaearth   \n",
              "4     I have been trying different onion oil for my ...  Mamaearth   \n",
              "5     I have been using this product for some time n...  Mamaearth   \n",
              "7     It's a very good product from mamaearth. The o...  Mamaearth   \n",
              "...                                                 ...        ...   \n",
              "2773  Best soothing, cooling fragrance for hot summe...     Mysore   \n",
              "2775  Been using it for 45 years . The best soap ever .     Mysore   \n",
              "2776                                          Fantastic     Mysore   \n",
              "2780                                      Super Product     Mysore   \n",
              "2781  Best soothing, cooling fragrance for hot summe...     Mysore   \n",
              "\n",
              "                                      clean_review_text  scores scoreStatus  \n",
              "0     bought hair oil viewing many good comments pro...  0.8147    positive  \n",
              "1     used mama earth newly launched onion oil twice...  0.8689    positive  \n",
              "4     trying different onion oil hair hair healthy p...  0.9286    positive  \n",
              "5     using product time roommate planning order use...  0.9531    positive  \n",
              "7     good product mamaearth oil gives hair full str...  0.9607    positive  \n",
              "...                                                 ...     ...         ...  \n",
              "2773  best soothing cooling fragrance hot summer mon...  0.8720    positive  \n",
              "2775                      using 45 years best soap ever  0.6369    positive  \n",
              "2776                                          fantastic  0.5574    positive  \n",
              "2780                                      super product  0.5994    positive  \n",
              "2781  best soothing cooling fragrance hot summer mon...  0.8720    positive  \n",
              "\n",
              "[2144 rows x 9 columns]"
            ]
          },
          "execution_count": 200,
          "metadata": {},
          "output_type": "execute_result"
        }
      ],
      "source": [
        "positive_reviews = df[df['scoreStatus'] == 'positive']\n",
        "positive_reviews\n"
      ]
    },
    {
      "cell_type": "code",
      "execution_count": 201,
      "metadata": {},
      "outputs": [],
      "source": [
        "Positive_Brands = df[df['scoreStatus'] == \"positive\"]\n",
        "Negative_Brands = df[df['scoreStatus'] == \"negative\"]\n"
      ]
    },
    {
      "cell_type": "code",
      "execution_count": 203,
      "metadata": {},
      "outputs": [
        {
          "name": "stdout",
          "output_type": "stream",
          "text": [
            "<class 'pandas.core.frame.DataFrame'>\n",
            "Int64Index: 2528 entries, 0 to 2781\n",
            "Data columns (total 9 columns):\n",
            " #   Column             Non-Null Count  Dtype  \n",
            "---  ------             --------------  -----  \n",
            " 0   asin               2528 non-null   object \n",
            " 1   name               2528 non-null   object \n",
            " 2   date               2528 non-null   object \n",
            " 3   rating             2528 non-null   int64  \n",
            " 4   review             2528 non-null   object \n",
            " 5   brandName          2528 non-null   object \n",
            " 6   clean_review_text  2528 non-null   object \n",
            " 7   scores             2528 non-null   float64\n",
            " 8   scoreStatus        2528 non-null   object \n",
            "dtypes: float64(1), int64(1), object(7)\n",
            "memory usage: 197.5+ KB\n"
          ]
        }
      ],
      "source": [
        "df.info()"
      ]
    },
    {
      "cell_type": "code",
      "execution_count": 206,
      "metadata": {},
      "outputs": [
        {
          "data": {
            "text/plain": [
              "asin                  object\n",
              "name                  object\n",
              "date                  object\n",
              "rating                 int64\n",
              "review                object\n",
              "brandName             object\n",
              "clean_review_text     object\n",
              "scores               float64\n",
              "scoreStatus           object\n",
              "dtype: object"
            ]
          },
          "execution_count": 206,
          "metadata": {},
          "output_type": "execute_result"
        }
      ],
      "source": [
        "Positive_Brands.dtypes"
      ]
    },
    {
      "cell_type": "code",
      "execution_count": 208,
      "metadata": {},
      "outputs": [
        {
          "data": {
            "text/html": [
              "<div>\n",
              "<style scoped>\n",
              "    .dataframe tbody tr th:only-of-type {\n",
              "        vertical-align: middle;\n",
              "    }\n",
              "\n",
              "    .dataframe tbody tr th {\n",
              "        vertical-align: top;\n",
              "    }\n",
              "\n",
              "    .dataframe thead th {\n",
              "        text-align: right;\n",
              "    }\n",
              "</style>\n",
              "<table border=\"1\" class=\"dataframe\">\n",
              "  <thead>\n",
              "    <tr style=\"text-align: right;\">\n",
              "      <th></th>\n",
              "      <th>asin</th>\n",
              "      <th>name</th>\n",
              "      <th>date</th>\n",
              "      <th>rating</th>\n",
              "      <th>review</th>\n",
              "      <th>brandName</th>\n",
              "      <th>clean_review_text</th>\n",
              "      <th>scores</th>\n",
              "      <th>scoreStatus</th>\n",
              "    </tr>\n",
              "  </thead>\n",
              "  <tbody>\n",
              "    <tr>\n",
              "      <th>0</th>\n",
              "      <td>B07W7CTLD1</td>\n",
              "      <td>Mamaearth-Onion-Growth-Control-Redensyl</td>\n",
              "      <td>9/6/2019</td>\n",
              "      <td>1</td>\n",
              "      <td>I bought this hair oil after viewing so many g...</td>\n",
              "      <td>Mamaearth</td>\n",
              "      <td>bought hair oil viewing many good comments pro...</td>\n",
              "      <td>0.8147</td>\n",
              "      <td>positive</td>\n",
              "    </tr>\n",
              "    <tr>\n",
              "      <th>1</th>\n",
              "      <td>B07W7CTLD1</td>\n",
              "      <td>Mamaearth-Onion-Growth-Control-Redensyl</td>\n",
              "      <td>8/14/2019</td>\n",
              "      <td>5</td>\n",
              "      <td>Used This Mama Earth Newly Launched Onion Oil ...</td>\n",
              "      <td>Mamaearth</td>\n",
              "      <td>used mama earth newly launched onion oil twice...</td>\n",
              "      <td>0.8689</td>\n",
              "      <td>positive</td>\n",
              "    </tr>\n",
              "    <tr>\n",
              "      <th>4</th>\n",
              "      <td>B07W7CTLD1</td>\n",
              "      <td>Mamaearth-Onion-Growth-Control-Redensyl</td>\n",
              "      <td>8/18/2019</td>\n",
              "      <td>5</td>\n",
              "      <td>I have been trying different onion oil for my ...</td>\n",
              "      <td>Mamaearth</td>\n",
              "      <td>trying different onion oil hair hair healthy p...</td>\n",
              "      <td>0.9286</td>\n",
              "      <td>positive</td>\n",
              "    </tr>\n",
              "    <tr>\n",
              "      <th>5</th>\n",
              "      <td>B07W7CTLD1</td>\n",
              "      <td>Mamaearth-Onion-Growth-Control-Redensyl</td>\n",
              "      <td>9/30/2019</td>\n",
              "      <td>4</td>\n",
              "      <td>I have been using this product for some time n...</td>\n",
              "      <td>Mamaearth</td>\n",
              "      <td>using product time roommate planning order use...</td>\n",
              "      <td>0.9531</td>\n",
              "      <td>positive</td>\n",
              "    </tr>\n",
              "    <tr>\n",
              "      <th>7</th>\n",
              "      <td>B07W7CTLD1</td>\n",
              "      <td>Mamaearth-Onion-Growth-Control-Redensyl</td>\n",
              "      <td>8/20/2019</td>\n",
              "      <td>5</td>\n",
              "      <td>It's a very good product from mamaearth. The o...</td>\n",
              "      <td>Mamaearth</td>\n",
              "      <td>good product mamaearth oil gives hair full str...</td>\n",
              "      <td>0.9607</td>\n",
              "      <td>positive</td>\n",
              "    </tr>\n",
              "    <tr>\n",
              "      <th>...</th>\n",
              "      <td>...</td>\n",
              "      <td>...</td>\n",
              "      <td>...</td>\n",
              "      <td>...</td>\n",
              "      <td>...</td>\n",
              "      <td>...</td>\n",
              "      <td>...</td>\n",
              "      <td>...</td>\n",
              "      <td>...</td>\n",
              "    </tr>\n",
              "    <tr>\n",
              "      <th>2773</th>\n",
              "      <td>B07MVHJ6CH</td>\n",
              "      <td>Mysore-Sandal-Soaps-Pack-Bars</td>\n",
              "      <td>7/3/2020</td>\n",
              "      <td>5</td>\n",
              "      <td>Best soothing, cooling fragrance for hot summe...</td>\n",
              "      <td>Mysore</td>\n",
              "      <td>best soothing cooling fragrance hot summer mon...</td>\n",
              "      <td>0.8720</td>\n",
              "      <td>positive</td>\n",
              "    </tr>\n",
              "    <tr>\n",
              "      <th>2775</th>\n",
              "      <td>B07MVHJ6CH</td>\n",
              "      <td>Mysore-Sandal-Soaps-Pack-Bars</td>\n",
              "      <td>8/23/2019</td>\n",
              "      <td>5</td>\n",
              "      <td>Been using it for 45 years . The best soap ever .</td>\n",
              "      <td>Mysore</td>\n",
              "      <td>using 45 years best soap ever</td>\n",
              "      <td>0.6369</td>\n",
              "      <td>positive</td>\n",
              "    </tr>\n",
              "    <tr>\n",
              "      <th>2776</th>\n",
              "      <td>B07MVHJ6CH</td>\n",
              "      <td>Mysore-Sandal-Soaps-Pack-Bars</td>\n",
              "      <td>5/9/2019</td>\n",
              "      <td>5</td>\n",
              "      <td>Fantastic</td>\n",
              "      <td>Mysore</td>\n",
              "      <td>fantastic</td>\n",
              "      <td>0.5574</td>\n",
              "      <td>positive</td>\n",
              "    </tr>\n",
              "    <tr>\n",
              "      <th>2780</th>\n",
              "      <td>B07MVHJ6CH</td>\n",
              "      <td>Mysore-Sandal-Soaps-Pack-Bars</td>\n",
              "      <td>6/21/2019</td>\n",
              "      <td>4</td>\n",
              "      <td>Super Product</td>\n",
              "      <td>Mysore</td>\n",
              "      <td>super product</td>\n",
              "      <td>0.5994</td>\n",
              "      <td>positive</td>\n",
              "    </tr>\n",
              "    <tr>\n",
              "      <th>2781</th>\n",
              "      <td>B07MVHJ6CH</td>\n",
              "      <td>Mysore-Sandal-Soaps-Pack-Bars</td>\n",
              "      <td>7/3/2020</td>\n",
              "      <td>5</td>\n",
              "      <td>Best soothing, cooling fragrance for hot summe...</td>\n",
              "      <td>Mysore</td>\n",
              "      <td>best soothing cooling fragrance hot summer mon...</td>\n",
              "      <td>0.8720</td>\n",
              "      <td>positive</td>\n",
              "    </tr>\n",
              "  </tbody>\n",
              "</table>\n",
              "<p>2144 rows × 9 columns</p>\n",
              "</div>"
            ],
            "text/plain": [
              "            asin                                     name       date  rating  \\\n",
              "0     B07W7CTLD1  Mamaearth-Onion-Growth-Control-Redensyl   9/6/2019       1   \n",
              "1     B07W7CTLD1  Mamaearth-Onion-Growth-Control-Redensyl  8/14/2019       5   \n",
              "4     B07W7CTLD1  Mamaearth-Onion-Growth-Control-Redensyl  8/18/2019       5   \n",
              "5     B07W7CTLD1  Mamaearth-Onion-Growth-Control-Redensyl  9/30/2019       4   \n",
              "7     B07W7CTLD1  Mamaearth-Onion-Growth-Control-Redensyl  8/20/2019       5   \n",
              "...          ...                                      ...        ...     ...   \n",
              "2773  B07MVHJ6CH            Mysore-Sandal-Soaps-Pack-Bars   7/3/2020       5   \n",
              "2775  B07MVHJ6CH            Mysore-Sandal-Soaps-Pack-Bars  8/23/2019       5   \n",
              "2776  B07MVHJ6CH            Mysore-Sandal-Soaps-Pack-Bars   5/9/2019       5   \n",
              "2780  B07MVHJ6CH            Mysore-Sandal-Soaps-Pack-Bars  6/21/2019       4   \n",
              "2781  B07MVHJ6CH            Mysore-Sandal-Soaps-Pack-Bars   7/3/2020       5   \n",
              "\n",
              "                                                 review  brandName  \\\n",
              "0     I bought this hair oil after viewing so many g...  Mamaearth   \n",
              "1     Used This Mama Earth Newly Launched Onion Oil ...  Mamaearth   \n",
              "4     I have been trying different onion oil for my ...  Mamaearth   \n",
              "5     I have been using this product for some time n...  Mamaearth   \n",
              "7     It's a very good product from mamaearth. The o...  Mamaearth   \n",
              "...                                                 ...        ...   \n",
              "2773  Best soothing, cooling fragrance for hot summe...     Mysore   \n",
              "2775  Been using it for 45 years . The best soap ever .     Mysore   \n",
              "2776                                          Fantastic     Mysore   \n",
              "2780                                      Super Product     Mysore   \n",
              "2781  Best soothing, cooling fragrance for hot summe...     Mysore   \n",
              "\n",
              "                                      clean_review_text  scores scoreStatus  \n",
              "0     bought hair oil viewing many good comments pro...  0.8147    positive  \n",
              "1     used mama earth newly launched onion oil twice...  0.8689    positive  \n",
              "4     trying different onion oil hair hair healthy p...  0.9286    positive  \n",
              "5     using product time roommate planning order use...  0.9531    positive  \n",
              "7     good product mamaearth oil gives hair full str...  0.9607    positive  \n",
              "...                                                 ...     ...         ...  \n",
              "2773  best soothing cooling fragrance hot summer mon...  0.8720    positive  \n",
              "2775                      using 45 years best soap ever  0.6369    positive  \n",
              "2776                                          fantastic  0.5574    positive  \n",
              "2780                                      super product  0.5994    positive  \n",
              "2781  best soothing cooling fragrance hot summer mon...  0.8720    positive  \n",
              "\n",
              "[2144 rows x 9 columns]"
            ]
          },
          "execution_count": 208,
          "metadata": {},
          "output_type": "execute_result"
        }
      ],
      "source": [
        "Positive_Brands"
      ]
    },
    {
      "cell_type": "code",
      "execution_count": 209,
      "metadata": {},
      "outputs": [
        {
          "data": {
            "text/html": [
              "<div>\n",
              "<style scoped>\n",
              "    .dataframe tbody tr th:only-of-type {\n",
              "        vertical-align: middle;\n",
              "    }\n",
              "\n",
              "    .dataframe tbody tr th {\n",
              "        vertical-align: top;\n",
              "    }\n",
              "\n",
              "    .dataframe thead th {\n",
              "        text-align: right;\n",
              "    }\n",
              "</style>\n",
              "<table border=\"1\" class=\"dataframe\">\n",
              "  <thead>\n",
              "    <tr style=\"text-align: right;\">\n",
              "      <th></th>\n",
              "      <th>asin</th>\n",
              "      <th>name</th>\n",
              "      <th>date</th>\n",
              "      <th>rating</th>\n",
              "      <th>review</th>\n",
              "      <th>brandName</th>\n",
              "      <th>clean_review_text</th>\n",
              "      <th>scores</th>\n",
              "      <th>scoreStatus</th>\n",
              "    </tr>\n",
              "  </thead>\n",
              "  <tbody>\n",
              "    <tr>\n",
              "      <th>2</th>\n",
              "      <td>B07W7CTLD1</td>\n",
              "      <td>Mamaearth-Onion-Growth-Control-Redensyl</td>\n",
              "      <td>10/19/2019</td>\n",
              "      <td>1</td>\n",
              "      <td>So bad product...My hair falling increase too ...</td>\n",
              "      <td>Mamaearth</td>\n",
              "      <td>bad productmy hair falling increase muchi orde...</td>\n",
              "      <td>-0.6820</td>\n",
              "      <td>negative</td>\n",
              "    </tr>\n",
              "    <tr>\n",
              "      <th>3</th>\n",
              "      <td>B07W7CTLD1</td>\n",
              "      <td>Mamaearth-Onion-Growth-Control-Redensyl</td>\n",
              "      <td>9/16/2019</td>\n",
              "      <td>1</td>\n",
              "      <td>Product just smells similar to navarathna hair...</td>\n",
              "      <td>Mamaearth</td>\n",
              "      <td>product smells similar navarathna hair oil str...</td>\n",
              "      <td>-0.6124</td>\n",
              "      <td>negative</td>\n",
              "    </tr>\n",
              "    <tr>\n",
              "      <th>6</th>\n",
              "      <td>B07W7CTLD1</td>\n",
              "      <td>Mamaearth-Onion-Growth-Control-Redensyl</td>\n",
              "      <td>9/28/2019</td>\n",
              "      <td>1</td>\n",
              "      <td>I purchased both oil and shampoo after watchin...</td>\n",
              "      <td>Mamaearth</td>\n",
              "      <td>purchased oil shampoo watching fake youtube cu...</td>\n",
              "      <td>-0.2500</td>\n",
              "      <td>negative</td>\n",
              "    </tr>\n",
              "    <tr>\n",
              "      <th>12</th>\n",
              "      <td>B07W7CTLD1</td>\n",
              "      <td>Mamaearth-Onion-Growth-Control-Redensyl</td>\n",
              "      <td>10/19/2019</td>\n",
              "      <td>1</td>\n",
              "      <td>So bad product...My hair falling increase too ...</td>\n",
              "      <td>Mamaearth</td>\n",
              "      <td>bad productmy hair falling increase muchi orde...</td>\n",
              "      <td>-0.6820</td>\n",
              "      <td>negative</td>\n",
              "    </tr>\n",
              "    <tr>\n",
              "      <th>13</th>\n",
              "      <td>B07W7CTLD1</td>\n",
              "      <td>Mamaearth-Onion-Growth-Control-Redensyl</td>\n",
              "      <td>9/16/2019</td>\n",
              "      <td>1</td>\n",
              "      <td>Product just smells similar to navarathna hair...</td>\n",
              "      <td>Mamaearth</td>\n",
              "      <td>product smells similar navarathna hair oil str...</td>\n",
              "      <td>-0.6124</td>\n",
              "      <td>negative</td>\n",
              "    </tr>\n",
              "    <tr>\n",
              "      <th>...</th>\n",
              "      <td>...</td>\n",
              "      <td>...</td>\n",
              "      <td>...</td>\n",
              "      <td>...</td>\n",
              "      <td>...</td>\n",
              "      <td>...</td>\n",
              "      <td>...</td>\n",
              "      <td>...</td>\n",
              "      <td>...</td>\n",
              "    </tr>\n",
              "    <tr>\n",
              "      <th>2731</th>\n",
              "      <td>B015XSO0L8</td>\n",
              "      <td>Mysore-Sandal-Millennium-Soap-150g</td>\n",
              "      <td>3/17/2020</td>\n",
              "      <td>3</td>\n",
              "      <td>Something is wrong with this product currently...</td>\n",
              "      <td>Mysore</td>\n",
              "      <td>something wrong product currently ive using si...</td>\n",
              "      <td>-0.5423</td>\n",
              "      <td>negative</td>\n",
              "    </tr>\n",
              "    <tr>\n",
              "      <th>2737</th>\n",
              "      <td>B015XSO0L8</td>\n",
              "      <td>Mysore-Sandal-Millennium-Soap-150g</td>\n",
              "      <td>10/14/2018</td>\n",
              "      <td>1</td>\n",
              "      <td>It’s the worst thing you can buy. Do not waste...</td>\n",
              "      <td>Mysore</td>\n",
              "      <td>it’s worst thing buy waste money land soap lea...</td>\n",
              "      <td>-0.1027</td>\n",
              "      <td>negative</td>\n",
              "    </tr>\n",
              "    <tr>\n",
              "      <th>2741</th>\n",
              "      <td>B015XSO0L8</td>\n",
              "      <td>Mysore-Sandal-Millennium-Soap-150g</td>\n",
              "      <td>3/17/2020</td>\n",
              "      <td>3</td>\n",
              "      <td>Something is wrong with this product currently...</td>\n",
              "      <td>Mysore</td>\n",
              "      <td>something wrong product currently ive using si...</td>\n",
              "      <td>-0.5423</td>\n",
              "      <td>negative</td>\n",
              "    </tr>\n",
              "    <tr>\n",
              "      <th>2747</th>\n",
              "      <td>B01N3KEVVR</td>\n",
              "      <td>Mysore-Sandal-Agarbathies-Pack-Box</td>\n",
              "      <td>3/22/2020</td>\n",
              "      <td>1</td>\n",
              "      <td>No discount is being provided seller. Informat...</td>\n",
              "      <td>Mysore</td>\n",
              "      <td>discount provided seller information provided ...</td>\n",
              "      <td>-0.4767</td>\n",
              "      <td>negative</td>\n",
              "    </tr>\n",
              "    <tr>\n",
              "      <th>2757</th>\n",
              "      <td>B01N3KEVVR</td>\n",
              "      <td>Mysore-Sandal-Agarbathies-Pack-Box</td>\n",
              "      <td>3/22/2020</td>\n",
              "      <td>1</td>\n",
              "      <td>No discount is being provided seller. Informat...</td>\n",
              "      <td>Mysore</td>\n",
              "      <td>discount provided seller information provided ...</td>\n",
              "      <td>-0.4767</td>\n",
              "      <td>negative</td>\n",
              "    </tr>\n",
              "  </tbody>\n",
              "</table>\n",
              "<p>384 rows × 9 columns</p>\n",
              "</div>"
            ],
            "text/plain": [
              "            asin                                     name        date  rating  \\\n",
              "2     B07W7CTLD1  Mamaearth-Onion-Growth-Control-Redensyl  10/19/2019       1   \n",
              "3     B07W7CTLD1  Mamaearth-Onion-Growth-Control-Redensyl   9/16/2019       1   \n",
              "6     B07W7CTLD1  Mamaearth-Onion-Growth-Control-Redensyl   9/28/2019       1   \n",
              "12    B07W7CTLD1  Mamaearth-Onion-Growth-Control-Redensyl  10/19/2019       1   \n",
              "13    B07W7CTLD1  Mamaearth-Onion-Growth-Control-Redensyl   9/16/2019       1   \n",
              "...          ...                                      ...         ...     ...   \n",
              "2731  B015XSO0L8       Mysore-Sandal-Millennium-Soap-150g   3/17/2020       3   \n",
              "2737  B015XSO0L8       Mysore-Sandal-Millennium-Soap-150g  10/14/2018       1   \n",
              "2741  B015XSO0L8       Mysore-Sandal-Millennium-Soap-150g   3/17/2020       3   \n",
              "2747  B01N3KEVVR       Mysore-Sandal-Agarbathies-Pack-Box   3/22/2020       1   \n",
              "2757  B01N3KEVVR       Mysore-Sandal-Agarbathies-Pack-Box   3/22/2020       1   \n",
              "\n",
              "                                                 review  brandName  \\\n",
              "2     So bad product...My hair falling increase too ...  Mamaearth   \n",
              "3     Product just smells similar to navarathna hair...  Mamaearth   \n",
              "6     I purchased both oil and shampoo after watchin...  Mamaearth   \n",
              "12    So bad product...My hair falling increase too ...  Mamaearth   \n",
              "13    Product just smells similar to navarathna hair...  Mamaearth   \n",
              "...                                                 ...        ...   \n",
              "2731  Something is wrong with this product currently...     Mysore   \n",
              "2737  It’s the worst thing you can buy. Do not waste...     Mysore   \n",
              "2741  Something is wrong with this product currently...     Mysore   \n",
              "2747  No discount is being provided seller. Informat...     Mysore   \n",
              "2757  No discount is being provided seller. Informat...     Mysore   \n",
              "\n",
              "                                      clean_review_text  scores scoreStatus  \n",
              "2     bad productmy hair falling increase muchi orde... -0.6820    negative  \n",
              "3     product smells similar navarathna hair oil str... -0.6124    negative  \n",
              "6     purchased oil shampoo watching fake youtube cu... -0.2500    negative  \n",
              "12    bad productmy hair falling increase muchi orde... -0.6820    negative  \n",
              "13    product smells similar navarathna hair oil str... -0.6124    negative  \n",
              "...                                                 ...     ...         ...  \n",
              "2731  something wrong product currently ive using si... -0.5423    negative  \n",
              "2737  it’s worst thing buy waste money land soap lea... -0.1027    negative  \n",
              "2741  something wrong product currently ive using si... -0.5423    negative  \n",
              "2747  discount provided seller information provided ... -0.4767    negative  \n",
              "2757  discount provided seller information provided ... -0.4767    negative  \n",
              "\n",
              "[384 rows x 9 columns]"
            ]
          },
          "execution_count": 209,
          "metadata": {},
          "output_type": "execute_result"
        }
      ],
      "source": [
        "Negative_Brands"
      ]
    },
    {
      "cell_type": "code",
      "execution_count": null,
      "metadata": {},
      "outputs": [],
      "source": []
    }
  ],
  "metadata": {
    "colab": {
      "authorship_tag": "ABX9TyOtnMEYEPzs+jnGWK9Y+Anr",
      "collapsed_sections": [],
      "include_colab_link": true,
      "name": "Amazon_sentimental_Analysis.ipynb",
      "provenance": []
    },
    "kernelspec": {
      "display_name": "Python 3",
      "name": "python3"
    },
    "language_info": {
      "codemirror_mode": {
        "name": "ipython",
        "version": 3
      },
      "file_extension": ".py",
      "mimetype": "text/x-python",
      "name": "python",
      "nbconvert_exporter": "python",
      "pygments_lexer": "ipython3",
      "version": "3.8.3"
    }
  },
  "nbformat": 4,
  "nbformat_minor": 0
}
