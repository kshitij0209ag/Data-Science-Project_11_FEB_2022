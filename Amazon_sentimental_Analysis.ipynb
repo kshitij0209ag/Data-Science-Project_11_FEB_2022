{
  "cells": [
    {
      "cell_type": "markdown",
      "metadata": {
        "colab_type": "text",
        "id": "view-in-github"
      },
      "source": [
        "<a href=\"https://colab.research.google.com/github/kshitij0209ag/Data-Scient-Project_11_FEB_2021/blob/main/Amazon_sentimental_Analysis.ipynb\" target=\"_parent\"><img src=\"https://colab.research.google.com/assets/colab-badge.svg\" alt=\"Open In Colab\"/></a>"
      ]
    },
    {
      "cell_type": "code",
      "execution_count": 3,
      "metadata": {
        "id": "SNE0KIvhtCuP"
      },
      "outputs": [],
      "source": [
        "import pandas as pd\n",
        "import numpy as np\n",
        "from matplotlib import pyplot as plt\n",
        "import seaborn as sns"
      ]
    },
    {
      "cell_type": "code",
      "execution_count": 4,
      "metadata": {
        "colab": {
          "base_uri": "https://localhost:8080/",
          "height": 206
        },
        "id": "ETm5XiDst-Hy",
        "outputId": "1e607b22-28c2-4ec3-b499-c15769d1fbde"
      },
      "outputs": [
        {
          "data": {
            "text/html": [
              "<div>\n",
              "<style scoped>\n",
              "    .dataframe tbody tr th:only-of-type {\n",
              "        vertical-align: middle;\n",
              "    }\n",
              "\n",
              "    .dataframe tbody tr th {\n",
              "        vertical-align: top;\n",
              "    }\n",
              "\n",
              "    .dataframe thead th {\n",
              "        text-align: right;\n",
              "    }\n",
              "</style>\n",
              "<table border=\"1\" class=\"dataframe\">\n",
              "  <thead>\n",
              "    <tr style=\"text-align: right;\">\n",
              "      <th></th>\n",
              "      <th>asin</th>\n",
              "      <th>name</th>\n",
              "      <th>date</th>\n",
              "      <th>rating</th>\n",
              "      <th>review</th>\n",
              "    </tr>\n",
              "  </thead>\n",
              "  <tbody>\n",
              "    <tr>\n",
              "      <th>0</th>\n",
              "      <td>B07W7CTLD1</td>\n",
              "      <td>Mamaearth-Onion-Growth-Control-Redensyl</td>\n",
              "      <td>9/6/2019</td>\n",
              "      <td>1</td>\n",
              "      <td>I bought this hair oil after viewing so many g...</td>\n",
              "    </tr>\n",
              "    <tr>\n",
              "      <th>1</th>\n",
              "      <td>B07W7CTLD1</td>\n",
              "      <td>Mamaearth-Onion-Growth-Control-Redensyl</td>\n",
              "      <td>8/14/2019</td>\n",
              "      <td>5</td>\n",
              "      <td>Used This Mama Earth Newly Launched Onion Oil ...</td>\n",
              "    </tr>\n",
              "    <tr>\n",
              "      <th>2</th>\n",
              "      <td>B07W7CTLD1</td>\n",
              "      <td>Mamaearth-Onion-Growth-Control-Redensyl</td>\n",
              "      <td>10/19/2019</td>\n",
              "      <td>1</td>\n",
              "      <td>So bad product...My hair falling increase too ...</td>\n",
              "    </tr>\n",
              "    <tr>\n",
              "      <th>3</th>\n",
              "      <td>B07W7CTLD1</td>\n",
              "      <td>Mamaearth-Onion-Growth-Control-Redensyl</td>\n",
              "      <td>9/16/2019</td>\n",
              "      <td>1</td>\n",
              "      <td>Product just smells similar to navarathna hair...</td>\n",
              "    </tr>\n",
              "    <tr>\n",
              "      <th>4</th>\n",
              "      <td>B07W7CTLD1</td>\n",
              "      <td>Mamaearth-Onion-Growth-Control-Redensyl</td>\n",
              "      <td>8/18/2019</td>\n",
              "      <td>5</td>\n",
              "      <td>I have been trying different onion oil for my ...</td>\n",
              "    </tr>\n",
              "  </tbody>\n",
              "</table>\n",
              "</div>"
            ],
            "text/plain": [
              "         asin                                     name        date  rating  \\\n",
              "0  B07W7CTLD1  Mamaearth-Onion-Growth-Control-Redensyl    9/6/2019       1   \n",
              "1  B07W7CTLD1  Mamaearth-Onion-Growth-Control-Redensyl   8/14/2019       5   \n",
              "2  B07W7CTLD1  Mamaearth-Onion-Growth-Control-Redensyl  10/19/2019       1   \n",
              "3  B07W7CTLD1  Mamaearth-Onion-Growth-Control-Redensyl   9/16/2019       1   \n",
              "4  B07W7CTLD1  Mamaearth-Onion-Growth-Control-Redensyl   8/18/2019       5   \n",
              "\n",
              "                                              review  \n",
              "0  I bought this hair oil after viewing so many g...  \n",
              "1  Used This Mama Earth Newly Launched Onion Oil ...  \n",
              "2  So bad product...My hair falling increase too ...  \n",
              "3  Product just smells similar to navarathna hair...  \n",
              "4  I have been trying different onion oil for my ...  "
            ]
          },
          "execution_count": 4,
          "metadata": {},
          "output_type": "execute_result"
        }
      ],
      "source": [
        "df = pd.read_csv('amazon_vfl_reviews.csv')\n",
        "\n",
        "df.head()"
      ]
    },
    {
      "cell_type": "code",
      "execution_count": 5,
      "metadata": {
        "colab": {
          "base_uri": "https://localhost:8080/"
        },
        "id": "2kBS-wI9uDNn",
        "outputId": "7a14bc58-bea5-4f3a-ae62-34b51bd3f184"
      },
      "outputs": [
        {
          "data": {
            "text/plain": [
              "(2782, 5)"
            ]
          },
          "execution_count": 5,
          "metadata": {},
          "output_type": "execute_result"
        }
      ],
      "source": [
        "df.shape"
      ]
    },
    {
      "cell_type": "code",
      "execution_count": 6,
      "metadata": {
        "colab": {
          "base_uri": "https://localhost:8080/"
        },
        "id": "pQxE9OyFuV-t",
        "outputId": "4e246f8e-8b5c-45ac-dbe2-d87d8056db54"
      },
      "outputs": [
        {
          "data": {
            "text/plain": [
              "asin      0\n",
              "name      0\n",
              "date      0\n",
              "rating    0\n",
              "review    4\n",
              "dtype: int64"
            ]
          },
          "execution_count": 6,
          "metadata": {},
          "output_type": "execute_result"
        }
      ],
      "source": [
        "df.isnull().sum()"
      ]
    },
    {
      "cell_type": "code",
      "execution_count": 7,
      "metadata": {
        "colab": {
          "base_uri": "https://localhost:8080/"
        },
        "id": "rKX9EeN_uXnH",
        "outputId": "af19025a-f0a5-4821-c945-037f7ed0a58d"
      },
      "outputs": [
        {
          "data": {
            "text/plain": [
              "4"
            ]
          },
          "execution_count": 7,
          "metadata": {},
          "output_type": "execute_result"
        }
      ],
      "source": [
        "df['review'].isnull().sum()"
      ]
    },
    {
      "cell_type": "code",
      "execution_count": 8,
      "metadata": {
        "colab": {
          "base_uri": "https://localhost:8080/"
        },
        "id": "7dtH2wnWuY-J",
        "outputId": "0a626a3c-9a2b-4af1-913f-9893b68f69e8"
      },
      "outputs": [
        {
          "data": {
            "text/plain": [
              "1126         Dettol-Disinfectant-Cleaner-Home-Fresh\n",
              "2307                              Tata-Tea-Gold-1kg\n",
              "488     Titan-Octane-Analog-Silver-Watch-NK1650BM03\n",
              "Name: name, dtype: object"
            ]
          },
          "execution_count": 8,
          "metadata": {},
          "output_type": "execute_result"
        }
      ],
      "source": [
        "df['name'].sample(n=3)"
      ]
    },
    {
      "cell_type": "code",
      "execution_count": 9,
      "metadata": {
        "colab": {
          "base_uri": "https://localhost:8080/"
        },
        "id": "B8kLLWIAuau0",
        "outputId": "84c3b24b-fd0d-457c-f05c-cdb9eccb5d23"
      },
      "outputs": [
        {
          "name": "stdout",
          "output_type": "stream",
          "text": [
            "            asin                             name       date  rating review\n",
            "2248  B01GCETOCW               Tata-Tea-Gold-500g   3/3/2018       4    NaN\n",
            "2258  B01GCETOCW               Tata-Tea-Gold-500g   3/3/2018       4    NaN\n",
            "2631  B07J2MQNW3  Mysore-Sandal-Bathing-Soap-125g  5/22/2020       4    NaN\n",
            "2641  B07J2MQNW3  Mysore-Sandal-Bathing-Soap-125g  5/22/2020       4    NaN\n"
          ]
        }
      ],
      "source": [
        "is_NaN = df.isnull()\n",
        "row_has_NaN = is_NaN.any(axis=1)\n",
        "rows_with_NaN = df[row_has_NaN]\n",
        "print(rows_with_NaN)"
      ]
    },
    {
      "cell_type": "code",
      "execution_count": 10,
      "metadata": {
        "id": "c1F_6Ubzu1ew"
      },
      "outputs": [],
      "source": [
        "df.dropna(inplace=True)"
      ]
    },
    {
      "cell_type": "code",
      "execution_count": 11,
      "metadata": {
        "colab": {
          "base_uri": "https://localhost:8080/"
        },
        "id": "Yw0mKFm3u3bd",
        "outputId": "87a88869-3056-4145-c4b3-e26ef4a9bbc2"
      },
      "outputs": [
        {
          "data": {
            "text/plain": [
              "asin      0\n",
              "name      0\n",
              "date      0\n",
              "rating    0\n",
              "review    0\n",
              "dtype: int64"
            ]
          },
          "execution_count": 11,
          "metadata": {},
          "output_type": "execute_result"
        }
      ],
      "source": [
        "df.isnull().sum()"
      ]
    },
    {
      "cell_type": "code",
      "execution_count": 12,
      "metadata": {
        "colab": {
          "base_uri": "https://localhost:8080/"
        },
        "id": "aWXauQWTu48Z",
        "outputId": "df3310e3-36d5-4ad0-dd57-704d4cf98253"
      },
      "outputs": [
        {
          "data": {
            "text/plain": [
              "array(['Mamaearth', 'Godrej', 'Titan', 'Maaza', 'Paper', 'Indiana',\n",
              "       'Coca', 'Natural', 'Maggi', 'Glucon', 'Amul', 'Patanjali',\n",
              "       'PATANJALI', 'Dettol', 'Savlon', 'Cinthol', 'Britannia',\n",
              "       'NutriChoice', 'Streax', 'Himalaya', 'Society', 'Tata', 'Fastrack',\n",
              "       'Reflex', 'MYSORE', 'Mysore'], dtype=object)"
            ]
          },
          "execution_count": 12,
          "metadata": {},
          "output_type": "execute_result"
        }
      ],
      "source": [
        "df['brandName'] = df['name'].str.split('-').str[0]\n",
        "df.brandName.unique()"
      ]
    },
    {
      "cell_type": "markdown",
      "metadata": {
        "id": "SfeurvczvuAk"
      },
      "source": [
        "# we have to change the another chart"
      ]
    },
    {
      "cell_type": "code",
      "execution_count": 13,
      "metadata": {
        "colab": {
          "base_uri": "https://localhost:8080/",
          "height": 297
        },
        "id": "NVM6Mlosu_il",
        "outputId": "cafb5afb-eca7-4e57-b031-fcc697ea87a4"
      },
      "outputs": [
        {
          "data": {
            "text/plain": [
              "<matplotlib.axes._subplots.AxesSubplot at 0x1d5a7b0ceb0>"
            ]
          },
          "execution_count": 13,
          "metadata": {},
          "output_type": "execute_result"
        },
        {
          "data": {
            "image/png": "[encoded data removed]",
            "text/plain": [
              "<Figure size 432x288 with 1 Axes>"
            ]
          },
          "metadata": {
            "needs_background": "light"
          },
          "output_type": "display_data"
        }
      ],
      "source": [
        "df.columns\n",
        "sns.countplot(x='rating', data=df)"
      ]
    },
    {
      "cell_type": "code",
      "execution_count": 14,
      "metadata": {
        "colab": {
          "base_uri": "https://localhost:8080/",
          "height": 453
        },
        "id": "1ba7UeljvCaW",
        "outputId": "faaf8086-745f-4984-c193-fc45a4abe9d1"
      },
      "outputs": [
        {
          "data": {
            "image/png": "[encoded data removed]",
            "text/plain": [
              "<Figure size 720x432 with 1 Axes>"
            ]
          },
          "metadata": {
            "needs_background": "light"
          },
          "output_type": "display_data"
        }
      ],
      "source": [
        "plt.figure(figsize = (10,6))\n",
        "sns.barplot(df['brandName'].value_counts()\n",
        "[:25].index,df['brandName'].value_counts()\n",
        "[:25].values)\n",
        "plt.title('Review counts and brands')\n",
        "plt.xlabel('Brands')\n",
        "plt.ylabel('count')\n",
        "plt.xticks(rotation=90)\n",
        "plt.show()"
      ]
    },
    {
      "cell_type": "code",
      "execution_count": 15,
      "metadata": {
        "colab": {
          "base_uri": "https://localhost:8080/",
          "height": 245
        },
        "id": "xe0yFUTv1pE9",
        "outputId": "7e4d0472-e833-4e8f-8665-5aa0f97dcfe9"
      },
      "outputs": [
        {
          "ename": "AttributeError",
          "evalue": "type object 'str' has no attribute 'punctuation'",
          "output_type": "error",
          "traceback": [
            "\u001b[1;31m---------------------------------------------------------------------------\u001b[0m",
            "\u001b[1;31mAttributeError\u001b[0m                            Traceback (most recent call last)",
            "\u001b[1;32m<ipython-input-15-fcf2e592c6c1>\u001b[0m in \u001b[0;36m<module>\u001b[1;34m\u001b[0m\n\u001b[0;32m      2\u001b[0m \u001b[0mdf\u001b[0m\u001b[1;33m[\u001b[0m\u001b[1;34m'clean_review_text'\u001b[0m\u001b[1;33m]\u001b[0m\u001b[1;33m=\u001b[0m\u001b[0mdf\u001b[0m\u001b[1;33m[\u001b[0m\u001b[1;34m'review'\u001b[0m\u001b[1;33m]\u001b[0m\u001b[1;33m.\u001b[0m\u001b[0mstr\u001b[0m\u001b[1;33m.\u001b[0m\u001b[0mlower\u001b[0m\u001b[1;33m(\u001b[0m\u001b[1;33m)\u001b[0m\u001b[1;33m\u001b[0m\u001b[1;33m\u001b[0m\u001b[0m\n\u001b[0;32m      3\u001b[0m \u001b[1;31m#removing punctuations\u001b[0m\u001b[1;33m\u001b[0m\u001b[1;33m\u001b[0m\u001b[1;33m\u001b[0m\u001b[0m\n\u001b[1;32m----> 4\u001b[1;33m \u001b[0mdf\u001b[0m\u001b[1;33m[\u001b[0m\u001b[1;34m'clean_review_text'\u001b[0m\u001b[1;33m]\u001b[0m\u001b[1;33m=\u001b[0m\u001b[0mdf\u001b[0m\u001b[1;33m[\u001b[0m\u001b[1;34m'clean_review_text'\u001b[0m\u001b[1;33m]\u001b[0m\u001b[1;33m.\u001b[0m\u001b[0mstr\u001b[0m\u001b[1;33m.\u001b[0m\u001b[0mtranslate\u001b[0m\u001b[1;33m(\u001b[0m\u001b[0mstr\u001b[0m\u001b[1;33m.\u001b[0m\u001b[0mmaketrans\u001b[0m\u001b[1;33m(\u001b[0m\u001b[1;34m''\u001b[0m\u001b[1;33m,\u001b[0m\u001b[1;34m''\u001b[0m\u001b[1;33m,\u001b[0m\u001b[0mstr\u001b[0m\u001b[1;33m.\u001b[0m\u001b[0mpunctuation\u001b[0m\u001b[1;33m)\u001b[0m\u001b[1;33m)\u001b[0m\u001b[1;33m\u001b[0m\u001b[1;33m\u001b[0m\u001b[0m\n\u001b[0m\u001b[0;32m      5\u001b[0m \u001b[0mstopWords\u001b[0m\u001b[1;33m=\u001b[0m\u001b[0mstopwords\u001b[0m\u001b[1;33m.\u001b[0m\u001b[0mwords\u001b[0m\u001b[1;33m(\u001b[0m\u001b[1;34m'english'\u001b[0m\u001b[1;33m)\u001b[0m\u001b[1;33m+\u001b[0m\u001b[1;33m[\u001b[0m\u001b[1;34m'the'\u001b[0m\u001b[1;33m,\u001b[0m \u001b[1;34m'a'\u001b[0m\u001b[1;33m,\u001b[0m \u001b[1;34m'an'\u001b[0m\u001b[1;33m,\u001b[0m \u001b[1;34m'i'\u001b[0m\u001b[1;33m,\u001b[0m \u001b[1;34m'he'\u001b[0m\u001b[1;33m,\u001b[0m \u001b[1;34m'she'\u001b[0m\u001b[1;33m,\u001b[0m \u001b[1;34m'they'\u001b[0m\u001b[1;33m,\u001b[0m \u001b[1;34m'to'\u001b[0m\u001b[1;33m,\u001b[0m \u001b[1;34m'of'\u001b[0m\u001b[1;33m,\u001b[0m \u001b[1;34m'it'\u001b[0m\u001b[1;33m,\u001b[0m \u001b[1;34m'from'\u001b[0m\u001b[1;33m]\u001b[0m\u001b[1;33m\u001b[0m\u001b[1;33m\u001b[0m\u001b[0m\n\u001b[0;32m      6\u001b[0m \u001b[1;32mdef\u001b[0m \u001b[0mremoveStopWords\u001b[0m\u001b[1;33m(\u001b[0m\u001b[0mstopWords\u001b[0m\u001b[1;33m,\u001b[0m \u001b[0mrvw_txt\u001b[0m\u001b[1;33m)\u001b[0m\u001b[1;33m:\u001b[0m\u001b[1;33m\u001b[0m\u001b[1;33m\u001b[0m\u001b[0m\n",
            "\u001b[1;31mAttributeError\u001b[0m: type object 'str' has no attribute 'punctuation'"
          ]
        }
      ],
      "source": [
        "#converting to lower case\n",
        "df['clean_review_text']=df['review'].str.lower()\n",
        "#removing punctuations\n",
        "df['clean_review_text']=df['clean_review_text'].str.translate(str.maketrans('','',str.punctuation))\n",
        "stopWords=stopwords.words('english')+['the', 'a', 'an', 'i', 'he', 'she', 'they', 'to', 'of', 'it', 'from']\n",
        "def removeStopWords(stopWords, rvw_txt):\n",
        "  newtxt = ' '.join([word for word in rvw_txt.split() if word not in stopWords])\n",
        "return newtxt\n",
        "df['clean_review_text'] = [removeStopWords(stopWords,x) \n",
        "for x in df['clean_review_text']]"
      ]
    },
    {
      "cell_type": "code",
      "execution_count": 16,
      "metadata": {
        "id": "aTPFx2n51piH"
      },
      "outputs": [
        {
          "name": "stdout",
          "output_type": "stream",
          "text": [
            "Hello world\n"
          ]
        }
      ],
      "source": [
        "print(\"Hello world\")"
      ]
    },
    {
      "cell_type": "code",
      "execution_count": null,
      "metadata": {},
      "outputs": [],
      "source": []
    }
  ],
  "metadata": {
    "colab": {
      "authorship_tag": "ABX9TyOtnMEYEPzs+jnGWK9Y+Anr",
      "collapsed_sections": [],
      "include_colab_link": true,
      "name": "Amazon_sentimental_Analysis.ipynb",
      "provenance": []
    },
    "kernelspec": {
      "display_name": "Python 3",
      "name": "python3"
    },
    "language_info": {
      "codemirror_mode": {
        "name": "ipython",
        "version": 3
      },
      "file_extension": ".py",
      "mimetype": "text/x-python",
      "name": "python",
      "nbconvert_exporter": "python",
      "pygments_lexer": "ipython3",
      "version": "3.8.3"
    }
  },
  "nbformat": 4,
  "nbformat_minor": 0
}
